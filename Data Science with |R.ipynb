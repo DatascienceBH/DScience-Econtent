{
 "cells": [
  {
   "cell_type": "code",
   "execution_count": null,
   "metadata": {},
   "outputs": [],
   "source": []
  },
  {
   "cell_type": "code",
   "execution_count": null,
   "metadata": {},
   "outputs": [],
   "source": []
  },
  {
   "cell_type": "markdown",
   "metadata": {},
   "source": [
    "### What Is Entropy?\n",
    "\n",
    " Entropy measures the impurity or uncertainty present in the data. It is used to decide how a Decision Tree can split the data. "
   ]
  },
  {
   "cell_type": "code",
   "execution_count": 3,
   "metadata": {},
   "outputs": [
    {
     "name": "stderr",
     "output_type": "stream",
     "text": [
      "also installing the dependencies ‘bmp’, ‘tiff’, ‘png’, ‘jpeg’, ‘readbitmap’, ‘Cairo’, ‘downloader’, ‘igraph’\n",
      "\n",
      "Warning message in install.packages(\"imager\"):\n",
      "“installation of package ‘Cairo’ had non-zero exit status”Warning message in install.packages(\"imager\"):\n",
      "“installation of package ‘igraph’ had non-zero exit status”Warning message in install.packages(\"imager\"):\n",
      "“installation of package ‘imager’ had non-zero exit status”Updating HTML index of packages in '.Library'\n",
      "Making 'packages.html' ... done\n"
     ]
    },
    {
     "ename": "ERROR",
     "evalue": "Error in library(imager): there is no package called ‘imager’\n",
     "output_type": "error",
     "traceback": [
      "Error in library(imager): there is no package called ‘imager’\nTraceback:\n",
      "1. library(imager)",
      "2. stop(txt, domain = NA)"
     ]
    }
   ],
   "source": [
    "install.packages(\"imager\")\n",
    "library(imager)\n",
    "\n",
    "im <- load.image(\"https://d1jnx9ba8s6j9r.cloudfront.net/blog/wp-content/uploads/2019/03/Entropy-formula-Decision-Tree-Algorithm-Edureka-768x164.png\")\n",
    "plot(im)"
   ]
  },
  {
   "cell_type": "code",
   "execution_count": null,
   "metadata": {},
   "outputs": [],
   "source": []
  },
  {
   "cell_type": "code",
   "execution_count": null,
   "metadata": {},
   "outputs": [],
   "source": []
  }
 ],
 "metadata": {
  "kernelspec": {
   "display_name": "R",
   "language": "R",
   "name": "ir"
  },
  "language_info": {
   "codemirror_mode": "r",
   "file_extension": ".r",
   "mimetype": "text/x-r-source",
   "name": "R",
   "pygments_lexer": "r",
   "version": "3.5.1"
  }
 },
 "nbformat": 4,
 "nbformat_minor": 2
}
