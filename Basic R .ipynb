{
 "cells": [
  {
   "cell_type": "markdown",
   "metadata": {},
   "source": [
    "## Basic R  (dplyr)"
   ]
  },
  {
   "cell_type": "markdown",
   "metadata": {},
   "source": [
    "<img src=\"Labs/BasicR/dplyr.png\" width=100/>\n",
    "dplyr is a grammar of data manipulation, providing a consistent set of verbs that help you solve the most common data manipulation challenges:\n",
    "\n",
    "mutate() adds new variables that are functions of existing variables\n",
    "select() picks variables based on their names.\n",
    "filter() picks cases based on their values.\n",
    "summarise() reduces multiple values down to a single summary.\n",
    "arrange() changes the ordering of the rows."
   ]
  },
  {
   "cell_type": "code",
   "execution_count": 2,
   "metadata": {},
   "outputs": [
    {
     "name": "stderr",
     "output_type": "stream",
     "text": [
      "\n",
      "Attaching package: ‘dplyr’\n",
      "\n",
      "The following objects are masked from ‘package:stats’:\n",
      "\n",
      "    filter, lag\n",
      "\n",
      "The following objects are masked from ‘package:base’:\n",
      "\n",
      "    intersect, setdiff, setequal, union\n",
      "\n"
     ]
    }
   ],
   "source": [
    "library(dplyr)"
   ]
  },
  {
   "cell_type": "code",
   "execution_count": 1,
   "metadata": {},
   "outputs": [
    {
     "data": {
      "text/html": [
       "<table>\n",
       "<thead><tr><th></th><th scope=col>mpg</th><th scope=col>cyl</th><th scope=col>disp</th><th scope=col>hp</th><th scope=col>drat</th><th scope=col>wt</th><th scope=col>qsec</th><th scope=col>vs</th><th scope=col>am</th><th scope=col>gear</th><th scope=col>carb</th></tr></thead>\n",
       "<tbody>\n",
       "\t<tr><th scope=row>Mazda RX4</th><td>21.0 </td><td>6    </td><td>160  </td><td>110  </td><td>3.90 </td><td>2.620</td><td>16.46</td><td>0    </td><td>1    </td><td>4    </td><td>4    </td></tr>\n",
       "\t<tr><th scope=row>Mazda RX4 Wag</th><td>21.0 </td><td>6    </td><td>160  </td><td>110  </td><td>3.90 </td><td>2.875</td><td>17.02</td><td>0    </td><td>1    </td><td>4    </td><td>4    </td></tr>\n",
       "\t<tr><th scope=row>Datsun 710</th><td>22.8 </td><td>4    </td><td>108  </td><td> 93  </td><td>3.85 </td><td>2.320</td><td>18.61</td><td>1    </td><td>1    </td><td>4    </td><td>1    </td></tr>\n",
       "\t<tr><th scope=row>Hornet 4 Drive</th><td>21.4 </td><td>6    </td><td>258  </td><td>110  </td><td>3.08 </td><td>3.215</td><td>19.44</td><td>1    </td><td>0    </td><td>3    </td><td>1    </td></tr>\n",
       "\t<tr><th scope=row>Hornet Sportabout</th><td>18.7 </td><td>8    </td><td>360  </td><td>175  </td><td>3.15 </td><td>3.440</td><td>17.02</td><td>0    </td><td>0    </td><td>3    </td><td>2    </td></tr>\n",
       "\t<tr><th scope=row>Valiant</th><td>18.1 </td><td>6    </td><td>225  </td><td>105  </td><td>2.76 </td><td>3.460</td><td>20.22</td><td>1    </td><td>0    </td><td>3    </td><td>1    </td></tr>\n",
       "</tbody>\n",
       "</table>\n"
      ],
      "text/latex": [
       "\\begin{tabular}{r|lllllllllll}\n",
       "  & mpg & cyl & disp & hp & drat & wt & qsec & vs & am & gear & carb\\\\\n",
       "\\hline\n",
       "\tMazda RX4 & 21.0  & 6     & 160   & 110   & 3.90  & 2.620 & 16.46 & 0     & 1     & 4     & 4    \\\\\n",
       "\tMazda RX4 Wag & 21.0  & 6     & 160   & 110   & 3.90  & 2.875 & 17.02 & 0     & 1     & 4     & 4    \\\\\n",
       "\tDatsun 710 & 22.8  & 4     & 108   &  93   & 3.85  & 2.320 & 18.61 & 1     & 1     & 4     & 1    \\\\\n",
       "\tHornet 4 Drive & 21.4  & 6     & 258   & 110   & 3.08  & 3.215 & 19.44 & 1     & 0     & 3     & 1    \\\\\n",
       "\tHornet Sportabout & 18.7  & 8     & 360   & 175   & 3.15  & 3.440 & 17.02 & 0     & 0     & 3     & 2    \\\\\n",
       "\tValiant & 18.1  & 6     & 225   & 105   & 2.76  & 3.460 & 20.22 & 1     & 0     & 3     & 1    \\\\\n",
       "\\end{tabular}\n"
      ],
      "text/markdown": [
       "\n",
       "| <!--/--> | mpg | cyl | disp | hp | drat | wt | qsec | vs | am | gear | carb | \n",
       "|---|---|---|---|---|---|\n",
       "| Mazda RX4 | 21.0  | 6     | 160   | 110   | 3.90  | 2.620 | 16.46 | 0     | 1     | 4     | 4     | \n",
       "| Mazda RX4 Wag | 21.0  | 6     | 160   | 110   | 3.90  | 2.875 | 17.02 | 0     | 1     | 4     | 4     | \n",
       "| Datsun 710 | 22.8  | 4     | 108   |  93   | 3.85  | 2.320 | 18.61 | 1     | 1     | 4     | 1     | \n",
       "| Hornet 4 Drive | 21.4  | 6     | 258   | 110   | 3.08  | 3.215 | 19.44 | 1     | 0     | 3     | 1     | \n",
       "| Hornet Sportabout | 18.7  | 8     | 360   | 175   | 3.15  | 3.440 | 17.02 | 0     | 0     | 3     | 2     | \n",
       "| Valiant | 18.1  | 6     | 225   | 105   | 2.76  | 3.460 | 20.22 | 1     | 0     | 3     | 1     | \n",
       "\n",
       "\n"
      ],
      "text/plain": [
       "                  mpg  cyl disp hp  drat wt    qsec  vs am gear carb\n",
       "Mazda RX4         21.0 6   160  110 3.90 2.620 16.46 0  1  4    4   \n",
       "Mazda RX4 Wag     21.0 6   160  110 3.90 2.875 17.02 0  1  4    4   \n",
       "Datsun 710        22.8 4   108   93 3.85 2.320 18.61 1  1  4    1   \n",
       "Hornet 4 Drive    21.4 6   258  110 3.08 3.215 19.44 1  0  3    1   \n",
       "Hornet Sportabout 18.7 8   360  175 3.15 3.440 17.02 0  0  3    2   \n",
       "Valiant           18.1 6   225  105 2.76 3.460 20.22 1  0  3    1   "
      ]
     },
     "metadata": {},
     "output_type": "display_data"
    }
   ],
   "source": [
    "head(mtcars)"
   ]
  },
  {
   "cell_type": "code",
   "execution_count": 5,
   "metadata": {},
   "outputs": [
    {
     "data": {
      "text/html": [
       "<ol class=list-inline>\n",
       "\t<li>'Mazda RX4'</li>\n",
       "\t<li>'Mazda RX4 Wag'</li>\n",
       "\t<li>'Datsun 710'</li>\n",
       "\t<li>'Hornet 4 Drive'</li>\n",
       "\t<li>'Hornet Sportabout'</li>\n",
       "\t<li>'Valiant'</li>\n",
       "\t<li>'Duster 360'</li>\n",
       "\t<li>'Merc 240D'</li>\n",
       "\t<li>'Merc 230'</li>\n",
       "\t<li>'Merc 280'</li>\n",
       "\t<li>'Merc 280C'</li>\n",
       "\t<li>'Merc 450SE'</li>\n",
       "\t<li>'Merc 450SL'</li>\n",
       "\t<li>'Merc 450SLC'</li>\n",
       "\t<li>'Cadillac Fleetwood'</li>\n",
       "\t<li>'Lincoln Continental'</li>\n",
       "\t<li>'Chrysler Imperial'</li>\n",
       "\t<li>'Fiat 128'</li>\n",
       "\t<li>'Honda Civic'</li>\n",
       "\t<li>'Toyota Corolla'</li>\n",
       "\t<li>'Toyota Corona'</li>\n",
       "\t<li>'Dodge Challenger'</li>\n",
       "\t<li>'AMC Javelin'</li>\n",
       "\t<li>'Camaro Z28'</li>\n",
       "\t<li>'Pontiac Firebird'</li>\n",
       "\t<li>'Fiat X1-9'</li>\n",
       "\t<li>'Porsche 914-2'</li>\n",
       "\t<li>'Lotus Europa'</li>\n",
       "\t<li>'Ford Pantera L'</li>\n",
       "\t<li>'Ferrari Dino'</li>\n",
       "\t<li>'Maserati Bora'</li>\n",
       "\t<li>'Volvo 142E'</li>\n",
       "</ol>\n"
      ],
      "text/latex": [
       "\\begin{enumerate*}\n",
       "\\item 'Mazda RX4'\n",
       "\\item 'Mazda RX4 Wag'\n",
       "\\item 'Datsun 710'\n",
       "\\item 'Hornet 4 Drive'\n",
       "\\item 'Hornet Sportabout'\n",
       "\\item 'Valiant'\n",
       "\\item 'Duster 360'\n",
       "\\item 'Merc 240D'\n",
       "\\item 'Merc 230'\n",
       "\\item 'Merc 280'\n",
       "\\item 'Merc 280C'\n",
       "\\item 'Merc 450SE'\n",
       "\\item 'Merc 450SL'\n",
       "\\item 'Merc 450SLC'\n",
       "\\item 'Cadillac Fleetwood'\n",
       "\\item 'Lincoln Continental'\n",
       "\\item 'Chrysler Imperial'\n",
       "\\item 'Fiat 128'\n",
       "\\item 'Honda Civic'\n",
       "\\item 'Toyota Corolla'\n",
       "\\item 'Toyota Corona'\n",
       "\\item 'Dodge Challenger'\n",
       "\\item 'AMC Javelin'\n",
       "\\item 'Camaro Z28'\n",
       "\\item 'Pontiac Firebird'\n",
       "\\item 'Fiat X1-9'\n",
       "\\item 'Porsche 914-2'\n",
       "\\item 'Lotus Europa'\n",
       "\\item 'Ford Pantera L'\n",
       "\\item 'Ferrari Dino'\n",
       "\\item 'Maserati Bora'\n",
       "\\item 'Volvo 142E'\n",
       "\\end{enumerate*}\n"
      ],
      "text/markdown": [
       "1. 'Mazda RX4'\n",
       "2. 'Mazda RX4 Wag'\n",
       "3. 'Datsun 710'\n",
       "4. 'Hornet 4 Drive'\n",
       "5. 'Hornet Sportabout'\n",
       "6. 'Valiant'\n",
       "7. 'Duster 360'\n",
       "8. 'Merc 240D'\n",
       "9. 'Merc 230'\n",
       "10. 'Merc 280'\n",
       "11. 'Merc 280C'\n",
       "12. 'Merc 450SE'\n",
       "13. 'Merc 450SL'\n",
       "14. 'Merc 450SLC'\n",
       "15. 'Cadillac Fleetwood'\n",
       "16. 'Lincoln Continental'\n",
       "17. 'Chrysler Imperial'\n",
       "18. 'Fiat 128'\n",
       "19. 'Honda Civic'\n",
       "20. 'Toyota Corolla'\n",
       "21. 'Toyota Corona'\n",
       "22. 'Dodge Challenger'\n",
       "23. 'AMC Javelin'\n",
       "24. 'Camaro Z28'\n",
       "25. 'Pontiac Firebird'\n",
       "26. 'Fiat X1-9'\n",
       "27. 'Porsche 914-2'\n",
       "28. 'Lotus Europa'\n",
       "29. 'Ford Pantera L'\n",
       "30. 'Ferrari Dino'\n",
       "31. 'Maserati Bora'\n",
       "32. 'Volvo 142E'\n",
       "\n",
       "\n"
      ],
      "text/plain": [
       " [1] \"Mazda RX4\"           \"Mazda RX4 Wag\"       \"Datsun 710\"         \n",
       " [4] \"Hornet 4 Drive\"      \"Hornet Sportabout\"   \"Valiant\"            \n",
       " [7] \"Duster 360\"          \"Merc 240D\"           \"Merc 230\"           \n",
       "[10] \"Merc 280\"            \"Merc 280C\"           \"Merc 450SE\"         \n",
       "[13] \"Merc 450SL\"          \"Merc 450SLC\"         \"Cadillac Fleetwood\" \n",
       "[16] \"Lincoln Continental\" \"Chrysler Imperial\"   \"Fiat 128\"           \n",
       "[19] \"Honda Civic\"         \"Toyota Corolla\"      \"Toyota Corona\"      \n",
       "[22] \"Dodge Challenger\"    \"AMC Javelin\"         \"Camaro Z28\"         \n",
       "[25] \"Pontiac Firebird\"    \"Fiat X1-9\"           \"Porsche 914-2\"      \n",
       "[28] \"Lotus Europa\"        \"Ford Pantera L\"      \"Ferrari Dino\"       \n",
       "[31] \"Maserati Bora\"       \"Volvo 142E\"         "
      ]
     },
     "metadata": {},
     "output_type": "display_data"
    }
   ],
   "source": [
    "row.names(mtcars)"
   ]
  },
  {
   "cell_type": "code",
   "execution_count": 6,
   "metadata": {},
   "outputs": [
    {
     "data": {
      "text/html": [
       "<ol class=list-inline>\n",
       "\t<li>'mpg'</li>\n",
       "\t<li>'cyl'</li>\n",
       "\t<li>'disp'</li>\n",
       "\t<li>'hp'</li>\n",
       "\t<li>'drat'</li>\n",
       "\t<li>'wt'</li>\n",
       "\t<li>'qsec'</li>\n",
       "\t<li>'vs'</li>\n",
       "\t<li>'am'</li>\n",
       "\t<li>'gear'</li>\n",
       "\t<li>'carb'</li>\n",
       "</ol>\n"
      ],
      "text/latex": [
       "\\begin{enumerate*}\n",
       "\\item 'mpg'\n",
       "\\item 'cyl'\n",
       "\\item 'disp'\n",
       "\\item 'hp'\n",
       "\\item 'drat'\n",
       "\\item 'wt'\n",
       "\\item 'qsec'\n",
       "\\item 'vs'\n",
       "\\item 'am'\n",
       "\\item 'gear'\n",
       "\\item 'carb'\n",
       "\\end{enumerate*}\n"
      ],
      "text/markdown": [
       "1. 'mpg'\n",
       "2. 'cyl'\n",
       "3. 'disp'\n",
       "4. 'hp'\n",
       "5. 'drat'\n",
       "6. 'wt'\n",
       "7. 'qsec'\n",
       "8. 'vs'\n",
       "9. 'am'\n",
       "10. 'gear'\n",
       "11. 'carb'\n",
       "\n",
       "\n"
      ],
      "text/plain": [
       " [1] \"mpg\"  \"cyl\"  \"disp\" \"hp\"   \"drat\" \"wt\"   \"qsec\" \"vs\"   \"am\"   \"gear\"\n",
       "[11] \"carb\""
      ]
     },
     "metadata": {},
     "output_type": "display_data"
    }
   ],
   "source": [
    "names(mtcars)"
   ]
  },
  {
   "cell_type": "code",
   "execution_count": 15,
   "metadata": {},
   "outputs": [
    {
     "data": {
      "text/html": [
       "TRUE"
      ],
      "text/latex": [
       "TRUE"
      ],
      "text/markdown": [
       "TRUE"
      ],
      "text/plain": [
       "[1] TRUE"
      ]
     },
     "metadata": {},
     "output_type": "display_data"
    }
   ],
   "source": [
    "is.numeric(mtcars$cyl)"
   ]
  },
  {
   "cell_type": "code",
   "execution_count": 3,
   "metadata": {},
   "outputs": [
    {
     "name": "stdout",
     "output_type": "stream",
     "text": [
      "'data.frame':\t32 obs. of  11 variables:\n",
      " $ mpg : num  21 21 22.8 21.4 18.7 18.1 14.3 24.4 22.8 19.2 ...\n",
      " $ cyl : num  6 6 4 6 8 6 8 4 4 6 ...\n",
      " $ disp: num  160 160 108 258 360 ...\n",
      " $ hp  : num  110 110 93 110 175 105 245 62 95 123 ...\n",
      " $ drat: num  3.9 3.9 3.85 3.08 3.15 2.76 3.21 3.69 3.92 3.92 ...\n",
      " $ wt  : num  2.62 2.88 2.32 3.21 3.44 ...\n",
      " $ qsec: num  16.5 17 18.6 19.4 17 ...\n",
      " $ vs  : num  0 0 1 1 0 1 0 1 1 1 ...\n",
      " $ am  : num  1 1 1 0 0 0 0 0 0 0 ...\n",
      " $ gear: num  4 4 4 3 3 3 3 4 4 4 ...\n",
      " $ carb: num  4 4 1 1 2 1 4 2 2 4 ...\n"
     ]
    }
   ],
   "source": [
    "str(mtcars)"
   ]
  },
  {
   "cell_type": "code",
   "execution_count": 5,
   "metadata": {},
   "outputs": [
    {
     "data": {
      "text/html": [
       "<table>\n",
       "<thead><tr><th scope=col>mpg</th><th scope=col>cyl</th><th scope=col>disp</th><th scope=col>hp</th><th scope=col>drat</th><th scope=col>wt</th><th scope=col>qsec</th><th scope=col>vs</th><th scope=col>am</th><th scope=col>gear</th><th scope=col>carb</th></tr></thead>\n",
       "<tbody>\n",
       "\t<tr><td>21.0 </td><td>6    </td><td>160.0</td><td>110  </td><td>3.90 </td><td>2.620</td><td>16.46</td><td>0    </td><td>1    </td><td>4    </td><td>4    </td></tr>\n",
       "\t<tr><td>21.0 </td><td>6    </td><td>160.0</td><td>110  </td><td>3.90 </td><td>2.875</td><td>17.02</td><td>0    </td><td>1    </td><td>4    </td><td>4    </td></tr>\n",
       "\t<tr><td>21.4 </td><td>6    </td><td>258.0</td><td>110  </td><td>3.08 </td><td>3.215</td><td>19.44</td><td>1    </td><td>0    </td><td>3    </td><td>1    </td></tr>\n",
       "\t<tr><td>18.1 </td><td>6    </td><td>225.0</td><td>105  </td><td>2.76 </td><td>3.460</td><td>20.22</td><td>1    </td><td>0    </td><td>3    </td><td>1    </td></tr>\n",
       "\t<tr><td>19.2 </td><td>6    </td><td>167.6</td><td>123  </td><td>3.92 </td><td>3.440</td><td>18.30</td><td>1    </td><td>0    </td><td>4    </td><td>4    </td></tr>\n",
       "</tbody>\n",
       "</table>\n"
      ],
      "text/latex": [
       "\\begin{tabular}{r|lllllllllll}\n",
       " mpg & cyl & disp & hp & drat & wt & qsec & vs & am & gear & carb\\\\\n",
       "\\hline\n",
       "\t 21.0  & 6     & 160.0 & 110   & 3.90  & 2.620 & 16.46 & 0     & 1     & 4     & 4    \\\\\n",
       "\t 21.0  & 6     & 160.0 & 110   & 3.90  & 2.875 & 17.02 & 0     & 1     & 4     & 4    \\\\\n",
       "\t 21.4  & 6     & 258.0 & 110   & 3.08  & 3.215 & 19.44 & 1     & 0     & 3     & 1    \\\\\n",
       "\t 18.1  & 6     & 225.0 & 105   & 2.76  & 3.460 & 20.22 & 1     & 0     & 3     & 1    \\\\\n",
       "\t 19.2  & 6     & 167.6 & 123   & 3.92  & 3.440 & 18.30 & 1     & 0     & 4     & 4    \\\\\n",
       "\\end{tabular}\n"
      ],
      "text/markdown": [
       "\n",
       "mpg | cyl | disp | hp | drat | wt | qsec | vs | am | gear | carb | \n",
       "|---|---|---|---|---|\n",
       "| 21.0  | 6     | 160.0 | 110   | 3.90  | 2.620 | 16.46 | 0     | 1     | 4     | 4     | \n",
       "| 21.0  | 6     | 160.0 | 110   | 3.90  | 2.875 | 17.02 | 0     | 1     | 4     | 4     | \n",
       "| 21.4  | 6     | 258.0 | 110   | 3.08  | 3.215 | 19.44 | 1     | 0     | 3     | 1     | \n",
       "| 18.1  | 6     | 225.0 | 105   | 2.76  | 3.460 | 20.22 | 1     | 0     | 3     | 1     | \n",
       "| 19.2  | 6     | 167.6 | 123   | 3.92  | 3.440 | 18.30 | 1     | 0     | 4     | 4     | \n",
       "\n",
       "\n"
      ],
      "text/plain": [
       "  mpg  cyl disp  hp  drat wt    qsec  vs am gear carb\n",
       "1 21.0 6   160.0 110 3.90 2.620 16.46 0  1  4    4   \n",
       "2 21.0 6   160.0 110 3.90 2.875 17.02 0  1  4    4   \n",
       "3 21.4 6   258.0 110 3.08 3.215 19.44 1  0  3    1   \n",
       "4 18.1 6   225.0 105 2.76 3.460 20.22 1  0  3    1   \n",
       "5 19.2 6   167.6 123 3.92 3.440 18.30 1  0  4    4   "
      ]
     },
     "metadata": {},
     "output_type": "display_data"
    }
   ],
   "source": [
    "mtcars %>%\n",
    "    filter( cyl==6 ) %>% head(5)"
   ]
  },
  {
   "cell_type": "code",
   "execution_count": 6,
   "metadata": {},
   "outputs": [
    {
     "data": {
      "text/html": [
       "<table>\n",
       "<thead><tr><th scope=col>mpg</th><th scope=col>cyl</th><th scope=col>disp</th><th scope=col>hp</th><th scope=col>drat</th><th scope=col>wt</th><th scope=col>qsec</th><th scope=col>vs</th><th scope=col>am</th><th scope=col>gear</th><th scope=col>carb</th></tr></thead>\n",
       "<tbody>\n",
       "\t<tr><td>22.8 </td><td>4    </td><td>108.0</td><td> 93  </td><td>3.85 </td><td>2.32 </td><td>18.61</td><td>1    </td><td>1    </td><td>4    </td><td>1    </td></tr>\n",
       "\t<tr><td>18.7 </td><td>8    </td><td>360.0</td><td>175  </td><td>3.15 </td><td>3.44 </td><td>17.02</td><td>0    </td><td>0    </td><td>3    </td><td>2    </td></tr>\n",
       "\t<tr><td>14.3 </td><td>8    </td><td>360.0</td><td>245  </td><td>3.21 </td><td>3.57 </td><td>15.84</td><td>0    </td><td>0    </td><td>3    </td><td>4    </td></tr>\n",
       "\t<tr><td>24.4 </td><td>4    </td><td>146.7</td><td> 62  </td><td>3.69 </td><td>3.19 </td><td>20.00</td><td>1    </td><td>0    </td><td>4    </td><td>2    </td></tr>\n",
       "\t<tr><td>22.8 </td><td>4    </td><td>140.8</td><td> 95  </td><td>3.92 </td><td>3.15 </td><td>22.90</td><td>1    </td><td>0    </td><td>4    </td><td>2    </td></tr>\n",
       "</tbody>\n",
       "</table>\n"
      ],
      "text/latex": [
       "\\begin{tabular}{r|lllllllllll}\n",
       " mpg & cyl & disp & hp & drat & wt & qsec & vs & am & gear & carb\\\\\n",
       "\\hline\n",
       "\t 22.8  & 4     & 108.0 &  93   & 3.85  & 2.32  & 18.61 & 1     & 1     & 4     & 1    \\\\\n",
       "\t 18.7  & 8     & 360.0 & 175   & 3.15  & 3.44  & 17.02 & 0     & 0     & 3     & 2    \\\\\n",
       "\t 14.3  & 8     & 360.0 & 245   & 3.21  & 3.57  & 15.84 & 0     & 0     & 3     & 4    \\\\\n",
       "\t 24.4  & 4     & 146.7 &  62   & 3.69  & 3.19  & 20.00 & 1     & 0     & 4     & 2    \\\\\n",
       "\t 22.8  & 4     & 140.8 &  95   & 3.92  & 3.15  & 22.90 & 1     & 0     & 4     & 2    \\\\\n",
       "\\end{tabular}\n"
      ],
      "text/markdown": [
       "\n",
       "mpg | cyl | disp | hp | drat | wt | qsec | vs | am | gear | carb | \n",
       "|---|---|---|---|---|\n",
       "| 22.8  | 4     | 108.0 |  93   | 3.85  | 2.32  | 18.61 | 1     | 1     | 4     | 1     | \n",
       "| 18.7  | 8     | 360.0 | 175   | 3.15  | 3.44  | 17.02 | 0     | 0     | 3     | 2     | \n",
       "| 14.3  | 8     | 360.0 | 245   | 3.21  | 3.57  | 15.84 | 0     | 0     | 3     | 4     | \n",
       "| 24.4  | 4     | 146.7 |  62   | 3.69  | 3.19  | 20.00 | 1     | 0     | 4     | 2     | \n",
       "| 22.8  | 4     | 140.8 |  95   | 3.92  | 3.15  | 22.90 | 1     | 0     | 4     | 2     | \n",
       "\n",
       "\n"
      ],
      "text/plain": [
       "  mpg  cyl disp  hp  drat wt   qsec  vs am gear carb\n",
       "1 22.8 4   108.0  93 3.85 2.32 18.61 1  1  4    1   \n",
       "2 18.7 8   360.0 175 3.15 3.44 17.02 0  0  3    2   \n",
       "3 14.3 8   360.0 245 3.21 3.57 15.84 0  0  3    4   \n",
       "4 24.4 4   146.7  62 3.69 3.19 20.00 1  0  4    2   \n",
       "5 22.8 4   140.8  95 3.92 3.15 22.90 1  0  4    2   "
      ]
     },
     "metadata": {},
     "output_type": "display_data"
    }
   ],
   "source": [
    "mtcars %>%\n",
    "    filter( cyl!=6 ) %>% head(5)"
   ]
  },
  {
   "cell_type": "code",
   "execution_count": 3,
   "metadata": {},
   "outputs": [
    {
     "data": {
      "text/html": [
       "<table>\n",
       "<thead><tr><th scope=col>mpg</th><th scope=col>cyl</th><th scope=col>disp</th><th scope=col>hp</th><th scope=col>drat</th><th scope=col>wt</th><th scope=col>qsec</th><th scope=col>vs</th><th scope=col>am</th><th scope=col>gear</th><th scope=col>carb</th></tr></thead>\n",
       "<tbody>\n",
       "\t<tr><td>21.0 </td><td>6    </td><td>160  </td><td>110  </td><td>3.90 </td><td>2.620</td><td>16.46</td><td>0    </td><td>1    </td><td>4    </td><td>4    </td></tr>\n",
       "\t<tr><td>21.0 </td><td>6    </td><td>160  </td><td>110  </td><td>3.90 </td><td>2.875</td><td>17.02</td><td>0    </td><td>1    </td><td>4    </td><td>4    </td></tr>\n",
       "\t<tr><td>22.8 </td><td>4    </td><td>108  </td><td> 93  </td><td>3.85 </td><td>2.320</td><td>18.61</td><td>1    </td><td>1    </td><td>4    </td><td>1    </td></tr>\n",
       "\t<tr><td>21.4 </td><td>6    </td><td>258  </td><td>110  </td><td>3.08 </td><td>3.215</td><td>19.44</td><td>1    </td><td>0    </td><td>3    </td><td>1    </td></tr>\n",
       "\t<tr><td>18.1 </td><td>6    </td><td>225  </td><td>105  </td><td>2.76 </td><td>3.460</td><td>20.22</td><td>1    </td><td>0    </td><td>3    </td><td>1    </td></tr>\n",
       "</tbody>\n",
       "</table>\n"
      ],
      "text/latex": [
       "\\begin{tabular}{r|lllllllllll}\n",
       " mpg & cyl & disp & hp & drat & wt & qsec & vs & am & gear & carb\\\\\n",
       "\\hline\n",
       "\t 21.0  & 6     & 160   & 110   & 3.90  & 2.620 & 16.46 & 0     & 1     & 4     & 4    \\\\\n",
       "\t 21.0  & 6     & 160   & 110   & 3.90  & 2.875 & 17.02 & 0     & 1     & 4     & 4    \\\\\n",
       "\t 22.8  & 4     & 108   &  93   & 3.85  & 2.320 & 18.61 & 1     & 1     & 4     & 1    \\\\\n",
       "\t 21.4  & 6     & 258   & 110   & 3.08  & 3.215 & 19.44 & 1     & 0     & 3     & 1    \\\\\n",
       "\t 18.1  & 6     & 225   & 105   & 2.76  & 3.460 & 20.22 & 1     & 0     & 3     & 1    \\\\\n",
       "\\end{tabular}\n"
      ],
      "text/markdown": [
       "\n",
       "mpg | cyl | disp | hp | drat | wt | qsec | vs | am | gear | carb | \n",
       "|---|---|---|---|---|\n",
       "| 21.0  | 6     | 160   | 110   | 3.90  | 2.620 | 16.46 | 0     | 1     | 4     | 4     | \n",
       "| 21.0  | 6     | 160   | 110   | 3.90  | 2.875 | 17.02 | 0     | 1     | 4     | 4     | \n",
       "| 22.8  | 4     | 108   |  93   | 3.85  | 2.320 | 18.61 | 1     | 1     | 4     | 1     | \n",
       "| 21.4  | 6     | 258   | 110   | 3.08  | 3.215 | 19.44 | 1     | 0     | 3     | 1     | \n",
       "| 18.1  | 6     | 225   | 105   | 2.76  | 3.460 | 20.22 | 1     | 0     | 3     | 1     | \n",
       "\n",
       "\n"
      ],
      "text/plain": [
       "  mpg  cyl disp hp  drat wt    qsec  vs am gear carb\n",
       "1 21.0 6   160  110 3.90 2.620 16.46 0  1  4    4   \n",
       "2 21.0 6   160  110 3.90 2.875 17.02 0  1  4    4   \n",
       "3 22.8 4   108   93 3.85 2.320 18.61 1  1  4    1   \n",
       "4 21.4 6   258  110 3.08 3.215 19.44 1  0  3    1   \n",
       "5 18.1 6   225  105 2.76 3.460 20.22 1  0  3    1   "
      ]
     },
     "metadata": {},
     "output_type": "display_data"
    }
   ],
   "source": [
    "mtcars %>%\n",
    "    filter( cyl %in% c(6,4)) %>% head(5)"
   ]
  },
  {
   "cell_type": "markdown",
   "metadata": {},
   "source": [
    "- <p style=\"color:blue; font-style:italic\"> of course we can use all logical operation  like. >.  , <  , as well. as use. combinaiotn of logical operstors</p>"
   ]
  },
  {
   "cell_type": "code",
   "execution_count": null,
   "metadata": {},
   "outputs": [],
   "source": []
  },
  {
   "cell_type": "code",
   "execution_count": 7,
   "metadata": {},
   "outputs": [
    {
     "data": {
      "text/html": [
       "<ol class=list-inline>\n",
       "\t<li>110</li>\n",
       "\t<li>93</li>\n",
       "\t<li>175</li>\n",
       "\t<li>105</li>\n",
       "\t<li>245</li>\n",
       "\t<li>62</li>\n",
       "\t<li>95</li>\n",
       "\t<li>123</li>\n",
       "\t<li>180</li>\n",
       "\t<li>205</li>\n",
       "\t<li>215</li>\n",
       "\t<li>230</li>\n",
       "\t<li>66</li>\n",
       "\t<li>52</li>\n",
       "\t<li>65</li>\n",
       "\t<li>97</li>\n",
       "\t<li>150</li>\n",
       "\t<li>91</li>\n",
       "\t<li>113</li>\n",
       "\t<li>264</li>\n",
       "\t<li>335</li>\n",
       "\t<li>109</li>\n",
       "</ol>\n"
      ],
      "text/latex": [
       "\\begin{enumerate*}\n",
       "\\item 110\n",
       "\\item 93\n",
       "\\item 175\n",
       "\\item 105\n",
       "\\item 245\n",
       "\\item 62\n",
       "\\item 95\n",
       "\\item 123\n",
       "\\item 180\n",
       "\\item 205\n",
       "\\item 215\n",
       "\\item 230\n",
       "\\item 66\n",
       "\\item 52\n",
       "\\item 65\n",
       "\\item 97\n",
       "\\item 150\n",
       "\\item 91\n",
       "\\item 113\n",
       "\\item 264\n",
       "\\item 335\n",
       "\\item 109\n",
       "\\end{enumerate*}\n"
      ],
      "text/markdown": [
       "1. 110\n",
       "2. 93\n",
       "3. 175\n",
       "4. 105\n",
       "5. 245\n",
       "6. 62\n",
       "7. 95\n",
       "8. 123\n",
       "9. 180\n",
       "10. 205\n",
       "11. 215\n",
       "12. 230\n",
       "13. 66\n",
       "14. 52\n",
       "15. 65\n",
       "16. 97\n",
       "17. 150\n",
       "18. 91\n",
       "19. 113\n",
       "20. 264\n",
       "21. 335\n",
       "22. 109\n",
       "\n",
       "\n"
      ],
      "text/plain": [
       " [1] 110  93 175 105 245  62  95 123 180 205 215 230  66  52  65  97 150  91 113\n",
       "[20] 264 335 109"
      ]
     },
     "metadata": {},
     "output_type": "display_data"
    }
   ],
   "source": [
    "# multiple conditions\n",
    "unique(mtcars$hp)"
   ]
  },
  {
   "cell_type": "code",
   "execution_count": 19,
   "metadata": {},
   "outputs": [
    {
     "data": {
      "text/html": [
       "<table>\n",
       "<thead><tr><th scope=col>mpg</th><th scope=col>cyl</th><th scope=col>disp</th><th scope=col>hp</th><th scope=col>drat</th><th scope=col>wt</th><th scope=col>qsec</th><th scope=col>vs</th><th scope=col>am</th><th scope=col>gear</th><th scope=col>carb</th></tr></thead>\n",
       "<tbody>\n",
       "\t<tr><td>19.2 </td><td>6    </td><td>167.6</td><td>123  </td><td>3.92 </td><td>3.44 </td><td>18.3 </td><td>1    </td><td>0    </td><td>4    </td><td>4    </td></tr>\n",
       "\t<tr><td>17.8 </td><td>6    </td><td>167.6</td><td>123  </td><td>3.92 </td><td>3.44 </td><td>18.9 </td><td>1    </td><td>0    </td><td>4    </td><td>4    </td></tr>\n",
       "</tbody>\n",
       "</table>\n"
      ],
      "text/latex": [
       "\\begin{tabular}{r|lllllllllll}\n",
       " mpg & cyl & disp & hp & drat & wt & qsec & vs & am & gear & carb\\\\\n",
       "\\hline\n",
       "\t 19.2  & 6     & 167.6 & 123   & 3.92  & 3.44  & 18.3  & 1     & 0     & 4     & 4    \\\\\n",
       "\t 17.8  & 6     & 167.6 & 123   & 3.92  & 3.44  & 18.9  & 1     & 0     & 4     & 4    \\\\\n",
       "\\end{tabular}\n"
      ],
      "text/markdown": [
       "\n",
       "mpg | cyl | disp | hp | drat | wt | qsec | vs | am | gear | carb | \n",
       "|---|---|\n",
       "| 19.2  | 6     | 167.6 | 123   | 3.92  | 3.44  | 18.3  | 1     | 0     | 4     | 4     | \n",
       "| 17.8  | 6     | 167.6 | 123   | 3.92  | 3.44  | 18.9  | 1     | 0     | 4     | 4     | \n",
       "\n",
       "\n"
      ],
      "text/plain": [
       "  mpg  cyl disp  hp  drat wt   qsec vs am gear carb\n",
       "1 19.2 6   167.6 123 3.92 3.44 18.3 1  0  4    4   \n",
       "2 17.8 6   167.6 123 3.92 3.44 18.9 1  0  4    4   "
      ]
     },
     "metadata": {},
     "output_type": "display_data"
    }
   ],
   "source": [
    "mtcars %>%\n",
    "    filter( cyl==6 & hp > 120 & hp < 175)"
   ]
  },
  {
   "cell_type": "code",
   "execution_count": 28,
   "metadata": {},
   "outputs": [
    {
     "data": {
      "text/html": [
       "<table>\n",
       "<thead><tr><th scope=col>mpg</th><th scope=col>cyl</th><th scope=col>disp</th><th scope=col>hp</th><th scope=col>drat</th><th scope=col>wt</th><th scope=col>qsec</th><th scope=col>vs</th><th scope=col>am</th><th scope=col>gear</th><th scope=col>carb</th></tr></thead>\n",
       "<tbody>\n",
       "\t<tr><td>21.0 </td><td>6    </td><td>160.0</td><td>110  </td><td>3.90 </td><td>2.620</td><td>16.46</td><td>0    </td><td>1    </td><td>4    </td><td>4    </td></tr>\n",
       "\t<tr><td>21.0 </td><td>6    </td><td>160.0</td><td>110  </td><td>3.90 </td><td>2.875</td><td>17.02</td><td>0    </td><td>1    </td><td>4    </td><td>4    </td></tr>\n",
       "\t<tr><td>22.8 </td><td>4    </td><td>108.0</td><td> 93  </td><td>3.85 </td><td>2.320</td><td>18.61</td><td>1    </td><td>1    </td><td>4    </td><td>1    </td></tr>\n",
       "\t<tr><td>21.4 </td><td>6    </td><td>258.0</td><td>110  </td><td>3.08 </td><td>3.215</td><td>19.44</td><td>1    </td><td>0    </td><td>3    </td><td>1    </td></tr>\n",
       "\t<tr><td>18.7 </td><td>8    </td><td>360.0</td><td>175  </td><td>3.15 </td><td>3.440</td><td>17.02</td><td>0    </td><td>0    </td><td>3    </td><td>2    </td></tr>\n",
       "\t<tr><td>16.4 </td><td>8    </td><td>275.8</td><td>180  </td><td>3.07 </td><td>4.070</td><td>17.40</td><td>0    </td><td>0    </td><td>3    </td><td>3    </td></tr>\n",
       "\t<tr><td>17.3 </td><td>8    </td><td>275.8</td><td>180  </td><td>3.07 </td><td>3.730</td><td>17.60</td><td>0    </td><td>0    </td><td>3    </td><td>3    </td></tr>\n",
       "\t<tr><td>15.2 </td><td>8    </td><td>275.8</td><td>180  </td><td>3.07 </td><td>3.780</td><td>18.00</td><td>0    </td><td>0    </td><td>3    </td><td>3    </td></tr>\n",
       "\t<tr><td>19.2 </td><td>8    </td><td>400.0</td><td>175  </td><td>3.08 </td><td>3.845</td><td>17.05</td><td>0    </td><td>0    </td><td>3    </td><td>2    </td></tr>\n",
       "\t<tr><td>19.7 </td><td>6    </td><td>145.0</td><td>175  </td><td>3.62 </td><td>2.770</td><td>15.50</td><td>0    </td><td>1    </td><td>5    </td><td>6    </td></tr>\n",
       "</tbody>\n",
       "</table>\n"
      ],
      "text/latex": [
       "\\begin{tabular}{r|lllllllllll}\n",
       " mpg & cyl & disp & hp & drat & wt & qsec & vs & am & gear & carb\\\\\n",
       "\\hline\n",
       "\t 21.0  & 6     & 160.0 & 110   & 3.90  & 2.620 & 16.46 & 0     & 1     & 4     & 4    \\\\\n",
       "\t 21.0  & 6     & 160.0 & 110   & 3.90  & 2.875 & 17.02 & 0     & 1     & 4     & 4    \\\\\n",
       "\t 22.8  & 4     & 108.0 &  93   & 3.85  & 2.320 & 18.61 & 1     & 1     & 4     & 1    \\\\\n",
       "\t 21.4  & 6     & 258.0 & 110   & 3.08  & 3.215 & 19.44 & 1     & 0     & 3     & 1    \\\\\n",
       "\t 18.7  & 8     & 360.0 & 175   & 3.15  & 3.440 & 17.02 & 0     & 0     & 3     & 2    \\\\\n",
       "\t 16.4  & 8     & 275.8 & 180   & 3.07  & 4.070 & 17.40 & 0     & 0     & 3     & 3    \\\\\n",
       "\t 17.3  & 8     & 275.8 & 180   & 3.07  & 3.730 & 17.60 & 0     & 0     & 3     & 3    \\\\\n",
       "\t 15.2  & 8     & 275.8 & 180   & 3.07  & 3.780 & 18.00 & 0     & 0     & 3     & 3    \\\\\n",
       "\t 19.2  & 8     & 400.0 & 175   & 3.08  & 3.845 & 17.05 & 0     & 0     & 3     & 2    \\\\\n",
       "\t 19.7  & 6     & 145.0 & 175   & 3.62  & 2.770 & 15.50 & 0     & 1     & 5     & 6    \\\\\n",
       "\\end{tabular}\n"
      ],
      "text/markdown": [
       "\n",
       "mpg | cyl | disp | hp | drat | wt | qsec | vs | am | gear | carb | \n",
       "|---|---|---|---|---|---|---|---|---|---|\n",
       "| 21.0  | 6     | 160.0 | 110   | 3.90  | 2.620 | 16.46 | 0     | 1     | 4     | 4     | \n",
       "| 21.0  | 6     | 160.0 | 110   | 3.90  | 2.875 | 17.02 | 0     | 1     | 4     | 4     | \n",
       "| 22.8  | 4     | 108.0 |  93   | 3.85  | 2.320 | 18.61 | 1     | 1     | 4     | 1     | \n",
       "| 21.4  | 6     | 258.0 | 110   | 3.08  | 3.215 | 19.44 | 1     | 0     | 3     | 1     | \n",
       "| 18.7  | 8     | 360.0 | 175   | 3.15  | 3.440 | 17.02 | 0     | 0     | 3     | 2     | \n",
       "| 16.4  | 8     | 275.8 | 180   | 3.07  | 4.070 | 17.40 | 0     | 0     | 3     | 3     | \n",
       "| 17.3  | 8     | 275.8 | 180   | 3.07  | 3.730 | 17.60 | 0     | 0     | 3     | 3     | \n",
       "| 15.2  | 8     | 275.8 | 180   | 3.07  | 3.780 | 18.00 | 0     | 0     | 3     | 3     | \n",
       "| 19.2  | 8     | 400.0 | 175   | 3.08  | 3.845 | 17.05 | 0     | 0     | 3     | 2     | \n",
       "| 19.7  | 6     | 145.0 | 175   | 3.62  | 2.770 | 15.50 | 0     | 1     | 5     | 6     | \n",
       "\n",
       "\n"
      ],
      "text/plain": [
       "   mpg  cyl disp  hp  drat wt    qsec  vs am gear carb\n",
       "1  21.0 6   160.0 110 3.90 2.620 16.46 0  1  4    4   \n",
       "2  21.0 6   160.0 110 3.90 2.875 17.02 0  1  4    4   \n",
       "3  22.8 4   108.0  93 3.85 2.320 18.61 1  1  4    1   \n",
       "4  21.4 6   258.0 110 3.08 3.215 19.44 1  0  3    1   \n",
       "5  18.7 8   360.0 175 3.15 3.440 17.02 0  0  3    2   \n",
       "6  16.4 8   275.8 180 3.07 4.070 17.40 0  0  3    3   \n",
       "7  17.3 8   275.8 180 3.07 3.730 17.60 0  0  3    3   \n",
       "8  15.2 8   275.8 180 3.07 3.780 18.00 0  0  3    3   \n",
       "9  19.2 8   400.0 175 3.08 3.845 17.05 0  0  3    2   \n",
       "10 19.7 6   145.0 175 3.62 2.770 15.50 0  1  5    6   "
      ]
     },
     "metadata": {},
     "output_type": "display_data"
    }
   ],
   "source": [
    "# all records maching the filter parmaters\n",
    "horsePower<- c(110, 93, 175, 180)\n",
    "mtcars %>% \n",
    "    filter( hp %in% horsePower)"
   ]
  },
  {
   "cell_type": "code",
   "execution_count": 78,
   "metadata": {},
   "outputs": [
    {
     "data": {
      "text/html": [
       "<table>\n",
       "<thead><tr><th></th><th scope=col>mpg</th><th scope=col>cyl</th><th scope=col>disp</th><th scope=col>hp</th><th scope=col>drat</th><th scope=col>wt</th><th scope=col>qsec</th><th scope=col>vs</th><th scope=col>am</th><th scope=col>gear</th><th scope=col>carb</th></tr></thead>\n",
       "<tbody>\n",
       "\t<tr><th scope=row>Mazda RX4</th><td>21.0 </td><td>6    </td><td>160  </td><td>110  </td><td>3.90 </td><td>2.620</td><td>16.46</td><td>0    </td><td>1    </td><td>4    </td><td>4    </td></tr>\n",
       "\t<tr><th scope=row>Mazda RX4 Wag</th><td>21.0 </td><td>6    </td><td>160  </td><td>110  </td><td>3.90 </td><td>2.875</td><td>17.02</td><td>0    </td><td>1    </td><td>4    </td><td>4    </td></tr>\n",
       "\t<tr><th scope=row>Datsun 710</th><td>22.8 </td><td>4    </td><td>108  </td><td> 93  </td><td>3.85 </td><td>2.320</td><td>18.61</td><td>1    </td><td>1    </td><td>4    </td><td>1    </td></tr>\n",
       "\t<tr><th scope=row>Hornet 4 Drive</th><td>21.4 </td><td>6    </td><td>258  </td><td>110  </td><td>3.08 </td><td>3.215</td><td>19.44</td><td>1    </td><td>0    </td><td>3    </td><td>1    </td></tr>\n",
       "\t<tr><th scope=row>Hornet Sportabout</th><td>18.7 </td><td>8    </td><td>360  </td><td>175  </td><td>3.15 </td><td>3.440</td><td>17.02</td><td>0    </td><td>0    </td><td>3    </td><td>2    </td></tr>\n",
       "\t<tr><th scope=row>Valiant</th><td>18.1 </td><td>6    </td><td>225  </td><td>105  </td><td>2.76 </td><td>3.460</td><td>20.22</td><td>1    </td><td>0    </td><td>3    </td><td>1    </td></tr>\n",
       "</tbody>\n",
       "</table>\n"
      ],
      "text/latex": [
       "\\begin{tabular}{r|lllllllllll}\n",
       "  & mpg & cyl & disp & hp & drat & wt & qsec & vs & am & gear & carb\\\\\n",
       "\\hline\n",
       "\tMazda RX4 & 21.0  & 6     & 160   & 110   & 3.90  & 2.620 & 16.46 & 0     & 1     & 4     & 4    \\\\\n",
       "\tMazda RX4 Wag & 21.0  & 6     & 160   & 110   & 3.90  & 2.875 & 17.02 & 0     & 1     & 4     & 4    \\\\\n",
       "\tDatsun 710 & 22.8  & 4     & 108   &  93   & 3.85  & 2.320 & 18.61 & 1     & 1     & 4     & 1    \\\\\n",
       "\tHornet 4 Drive & 21.4  & 6     & 258   & 110   & 3.08  & 3.215 & 19.44 & 1     & 0     & 3     & 1    \\\\\n",
       "\tHornet Sportabout & 18.7  & 8     & 360   & 175   & 3.15  & 3.440 & 17.02 & 0     & 0     & 3     & 2    \\\\\n",
       "\tValiant & 18.1  & 6     & 225   & 105   & 2.76  & 3.460 & 20.22 & 1     & 0     & 3     & 1    \\\\\n",
       "\\end{tabular}\n"
      ],
      "text/markdown": [
       "\n",
       "| <!--/--> | mpg | cyl | disp | hp | drat | wt | qsec | vs | am | gear | carb | \n",
       "|---|---|---|---|---|---|\n",
       "| Mazda RX4 | 21.0  | 6     | 160   | 110   | 3.90  | 2.620 | 16.46 | 0     | 1     | 4     | 4     | \n",
       "| Mazda RX4 Wag | 21.0  | 6     | 160   | 110   | 3.90  | 2.875 | 17.02 | 0     | 1     | 4     | 4     | \n",
       "| Datsun 710 | 22.8  | 4     | 108   |  93   | 3.85  | 2.320 | 18.61 | 1     | 1     | 4     | 1     | \n",
       "| Hornet 4 Drive | 21.4  | 6     | 258   | 110   | 3.08  | 3.215 | 19.44 | 1     | 0     | 3     | 1     | \n",
       "| Hornet Sportabout | 18.7  | 8     | 360   | 175   | 3.15  | 3.440 | 17.02 | 0     | 0     | 3     | 2     | \n",
       "| Valiant | 18.1  | 6     | 225   | 105   | 2.76  | 3.460 | 20.22 | 1     | 0     | 3     | 1     | \n",
       "\n",
       "\n"
      ],
      "text/plain": [
       "                  mpg  cyl disp hp  drat wt    qsec  vs am gear carb\n",
       "Mazda RX4         21.0 6   160  110 3.90 2.620 16.46 0  1  4    4   \n",
       "Mazda RX4 Wag     21.0 6   160  110 3.90 2.875 17.02 0  1  4    4   \n",
       "Datsun 710        22.8 4   108   93 3.85 2.320 18.61 1  1  4    1   \n",
       "Hornet 4 Drive    21.4 6   258  110 3.08 3.215 19.44 1  0  3    1   \n",
       "Hornet Sportabout 18.7 8   360  175 3.15 3.440 17.02 0  0  3    2   \n",
       "Valiant           18.1 6   225  105 2.76 3.460 20.22 1  0  3    1   "
      ]
     },
     "metadata": {},
     "output_type": "display_data"
    }
   ],
   "source": [
    "head(mtcars)"
   ]
  },
  {
   "cell_type": "code",
   "execution_count": 29,
   "metadata": {},
   "outputs": [
    {
     "data": {
      "text/html": [
       "<table>\n",
       "<thead><tr><th scope=col>mpg</th><th scope=col>cyl</th><th scope=col>disp</th><th scope=col>hp</th><th scope=col>drat</th><th scope=col>wt</th><th scope=col>qsec</th><th scope=col>vs</th><th scope=col>am</th><th scope=col>gear</th><th scope=col>carb</th></tr></thead>\n",
       "<tbody>\n",
       "\t<tr><td>21.0 </td><td>6    </td><td>160.0</td><td>110  </td><td>3.90 </td><td>2.620</td><td>16.46</td><td>0    </td><td>1    </td><td>4    </td><td>4    </td></tr>\n",
       "\t<tr><td>21.0 </td><td>6    </td><td>160.0</td><td>110  </td><td>3.90 </td><td>2.875</td><td>17.02</td><td>0    </td><td>1    </td><td>4    </td><td>4    </td></tr>\n",
       "\t<tr><td>22.8 </td><td>4    </td><td>108.0</td><td> 93  </td><td>3.85 </td><td>2.320</td><td>18.61</td><td>1    </td><td>1    </td><td>4    </td><td>1    </td></tr>\n",
       "\t<tr><td>21.4 </td><td>6    </td><td>258.0</td><td>110  </td><td>3.08 </td><td>3.215</td><td>19.44</td><td>1    </td><td>0    </td><td>3    </td><td>1    </td></tr>\n",
       "\t<tr><td>18.7 </td><td>8    </td><td>360.0</td><td>175  </td><td>3.15 </td><td>3.440</td><td>17.02</td><td>0    </td><td>0    </td><td>3    </td><td>2    </td></tr>\n",
       "\t<tr><td>16.4 </td><td>8    </td><td>275.8</td><td>180  </td><td>3.07 </td><td>4.070</td><td>17.40</td><td>0    </td><td>0    </td><td>3    </td><td>3    </td></tr>\n",
       "</tbody>\n",
       "</table>\n"
      ],
      "text/latex": [
       "\\begin{tabular}{r|lllllllllll}\n",
       " mpg & cyl & disp & hp & drat & wt & qsec & vs & am & gear & carb\\\\\n",
       "\\hline\n",
       "\t 21.0  & 6     & 160.0 & 110   & 3.90  & 2.620 & 16.46 & 0     & 1     & 4     & 4    \\\\\n",
       "\t 21.0  & 6     & 160.0 & 110   & 3.90  & 2.875 & 17.02 & 0     & 1     & 4     & 4    \\\\\n",
       "\t 22.8  & 4     & 108.0 &  93   & 3.85  & 2.320 & 18.61 & 1     & 1     & 4     & 1    \\\\\n",
       "\t 21.4  & 6     & 258.0 & 110   & 3.08  & 3.215 & 19.44 & 1     & 0     & 3     & 1    \\\\\n",
       "\t 18.7  & 8     & 360.0 & 175   & 3.15  & 3.440 & 17.02 & 0     & 0     & 3     & 2    \\\\\n",
       "\t 16.4  & 8     & 275.8 & 180   & 3.07  & 4.070 & 17.40 & 0     & 0     & 3     & 3    \\\\\n",
       "\\end{tabular}\n"
      ],
      "text/markdown": [
       "\n",
       "mpg | cyl | disp | hp | drat | wt | qsec | vs | am | gear | carb | \n",
       "|---|---|---|---|---|---|\n",
       "| 21.0  | 6     | 160.0 | 110   | 3.90  | 2.620 | 16.46 | 0     | 1     | 4     | 4     | \n",
       "| 21.0  | 6     | 160.0 | 110   | 3.90  | 2.875 | 17.02 | 0     | 1     | 4     | 4     | \n",
       "| 22.8  | 4     | 108.0 |  93   | 3.85  | 2.320 | 18.61 | 1     | 1     | 4     | 1     | \n",
       "| 21.4  | 6     | 258.0 | 110   | 3.08  | 3.215 | 19.44 | 1     | 0     | 3     | 1     | \n",
       "| 18.7  | 8     | 360.0 | 175   | 3.15  | 3.440 | 17.02 | 0     | 0     | 3     | 2     | \n",
       "| 16.4  | 8     | 275.8 | 180   | 3.07  | 4.070 | 17.40 | 0     | 0     | 3     | 3     | \n",
       "\n",
       "\n"
      ],
      "text/plain": [
       "  mpg  cyl disp  hp  drat wt    qsec  vs am gear carb\n",
       "1 21.0 6   160.0 110 3.90 2.620 16.46 0  1  4    4   \n",
       "2 21.0 6   160.0 110 3.90 2.875 17.02 0  1  4    4   \n",
       "3 22.8 4   108.0  93 3.85 2.320 18.61 1  1  4    1   \n",
       "4 21.4 6   258.0 110 3.08 3.215 19.44 1  0  3    1   \n",
       "5 18.7 8   360.0 175 3.15 3.440 17.02 0  0  3    2   \n",
       "6 16.4 8   275.8 180 3.07 4.070 17.40 0  0  3    3   "
      ]
     },
     "metadata": {},
     "output_type": "display_data"
    }
   ],
   "source": [
    "# top 5 (by default)  records\n",
    "horsePower<- c(110, 93, 175, 180)\n",
    "mtcars %>% \n",
    "    filter( hp %in% horsePower) %>% head()"
   ]
  },
  {
   "cell_type": "code",
   "execution_count": 30,
   "metadata": {},
   "outputs": [
    {
     "data": {
      "text/html": [
       "<table>\n",
       "<thead><tr><th scope=col>mpg</th><th scope=col>cyl</th><th scope=col>disp</th><th scope=col>hp</th><th scope=col>drat</th><th scope=col>wt</th><th scope=col>qsec</th><th scope=col>vs</th><th scope=col>am</th><th scope=col>gear</th><th scope=col>carb</th></tr></thead>\n",
       "<tbody>\n",
       "\t<tr><td>21.0 </td><td>6    </td><td>160.0</td><td>110  </td><td>3.90 </td><td>2.620</td><td>16.46</td><td>0    </td><td>1    </td><td>4    </td><td>4    </td></tr>\n",
       "\t<tr><td>21.0 </td><td>6    </td><td>160.0</td><td>110  </td><td>3.90 </td><td>2.875</td><td>17.02</td><td>0    </td><td>1    </td><td>4    </td><td>4    </td></tr>\n",
       "\t<tr><td>22.8 </td><td>4    </td><td>108.0</td><td> 93  </td><td>3.85 </td><td>2.320</td><td>18.61</td><td>1    </td><td>1    </td><td>4    </td><td>1    </td></tr>\n",
       "\t<tr><td>21.4 </td><td>6    </td><td>258.0</td><td>110  </td><td>3.08 </td><td>3.215</td><td>19.44</td><td>1    </td><td>0    </td><td>3    </td><td>1    </td></tr>\n",
       "\t<tr><td>18.7 </td><td>8    </td><td>360.0</td><td>175  </td><td>3.15 </td><td>3.440</td><td>17.02</td><td>0    </td><td>0    </td><td>3    </td><td>2    </td></tr>\n",
       "\t<tr><td>16.4 </td><td>8    </td><td>275.8</td><td>180  </td><td>3.07 </td><td>4.070</td><td>17.40</td><td>0    </td><td>0    </td><td>3    </td><td>3    </td></tr>\n",
       "\t<tr><td>17.3 </td><td>8    </td><td>275.8</td><td>180  </td><td>3.07 </td><td>3.730</td><td>17.60</td><td>0    </td><td>0    </td><td>3    </td><td>3    </td></tr>\n",
       "\t<tr><td>15.2 </td><td>8    </td><td>275.8</td><td>180  </td><td>3.07 </td><td>3.780</td><td>18.00</td><td>0    </td><td>0    </td><td>3    </td><td>3    </td></tr>\n",
       "</tbody>\n",
       "</table>\n"
      ],
      "text/latex": [
       "\\begin{tabular}{r|lllllllllll}\n",
       " mpg & cyl & disp & hp & drat & wt & qsec & vs & am & gear & carb\\\\\n",
       "\\hline\n",
       "\t 21.0  & 6     & 160.0 & 110   & 3.90  & 2.620 & 16.46 & 0     & 1     & 4     & 4    \\\\\n",
       "\t 21.0  & 6     & 160.0 & 110   & 3.90  & 2.875 & 17.02 & 0     & 1     & 4     & 4    \\\\\n",
       "\t 22.8  & 4     & 108.0 &  93   & 3.85  & 2.320 & 18.61 & 1     & 1     & 4     & 1    \\\\\n",
       "\t 21.4  & 6     & 258.0 & 110   & 3.08  & 3.215 & 19.44 & 1     & 0     & 3     & 1    \\\\\n",
       "\t 18.7  & 8     & 360.0 & 175   & 3.15  & 3.440 & 17.02 & 0     & 0     & 3     & 2    \\\\\n",
       "\t 16.4  & 8     & 275.8 & 180   & 3.07  & 4.070 & 17.40 & 0     & 0     & 3     & 3    \\\\\n",
       "\t 17.3  & 8     & 275.8 & 180   & 3.07  & 3.730 & 17.60 & 0     & 0     & 3     & 3    \\\\\n",
       "\t 15.2  & 8     & 275.8 & 180   & 3.07  & 3.780 & 18.00 & 0     & 0     & 3     & 3    \\\\\n",
       "\\end{tabular}\n"
      ],
      "text/markdown": [
       "\n",
       "mpg | cyl | disp | hp | drat | wt | qsec | vs | am | gear | carb | \n",
       "|---|---|---|---|---|---|---|---|\n",
       "| 21.0  | 6     | 160.0 | 110   | 3.90  | 2.620 | 16.46 | 0     | 1     | 4     | 4     | \n",
       "| 21.0  | 6     | 160.0 | 110   | 3.90  | 2.875 | 17.02 | 0     | 1     | 4     | 4     | \n",
       "| 22.8  | 4     | 108.0 |  93   | 3.85  | 2.320 | 18.61 | 1     | 1     | 4     | 1     | \n",
       "| 21.4  | 6     | 258.0 | 110   | 3.08  | 3.215 | 19.44 | 1     | 0     | 3     | 1     | \n",
       "| 18.7  | 8     | 360.0 | 175   | 3.15  | 3.440 | 17.02 | 0     | 0     | 3     | 2     | \n",
       "| 16.4  | 8     | 275.8 | 180   | 3.07  | 4.070 | 17.40 | 0     | 0     | 3     | 3     | \n",
       "| 17.3  | 8     | 275.8 | 180   | 3.07  | 3.730 | 17.60 | 0     | 0     | 3     | 3     | \n",
       "| 15.2  | 8     | 275.8 | 180   | 3.07  | 3.780 | 18.00 | 0     | 0     | 3     | 3     | \n",
       "\n",
       "\n"
      ],
      "text/plain": [
       "  mpg  cyl disp  hp  drat wt    qsec  vs am gear carb\n",
       "1 21.0 6   160.0 110 3.90 2.620 16.46 0  1  4    4   \n",
       "2 21.0 6   160.0 110 3.90 2.875 17.02 0  1  4    4   \n",
       "3 22.8 4   108.0  93 3.85 2.320 18.61 1  1  4    1   \n",
       "4 21.4 6   258.0 110 3.08 3.215 19.44 1  0  3    1   \n",
       "5 18.7 8   360.0 175 3.15 3.440 17.02 0  0  3    2   \n",
       "6 16.4 8   275.8 180 3.07 4.070 17.40 0  0  3    3   \n",
       "7 17.3 8   275.8 180 3.07 3.730 17.60 0  0  3    3   \n",
       "8 15.2 8   275.8 180 3.07 3.780 18.00 0  0  3    3   "
      ]
     },
     "metadata": {},
     "output_type": "display_data"
    }
   ],
   "source": [
    "# top 8 records\n",
    "horsePower<- c(110, 93, 175, 180)\n",
    "mtcars %>% \n",
    "    filter( hp %in% horsePower) %>% head(8)"
   ]
  },
  {
   "cell_type": "code",
   "execution_count": 31,
   "metadata": {},
   "outputs": [
    {
     "data": {
      "text/html": [
       "<table>\n",
       "<thead><tr><th></th><th scope=col>mpg</th><th scope=col>cyl</th><th scope=col>disp</th><th scope=col>hp</th><th scope=col>drat</th><th scope=col>wt</th><th scope=col>qsec</th><th scope=col>vs</th><th scope=col>am</th><th scope=col>gear</th><th scope=col>carb</th></tr></thead>\n",
       "<tbody>\n",
       "\t<tr><th scope=row>9</th><td>19.2 </td><td>8    </td><td>400  </td><td>175  </td><td>3.08 </td><td>3.845</td><td>17.05</td><td>0    </td><td>0    </td><td>3    </td><td>2    </td></tr>\n",
       "\t<tr><th scope=row>10</th><td>19.7 </td><td>6    </td><td>145  </td><td>175  </td><td>3.62 </td><td>2.770</td><td>15.50</td><td>0    </td><td>1    </td><td>5    </td><td>6    </td></tr>\n",
       "</tbody>\n",
       "</table>\n"
      ],
      "text/latex": [
       "\\begin{tabular}{r|lllllllllll}\n",
       "  & mpg & cyl & disp & hp & drat & wt & qsec & vs & am & gear & carb\\\\\n",
       "\\hline\n",
       "\t9 & 19.2  & 8     & 400   & 175   & 3.08  & 3.845 & 17.05 & 0     & 0     & 3     & 2    \\\\\n",
       "\t10 & 19.7  & 6     & 145   & 175   & 3.62  & 2.770 & 15.50 & 0     & 1     & 5     & 6    \\\\\n",
       "\\end{tabular}\n"
      ],
      "text/markdown": [
       "\n",
       "| <!--/--> | mpg | cyl | disp | hp | drat | wt | qsec | vs | am | gear | carb | \n",
       "|---|---|\n",
       "| 9 | 19.2  | 8     | 400   | 175   | 3.08  | 3.845 | 17.05 | 0     | 0     | 3     | 2     | \n",
       "| 10 | 19.7  | 6     | 145   | 175   | 3.62  | 2.770 | 15.50 | 0     | 1     | 5     | 6     | \n",
       "\n",
       "\n"
      ],
      "text/plain": [
       "   mpg  cyl disp hp  drat wt    qsec  vs am gear carb\n",
       "9  19.2 8   400  175 3.08 3.845 17.05 0  0  3    2   \n",
       "10 19.7 6   145  175 3.62 2.770 15.50 0  1  5    6   "
      ]
     },
     "metadata": {},
     "output_type": "display_data"
    }
   ],
   "source": [
    "# last 2 records\n",
    "horsePower<- c(110, 93, 175, 180)\n",
    "mtcars %>% \n",
    "    filter( hp %in% horsePower) %>% tail(2)"
   ]
  },
  {
   "cell_type": "code",
   "execution_count": 6,
   "metadata": {},
   "outputs": [
    {
     "data": {
      "text/html": [
       "<table>\n",
       "<thead><tr><th scope=col>mpg</th><th scope=col>cyl</th><th scope=col>disp</th><th scope=col>hp</th><th scope=col>drat</th><th scope=col>wt</th><th scope=col>qsec</th><th scope=col>vs</th><th scope=col>am</th><th scope=col>gear</th><th scope=col>carb</th></tr></thead>\n",
       "<tbody>\n",
       "\t<tr><td>18.7 </td><td>8    </td><td>360.0</td><td>175  </td><td>3.15 </td><td>3.44 </td><td>17.02</td><td>0    </td><td>0    </td><td>3    </td><td>2    </td></tr>\n",
       "\t<tr><td>14.3 </td><td>8    </td><td>360.0</td><td>245  </td><td>3.21 </td><td>3.57 </td><td>15.84</td><td>0    </td><td>0    </td><td>3    </td><td>4    </td></tr>\n",
       "\t<tr><td>16.4 </td><td>8    </td><td>275.8</td><td>180  </td><td>3.07 </td><td>4.07 </td><td>17.40</td><td>0    </td><td>0    </td><td>3    </td><td>3    </td></tr>\n",
       "\t<tr><td>17.3 </td><td>8    </td><td>275.8</td><td>180  </td><td>3.07 </td><td>3.73 </td><td>17.60</td><td>0    </td><td>0    </td><td>3    </td><td>3    </td></tr>\n",
       "\t<tr><td>15.2 </td><td>8    </td><td>275.8</td><td>180  </td><td>3.07 </td><td>3.78 </td><td>18.00</td><td>0    </td><td>0    </td><td>3    </td><td>3    </td></tr>\n",
       "</tbody>\n",
       "</table>\n"
      ],
      "text/latex": [
       "\\begin{tabular}{r|lllllllllll}\n",
       " mpg & cyl & disp & hp & drat & wt & qsec & vs & am & gear & carb\\\\\n",
       "\\hline\n",
       "\t 18.7  & 8     & 360.0 & 175   & 3.15  & 3.44  & 17.02 & 0     & 0     & 3     & 2    \\\\\n",
       "\t 14.3  & 8     & 360.0 & 245   & 3.21  & 3.57  & 15.84 & 0     & 0     & 3     & 4    \\\\\n",
       "\t 16.4  & 8     & 275.8 & 180   & 3.07  & 4.07  & 17.40 & 0     & 0     & 3     & 3    \\\\\n",
       "\t 17.3  & 8     & 275.8 & 180   & 3.07  & 3.73  & 17.60 & 0     & 0     & 3     & 3    \\\\\n",
       "\t 15.2  & 8     & 275.8 & 180   & 3.07  & 3.78  & 18.00 & 0     & 0     & 3     & 3    \\\\\n",
       "\\end{tabular}\n"
      ],
      "text/markdown": [
       "\n",
       "mpg | cyl | disp | hp | drat | wt | qsec | vs | am | gear | carb | \n",
       "|---|---|---|---|---|\n",
       "| 18.7  | 8     | 360.0 | 175   | 3.15  | 3.44  | 17.02 | 0     | 0     | 3     | 2     | \n",
       "| 14.3  | 8     | 360.0 | 245   | 3.21  | 3.57  | 15.84 | 0     | 0     | 3     | 4     | \n",
       "| 16.4  | 8     | 275.8 | 180   | 3.07  | 4.07  | 17.40 | 0     | 0     | 3     | 3     | \n",
       "| 17.3  | 8     | 275.8 | 180   | 3.07  | 3.73  | 17.60 | 0     | 0     | 3     | 3     | \n",
       "| 15.2  | 8     | 275.8 | 180   | 3.07  | 3.78  | 18.00 | 0     | 0     | 3     | 3     | \n",
       "\n",
       "\n"
      ],
      "text/plain": [
       "  mpg  cyl disp  hp  drat wt   qsec  vs am gear carb\n",
       "1 18.7 8   360.0 175 3.15 3.44 17.02 0  0  3    2   \n",
       "2 14.3 8   360.0 245 3.21 3.57 15.84 0  0  3    4   \n",
       "3 16.4 8   275.8 180 3.07 4.07 17.40 0  0  3    3   \n",
       "4 17.3 8   275.8 180 3.07 3.73 17.60 0  0  3    3   \n",
       "5 15.2 8   275.8 180 3.07 3.78 18.00 0  0  3    3   "
      ]
     },
     "metadata": {},
     "output_type": "display_data"
    }
   ],
   "source": [
    "'%!in%' <- function(x,y)!('%in%'(x,y))\n",
    "mtcars %>%\n",
    "    filter( cyl %!in% c(6,4) ) %>% head(5)"
   ]
  },
  {
   "cell_type": "markdown",
   "metadata": {},
   "source": [
    "## sorting  & arrange"
   ]
  },
  {
   "cell_type": "code",
   "execution_count": 35,
   "metadata": {},
   "outputs": [
    {
     "data": {
      "text/html": [
       "<table>\n",
       "<thead><tr><th scope=col>mpg</th><th scope=col>cyl</th><th scope=col>disp</th><th scope=col>hp</th><th scope=col>drat</th><th scope=col>wt</th><th scope=col>qsec</th><th scope=col>vs</th><th scope=col>am</th><th scope=col>gear</th><th scope=col>carb</th></tr></thead>\n",
       "<tbody>\n",
       "\t<tr><td>22.8 </td><td>4    </td><td>140.8</td><td>95   </td><td>3.92 </td><td>3.150</td><td>22.90</td><td>1    </td><td>0    </td><td>4    </td><td>2    </td></tr>\n",
       "\t<tr><td>21.5 </td><td>4    </td><td>120.1</td><td>97   </td><td>3.70 </td><td>2.465</td><td>20.01</td><td>1    </td><td>0    </td><td>3    </td><td>1    </td></tr>\n",
       "\t<tr><td>24.4 </td><td>4    </td><td>146.7</td><td>62   </td><td>3.69 </td><td>3.190</td><td>20.00</td><td>1    </td><td>0    </td><td>4    </td><td>2    </td></tr>\n",
       "\t<tr><td>33.9 </td><td>4    </td><td> 71.1</td><td>65   </td><td>4.22 </td><td>1.835</td><td>19.90</td><td>1    </td><td>1    </td><td>4    </td><td>1    </td></tr>\n",
       "\t<tr><td>32.4 </td><td>4    </td><td> 78.7</td><td>66   </td><td>4.08 </td><td>2.200</td><td>19.47</td><td>1    </td><td>1    </td><td>4    </td><td>1    </td></tr>\n",
       "\t<tr><td>27.3 </td><td>4    </td><td> 79.0</td><td>66   </td><td>4.08 </td><td>1.935</td><td>18.90</td><td>1    </td><td>1    </td><td>4    </td><td>1    </td></tr>\n",
       "</tbody>\n",
       "</table>\n"
      ],
      "text/latex": [
       "\\begin{tabular}{r|lllllllllll}\n",
       " mpg & cyl & disp & hp & drat & wt & qsec & vs & am & gear & carb\\\\\n",
       "\\hline\n",
       "\t 22.8  & 4     & 140.8 & 95    & 3.92  & 3.150 & 22.90 & 1     & 0     & 4     & 2    \\\\\n",
       "\t 21.5  & 4     & 120.1 & 97    & 3.70  & 2.465 & 20.01 & 1     & 0     & 3     & 1    \\\\\n",
       "\t 24.4  & 4     & 146.7 & 62    & 3.69  & 3.190 & 20.00 & 1     & 0     & 4     & 2    \\\\\n",
       "\t 33.9  & 4     &  71.1 & 65    & 4.22  & 1.835 & 19.90 & 1     & 1     & 4     & 1    \\\\\n",
       "\t 32.4  & 4     &  78.7 & 66    & 4.08  & 2.200 & 19.47 & 1     & 1     & 4     & 1    \\\\\n",
       "\t 27.3  & 4     &  79.0 & 66    & 4.08  & 1.935 & 18.90 & 1     & 1     & 4     & 1    \\\\\n",
       "\\end{tabular}\n"
      ],
      "text/markdown": [
       "\n",
       "mpg | cyl | disp | hp | drat | wt | qsec | vs | am | gear | carb | \n",
       "|---|---|---|---|---|---|\n",
       "| 22.8  | 4     | 140.8 | 95    | 3.92  | 3.150 | 22.90 | 1     | 0     | 4     | 2     | \n",
       "| 21.5  | 4     | 120.1 | 97    | 3.70  | 2.465 | 20.01 | 1     | 0     | 3     | 1     | \n",
       "| 24.4  | 4     | 146.7 | 62    | 3.69  | 3.190 | 20.00 | 1     | 0     | 4     | 2     | \n",
       "| 33.9  | 4     |  71.1 | 65    | 4.22  | 1.835 | 19.90 | 1     | 1     | 4     | 1     | \n",
       "| 32.4  | 4     |  78.7 | 66    | 4.08  | 2.200 | 19.47 | 1     | 1     | 4     | 1     | \n",
       "| 27.3  | 4     |  79.0 | 66    | 4.08  | 1.935 | 18.90 | 1     | 1     | 4     | 1     | \n",
       "\n",
       "\n"
      ],
      "text/plain": [
       "  mpg  cyl disp  hp drat wt    qsec  vs am gear carb\n",
       "1 22.8 4   140.8 95 3.92 3.150 22.90 1  0  4    2   \n",
       "2 21.5 4   120.1 97 3.70 2.465 20.01 1  0  3    1   \n",
       "3 24.4 4   146.7 62 3.69 3.190 20.00 1  0  4    2   \n",
       "4 33.9 4    71.1 65 4.22 1.835 19.90 1  1  4    1   \n",
       "5 32.4 4    78.7 66 4.08 2.200 19.47 1  1  4    1   \n",
       "6 27.3 4    79.0 66 4.08 1.935 18.90 1  1  4    1   "
      ]
     },
     "metadata": {},
     "output_type": "display_data"
    }
   ],
   "source": [
    "mtcars %>% \n",
    "    arrange(cyl, desc(qsec)) %>%\n",
    "    head()"
   ]
  },
  {
   "cell_type": "code",
   "execution_count": 36,
   "metadata": {},
   "outputs": [
    {
     "data": {
      "text/html": [
       "<table>\n",
       "<thead><tr><th></th><th scope=col>mpg</th><th scope=col>hp</th><th scope=col>qsec</th></tr></thead>\n",
       "<tbody>\n",
       "\t<tr><th scope=row>Mazda RX4</th><td>21.0 </td><td>110  </td><td>16.46</td></tr>\n",
       "\t<tr><th scope=row>Mazda RX4 Wag</th><td>21.0 </td><td>110  </td><td>17.02</td></tr>\n",
       "\t<tr><th scope=row>Datsun 710</th><td>22.8 </td><td> 93  </td><td>18.61</td></tr>\n",
       "\t<tr><th scope=row>Hornet 4 Drive</th><td>21.4 </td><td>110  </td><td>19.44</td></tr>\n",
       "\t<tr><th scope=row>Hornet Sportabout</th><td>18.7 </td><td>175  </td><td>17.02</td></tr>\n",
       "\t<tr><th scope=row>Valiant</th><td>18.1 </td><td>105  </td><td>20.22</td></tr>\n",
       "</tbody>\n",
       "</table>\n"
      ],
      "text/latex": [
       "\\begin{tabular}{r|lll}\n",
       "  & mpg & hp & qsec\\\\\n",
       "\\hline\n",
       "\tMazda RX4 & 21.0  & 110   & 16.46\\\\\n",
       "\tMazda RX4 Wag & 21.0  & 110   & 17.02\\\\\n",
       "\tDatsun 710 & 22.8  &  93   & 18.61\\\\\n",
       "\tHornet 4 Drive & 21.4  & 110   & 19.44\\\\\n",
       "\tHornet Sportabout & 18.7  & 175   & 17.02\\\\\n",
       "\tValiant & 18.1  & 105   & 20.22\\\\\n",
       "\\end{tabular}\n"
      ],
      "text/markdown": [
       "\n",
       "| <!--/--> | mpg | hp | qsec | \n",
       "|---|---|---|---|---|---|\n",
       "| Mazda RX4 | 21.0  | 110   | 16.46 | \n",
       "| Mazda RX4 Wag | 21.0  | 110   | 17.02 | \n",
       "| Datsun 710 | 22.8  |  93   | 18.61 | \n",
       "| Hornet 4 Drive | 21.4  | 110   | 19.44 | \n",
       "| Hornet Sportabout | 18.7  | 175   | 17.02 | \n",
       "| Valiant | 18.1  | 105   | 20.22 | \n",
       "\n",
       "\n"
      ],
      "text/plain": [
       "                  mpg  hp  qsec \n",
       "Mazda RX4         21.0 110 16.46\n",
       "Mazda RX4 Wag     21.0 110 17.02\n",
       "Datsun 710        22.8  93 18.61\n",
       "Hornet 4 Drive    21.4 110 19.44\n",
       "Hornet Sportabout 18.7 175 17.02\n",
       "Valiant           18.1 105 20.22"
      ]
     },
     "metadata": {},
     "output_type": "display_data"
    }
   ],
   "source": [
    "# select columns \n",
    "mtcars %>% \n",
    "    select(mpg, hp, qsec) %>%\n",
    "        head()"
   ]
  },
  {
   "cell_type": "code",
   "execution_count": 39,
   "metadata": {},
   "outputs": [
    {
     "data": {
      "text/html": [
       "<table>\n",
       "<thead><tr><th></th><th scope=col>cyl</th><th scope=col>disp</th><th scope=col>drat</th><th scope=col>wt</th><th scope=col>vs</th><th scope=col>am</th><th scope=col>gear</th><th scope=col>carb</th></tr></thead>\n",
       "<tbody>\n",
       "\t<tr><th scope=row>Mazda RX4</th><td>6    </td><td>160  </td><td>3.90 </td><td>2.620</td><td>0    </td><td>1    </td><td>4    </td><td>4    </td></tr>\n",
       "\t<tr><th scope=row>Mazda RX4 Wag</th><td>6    </td><td>160  </td><td>3.90 </td><td>2.875</td><td>0    </td><td>1    </td><td>4    </td><td>4    </td></tr>\n",
       "\t<tr><th scope=row>Datsun 710</th><td>4    </td><td>108  </td><td>3.85 </td><td>2.320</td><td>1    </td><td>1    </td><td>4    </td><td>1    </td></tr>\n",
       "\t<tr><th scope=row>Hornet 4 Drive</th><td>6    </td><td>258  </td><td>3.08 </td><td>3.215</td><td>1    </td><td>0    </td><td>3    </td><td>1    </td></tr>\n",
       "\t<tr><th scope=row>Hornet Sportabout</th><td>8    </td><td>360  </td><td>3.15 </td><td>3.440</td><td>0    </td><td>0    </td><td>3    </td><td>2    </td></tr>\n",
       "\t<tr><th scope=row>Valiant</th><td>6    </td><td>225  </td><td>2.76 </td><td>3.460</td><td>1    </td><td>0    </td><td>3    </td><td>1    </td></tr>\n",
       "</tbody>\n",
       "</table>\n"
      ],
      "text/latex": [
       "\\begin{tabular}{r|llllllll}\n",
       "  & cyl & disp & drat & wt & vs & am & gear & carb\\\\\n",
       "\\hline\n",
       "\tMazda RX4 & 6     & 160   & 3.90  & 2.620 & 0     & 1     & 4     & 4    \\\\\n",
       "\tMazda RX4 Wag & 6     & 160   & 3.90  & 2.875 & 0     & 1     & 4     & 4    \\\\\n",
       "\tDatsun 710 & 4     & 108   & 3.85  & 2.320 & 1     & 1     & 4     & 1    \\\\\n",
       "\tHornet 4 Drive & 6     & 258   & 3.08  & 3.215 & 1     & 0     & 3     & 1    \\\\\n",
       "\tHornet Sportabout & 8     & 360   & 3.15  & 3.440 & 0     & 0     & 3     & 2    \\\\\n",
       "\tValiant & 6     & 225   & 2.76  & 3.460 & 1     & 0     & 3     & 1    \\\\\n",
       "\\end{tabular}\n"
      ],
      "text/markdown": [
       "\n",
       "| <!--/--> | cyl | disp | drat | wt | vs | am | gear | carb | \n",
       "|---|---|---|---|---|---|\n",
       "| Mazda RX4 | 6     | 160   | 3.90  | 2.620 | 0     | 1     | 4     | 4     | \n",
       "| Mazda RX4 Wag | 6     | 160   | 3.90  | 2.875 | 0     | 1     | 4     | 4     | \n",
       "| Datsun 710 | 4     | 108   | 3.85  | 2.320 | 1     | 1     | 4     | 1     | \n",
       "| Hornet 4 Drive | 6     | 258   | 3.08  | 3.215 | 1     | 0     | 3     | 1     | \n",
       "| Hornet Sportabout | 8     | 360   | 3.15  | 3.440 | 0     | 0     | 3     | 2     | \n",
       "| Valiant | 6     | 225   | 2.76  | 3.460 | 1     | 0     | 3     | 1     | \n",
       "\n",
       "\n"
      ],
      "text/plain": [
       "                  cyl disp drat wt    vs am gear carb\n",
       "Mazda RX4         6   160  3.90 2.620 0  1  4    4   \n",
       "Mazda RX4 Wag     6   160  3.90 2.875 0  1  4    4   \n",
       "Datsun 710        4   108  3.85 2.320 1  1  4    1   \n",
       "Hornet 4 Drive    6   258  3.08 3.215 1  0  3    1   \n",
       "Hornet Sportabout 8   360  3.15 3.440 0  0  3    2   \n",
       "Valiant           6   225  2.76 3.460 1  0  3    1   "
      ]
     },
     "metadata": {},
     "output_type": "display_data"
    }
   ],
   "source": [
    "# select columns , exclude others\n",
    "mtcars %>% \n",
    "    select(-mpg, -hp, -qsec) %>%\n",
    "        head()"
   ]
  },
  {
   "cell_type": "code",
   "execution_count": 46,
   "metadata": {},
   "outputs": [
    {
     "data": {
      "text/html": [
       "<table>\n",
       "<thead><tr><th></th><th scope=col>mpg</th><th scope=col>cyl</th><th scope=col>horsePower</th></tr></thead>\n",
       "<tbody>\n",
       "\t<tr><th scope=row>Mazda RX4</th><td>21.0</td><td>6   </td><td>110 </td></tr>\n",
       "\t<tr><th scope=row>Mazda RX4 Wag</th><td>21.0</td><td>6   </td><td>110 </td></tr>\n",
       "\t<tr><th scope=row>Datsun 710</th><td>22.8</td><td>4   </td><td> 93 </td></tr>\n",
       "</tbody>\n",
       "</table>\n"
      ],
      "text/latex": [
       "\\begin{tabular}{r|lll}\n",
       "  & mpg & cyl & horsePower\\\\\n",
       "\\hline\n",
       "\tMazda RX4 & 21.0 & 6    & 110 \\\\\n",
       "\tMazda RX4 Wag & 21.0 & 6    & 110 \\\\\n",
       "\tDatsun 710 & 22.8 & 4    &  93 \\\\\n",
       "\\end{tabular}\n"
      ],
      "text/markdown": [
       "\n",
       "| <!--/--> | mpg | cyl | horsePower | \n",
       "|---|---|---|\n",
       "| Mazda RX4 | 21.0 | 6    | 110  | \n",
       "| Mazda RX4 Wag | 21.0 | 6    | 110  | \n",
       "| Datsun 710 | 22.8 | 4    |  93  | \n",
       "\n",
       "\n"
      ],
      "text/plain": [
       "              mpg  cyl horsePower\n",
       "Mazda RX4     21.0 6   110       \n",
       "Mazda RX4 Wag 21.0 6   110       \n",
       "Datsun 710    22.8 4    93       "
      ]
     },
     "metadata": {},
     "output_type": "display_data"
    }
   ],
   "source": [
    "# rename a column\n",
    "mtcars %>%\n",
    "    select(mpg, cyl,  horsePower=hp) %>%  head(3)"
   ]
  },
  {
   "cell_type": "code",
   "execution_count": 48,
   "metadata": {},
   "outputs": [
    {
     "data": {
      "text/html": [
       "<table>\n",
       "<thead><tr><th></th><th scope=col>mpg</th><th scope=col>cyl</th><th scope=col>horsePower</th></tr></thead>\n",
       "<tbody>\n",
       "\t<tr><th scope=row>Mazda RX4</th><td>21.0</td><td>6   </td><td>110 </td></tr>\n",
       "\t<tr><th scope=row>Mazda RX4 Wag</th><td>21.0</td><td>6   </td><td>110 </td></tr>\n",
       "\t<tr><th scope=row>Datsun 710</th><td>22.8</td><td>4   </td><td> 93 </td></tr>\n",
       "</tbody>\n",
       "</table>\n"
      ],
      "text/latex": [
       "\\begin{tabular}{r|lll}\n",
       "  & mpg & cyl & horsePower\\\\\n",
       "\\hline\n",
       "\tMazda RX4 & 21.0 & 6    & 110 \\\\\n",
       "\tMazda RX4 Wag & 21.0 & 6    & 110 \\\\\n",
       "\tDatsun 710 & 22.8 & 4    &  93 \\\\\n",
       "\\end{tabular}\n"
      ],
      "text/markdown": [
       "\n",
       "| <!--/--> | mpg | cyl | horsePower | \n",
       "|---|---|---|\n",
       "| Mazda RX4 | 21.0 | 6    | 110  | \n",
       "| Mazda RX4 Wag | 21.0 | 6    | 110  | \n",
       "| Datsun 710 | 22.8 | 4    |  93  | \n",
       "\n",
       "\n"
      ],
      "text/plain": [
       "              mpg  cyl horsePower\n",
       "Mazda RX4     21.0 6   110       \n",
       "Mazda RX4 Wag 21.0 6   110       \n",
       "Datsun 710    22.8 4    93       "
      ]
     },
     "metadata": {},
     "output_type": "display_data"
    }
   ],
   "source": [
    "# associate select with rename\n",
    "mtcars %>%\n",
    "    \n",
    "    select(mpg, cyl,  hp) %>%  \n",
    "    rename(horsePower=hp) %>%\n",
    "\n",
    "head(3)"
   ]
  },
  {
   "cell_type": "code",
   "execution_count": 8,
   "metadata": {},
   "outputs": [
    {
     "data": {
      "text/html": [
       "<table>\n",
       "<thead><tr><th scope=col>mpg</th><th scope=col>cyl</th><th scope=col>hp</th><th scope=col>kpl</th></tr></thead>\n",
       "<tbody>\n",
       "\t<tr><td>21.0    </td><td>6       </td><td>110     </td><td>8.927940</td></tr>\n",
       "\t<tr><td>21.0    </td><td>6       </td><td>110     </td><td>8.927940</td></tr>\n",
       "\t<tr><td>21.4    </td><td>6       </td><td>110     </td><td>9.097996</td></tr>\n",
       "\t<tr><td>18.7    </td><td>8       </td><td>175     </td><td>7.950118</td></tr>\n",
       "\t<tr><td>18.1    </td><td>6       </td><td>105     </td><td>7.695034</td></tr>\n",
       "\t<tr><td>14.3    </td><td>8       </td><td>245     </td><td>6.079502</td></tr>\n",
       "</tbody>\n",
       "</table>\n"
      ],
      "text/latex": [
       "\\begin{tabular}{r|llll}\n",
       " mpg & cyl & hp & kpl\\\\\n",
       "\\hline\n",
       "\t 21.0     & 6        & 110      & 8.927940\\\\\n",
       "\t 21.0     & 6        & 110      & 8.927940\\\\\n",
       "\t 21.4     & 6        & 110      & 9.097996\\\\\n",
       "\t 18.7     & 8        & 175      & 7.950118\\\\\n",
       "\t 18.1     & 6        & 105      & 7.695034\\\\\n",
       "\t 14.3     & 8        & 245      & 6.079502\\\\\n",
       "\\end{tabular}\n"
      ],
      "text/markdown": [
       "\n",
       "mpg | cyl | hp | kpl | \n",
       "|---|---|---|---|---|---|\n",
       "| 21.0     | 6        | 110      | 8.927940 | \n",
       "| 21.0     | 6        | 110      | 8.927940 | \n",
       "| 21.4     | 6        | 110      | 9.097996 | \n",
       "| 18.7     | 8        | 175      | 7.950118 | \n",
       "| 18.1     | 6        | 105      | 7.695034 | \n",
       "| 14.3     | 8        | 245      | 6.079502 | \n",
       "\n",
       "\n"
      ],
      "text/plain": [
       "  mpg  cyl hp  kpl     \n",
       "1 21.0 6   110 8.927940\n",
       "2 21.0 6   110 8.927940\n",
       "3 21.4 6   110 9.097996\n",
       "4 18.7 8   175 7.950118\n",
       "5 18.1 6   105 7.695034\n",
       "6 14.3 8   245 6.079502"
      ]
     },
     "metadata": {},
     "output_type": "display_data"
    }
   ],
   "source": [
    "# add. new column  which conver. mpg. (miles pe Gallon) to km /littre\n",
    "#. 1 ml/Gallon = 0.425  per littre  (   mpg/Gl = 1.60934/3.78541  =. 0.42514)\n",
    "mtcars %>%\n",
    "    filter(cyl!=4) %>%\n",
    "    select(mpg, cyl,  hp) %>%  \n",
    "    mutate(kpl=mpg * 0.42514) %>%\n",
    "\n",
    "head(6)"
   ]
  },
  {
   "cell_type": "code",
   "execution_count": 53,
   "metadata": {},
   "outputs": [
    {
     "data": {
      "text/html": [
       "<ol class=list-inline>\n",
       "\t<li>'Pos'</li>\n",
       "\t<li>'Pos'</li>\n",
       "\t<li>NA</li>\n",
       "\t<li>'Not Pos'</li>\n",
       "</ol>\n"
      ],
      "text/latex": [
       "\\begin{enumerate*}\n",
       "\\item 'Pos'\n",
       "\\item 'Pos'\n",
       "\\item NA\n",
       "\\item 'Not Pos'\n",
       "\\end{enumerate*}\n"
      ],
      "text/markdown": [
       "1. 'Pos'\n",
       "2. 'Pos'\n",
       "3. NA\n",
       "4. 'Not Pos'\n",
       "\n",
       "\n"
      ],
      "text/plain": [
       "[1] \"Pos\"     \"Pos\"     NA        \"Not Pos\""
      ]
     },
     "metadata": {},
     "output_type": "display_data"
    }
   ],
   "source": [
    "# if then else \n",
    "  vec<- c(2, 3, NA, -2)\n",
    "ifelse(vec>0, \"Pos\", \"Not Pos\")"
   ]
  },
  {
   "cell_type": "code",
   "execution_count": 12,
   "metadata": {},
   "outputs": [
    {
     "data": {
      "text/plain": [
       "\n",
       "FALSE  TRUE \n",
       "   28     4 "
      ]
     },
     "metadata": {},
     "output_type": "display_data"
    }
   ],
   "source": [
    "table(mtcars$hp>230)"
   ]
  },
  {
   "cell_type": "code",
   "execution_count": 23,
   "metadata": {},
   "outputs": [
    {
     "data": {
      "text/html": [
       "<table>\n",
       "<thead><tr><th scope=col>hp</th><th scope=col>mpg</th><th scope=col>cyl</th><th scope=col>wt</th><th scope=col>sportCar</th></tr></thead>\n",
       "<tbody>\n",
       "\t<tr><td> 95      </td><td>22.8     </td><td>4        </td><td>3.150    </td><td>NormalCar</td></tr>\n",
       "\t<tr><td> 62      </td><td>24.4     </td><td>4        </td><td>3.190    </td><td>NormalCar</td></tr>\n",
       "\t<tr><td>110      </td><td>21.0     </td><td>6        </td><td>2.620    </td><td>NormalCar</td></tr>\n",
       "\t<tr><td>175      </td><td>19.7     </td><td>6        </td><td>2.770    </td><td>NormalCar</td></tr>\n",
       "\t<tr><td>110      </td><td>21.0     </td><td>6        </td><td>2.875    </td><td>NormalCar</td></tr>\n",
       "\t<tr><td>110      </td><td>21.4     </td><td>6        </td><td>3.215    </td><td>NormalCar</td></tr>\n",
       "\t<tr><td>123      </td><td>19.2     </td><td>6        </td><td>3.440    </td><td>NormalCar</td></tr>\n",
       "\t<tr><td>123      </td><td>17.8     </td><td>6        </td><td>3.440    </td><td>NormalCar</td></tr>\n",
       "\t<tr><td>105      </td><td>18.1     </td><td>6        </td><td>3.460    </td><td>NormalCar</td></tr>\n",
       "\t<tr><td>264      </td><td>15.8     </td><td>8        </td><td>3.170    </td><td>SpCar    </td></tr>\n",
       "</tbody>\n",
       "</table>\n"
      ],
      "text/latex": [
       "\\begin{tabular}{r|lllll}\n",
       " hp & mpg & cyl & wt & sportCar\\\\\n",
       "\\hline\n",
       "\t  95       & 22.8      & 4         & 3.150     & NormalCar\\\\\n",
       "\t  62       & 24.4      & 4         & 3.190     & NormalCar\\\\\n",
       "\t 110       & 21.0      & 6         & 2.620     & NormalCar\\\\\n",
       "\t 175       & 19.7      & 6         & 2.770     & NormalCar\\\\\n",
       "\t 110       & 21.0      & 6         & 2.875     & NormalCar\\\\\n",
       "\t 110       & 21.4      & 6         & 3.215     & NormalCar\\\\\n",
       "\t 123       & 19.2      & 6         & 3.440     & NormalCar\\\\\n",
       "\t 123       & 17.8      & 6         & 3.440     & NormalCar\\\\\n",
       "\t 105       & 18.1      & 6         & 3.460     & NormalCar\\\\\n",
       "\t 264       & 15.8      & 8         & 3.170     & SpCar    \\\\\n",
       "\\end{tabular}\n"
      ],
      "text/markdown": [
       "\n",
       "hp | mpg | cyl | wt | sportCar | \n",
       "|---|---|---|---|---|---|---|---|---|---|\n",
       "|  95       | 22.8      | 4         | 3.150     | NormalCar | \n",
       "|  62       | 24.4      | 4         | 3.190     | NormalCar | \n",
       "| 110       | 21.0      | 6         | 2.620     | NormalCar | \n",
       "| 175       | 19.7      | 6         | 2.770     | NormalCar | \n",
       "| 110       | 21.0      | 6         | 2.875     | NormalCar | \n",
       "| 110       | 21.4      | 6         | 3.215     | NormalCar | \n",
       "| 123       | 19.2      | 6         | 3.440     | NormalCar | \n",
       "| 123       | 17.8      | 6         | 3.440     | NormalCar | \n",
       "| 105       | 18.1      | 6         | 3.460     | NormalCar | \n",
       "| 264       | 15.8      | 8         | 3.170     | SpCar     | \n",
       "\n",
       "\n"
      ],
      "text/plain": [
       "   hp  mpg  cyl wt    sportCar \n",
       "1   95 22.8 4   3.150 NormalCar\n",
       "2   62 24.4 4   3.190 NormalCar\n",
       "3  110 21.0 6   2.620 NormalCar\n",
       "4  175 19.7 6   2.770 NormalCar\n",
       "5  110 21.0 6   2.875 NormalCar\n",
       "6  110 21.4 6   3.215 NormalCar\n",
       "7  123 19.2 6   3.440 NormalCar\n",
       "8  123 17.8 6   3.440 NormalCar\n",
       "9  105 18.1 6   3.460 NormalCar\n",
       "10 264 15.8 8   3.170 SpCar    "
      ]
     },
     "metadata": {},
     "output_type": "display_data"
    }
   ],
   "source": [
    "# conbination of dplyr syntaxes\n",
    "mtcars %>% \n",
    "    mutate( sportCar= ifelse(hp>230, \"SpCar\", \"NormalCar\")) %>% \n",
    "    select(hp , mpg, cyl,wt,  sportCar ) %>%\n",
    "    arrange( cyl, wt)  %>% slice(10:19)"
   ]
  },
  {
   "cell_type": "code",
   "execution_count": null,
   "metadata": {},
   "outputs": [],
   "source": []
  },
  {
   "cell_type": "code",
   "execution_count": 17,
   "metadata": {},
   "outputs": [
    {
     "data": {
      "text/html": [
       "<ol class=list-inline>\n",
       "\t<li>21</li>\n",
       "\t<li>22.8</li>\n",
       "\t<li>21.4</li>\n",
       "\t<li>18.7</li>\n",
       "\t<li>18.1</li>\n",
       "\t<li>14.3</li>\n",
       "\t<li>24.4</li>\n",
       "\t<li>19.2</li>\n",
       "\t<li>17.8</li>\n",
       "\t<li>16.4</li>\n",
       "\t<li>17.3</li>\n",
       "\t<li>15.2</li>\n",
       "\t<li>10.4</li>\n",
       "\t<li>14.7</li>\n",
       "\t<li>32.4</li>\n",
       "\t<li>30.4</li>\n",
       "\t<li>33.9</li>\n",
       "\t<li>21.5</li>\n",
       "\t<li>15.5</li>\n",
       "\t<li>13.3</li>\n",
       "\t<li>27.3</li>\n",
       "\t<li>26</li>\n",
       "\t<li>15.8</li>\n",
       "\t<li>19.7</li>\n",
       "\t<li>15</li>\n",
       "</ol>\n"
      ],
      "text/latex": [
       "\\begin{enumerate*}\n",
       "\\item 21\n",
       "\\item 22.8\n",
       "\\item 21.4\n",
       "\\item 18.7\n",
       "\\item 18.1\n",
       "\\item 14.3\n",
       "\\item 24.4\n",
       "\\item 19.2\n",
       "\\item 17.8\n",
       "\\item 16.4\n",
       "\\item 17.3\n",
       "\\item 15.2\n",
       "\\item 10.4\n",
       "\\item 14.7\n",
       "\\item 32.4\n",
       "\\item 30.4\n",
       "\\item 33.9\n",
       "\\item 21.5\n",
       "\\item 15.5\n",
       "\\item 13.3\n",
       "\\item 27.3\n",
       "\\item 26\n",
       "\\item 15.8\n",
       "\\item 19.7\n",
       "\\item 15\n",
       "\\end{enumerate*}\n"
      ],
      "text/markdown": [
       "1. 21\n",
       "2. 22.8\n",
       "3. 21.4\n",
       "4. 18.7\n",
       "5. 18.1\n",
       "6. 14.3\n",
       "7. 24.4\n",
       "8. 19.2\n",
       "9. 17.8\n",
       "10. 16.4\n",
       "11. 17.3\n",
       "12. 15.2\n",
       "13. 10.4\n",
       "14. 14.7\n",
       "15. 32.4\n",
       "16. 30.4\n",
       "17. 33.9\n",
       "18. 21.5\n",
       "19. 15.5\n",
       "20. 13.3\n",
       "21. 27.3\n",
       "22. 26\n",
       "23. 15.8\n",
       "24. 19.7\n",
       "25. 15\n",
       "\n",
       "\n"
      ],
      "text/plain": [
       " [1] 21.0 22.8 21.4 18.7 18.1 14.3 24.4 19.2 17.8 16.4 17.3 15.2 10.4 14.7 32.4\n",
       "[16] 30.4 33.9 21.5 15.5 13.3 27.3 26.0 15.8 19.7 15.0"
      ]
     },
     "metadata": {},
     "output_type": "display_data"
    }
   ],
   "source": [
    "unique(mtcars$mpg)"
   ]
  },
  {
   "cell_type": "code",
   "execution_count": 22,
   "metadata": {},
   "outputs": [
    {
     "data": {
      "text/html": [
       "<ol class=list-inline>\n",
       "\t<li>10.4</li>\n",
       "\t<li>33.9</li>\n",
       "</ol>\n"
      ],
      "text/latex": [
       "\\begin{enumerate*}\n",
       "\\item 10.4\n",
       "\\item 33.9\n",
       "\\end{enumerate*}\n"
      ],
      "text/markdown": [
       "1. 10.4\n",
       "2. 33.9\n",
       "\n",
       "\n"
      ],
      "text/plain": [
       "[1] 10.4 33.9"
      ]
     },
     "metadata": {},
     "output_type": "display_data"
    }
   ],
   "source": [
    "range(mtcars$mpg)"
   ]
  },
  {
   "cell_type": "code",
   "execution_count": 21,
   "metadata": {},
   "outputs": [
    {
     "data": {
      "text/html": [
       "<ol class=list-inline>\n",
       "\t<li>10.4</li>\n",
       "\t<li>10.4</li>\n",
       "\t<li>13.3</li>\n",
       "\t<li>14.3</li>\n",
       "\t<li>14.7</li>\n",
       "\t<li>15</li>\n",
       "\t<li>15.2</li>\n",
       "\t<li>15.2</li>\n",
       "\t<li>15.5</li>\n",
       "\t<li>15.8</li>\n",
       "\t<li>16.4</li>\n",
       "\t<li>17.3</li>\n",
       "\t<li>17.8</li>\n",
       "\t<li>18.1</li>\n",
       "\t<li>18.7</li>\n",
       "\t<li>19.2</li>\n",
       "\t<li>19.2</li>\n",
       "\t<li>19.7</li>\n",
       "\t<li>21</li>\n",
       "\t<li>21</li>\n",
       "\t<li>21.4</li>\n",
       "\t<li>21.4</li>\n",
       "\t<li>21.5</li>\n",
       "\t<li>22.8</li>\n",
       "\t<li>22.8</li>\n",
       "\t<li>24.4</li>\n",
       "\t<li>26</li>\n",
       "\t<li>27.3</li>\n",
       "\t<li>30.4</li>\n",
       "\t<li>30.4</li>\n",
       "\t<li>32.4</li>\n",
       "\t<li>33.9</li>\n",
       "</ol>\n"
      ],
      "text/latex": [
       "\\begin{enumerate*}\n",
       "\\item 10.4\n",
       "\\item 10.4\n",
       "\\item 13.3\n",
       "\\item 14.3\n",
       "\\item 14.7\n",
       "\\item 15\n",
       "\\item 15.2\n",
       "\\item 15.2\n",
       "\\item 15.5\n",
       "\\item 15.8\n",
       "\\item 16.4\n",
       "\\item 17.3\n",
       "\\item 17.8\n",
       "\\item 18.1\n",
       "\\item 18.7\n",
       "\\item 19.2\n",
       "\\item 19.2\n",
       "\\item 19.7\n",
       "\\item 21\n",
       "\\item 21\n",
       "\\item 21.4\n",
       "\\item 21.4\n",
       "\\item 21.5\n",
       "\\item 22.8\n",
       "\\item 22.8\n",
       "\\item 24.4\n",
       "\\item 26\n",
       "\\item 27.3\n",
       "\\item 30.4\n",
       "\\item 30.4\n",
       "\\item 32.4\n",
       "\\item 33.9\n",
       "\\end{enumerate*}\n"
      ],
      "text/markdown": [
       "1. 10.4\n",
       "2. 10.4\n",
       "3. 13.3\n",
       "4. 14.3\n",
       "5. 14.7\n",
       "6. 15\n",
       "7. 15.2\n",
       "8. 15.2\n",
       "9. 15.5\n",
       "10. 15.8\n",
       "11. 16.4\n",
       "12. 17.3\n",
       "13. 17.8\n",
       "14. 18.1\n",
       "15. 18.7\n",
       "16. 19.2\n",
       "17. 19.2\n",
       "18. 19.7\n",
       "19. 21\n",
       "20. 21\n",
       "21. 21.4\n",
       "22. 21.4\n",
       "23. 21.5\n",
       "24. 22.8\n",
       "25. 22.8\n",
       "26. 24.4\n",
       "27. 26\n",
       "28. 27.3\n",
       "29. 30.4\n",
       "30. 30.4\n",
       "31. 32.4\n",
       "32. 33.9\n",
       "\n",
       "\n"
      ],
      "text/plain": [
       " [1] 10.4 10.4 13.3 14.3 14.7 15.0 15.2 15.2 15.5 15.8 16.4 17.3 17.8 18.1 18.7\n",
       "[16] 19.2 19.2 19.7 21.0 21.0 21.4 21.4 21.5 22.8 22.8 24.4 26.0 27.3 30.4 30.4\n",
       "[31] 32.4 33.9"
      ]
     },
     "metadata": {},
     "output_type": "display_data"
    }
   ],
   "source": [
    "sort(mtcars$mpg)"
   ]
  },
  {
   "cell_type": "code",
   "execution_count": 8,
   "metadata": {},
   "outputs": [
    {
     "data": {
      "text/html": [
       "<ol class=list-inline>\n",
       "\t<li>-1</li>\n",
       "\t<li>0</li>\n",
       "\t<li>1</li>\n",
       "\t<li>2</li>\n",
       "\t<li>2</li>\n",
       "\t<li>3</li>\n",
       "\t<li>5</li>\n",
       "\t<li>10</li>\n",
       "</ol>\n"
      ],
      "text/latex": [
       "\\begin{enumerate*}\n",
       "\\item -1\n",
       "\\item 0\n",
       "\\item 1\n",
       "\\item 2\n",
       "\\item 2\n",
       "\\item 3\n",
       "\\item 5\n",
       "\\item 10\n",
       "\\end{enumerate*}\n"
      ],
      "text/markdown": [
       "1. -1\n",
       "2. 0\n",
       "3. 1\n",
       "4. 2\n",
       "5. 2\n",
       "6. 3\n",
       "7. 5\n",
       "8. 10\n",
       "\n",
       "\n"
      ],
      "text/plain": [
       "[1] -1  0  1  2  2  3  5 10"
      ]
     },
     "metadata": {},
     "output_type": "display_data"
    }
   ],
   "source": [
    "#  Sort Vs. Order\n",
    "x<-c(1,2,2,3,5,10,0,-1)\n",
    "sort(x)"
   ]
  },
  {
   "cell_type": "code",
   "execution_count": 12,
   "metadata": {},
   "outputs": [
    {
     "data": {
      "text/html": [
       "<ol class=list-inline>\n",
       "\t<li>1</li>\n",
       "\t<li>2</li>\n",
       "\t<li>2</li>\n",
       "\t<li>3</li>\n",
       "\t<li>5</li>\n",
       "\t<li>10</li>\n",
       "\t<li>0</li>\n",
       "\t<li>-1</li>\n",
       "</ol>\n"
      ],
      "text/latex": [
       "\\begin{enumerate*}\n",
       "\\item 1\n",
       "\\item 2\n",
       "\\item 2\n",
       "\\item 3\n",
       "\\item 5\n",
       "\\item 10\n",
       "\\item 0\n",
       "\\item -1\n",
       "\\end{enumerate*}\n"
      ],
      "text/markdown": [
       "1. 1\n",
       "2. 2\n",
       "3. 2\n",
       "4. 3\n",
       "5. 5\n",
       "6. 10\n",
       "7. 0\n",
       "8. -1\n",
       "\n",
       "\n"
      ],
      "text/plain": [
       "[1]  1  2  2  3  5 10  0 -1"
      ]
     },
     "metadata": {},
     "output_type": "display_data"
    },
    {
     "data": {
      "text/html": [
       "<ol class=list-inline>\n",
       "\t<li>6</li>\n",
       "\t<li>5</li>\n",
       "\t<li>4</li>\n",
       "\t<li>2</li>\n",
       "\t<li>3</li>\n",
       "\t<li>1</li>\n",
       "\t<li>7</li>\n",
       "\t<li>8</li>\n",
       "</ol>\n"
      ],
      "text/latex": [
       "\\begin{enumerate*}\n",
       "\\item 6\n",
       "\\item 5\n",
       "\\item 4\n",
       "\\item 2\n",
       "\\item 3\n",
       "\\item 1\n",
       "\\item 7\n",
       "\\item 8\n",
       "\\end{enumerate*}\n"
      ],
      "text/markdown": [
       "1. 6\n",
       "2. 5\n",
       "3. 4\n",
       "4. 2\n",
       "5. 3\n",
       "6. 1\n",
       "7. 7\n",
       "8. 8\n",
       "\n",
       "\n"
      ],
      "text/plain": [
       "[1] 6 5 4 2 3 1 7 8"
      ]
     },
     "metadata": {},
     "output_type": "display_data"
    }
   ],
   "source": [
    "x\n",
    "order(x, decreasing = T)"
   ]
  },
  {
   "cell_type": "code",
   "execution_count": 13,
   "metadata": {},
   "outputs": [
    {
     "data": {
      "text/html": [
       "<ol class=list-inline>\n",
       "\t<li>-1</li>\n",
       "\t<li>0</li>\n",
       "\t<li>1</li>\n",
       "\t<li>2</li>\n",
       "\t<li>2</li>\n",
       "\t<li>3</li>\n",
       "\t<li>5</li>\n",
       "\t<li>10</li>\n",
       "</ol>\n"
      ],
      "text/latex": [
       "\\begin{enumerate*}\n",
       "\\item -1\n",
       "\\item 0\n",
       "\\item 1\n",
       "\\item 2\n",
       "\\item 2\n",
       "\\item 3\n",
       "\\item 5\n",
       "\\item 10\n",
       "\\end{enumerate*}\n"
      ],
      "text/markdown": [
       "1. -1\n",
       "2. 0\n",
       "3. 1\n",
       "4. 2\n",
       "5. 2\n",
       "6. 3\n",
       "7. 5\n",
       "8. 10\n",
       "\n",
       "\n"
      ],
      "text/plain": [
       "[1] -1  0  1  2  2  3  5 10"
      ]
     },
     "metadata": {},
     "output_type": "display_data"
    }
   ],
   "source": [
    "# an equivalent sorting command.\n",
    "x[order(x)]"
   ]
  },
  {
   "cell_type": "code",
   "execution_count": 8,
   "metadata": {},
   "outputs": [
    {
     "data": {
      "text/html": [
       "<table>\n",
       "<thead><tr><th scope=col>mpg</th><th scope=col>cyl</th><th scope=col>disp</th><th scope=col>hp</th><th scope=col>drat</th><th scope=col>wt</th><th scope=col>qsec</th><th scope=col>vs</th><th scope=col>am</th><th scope=col>gear</th><th scope=col>carb</th><th scope=col>consumption_Level</th></tr></thead>\n",
       "<tbody>\n",
       "\t<tr><td>19.2  </td><td>6     </td><td>167.6 </td><td>123   </td><td>3.92  </td><td>3.440 </td><td>18.30 </td><td>1     </td><td>0     </td><td>4     </td><td>4     </td><td>Medium</td></tr>\n",
       "\t<tr><td>17.8  </td><td>6     </td><td>167.6 </td><td>123   </td><td>3.92  </td><td>3.440 </td><td>18.90 </td><td>1     </td><td>0     </td><td>4     </td><td>4     </td><td>Medium</td></tr>\n",
       "\t<tr><td>16.4  </td><td>8     </td><td>275.8 </td><td>180   </td><td>3.07  </td><td>4.070 </td><td>17.40 </td><td>0     </td><td>0     </td><td>3     </td><td>3     </td><td>Medium</td></tr>\n",
       "\t<tr><td>17.3  </td><td>8     </td><td>275.8 </td><td>180   </td><td>3.07  </td><td>3.730 </td><td>17.60 </td><td>0     </td><td>0     </td><td>3     </td><td>3     </td><td>Medium</td></tr>\n",
       "\t<tr><td>15.2  </td><td>8     </td><td>275.8 </td><td>180   </td><td>3.07  </td><td>3.780 </td><td>18.00 </td><td>0     </td><td>0     </td><td>3     </td><td>3     </td><td>Medium</td></tr>\n",
       "\t<tr><td>10.4  </td><td>8     </td><td>472.0 </td><td>205   </td><td>2.93  </td><td>5.250 </td><td>17.98 </td><td>0     </td><td>0     </td><td>3     </td><td>4     </td><td>low   </td></tr>\n",
       "\t<tr><td>10.4  </td><td>8     </td><td>460.0 </td><td>215   </td><td>3.00  </td><td>5.424 </td><td>17.82 </td><td>0     </td><td>0     </td><td>3     </td><td>4     </td><td>low   </td></tr>\n",
       "\t<tr><td>14.7  </td><td>8     </td><td>440.0 </td><td>230   </td><td>3.23  </td><td>5.345 </td><td>17.42 </td><td>0     </td><td>0     </td><td>3     </td><td>4     </td><td>Medium</td></tr>\n",
       "\t<tr><td>32.4  </td><td>4     </td><td> 78.7 </td><td> 66   </td><td>4.08  </td><td>2.200 </td><td>19.47 </td><td>1     </td><td>1     </td><td>4     </td><td>1     </td><td>High  </td></tr>\n",
       "\t<tr><td>30.4  </td><td>4     </td><td> 75.7 </td><td> 52   </td><td>4.93  </td><td>1.615 </td><td>18.52 </td><td>1     </td><td>1     </td><td>4     </td><td>2     </td><td>High  </td></tr>\n",
       "\t<tr><td>33.9  </td><td>4     </td><td> 71.1 </td><td> 65   </td><td>4.22  </td><td>1.835 </td><td>19.90 </td><td>1     </td><td>1     </td><td>4     </td><td>1     </td><td>High  </td></tr>\n",
       "</tbody>\n",
       "</table>\n"
      ],
      "text/latex": [
       "\\begin{tabular}{r|llllllllllll}\n",
       " mpg & cyl & disp & hp & drat & wt & qsec & vs & am & gear & carb & consumption\\_Level\\\\\n",
       "\\hline\n",
       "\t 19.2   & 6      & 167.6  & 123    & 3.92   & 3.440  & 18.30  & 1      & 0      & 4      & 4      & Medium\\\\\n",
       "\t 17.8   & 6      & 167.6  & 123    & 3.92   & 3.440  & 18.90  & 1      & 0      & 4      & 4      & Medium\\\\\n",
       "\t 16.4   & 8      & 275.8  & 180    & 3.07   & 4.070  & 17.40  & 0      & 0      & 3      & 3      & Medium\\\\\n",
       "\t 17.3   & 8      & 275.8  & 180    & 3.07   & 3.730  & 17.60  & 0      & 0      & 3      & 3      & Medium\\\\\n",
       "\t 15.2   & 8      & 275.8  & 180    & 3.07   & 3.780  & 18.00  & 0      & 0      & 3      & 3      & Medium\\\\\n",
       "\t 10.4   & 8      & 472.0  & 205    & 2.93   & 5.250  & 17.98  & 0      & 0      & 3      & 4      & low   \\\\\n",
       "\t 10.4   & 8      & 460.0  & 215    & 3.00   & 5.424  & 17.82  & 0      & 0      & 3      & 4      & low   \\\\\n",
       "\t 14.7   & 8      & 440.0  & 230    & 3.23   & 5.345  & 17.42  & 0      & 0      & 3      & 4      & Medium\\\\\n",
       "\t 32.4   & 4      &  78.7  &  66    & 4.08   & 2.200  & 19.47  & 1      & 1      & 4      & 1      & High  \\\\\n",
       "\t 30.4   & 4      &  75.7  &  52    & 4.93   & 1.615  & 18.52  & 1      & 1      & 4      & 2      & High  \\\\\n",
       "\t 33.9   & 4      &  71.1  &  65    & 4.22   & 1.835  & 19.90  & 1      & 1      & 4      & 1      & High  \\\\\n",
       "\\end{tabular}\n"
      ],
      "text/markdown": [
       "\n",
       "mpg | cyl | disp | hp | drat | wt | qsec | vs | am | gear | carb | consumption_Level | \n",
       "|---|---|---|---|---|---|---|---|---|---|---|\n",
       "| 19.2   | 6      | 167.6  | 123    | 3.92   | 3.440  | 18.30  | 1      | 0      | 4      | 4      | Medium | \n",
       "| 17.8   | 6      | 167.6  | 123    | 3.92   | 3.440  | 18.90  | 1      | 0      | 4      | 4      | Medium | \n",
       "| 16.4   | 8      | 275.8  | 180    | 3.07   | 4.070  | 17.40  | 0      | 0      | 3      | 3      | Medium | \n",
       "| 17.3   | 8      | 275.8  | 180    | 3.07   | 3.730  | 17.60  | 0      | 0      | 3      | 3      | Medium | \n",
       "| 15.2   | 8      | 275.8  | 180    | 3.07   | 3.780  | 18.00  | 0      | 0      | 3      | 3      | Medium | \n",
       "| 10.4   | 8      | 472.0  | 205    | 2.93   | 5.250  | 17.98  | 0      | 0      | 3      | 4      | low    | \n",
       "| 10.4   | 8      | 460.0  | 215    | 3.00   | 5.424  | 17.82  | 0      | 0      | 3      | 4      | low    | \n",
       "| 14.7   | 8      | 440.0  | 230    | 3.23   | 5.345  | 17.42  | 0      | 0      | 3      | 4      | Medium | \n",
       "| 32.4   | 4      |  78.7  |  66    | 4.08   | 2.200  | 19.47  | 1      | 1      | 4      | 1      | High   | \n",
       "| 30.4   | 4      |  75.7  |  52    | 4.93   | 1.615  | 18.52  | 1      | 1      | 4      | 2      | High   | \n",
       "| 33.9   | 4      |  71.1  |  65    | 4.22   | 1.835  | 19.90  | 1      | 1      | 4      | 1      | High   | \n",
       "\n",
       "\n"
      ],
      "text/plain": [
       "   mpg  cyl disp  hp  drat wt    qsec  vs am gear carb consumption_Level\n",
       "1  19.2 6   167.6 123 3.92 3.440 18.30 1  0  4    4    Medium           \n",
       "2  17.8 6   167.6 123 3.92 3.440 18.90 1  0  4    4    Medium           \n",
       "3  16.4 8   275.8 180 3.07 4.070 17.40 0  0  3    3    Medium           \n",
       "4  17.3 8   275.8 180 3.07 3.730 17.60 0  0  3    3    Medium           \n",
       "5  15.2 8   275.8 180 3.07 3.780 18.00 0  0  3    3    Medium           \n",
       "6  10.4 8   472.0 205 2.93 5.250 17.98 0  0  3    4    low              \n",
       "7  10.4 8   460.0 215 3.00 5.424 17.82 0  0  3    4    low              \n",
       "8  14.7 8   440.0 230 3.23 5.345 17.42 0  0  3    4    Medium           \n",
       "9  32.4 4    78.7  66 4.08 2.200 19.47 1  1  4    1    High             \n",
       "10 30.4 4    75.7  52 4.93 1.615 18.52 1  1  4    2    High             \n",
       "11 33.9 4    71.1  65 4.22 1.835 19.90 1  1  4    1    High             "
      ]
     },
     "metadata": {},
     "output_type": "display_data"
    }
   ],
   "source": [
    "# conbination of dplyr syntaxes\n",
    "mtcars %>% \n",
    "    mutate( consumption_Level=  \n",
    "               case_when( \n",
    "                       mpg < 13 ~ \"low\",\n",
    "                       mpg< 20. ~ \"Medium\",\n",
    "                   TRUE ~ \"High\"\n",
    "               ) ) %>%\n",
    "    slice(10:20)"
   ]
  },
  {
   "cell_type": "markdown",
   "metadata": {},
   "source": [
    "# General Summarize \n",
    " *   we can use functions aggregating multiple values into a single value like: min, max, sd ..etc."
   ]
  },
  {
   "cell_type": "code",
   "execution_count": null,
   "metadata": {},
   "outputs": [],
   "source": []
  },
  {
   "cell_type": "code",
   "execution_count": 5,
   "metadata": {},
   "outputs": [
    {
     "data": {
      "text/html": [
       "<table>\n",
       "<thead><tr><th scope=col>count</th><th scope=col>avgMpg</th><th scope=col>maxHp</th><th scope=col>minQsec</th><th scope=col>rangeDisp</th></tr></thead>\n",
       "<tbody>\n",
       "\t<tr><td>7       </td><td>19.74286</td><td>175     </td><td>15.5    </td><td>113     </td></tr>\n",
       "</tbody>\n",
       "</table>\n"
      ],
      "text/latex": [
       "\\begin{tabular}{r|lllll}\n",
       " count & avgMpg & maxHp & minQsec & rangeDisp\\\\\n",
       "\\hline\n",
       "\t 7        & 19.74286 & 175      & 15.5     & 113     \\\\\n",
       "\\end{tabular}\n"
      ],
      "text/markdown": [
       "\n",
       "count | avgMpg | maxHp | minQsec | rangeDisp | \n",
       "|---|\n",
       "| 7        | 19.74286 | 175      | 15.5     | 113      | \n",
       "\n",
       "\n"
      ],
      "text/plain": [
       "  count avgMpg   maxHp minQsec rangeDisp\n",
       "1 7     19.74286 175   15.5    113      "
      ]
     },
     "metadata": {},
     "output_type": "display_data"
    }
   ],
   "source": [
    "mtcars %>%\n",
    "    filter( cyl==6) %>%\n",
    "    summarize(count=n(), \n",
    "              avgMpg= mean(mpg),\n",
    "              maxHp= max(hp),\n",
    "              minQsec=min(qsec),\n",
    "              rangeDisp=max(disp)- min(disp)\n",
    "            )"
   ]
  },
  {
   "cell_type": "code",
   "execution_count": 19,
   "metadata": {},
   "outputs": [
    {
     "data": {
      "text/html": [
       "<table>\n",
       "<thead><tr><th scope=col>mpg_mean</th><th scope=col>cyl_mean</th><th scope=col>disp_mean</th><th scope=col>hp_mean</th><th scope=col>drat_mean</th><th scope=col>wt_mean</th><th scope=col>qsec_mean</th><th scope=col>vs_mean</th><th scope=col>am_mean</th><th scope=col>gear_mean</th><th scope=col>⋯</th><th scope=col>cyl_sd</th><th scope=col>disp_sd</th><th scope=col>hp_sd</th><th scope=col>drat_sd</th><th scope=col>wt_sd</th><th scope=col>qsec_sd</th><th scope=col>vs_sd</th><th scope=col>am_sd</th><th scope=col>gear_sd</th><th scope=col>carb_sd</th></tr></thead>\n",
       "<tbody>\n",
       "\t<tr><td>19.74286 </td><td>6        </td><td>183.3143 </td><td>122.2857 </td><td>3.585714 </td><td>3.117143 </td><td>17.97714 </td><td>0.5714286</td><td>0.4285714</td><td>3.857143 </td><td>⋯        </td><td>0        </td><td>41.56246 </td><td>24.26049 </td><td>0.4760552</td><td>0.3563455</td><td>1.706866 </td><td>0.5345225</td><td>0.5345225</td><td>0.6900656</td><td>1.812654 </td></tr>\n",
       "</tbody>\n",
       "</table>\n"
      ],
      "text/latex": [
       "\\begin{tabular}{r|llllllllllllllllllllll}\n",
       " mpg\\_mean & cyl\\_mean & disp\\_mean & hp\\_mean & drat\\_mean & wt\\_mean & qsec\\_mean & vs\\_mean & am\\_mean & gear\\_mean & ⋯ & cyl\\_sd & disp\\_sd & hp\\_sd & drat\\_sd & wt\\_sd & qsec\\_sd & vs\\_sd & am\\_sd & gear\\_sd & carb\\_sd\\\\\n",
       "\\hline\n",
       "\t 19.74286  & 6         & 183.3143  & 122.2857  & 3.585714  & 3.117143  & 17.97714  & 0.5714286 & 0.4285714 & 3.857143  & ⋯         & 0         & 41.56246  & 24.26049  & 0.4760552 & 0.3563455 & 1.706866  & 0.5345225 & 0.5345225 & 0.6900656 & 1.812654 \\\\\n",
       "\\end{tabular}\n"
      ],
      "text/markdown": [
       "\n",
       "mpg_mean | cyl_mean | disp_mean | hp_mean | drat_mean | wt_mean | qsec_mean | vs_mean | am_mean | gear_mean | ⋯ | cyl_sd | disp_sd | hp_sd | drat_sd | wt_sd | qsec_sd | vs_sd | am_sd | gear_sd | carb_sd | \n",
       "|---|\n",
       "| 19.74286  | 6         | 183.3143  | 122.2857  | 3.585714  | 3.117143  | 17.97714  | 0.5714286 | 0.4285714 | 3.857143  | ⋯         | 0         | 41.56246  | 24.26049  | 0.4760552 | 0.3563455 | 1.706866  | 0.5345225 | 0.5345225 | 0.6900656 | 1.812654  | \n",
       "\n",
       "\n"
      ],
      "text/plain": [
       "  mpg_mean cyl_mean disp_mean hp_mean  drat_mean wt_mean  qsec_mean vs_mean  \n",
       "1 19.74286 6        183.3143  122.2857 3.585714  3.117143 17.97714  0.5714286\n",
       "  am_mean   gear_mean ⋯ cyl_sd disp_sd  hp_sd    drat_sd   wt_sd     qsec_sd \n",
       "1 0.4285714 3.857143  ⋯ 0      41.56246 24.26049 0.4760552 0.3563455 1.706866\n",
       "  vs_sd     am_sd     gear_sd   carb_sd \n",
       "1 0.5345225 0.5345225 0.6900656 1.812654"
      ]
     },
     "metadata": {},
     "output_type": "display_data"
    }
   ],
   "source": [
    "mtcars %>%\n",
    "    filter(cyl==6)  %>%\n",
    "    summarize_all(funs(mean, sd))"
   ]
  },
  {
   "cell_type": "code",
   "execution_count": 16,
   "metadata": {},
   "outputs": [
    {
     "name": "stderr",
     "output_type": "stream",
     "text": [
      "Warning message:\n",
      "“funs() is soft deprecated as of dplyr 0.8.0\n",
      "please use list() instead\n",
      "\n",
      "  # Before:\n",
      "  funs(name = f(.))\n",
      "\n",
      "  # After: \n",
      "  list(name = ~ f(.))\n",
      "This warning is displayed once per session.”"
     ]
    },
    {
     "data": {
      "text/html": [
       "<table>\n",
       "<thead><tr><th scope=col>disp_mean</th><th scope=col>mpg_mean</th><th scope=col>disp_sd</th><th scope=col>mpg_sd</th></tr></thead>\n",
       "<tbody>\n",
       "\t<tr><td>183.3143</td><td>19.74286</td><td>41.56246</td><td>1.453567</td></tr>\n",
       "</tbody>\n",
       "</table>\n"
      ],
      "text/latex": [
       "\\begin{tabular}{r|llll}\n",
       " disp\\_mean & mpg\\_mean & disp\\_sd & mpg\\_sd\\\\\n",
       "\\hline\n",
       "\t 183.3143 & 19.74286 & 41.56246 & 1.453567\\\\\n",
       "\\end{tabular}\n"
      ],
      "text/markdown": [
       "\n",
       "disp_mean | mpg_mean | disp_sd | mpg_sd | \n",
       "|---|\n",
       "| 183.3143 | 19.74286 | 41.56246 | 1.453567 | \n",
       "\n",
       "\n"
      ],
      "text/plain": [
       "  disp_mean mpg_mean disp_sd  mpg_sd  \n",
       "1 183.3143  19.74286 41.56246 1.453567"
      ]
     },
     "metadata": {},
     "output_type": "display_data"
    }
   ],
   "source": [
    "# mean and sd for a bunch of columns\n",
    "mtcars %>%\n",
    "    filter(cyl==6)  %>%\n",
    "    summarize_at(vars(disp, mpg), funs(mean, sd))"
   ]
  },
  {
   "cell_type": "code",
   "execution_count": 26,
   "metadata": {},
   "outputs": [
    {
     "data": {
      "text/html": [
       "<table>\n",
       "<thead><tr><th scope=col>mpg_mean</th><th scope=col>cyl_mean</th><th scope=col>disp_mean</th><th scope=col>hp_mean</th><th scope=col>drat_mean</th><th scope=col>wt_mean</th><th scope=col>qsec_mean</th><th scope=col>vs_mean</th><th scope=col>am_mean</th><th scope=col>gear_mean</th><th scope=col>⋯</th><th scope=col>cyl_sd</th><th scope=col>disp_sd</th><th scope=col>hp_sd</th><th scope=col>drat_sd</th><th scope=col>wt_sd</th><th scope=col>qsec_sd</th><th scope=col>vs_sd</th><th scope=col>am_sd</th><th scope=col>gear_sd</th><th scope=col>carb_sd</th></tr></thead>\n",
       "<tbody>\n",
       "\t<tr><td>19.74286 </td><td>6        </td><td>183.3143 </td><td>122.2857 </td><td>3.585714 </td><td>3.117143 </td><td>17.97714 </td><td>0.5714286</td><td>0.4285714</td><td>3.857143 </td><td>⋯        </td><td>0        </td><td>41.56246 </td><td>24.26049 </td><td>0.4760552</td><td>0.3563455</td><td>1.706866 </td><td>0.5345225</td><td>0.5345225</td><td>0.6900656</td><td>1.812654 </td></tr>\n",
       "</tbody>\n",
       "</table>\n"
      ],
      "text/latex": [
       "\\begin{tabular}{r|llllllllllllllllllllll}\n",
       " mpg\\_mean & cyl\\_mean & disp\\_mean & hp\\_mean & drat\\_mean & wt\\_mean & qsec\\_mean & vs\\_mean & am\\_mean & gear\\_mean & ⋯ & cyl\\_sd & disp\\_sd & hp\\_sd & drat\\_sd & wt\\_sd & qsec\\_sd & vs\\_sd & am\\_sd & gear\\_sd & carb\\_sd\\\\\n",
       "\\hline\n",
       "\t 19.74286  & 6         & 183.3143  & 122.2857  & 3.585714  & 3.117143  & 17.97714  & 0.5714286 & 0.4285714 & 3.857143  & ⋯         & 0         & 41.56246  & 24.26049  & 0.4760552 & 0.3563455 & 1.706866  & 0.5345225 & 0.5345225 & 0.6900656 & 1.812654 \\\\\n",
       "\\end{tabular}\n"
      ],
      "text/markdown": [
       "\n",
       "mpg_mean | cyl_mean | disp_mean | hp_mean | drat_mean | wt_mean | qsec_mean | vs_mean | am_mean | gear_mean | ⋯ | cyl_sd | disp_sd | hp_sd | drat_sd | wt_sd | qsec_sd | vs_sd | am_sd | gear_sd | carb_sd | \n",
       "|---|\n",
       "| 19.74286  | 6         | 183.3143  | 122.2857  | 3.585714  | 3.117143  | 17.97714  | 0.5714286 | 0.4285714 | 3.857143  | ⋯         | 0         | 41.56246  | 24.26049  | 0.4760552 | 0.3563455 | 1.706866  | 0.5345225 | 0.5345225 | 0.6900656 | 1.812654  | \n",
       "\n",
       "\n"
      ],
      "text/plain": [
       "  mpg_mean cyl_mean disp_mean hp_mean  drat_mean wt_mean  qsec_mean vs_mean  \n",
       "1 19.74286 6        183.3143  122.2857 3.585714  3.117143 17.97714  0.5714286\n",
       "  am_mean   gear_mean ⋯ cyl_sd disp_sd  hp_sd    drat_sd   wt_sd     qsec_sd \n",
       "1 0.4285714 3.857143  ⋯ 0      41.56246 24.26049 0.4760552 0.3563455 1.706866\n",
       "  vs_sd     am_sd     gear_sd   carb_sd \n",
       "1 0.5345225 0.5345225 0.6900656 1.812654"
      ]
     },
     "metadata": {},
     "output_type": "display_data"
    }
   ],
   "source": [
    "mtcars %>%\n",
    "    filter(cyl==6)  %>%\n",
    "    summarise_if(is.numeric, funs(mean, sd))"
   ]
  },
  {
   "cell_type": "markdown",
   "metadata": {},
   "source": [
    "## Group_by"
   ]
  },
  {
   "cell_type": "code",
   "execution_count": 27,
   "metadata": {},
   "outputs": [
    {
     "data": {
      "text/html": [
       "<table>\n",
       "<thead><tr><th scope=col>gear</th><th scope=col>nb_cars</th></tr></thead>\n",
       "<tbody>\n",
       "\t<tr><td>3 </td><td>15</td></tr>\n",
       "\t<tr><td>4 </td><td>12</td></tr>\n",
       "\t<tr><td>5 </td><td> 5</td></tr>\n",
       "</tbody>\n",
       "</table>\n"
      ],
      "text/latex": [
       "\\begin{tabular}{r|ll}\n",
       " gear & nb\\_cars\\\\\n",
       "\\hline\n",
       "\t 3  & 15\\\\\n",
       "\t 4  & 12\\\\\n",
       "\t 5  &  5\\\\\n",
       "\\end{tabular}\n"
      ],
      "text/markdown": [
       "\n",
       "gear | nb_cars | \n",
       "|---|---|---|\n",
       "| 3  | 15 | \n",
       "| 4  | 12 | \n",
       "| 5  |  5 | \n",
       "\n",
       "\n"
      ],
      "text/plain": [
       "  gear nb_cars\n",
       "1 3    15     \n",
       "2 4    12     \n",
       "3 5     5     "
      ]
     },
     "metadata": {},
     "output_type": "display_data"
    }
   ],
   "source": [
    "# numbe rof cars by gears\n",
    "mtcars %>%\n",
    "    group_by(gear) %>%\n",
    "    summarise(nb_cars=n())"
   ]
  },
  {
   "cell_type": "code",
   "execution_count": 4,
   "metadata": {},
   "outputs": [
    {
     "data": {
      "text/html": [
       "<table>\n",
       "<thead><tr><th scope=col>gear</th><th scope=col>nb_cars</th></tr></thead>\n",
       "<tbody>\n",
       "\t<tr><td>3</td><td>3</td></tr>\n",
       "\t<tr><td>4</td><td>2</td></tr>\n",
       "\t<tr><td>5</td><td>3</td></tr>\n",
       "</tbody>\n",
       "</table>\n"
      ],
      "text/latex": [
       "\\begin{tabular}{r|ll}\n",
       " gear & nb\\_cars\\\\\n",
       "\\hline\n",
       "\t 3 & 3\\\\\n",
       "\t 4 & 2\\\\\n",
       "\t 5 & 3\\\\\n",
       "\\end{tabular}\n"
      ],
      "text/markdown": [
       "\n",
       "gear | nb_cars | \n",
       "|---|---|---|\n",
       "| 3 | 3 | \n",
       "| 4 | 2 | \n",
       "| 5 | 3 | \n",
       "\n",
       "\n"
      ],
      "text/plain": [
       "  gear nb_cars\n",
       "1 3    3      \n",
       "2 4    2      \n",
       "3 5    3      "
      ]
     },
     "metadata": {},
     "output_type": "display_data"
    }
   ],
   "source": [
    "# distinct  cylinders \n",
    "mtcars %>%\n",
    "    group_by(gear) %>%\n",
    "    summarise(nb_cars=n_distinct(cyl)\n",
    "             \n",
    "             \n",
    "             )"
   ]
  },
  {
   "cell_type": "code",
   "execution_count": 2,
   "metadata": {},
   "outputs": [
    {
     "data": {
      "text/html": [
       "<table>\n",
       "<thead><tr><th scope=col>gear</th><th scope=col>nb_cars</th><th scope=col>tolal_vs</th><th scope=col>avg_Qsec_per_hp</th></tr></thead>\n",
       "<tbody>\n",
       "\t<tr><td>3        </td><td>3        </td><td> 3       </td><td>0.1110932</td></tr>\n",
       "\t<tr><td>4        </td><td>2        </td><td>10       </td><td>0.2320714</td></tr>\n",
       "\t<tr><td>5        </td><td>3        </td><td> 1       </td><td>0.1040304</td></tr>\n",
       "</tbody>\n",
       "</table>\n"
      ],
      "text/latex": [
       "\\begin{tabular}{r|llll}\n",
       " gear & nb\\_cars & tolal\\_vs & avg\\_Qsec\\_per\\_hp\\\\\n",
       "\\hline\n",
       "\t 3         & 3         &  3        & 0.1110932\\\\\n",
       "\t 4         & 2         & 10        & 0.2320714\\\\\n",
       "\t 5         & 3         &  1        & 0.1040304\\\\\n",
       "\\end{tabular}\n"
      ],
      "text/markdown": [
       "\n",
       "gear | nb_cars | tolal_vs | avg_Qsec_per_hp | \n",
       "|---|---|---|\n",
       "| 3         | 3         |  3        | 0.1110932 | \n",
       "| 4         | 2         | 10        | 0.2320714 | \n",
       "| 5         | 3         |  1        | 0.1040304 | \n",
       "\n",
       "\n"
      ],
      "text/plain": [
       "  gear nb_cars tolal_vs avg_Qsec_per_hp\n",
       "1 3    3        3       0.1110932      \n",
       "2 4    2       10       0.2320714      \n",
       "3 5    3        1       0.1040304      "
      ]
     },
     "metadata": {},
     "output_type": "display_data"
    }
   ],
   "source": [
    "mtcars %>%\n",
    "    group_by(gear) %>%\n",
    "    summarise(nb_cars=n_distinct(cyl),\n",
    "              tolal_vs=sum(vs),\n",
    "              avg_Qsec_per_hp=  mean(qsec/hp)\n",
    "              )"
   ]
  },
  {
   "cell_type": "code",
   "execution_count": 5,
   "metadata": {},
   "outputs": [
    {
     "data": {
      "text/html": [
       "<table>\n",
       "<thead><tr><th scope=col>mpg</th><th scope=col>disp</th><th scope=col>wt</th><th scope=col>qsec</th><th scope=col>vs</th><th scope=col>gear</th><th scope=col>lag_carb</th></tr></thead>\n",
       "<tbody>\n",
       "\t<tr><td>21.0 </td><td>160.0</td><td>2.620</td><td>16.46</td><td>0    </td><td>4    </td><td>  NA </td></tr>\n",
       "\t<tr><td>21.0 </td><td>160.0</td><td>2.875</td><td>17.02</td><td>0    </td><td>4    </td><td>21.0 </td></tr>\n",
       "\t<tr><td>22.8 </td><td>108.0</td><td>2.320</td><td>18.61</td><td>1    </td><td>4    </td><td>21.0 </td></tr>\n",
       "\t<tr><td>21.4 </td><td>258.0</td><td>3.215</td><td>19.44</td><td>1    </td><td>3    </td><td>19.2 </td></tr>\n",
       "\t<tr><td>18.7 </td><td>360.0</td><td>3.440</td><td>17.02</td><td>0    </td><td>3    </td><td>  NA </td></tr>\n",
       "\t<tr><td>18.1 </td><td>225.0</td><td>3.460</td><td>20.22</td><td>1    </td><td>3    </td><td>21.4 </td></tr>\n",
       "\t<tr><td>24.4 </td><td>146.7</td><td>3.190</td><td>20.00</td><td>1    </td><td>4    </td><td>22.8 </td></tr>\n",
       "\t<tr><td>22.8 </td><td>140.8</td><td>3.150</td><td>22.90</td><td>1    </td><td>4    </td><td>24.4 </td></tr>\n",
       "\t<tr><td>19.2 </td><td>167.6</td><td>3.440</td><td>18.30</td><td>1    </td><td>4    </td><td>22.8 </td></tr>\n",
       "\t<tr><td>32.4 </td><td> 78.7</td><td>2.200</td><td>19.47</td><td>1    </td><td>4    </td><td>19.2 </td></tr>\n",
       "\t<tr><td>30.4 </td><td> 75.7</td><td>1.615</td><td>18.52</td><td>1    </td><td>4    </td><td>32.4 </td></tr>\n",
       "\t<tr><td>33.9 </td><td> 71.1</td><td>1.835</td><td>19.90</td><td>1    </td><td>4    </td><td>30.4 </td></tr>\n",
       "\t<tr><td>21.5 </td><td>120.1</td><td>2.465</td><td>20.01</td><td>1    </td><td>3    </td><td>18.1 </td></tr>\n",
       "\t<tr><td>19.2 </td><td>400.0</td><td>3.845</td><td>17.05</td><td>0    </td><td>3    </td><td>18.7 </td></tr>\n",
       "\t<tr><td>27.3 </td><td> 79.0</td><td>1.935</td><td>18.90</td><td>1    </td><td>4    </td><td>33.9 </td></tr>\n",
       "\t<tr><td>26.0 </td><td>120.3</td><td>2.140</td><td>16.70</td><td>0    </td><td>5    </td><td>  NA </td></tr>\n",
       "\t<tr><td>30.4 </td><td> 95.1</td><td>1.513</td><td>16.90</td><td>1    </td><td>5    </td><td>19.7 </td></tr>\n",
       "\t<tr><td>19.7 </td><td>145.0</td><td>2.770</td><td>15.50</td><td>0    </td><td>5    </td><td>26.0 </td></tr>\n",
       "\t<tr><td>21.4 </td><td>121.0</td><td>2.780</td><td>18.60</td><td>1    </td><td>4    </td><td>27.3 </td></tr>\n",
       "</tbody>\n",
       "</table>\n"
      ],
      "text/latex": [
       "\\begin{tabular}{r|lllllll}\n",
       " mpg & disp & wt & qsec & vs & gear & lag\\_carb\\\\\n",
       "\\hline\n",
       "\t 21.0  & 160.0 & 2.620 & 16.46 & 0     & 4     &   NA \\\\\n",
       "\t 21.0  & 160.0 & 2.875 & 17.02 & 0     & 4     & 21.0 \\\\\n",
       "\t 22.8  & 108.0 & 2.320 & 18.61 & 1     & 4     & 21.0 \\\\\n",
       "\t 21.4  & 258.0 & 3.215 & 19.44 & 1     & 3     & 19.2 \\\\\n",
       "\t 18.7  & 360.0 & 3.440 & 17.02 & 0     & 3     &   NA \\\\\n",
       "\t 18.1  & 225.0 & 3.460 & 20.22 & 1     & 3     & 21.4 \\\\\n",
       "\t 24.4  & 146.7 & 3.190 & 20.00 & 1     & 4     & 22.8 \\\\\n",
       "\t 22.8  & 140.8 & 3.150 & 22.90 & 1     & 4     & 24.4 \\\\\n",
       "\t 19.2  & 167.6 & 3.440 & 18.30 & 1     & 4     & 22.8 \\\\\n",
       "\t 32.4  &  78.7 & 2.200 & 19.47 & 1     & 4     & 19.2 \\\\\n",
       "\t 30.4  &  75.7 & 1.615 & 18.52 & 1     & 4     & 32.4 \\\\\n",
       "\t 33.9  &  71.1 & 1.835 & 19.90 & 1     & 4     & 30.4 \\\\\n",
       "\t 21.5  & 120.1 & 2.465 & 20.01 & 1     & 3     & 18.1 \\\\\n",
       "\t 19.2  & 400.0 & 3.845 & 17.05 & 0     & 3     & 18.7 \\\\\n",
       "\t 27.3  &  79.0 & 1.935 & 18.90 & 1     & 4     & 33.9 \\\\\n",
       "\t 26.0  & 120.3 & 2.140 & 16.70 & 0     & 5     &   NA \\\\\n",
       "\t 30.4  &  95.1 & 1.513 & 16.90 & 1     & 5     & 19.7 \\\\\n",
       "\t 19.7  & 145.0 & 2.770 & 15.50 & 0     & 5     & 26.0 \\\\\n",
       "\t 21.4  & 121.0 & 2.780 & 18.60 & 1     & 4     & 27.3 \\\\\n",
       "\\end{tabular}\n"
      ],
      "text/markdown": [
       "\n",
       "mpg | disp | wt | qsec | vs | gear | lag_carb | \n",
       "|---|---|---|---|---|---|---|---|---|---|---|---|---|---|---|---|---|---|---|\n",
       "| 21.0  | 160.0 | 2.620 | 16.46 | 0     | 4     |   NA  | \n",
       "| 21.0  | 160.0 | 2.875 | 17.02 | 0     | 4     | 21.0  | \n",
       "| 22.8  | 108.0 | 2.320 | 18.61 | 1     | 4     | 21.0  | \n",
       "| 21.4  | 258.0 | 3.215 | 19.44 | 1     | 3     | 19.2  | \n",
       "| 18.7  | 360.0 | 3.440 | 17.02 | 0     | 3     |   NA  | \n",
       "| 18.1  | 225.0 | 3.460 | 20.22 | 1     | 3     | 21.4  | \n",
       "| 24.4  | 146.7 | 3.190 | 20.00 | 1     | 4     | 22.8  | \n",
       "| 22.8  | 140.8 | 3.150 | 22.90 | 1     | 4     | 24.4  | \n",
       "| 19.2  | 167.6 | 3.440 | 18.30 | 1     | 4     | 22.8  | \n",
       "| 32.4  |  78.7 | 2.200 | 19.47 | 1     | 4     | 19.2  | \n",
       "| 30.4  |  75.7 | 1.615 | 18.52 | 1     | 4     | 32.4  | \n",
       "| 33.9  |  71.1 | 1.835 | 19.90 | 1     | 4     | 30.4  | \n",
       "| 21.5  | 120.1 | 2.465 | 20.01 | 1     | 3     | 18.1  | \n",
       "| 19.2  | 400.0 | 3.845 | 17.05 | 0     | 3     | 18.7  | \n",
       "| 27.3  |  79.0 | 1.935 | 18.90 | 1     | 4     | 33.9  | \n",
       "| 26.0  | 120.3 | 2.140 | 16.70 | 0     | 5     |   NA  | \n",
       "| 30.4  |  95.1 | 1.513 | 16.90 | 1     | 5     | 19.7  | \n",
       "| 19.7  | 145.0 | 2.770 | 15.50 | 0     | 5     | 26.0  | \n",
       "| 21.4  | 121.0 | 2.780 | 18.60 | 1     | 4     | 27.3  | \n",
       "\n",
       "\n"
      ],
      "text/plain": [
       "   mpg  disp  wt    qsec  vs gear lag_carb\n",
       "1  21.0 160.0 2.620 16.46 0  4      NA    \n",
       "2  21.0 160.0 2.875 17.02 0  4    21.0    \n",
       "3  22.8 108.0 2.320 18.61 1  4    21.0    \n",
       "4  21.4 258.0 3.215 19.44 1  3    19.2    \n",
       "5  18.7 360.0 3.440 17.02 0  3      NA    \n",
       "6  18.1 225.0 3.460 20.22 1  3    21.4    \n",
       "7  24.4 146.7 3.190 20.00 1  4    22.8    \n",
       "8  22.8 140.8 3.150 22.90 1  4    24.4    \n",
       "9  19.2 167.6 3.440 18.30 1  4    22.8    \n",
       "10 32.4  78.7 2.200 19.47 1  4    19.2    \n",
       "11 30.4  75.7 1.615 18.52 1  4    32.4    \n",
       "12 33.9  71.1 1.835 19.90 1  4    30.4    \n",
       "13 21.5 120.1 2.465 20.01 1  3    18.1    \n",
       "14 19.2 400.0 3.845 17.05 0  3    18.7    \n",
       "15 27.3  79.0 1.935 18.90 1  4    33.9    \n",
       "16 26.0 120.3 2.140 16.70 0  5      NA    \n",
       "17 30.4  95.1 1.513 16.90 1  5    19.7    \n",
       "18 19.7 145.0 2.770 15.50 0  5    26.0    \n",
       "19 21.4 121.0 2.780 18.60 1  4    27.3    "
      ]
     },
     "metadata": {},
     "output_type": "display_data"
    }
   ],
   "source": [
    "mtcars %>%\n",
    "    select( mpg, disp, wt, qsec, vs, gear)  %>%\n",
    "    filter( mpg> 18 ) %>%\n",
    "    group_by(gear) %>%\n",
    "    mutate(\n",
    "\n",
    "       lag_carb= lag(mpg, order_by=vs), \n",
    "              )"
   ]
  },
  {
   "cell_type": "code",
   "execution_count": 2,
   "metadata": {},
   "outputs": [
    {
     "name": "stderr",
     "output_type": "stream",
     "text": [
      "\n",
      "Attaching package: ‘dplyr’\n",
      "\n",
      "The following objects are masked from ‘package:stats’:\n",
      "\n",
      "    filter, lag\n",
      "\n",
      "The following objects are masked from ‘package:base’:\n",
      "\n",
      "    intersect, setdiff, setequal, union\n",
      "\n"
     ]
    }
   ],
   "source": [
    "library(dplyr)"
   ]
  },
  {
   "cell_type": "code",
   "execution_count": null,
   "metadata": {},
   "outputs": [],
   "source": []
  },
  {
   "cell_type": "markdown",
   "metadata": {},
   "source": [
    "## Tidyr"
   ]
  },
  {
   "cell_type": "code",
   "execution_count": 32,
   "metadata": {},
   "outputs": [
    {
     "name": "stderr",
     "output_type": "stream",
     "text": [
      "Updating HTML index of packages in '.Library'\n",
      "Making 'packages.html' ... done\n"
     ]
    }
   ],
   "source": [
    "install.packages(\"readr\")"
   ]
  },
  {
   "cell_type": "code",
   "execution_count": 57,
   "metadata": {},
   "outputs": [],
   "source": [
    "library(readr)\n",
    "billboard<-  read_csv(file = \"https://github.com/clanfear/Intermediate_R_Workshop/raw/master/data/billboard.csv\",\n",
    "           col_types = paste(c(\"icccD\", rep(\"i\", 76)), collapse=\"\"))"
   ]
  },
  {
   "cell_type": "code",
   "execution_count": null,
   "metadata": {},
   "outputs": [],
   "source": []
  },
  {
   "cell_type": "code",
   "execution_count": 58,
   "metadata": {},
   "outputs": [
    {
     "data": {
      "text/html": [
       "<table>\n",
       "<thead><tr><th scope=col>year</th><th scope=col>artist</th><th scope=col>track</th><th scope=col>time</th><th scope=col>date.entered</th><th scope=col>wk1</th><th scope=col>wk2</th><th scope=col>wk3</th><th scope=col>wk4</th><th scope=col>wk5</th><th scope=col>⋯</th><th scope=col>wk67</th><th scope=col>wk68</th><th scope=col>wk69</th><th scope=col>wk70</th><th scope=col>wk71</th><th scope=col>wk72</th><th scope=col>wk73</th><th scope=col>wk74</th><th scope=col>wk75</th><th scope=col>wk76</th></tr></thead>\n",
       "<tbody>\n",
       "\t<tr><td>2000                   </td><td>Wright, Chely          </td><td>It Was                 </td><td>3:51                   </td><td>2000-03-04             </td><td>86                     </td><td>78                     </td><td>75                     </td><td>72                     </td><td>71                     </td><td>⋯                      </td><td>NA                     </td><td>NA                     </td><td>NA                     </td><td>NA                     </td><td>NA                     </td><td>NA                     </td><td>NA                     </td><td>NA                     </td><td>NA                     </td><td>NA                     </td></tr>\n",
       "\t<tr><td>2000                   </td><td>Yankee Grey            </td><td>Another Nine Minutes   </td><td>3:10                   </td><td>2000-04-29             </td><td>86                     </td><td>83                     </td><td>77                     </td><td>74                     </td><td>83                     </td><td>⋯                      </td><td>NA                     </td><td>NA                     </td><td>NA                     </td><td>NA                     </td><td>NA                     </td><td>NA                     </td><td>NA                     </td><td>NA                     </td><td>NA                     </td><td>NA                     </td></tr>\n",
       "\t<tr><td>2000                   </td><td>Yearwood, Trisha       </td><td>Real Live Woman        </td><td>3:55                   </td><td>2000-04-01             </td><td>85                     </td><td>83                     </td><td>83                     </td><td>82                     </td><td>81                     </td><td>⋯                      </td><td>NA                     </td><td>NA                     </td><td>NA                     </td><td>NA                     </td><td>NA                     </td><td>NA                     </td><td>NA                     </td><td>NA                     </td><td>NA                     </td><td>NA                     </td></tr>\n",
       "\t<tr><td>2000                   </td><td>Ying Yang Twins        </td><td>Whistle While You Tw...</td><td>4:19                   </td><td>2000-03-18             </td><td>95                     </td><td>94                     </td><td>91                     </td><td>85                     </td><td>84                     </td><td>⋯                      </td><td>NA                     </td><td>NA                     </td><td>NA                     </td><td>NA                     </td><td>NA                     </td><td>NA                     </td><td>NA                     </td><td>NA                     </td><td>NA                     </td><td>NA                     </td></tr>\n",
       "\t<tr><td>2000                   </td><td>Zombie Nation          </td><td>Kernkraft 400          </td><td>3:30                   </td><td>2000-09-02             </td><td>99                     </td><td>99                     </td><td>NA                     </td><td>NA                     </td><td>NA                     </td><td>⋯                      </td><td>NA                     </td><td>NA                     </td><td>NA                     </td><td>NA                     </td><td>NA                     </td><td>NA                     </td><td>NA                     </td><td>NA                     </td><td>NA                     </td><td>NA                     </td></tr>\n",
       "\t<tr><td>2000                   </td><td>matchbox twenty        </td><td>Bent                   </td><td>4:12                   </td><td>2000-04-29             </td><td>60                     </td><td>37                     </td><td>29                     </td><td>24                     </td><td>22                     </td><td>⋯                      </td><td>NA                     </td><td>NA                     </td><td>NA                     </td><td>NA                     </td><td>NA                     </td><td>NA                     </td><td>NA                     </td><td>NA                     </td><td>NA                     </td><td>NA                     </td></tr>\n",
       "</tbody>\n",
       "</table>\n"
      ],
      "text/latex": [
       "\\begin{tabular}{r|lllllllllllllllllllllllllllllllllllllllllllllllllllllllllllllllllllllllllllllllll}\n",
       " year & artist & track & time & date.entered & wk1 & wk2 & wk3 & wk4 & wk5 & ⋯ & wk67 & wk68 & wk69 & wk70 & wk71 & wk72 & wk73 & wk74 & wk75 & wk76\\\\\n",
       "\\hline\n",
       "\t 2000                    & Wright, Chely           & It Was                  & 3:51                    & 2000-03-04              & 86                      & 78                      & 75                      & 72                      & 71                      & ⋯                       & NA                      & NA                      & NA                      & NA                      & NA                      & NA                      & NA                      & NA                      & NA                      & NA                     \\\\\n",
       "\t 2000                    & Yankee Grey             & Another Nine Minutes    & 3:10                    & 2000-04-29              & 86                      & 83                      & 77                      & 74                      & 83                      & ⋯                       & NA                      & NA                      & NA                      & NA                      & NA                      & NA                      & NA                      & NA                      & NA                      & NA                     \\\\\n",
       "\t 2000                    & Yearwood, Trisha        & Real Live Woman         & 3:55                    & 2000-04-01              & 85                      & 83                      & 83                      & 82                      & 81                      & ⋯                       & NA                      & NA                      & NA                      & NA                      & NA                      & NA                      & NA                      & NA                      & NA                      & NA                     \\\\\n",
       "\t 2000                    & Ying Yang Twins         & Whistle While You Tw... & 4:19                    & 2000-03-18              & 95                      & 94                      & 91                      & 85                      & 84                      & ⋯                       & NA                      & NA                      & NA                      & NA                      & NA                      & NA                      & NA                      & NA                      & NA                      & NA                     \\\\\n",
       "\t 2000                    & Zombie Nation           & Kernkraft 400           & 3:30                    & 2000-09-02              & 99                      & 99                      & NA                      & NA                      & NA                      & ⋯                       & NA                      & NA                      & NA                      & NA                      & NA                      & NA                      & NA                      & NA                      & NA                      & NA                     \\\\\n",
       "\t 2000                    & matchbox twenty         & Bent                    & 4:12                    & 2000-04-29              & 60                      & 37                      & 29                      & 24                      & 22                      & ⋯                       & NA                      & NA                      & NA                      & NA                      & NA                      & NA                      & NA                      & NA                      & NA                      & NA                     \\\\\n",
       "\\end{tabular}\n"
      ],
      "text/markdown": [
       "\n",
       "year | artist | track | time | date.entered | wk1 | wk2 | wk3 | wk4 | wk5 | ⋯ | wk67 | wk68 | wk69 | wk70 | wk71 | wk72 | wk73 | wk74 | wk75 | wk76 | \n",
       "|---|---|---|---|---|---|\n",
       "| 2000                    | Wright, Chely           | It Was                  | 3:51                    | 2000-03-04              | 86                      | 78                      | 75                      | 72                      | 71                      | ⋯                       | NA                      | NA                      | NA                      | NA                      | NA                      | NA                      | NA                      | NA                      | NA                      | NA                      | \n",
       "| 2000                    | Yankee Grey             | Another Nine Minutes    | 3:10                    | 2000-04-29              | 86                      | 83                      | 77                      | 74                      | 83                      | ⋯                       | NA                      | NA                      | NA                      | NA                      | NA                      | NA                      | NA                      | NA                      | NA                      | NA                      | \n",
       "| 2000                    | Yearwood, Trisha        | Real Live Woman         | 3:55                    | 2000-04-01              | 85                      | 83                      | 83                      | 82                      | 81                      | ⋯                       | NA                      | NA                      | NA                      | NA                      | NA                      | NA                      | NA                      | NA                      | NA                      | NA                      | \n",
       "| 2000                    | Ying Yang Twins         | Whistle While You Tw... | 4:19                    | 2000-03-18              | 95                      | 94                      | 91                      | 85                      | 84                      | ⋯                       | NA                      | NA                      | NA                      | NA                      | NA                      | NA                      | NA                      | NA                      | NA                      | NA                      | \n",
       "| 2000                    | Zombie Nation           | Kernkraft 400           | 3:30                    | 2000-09-02              | 99                      | 99                      | NA                      | NA                      | NA                      | ⋯                       | NA                      | NA                      | NA                      | NA                      | NA                      | NA                      | NA                      | NA                      | NA                      | NA                      | \n",
       "| 2000                    | matchbox twenty         | Bent                    | 4:12                    | 2000-04-29              | 60                      | 37                      | 29                      | 24                      | 22                      | ⋯                       | NA                      | NA                      | NA                      | NA                      | NA                      | NA                      | NA                      | NA                      | NA                      | NA                      | \n",
       "\n",
       "\n"
      ],
      "text/plain": [
       "  year artist           track                   time date.entered wk1 wk2 wk3\n",
       "1 2000 Wright, Chely    It Was                  3:51 2000-03-04   86  78  75 \n",
       "2 2000 Yankee Grey      Another Nine Minutes    3:10 2000-04-29   86  83  77 \n",
       "3 2000 Yearwood, Trisha Real Live Woman         3:55 2000-04-01   85  83  83 \n",
       "4 2000 Ying Yang Twins  Whistle While You Tw... 4:19 2000-03-18   95  94  91 \n",
       "5 2000 Zombie Nation    Kernkraft 400           3:30 2000-09-02   99  99  NA \n",
       "6 2000 matchbox twenty  Bent                    4:12 2000-04-29   60  37  29 \n",
       "  wk4 wk5 ⋯ wk67 wk68 wk69 wk70 wk71 wk72 wk73 wk74 wk75 wk76\n",
       "1 72  71  ⋯ NA   NA   NA   NA   NA   NA   NA   NA   NA   NA  \n",
       "2 74  83  ⋯ NA   NA   NA   NA   NA   NA   NA   NA   NA   NA  \n",
       "3 82  81  ⋯ NA   NA   NA   NA   NA   NA   NA   NA   NA   NA  \n",
       "4 85  84  ⋯ NA   NA   NA   NA   NA   NA   NA   NA   NA   NA  \n",
       "5 NA  NA  ⋯ NA   NA   NA   NA   NA   NA   NA   NA   NA   NA  \n",
       "6 24  22  ⋯ NA   NA   NA   NA   NA   NA   NA   NA   NA   NA  "
      ]
     },
     "metadata": {},
     "output_type": "display_data"
    }
   ],
   "source": [
    "tail(billboard)"
   ]
  },
  {
   "cell_type": "code",
   "execution_count": 59,
   "metadata": {},
   "outputs": [],
   "source": [
    "library(tidyr)"
   ]
  },
  {
   "cell_type": "code",
   "execution_count": 60,
   "metadata": {},
   "outputs": [
    {
     "data": {
      "text/html": [
       "<ol class=list-inline>\n",
       "\t<li>24092</li>\n",
       "\t<li>7</li>\n",
       "</ol>\n"
      ],
      "text/latex": [
       "\\begin{enumerate*}\n",
       "\\item 24092\n",
       "\\item 7\n",
       "\\end{enumerate*}\n"
      ],
      "text/markdown": [
       "1. 24092\n",
       "2. 7\n",
       "\n",
       "\n"
      ],
      "text/plain": [
       "[1] 24092     7"
      ]
     },
     "metadata": {},
     "output_type": "display_data"
    }
   ],
   "source": [
    "billboard <- billboard %>%\n",
    "    gather(key = week, value = rank, wk1:wk76)\n",
    "dim(billboard)"
   ]
  },
  {
   "cell_type": "code",
   "execution_count": 61,
   "metadata": {},
   "outputs": [
    {
     "data": {
      "text/plain": [
       "   Min. 1st Qu.  Median    Mean 3rd Qu.    Max.    NA's \n",
       "   1.00   26.00   51.00   51.05   76.00  100.00   18785 "
      ]
     },
     "metadata": {},
     "output_type": "display_data"
    }
   ],
   "source": [
    "summary(billboard$rank)"
   ]
  },
  {
   "cell_type": "code",
   "execution_count": 62,
   "metadata": {},
   "outputs": [
    {
     "data": {
      "text/html": [
       "<table>\n",
       "<thead><tr><th scope=col>year</th><th scope=col>artist</th><th scope=col>track</th><th scope=col>time</th><th scope=col>date.entered</th><th scope=col>week</th><th scope=col>rank</th></tr></thead>\n",
       "<tbody>\n",
       "\t<tr><td>2000                   </td><td>2 Pac                  </td><td>Baby Don't Cry (Keep...</td><td>4:22                   </td><td>2000-02-26             </td><td>wk1                    </td><td>87                     </td></tr>\n",
       "\t<tr><td>2000                   </td><td>2Ge+her                </td><td>The Hardest Part Of ...</td><td>3:15                   </td><td>2000-09-02             </td><td>wk1                    </td><td>91                     </td></tr>\n",
       "\t<tr><td>2000                   </td><td>3 Doors Down           </td><td>Kryptonite             </td><td>3:53                   </td><td>2000-04-08             </td><td>wk1                    </td><td>81                     </td></tr>\n",
       "\t<tr><td>2000                   </td><td>3 Doors Down           </td><td>Loser                  </td><td>4:24                   </td><td>2000-10-21             </td><td>wk1                    </td><td>76                     </td></tr>\n",
       "\t<tr><td>2000                   </td><td>504 Boyz               </td><td>Wobble Wobble          </td><td>3:35                   </td><td>2000-04-15             </td><td>wk1                    </td><td>57                     </td></tr>\n",
       "\t<tr><td>2000                   </td><td>98^0                   </td><td>Give Me Just One Nig...</td><td>3:24                   </td><td>2000-08-19             </td><td>wk1                    </td><td>51                     </td></tr>\n",
       "</tbody>\n",
       "</table>\n"
      ],
      "text/latex": [
       "\\begin{tabular}{r|lllllll}\n",
       " year & artist & track & time & date.entered & week & rank\\\\\n",
       "\\hline\n",
       "\t 2000                    & 2 Pac                   & Baby Don't Cry (Keep... & 4:22                    & 2000-02-26              & wk1                     & 87                     \\\\\n",
       "\t 2000                    & 2Ge+her                 & The Hardest Part Of ... & 3:15                    & 2000-09-02              & wk1                     & 91                     \\\\\n",
       "\t 2000                    & 3 Doors Down            & Kryptonite              & 3:53                    & 2000-04-08              & wk1                     & 81                     \\\\\n",
       "\t 2000                    & 3 Doors Down            & Loser                   & 4:24                    & 2000-10-21              & wk1                     & 76                     \\\\\n",
       "\t 2000                    & 504 Boyz                & Wobble Wobble           & 3:35                    & 2000-04-15              & wk1                     & 57                     \\\\\n",
       "\t 2000                           & 98\\textasciicircum{}0         & Give Me Just One Nig...        & 3:24                           & 2000-08-19                     & wk1                            & 51                            \\\\\n",
       "\\end{tabular}\n"
      ],
      "text/markdown": [
       "\n",
       "year | artist | track | time | date.entered | week | rank | \n",
       "|---|---|---|---|---|---|\n",
       "| 2000                    | 2 Pac                   | Baby Don't Cry (Keep... | 4:22                    | 2000-02-26              | wk1                     | 87                      | \n",
       "| 2000                    | 2Ge+her                 | The Hardest Part Of ... | 3:15                    | 2000-09-02              | wk1                     | 91                      | \n",
       "| 2000                    | 3 Doors Down            | Kryptonite              | 3:53                    | 2000-04-08              | wk1                     | 81                      | \n",
       "| 2000                    | 3 Doors Down            | Loser                   | 4:24                    | 2000-10-21              | wk1                     | 76                      | \n",
       "| 2000                    | 504 Boyz                | Wobble Wobble           | 3:35                    | 2000-04-15              | wk1                     | 57                      | \n",
       "| 2000                    | 98^0                    | Give Me Just One Nig... | 3:24                    | 2000-08-19              | wk1                     | 51                      | \n",
       "\n",
       "\n"
      ],
      "text/plain": [
       "  year artist       track                   time date.entered week rank\n",
       "1 2000 2 Pac        Baby Don't Cry (Keep... 4:22 2000-02-26   wk1  87  \n",
       "2 2000 2Ge+her      The Hardest Part Of ... 3:15 2000-09-02   wk1  91  \n",
       "3 2000 3 Doors Down Kryptonite              3:53 2000-04-08   wk1  81  \n",
       "4 2000 3 Doors Down Loser                   4:24 2000-10-21   wk1  76  \n",
       "5 2000 504 Boyz     Wobble Wobble           3:35 2000-04-15   wk1  57  \n",
       "6 2000 98^0         Give Me Just One Nig... 3:24 2000-08-19   wk1  51  "
      ]
     },
     "metadata": {},
     "output_type": "display_data"
    }
   ],
   "source": [
    "head(billboard)"
   ]
  },
  {
   "cell_type": "code",
   "execution_count": null,
   "metadata": {},
   "outputs": [],
   "source": [
    "# let's seperate   time "
   ]
  },
  {
   "cell_type": "code",
   "execution_count": null,
   "metadata": {},
   "outputs": [],
   "source": []
  },
  {
   "cell_type": "code",
   "execution_count": 64,
   "metadata": {},
   "outputs": [
    {
     "data": {
      "text/html": [
       "<table>\n",
       "<thead><tr><th scope=col>Group</th><th scope=col>Statistic</th><th scope=col>Value</th></tr></thead>\n",
       "<tbody>\n",
       "\t<tr><td>A     </td><td>Mean  </td><td>1.28  </td></tr>\n",
       "\t<tr><td>A     </td><td>Median</td><td>1.00  </td></tr>\n",
       "\t<tr><td>A     </td><td>SD    </td><td>0.72  </td></tr>\n",
       "\t<tr><td>B     </td><td>Mean  </td><td>2.81  </td></tr>\n",
       "\t<tr><td>B     </td><td>Median</td><td>2.00  </td></tr>\n",
       "\t<tr><td>B     </td><td>SD    </td><td>1.33  </td></tr>\n",
       "</tbody>\n",
       "</table>\n"
      ],
      "text/latex": [
       "\\begin{tabular}{r|lll}\n",
       " Group & Statistic & Value\\\\\n",
       "\\hline\n",
       "\t A      & Mean   & 1.28  \\\\\n",
       "\t A      & Median & 1.00  \\\\\n",
       "\t A      & SD     & 0.72  \\\\\n",
       "\t B      & Mean   & 2.81  \\\\\n",
       "\t B      & Median & 2.00  \\\\\n",
       "\t B      & SD     & 1.33  \\\\\n",
       "\\end{tabular}\n"
      ],
      "text/markdown": [
       "\n",
       "Group | Statistic | Value | \n",
       "|---|---|---|---|---|---|\n",
       "| A      | Mean   | 1.28   | \n",
       "| A      | Median | 1.00   | \n",
       "| A      | SD     | 0.72   | \n",
       "| B      | Mean   | 2.81   | \n",
       "| B      | Median | 2.00   | \n",
       "| B      | SD     | 1.33   | \n",
       "\n",
       "\n"
      ],
      "text/plain": [
       "  Group Statistic Value\n",
       "1 A     Mean      1.28 \n",
       "2 A     Median    1.00 \n",
       "3 A     SD        0.72 \n",
       "4 B     Mean      2.81 \n",
       "5 B     Median    2.00 \n",
       "6 B     SD        1.33 "
      ]
     },
     "metadata": {},
     "output_type": "display_data"
    }
   ],
   "source": [
    "(too_long_data <- data.frame(Group = c(rep(\"A\", 3), rep(\"B\", 3)),\n",
    "                             Statistic = rep(c(\"Mean\", \"Median\", \"SD\"), 2),\n",
    "                             Value = c(1.28, 1.0, 0.72, 2.81, 2, 1.33)))"
   ]
  },
  {
   "cell_type": "code",
   "execution_count": null,
   "metadata": {},
   "outputs": [],
   "source": []
  },
  {
   "cell_type": "code",
   "execution_count": 65,
   "metadata": {},
   "outputs": [
    {
     "data": {
      "text/html": [
       "<table>\n",
       "<thead><tr><th scope=col>Group</th><th scope=col>Mean</th><th scope=col>Median</th><th scope=col>SD</th></tr></thead>\n",
       "<tbody>\n",
       "\t<tr><td>A   </td><td>1.28</td><td>1   </td><td>0.72</td></tr>\n",
       "\t<tr><td>B   </td><td>2.81</td><td>2   </td><td>1.33</td></tr>\n",
       "</tbody>\n",
       "</table>\n"
      ],
      "text/latex": [
       "\\begin{tabular}{r|llll}\n",
       " Group & Mean & Median & SD\\\\\n",
       "\\hline\n",
       "\t A    & 1.28 & 1    & 0.72\\\\\n",
       "\t B    & 2.81 & 2    & 1.33\\\\\n",
       "\\end{tabular}\n"
      ],
      "text/markdown": [
       "\n",
       "Group | Mean | Median | SD | \n",
       "|---|---|\n",
       "| A    | 1.28 | 1    | 0.72 | \n",
       "| B    | 2.81 | 2    | 1.33 | \n",
       "\n",
       "\n"
      ],
      "text/plain": [
       "  Group Mean Median SD  \n",
       "1 A     1.28 1      0.72\n",
       "2 B     2.81 2      1.33"
      ]
     },
     "metadata": {},
     "output_type": "display_data"
    }
   ],
   "source": [
    "(just_right_data <- too_long_data %>%\n",
    "    spread(key = Statistic, value = Value))"
   ]
  },
  {
   "cell_type": "code",
   "execution_count": 67,
   "metadata": {},
   "outputs": [],
   "source": [
    "best_rank <- billboard %>%\n",
    "    group_by(artist, track) %>%\n",
    "    summarize(min_rank = min(rank),\n",
    "              weeks_at_1 = sum(rank == 1)) %>%\n",
    "    mutate(\"Peak rank\" = ifelse(min_rank == 1,\n",
    "                                \"Hit #1\",\n",
    "                                \"Didn't #1\"))"
   ]
  },
  {
   "cell_type": "code",
   "execution_count": 73,
   "metadata": {},
   "outputs": [
    {
     "data": {
      "text/html": [
       "<table>\n",
       "<thead><tr><th scope=col>artist</th><th scope=col>track</th><th scope=col>min_rank</th><th scope=col>weeks_at_1</th><th scope=col>Peak rank</th></tr></thead>\n",
       "<tbody>\n",
       "\t<tr><td>2 Pac                  </td><td>Baby Don't Cry (Keep...</td><td>NA                     </td><td>NA                     </td><td>NA                     </td></tr>\n",
       "\t<tr><td>2Ge+her                </td><td>The Hardest Part Of ...</td><td>NA                     </td><td>NA                     </td><td>NA                     </td></tr>\n",
       "\t<tr><td>3 Doors Down           </td><td>Kryptonite             </td><td>NA                     </td><td>NA                     </td><td>NA                     </td></tr>\n",
       "\t<tr><td>3 Doors Down           </td><td>Loser                  </td><td>NA                     </td><td>NA                     </td><td>NA                     </td></tr>\n",
       "\t<tr><td>504 Boyz               </td><td>Wobble Wobble          </td><td>NA                     </td><td>NA                     </td><td>NA                     </td></tr>\n",
       "\t<tr><td>98^0                   </td><td>Give Me Just One Nig...</td><td>NA                     </td><td>NA                     </td><td>NA                     </td></tr>\n",
       "</tbody>\n",
       "</table>\n"
      ],
      "text/latex": [
       "\\begin{tabular}{r|lllll}\n",
       " artist & track & min\\_rank & weeks\\_at\\_1 & Peak rank\\\\\n",
       "\\hline\n",
       "\t 2 Pac                   & Baby Don't Cry (Keep... & NA                      & NA                      & NA                     \\\\\n",
       "\t 2Ge+her                 & The Hardest Part Of ... & NA                      & NA                      & NA                     \\\\\n",
       "\t 3 Doors Down            & Kryptonite              & NA                      & NA                      & NA                     \\\\\n",
       "\t 3 Doors Down            & Loser                   & NA                      & NA                      & NA                     \\\\\n",
       "\t 504 Boyz                & Wobble Wobble           & NA                      & NA                      & NA                     \\\\\n",
       "\t 98\\textasciicircum{}0         & Give Me Just One Nig...        & NA                             & NA                             & NA                            \\\\\n",
       "\\end{tabular}\n"
      ],
      "text/markdown": [
       "\n",
       "artist | track | min_rank | weeks_at_1 | Peak rank | \n",
       "|---|---|---|---|---|---|\n",
       "| 2 Pac                   | Baby Don't Cry (Keep... | NA                      | NA                      | NA                      | \n",
       "| 2Ge+her                 | The Hardest Part Of ... | NA                      | NA                      | NA                      | \n",
       "| 3 Doors Down            | Kryptonite              | NA                      | NA                      | NA                      | \n",
       "| 3 Doors Down            | Loser                   | NA                      | NA                      | NA                      | \n",
       "| 504 Boyz                | Wobble Wobble           | NA                      | NA                      | NA                      | \n",
       "| 98^0                    | Give Me Just One Nig... | NA                      | NA                      | NA                      | \n",
       "\n",
       "\n"
      ],
      "text/plain": [
       "  artist       track                   min_rank weeks_at_1 Peak rank\n",
       "1 2 Pac        Baby Don't Cry (Keep... NA       NA         NA       \n",
       "2 2Ge+her      The Hardest Part Of ... NA       NA         NA       \n",
       "3 3 Doors Down Kryptonite              NA       NA         NA       \n",
       "4 3 Doors Down Loser                   NA       NA         NA       \n",
       "5 504 Boyz     Wobble Wobble           NA       NA         NA       \n",
       "6 98^0         Give Me Just One Nig... NA       NA         NA       "
      ]
     },
     "metadata": {},
     "output_type": "display_data"
    }
   ],
   "source": [
    "head(best_rank)"
   ]
  },
  {
   "cell_type": "code",
   "execution_count": 70,
   "metadata": {},
   "outputs": [],
   "source": [
    "billboard <- billboard %>%\n",
    "    left_join(best_rank, by = c(\"artist\", \"track\"))"
   ]
  },
  {
   "cell_type": "code",
   "execution_count": 72,
   "metadata": {},
   "outputs": [
    {
     "data": {
      "text/html": [
       "<table>\n",
       "<thead><tr><th scope=col>year</th><th scope=col>artist</th><th scope=col>track</th><th scope=col>time</th><th scope=col>date.entered</th><th scope=col>week</th><th scope=col>rank</th><th scope=col>min_rank.x</th><th scope=col>weeks_at_1.x</th><th scope=col>Peak rank.x</th><th scope=col>min_rank.y</th><th scope=col>weeks_at_1.y</th><th scope=col>Peak rank.y</th></tr></thead>\n",
       "<tbody>\n",
       "\t<tr><td>2000                   </td><td>2 Pac                  </td><td>Baby Don't Cry (Keep...</td><td>4:22                   </td><td>2000-02-26             </td><td>wk1                    </td><td>87                     </td><td>NA                     </td><td>NA                     </td><td>NA                     </td><td>NA                     </td><td>NA                     </td><td>NA                     </td></tr>\n",
       "\t<tr><td>2000                   </td><td>2Ge+her                </td><td>The Hardest Part Of ...</td><td>3:15                   </td><td>2000-09-02             </td><td>wk1                    </td><td>91                     </td><td>NA                     </td><td>NA                     </td><td>NA                     </td><td>NA                     </td><td>NA                     </td><td>NA                     </td></tr>\n",
       "\t<tr><td>2000                   </td><td>3 Doors Down           </td><td>Kryptonite             </td><td>3:53                   </td><td>2000-04-08             </td><td>wk1                    </td><td>81                     </td><td>NA                     </td><td>NA                     </td><td>NA                     </td><td>NA                     </td><td>NA                     </td><td>NA                     </td></tr>\n",
       "\t<tr><td>2000                   </td><td>3 Doors Down           </td><td>Loser                  </td><td>4:24                   </td><td>2000-10-21             </td><td>wk1                    </td><td>76                     </td><td>NA                     </td><td>NA                     </td><td>NA                     </td><td>NA                     </td><td>NA                     </td><td>NA                     </td></tr>\n",
       "\t<tr><td>2000                   </td><td>504 Boyz               </td><td>Wobble Wobble          </td><td>3:35                   </td><td>2000-04-15             </td><td>wk1                    </td><td>57                     </td><td>NA                     </td><td>NA                     </td><td>NA                     </td><td>NA                     </td><td>NA                     </td><td>NA                     </td></tr>\n",
       "\t<tr><td>2000                   </td><td>98^0                   </td><td>Give Me Just One Nig...</td><td>3:24                   </td><td>2000-08-19             </td><td>wk1                    </td><td>51                     </td><td>NA                     </td><td>NA                     </td><td>NA                     </td><td>NA                     </td><td>NA                     </td><td>NA                     </td></tr>\n",
       "</tbody>\n",
       "</table>\n"
      ],
      "text/latex": [
       "\\begin{tabular}{r|lllllllllllll}\n",
       " year & artist & track & time & date.entered & week & rank & min\\_rank.x & weeks\\_at\\_1.x & Peak rank.x & min\\_rank.y & weeks\\_at\\_1.y & Peak rank.y\\\\\n",
       "\\hline\n",
       "\t 2000                    & 2 Pac                   & Baby Don't Cry (Keep... & 4:22                    & 2000-02-26              & wk1                     & 87                      & NA                      & NA                      & NA                      & NA                      & NA                      & NA                     \\\\\n",
       "\t 2000                    & 2Ge+her                 & The Hardest Part Of ... & 3:15                    & 2000-09-02              & wk1                     & 91                      & NA                      & NA                      & NA                      & NA                      & NA                      & NA                     \\\\\n",
       "\t 2000                    & 3 Doors Down            & Kryptonite              & 3:53                    & 2000-04-08              & wk1                     & 81                      & NA                      & NA                      & NA                      & NA                      & NA                      & NA                     \\\\\n",
       "\t 2000                    & 3 Doors Down            & Loser                   & 4:24                    & 2000-10-21              & wk1                     & 76                      & NA                      & NA                      & NA                      & NA                      & NA                      & NA                     \\\\\n",
       "\t 2000                    & 504 Boyz                & Wobble Wobble           & 3:35                    & 2000-04-15              & wk1                     & 57                      & NA                      & NA                      & NA                      & NA                      & NA                      & NA                     \\\\\n",
       "\t 2000                           & 98\\textasciicircum{}0         & Give Me Just One Nig...        & 3:24                           & 2000-08-19                     & wk1                            & 51                             & NA                             & NA                             & NA                             & NA                             & NA                             & NA                            \\\\\n",
       "\\end{tabular}\n"
      ],
      "text/markdown": [
       "\n",
       "year | artist | track | time | date.entered | week | rank | min_rank.x | weeks_at_1.x | Peak rank.x | min_rank.y | weeks_at_1.y | Peak rank.y | \n",
       "|---|---|---|---|---|---|\n",
       "| 2000                    | 2 Pac                   | Baby Don't Cry (Keep... | 4:22                    | 2000-02-26              | wk1                     | 87                      | NA                      | NA                      | NA                      | NA                      | NA                      | NA                      | \n",
       "| 2000                    | 2Ge+her                 | The Hardest Part Of ... | 3:15                    | 2000-09-02              | wk1                     | 91                      | NA                      | NA                      | NA                      | NA                      | NA                      | NA                      | \n",
       "| 2000                    | 3 Doors Down            | Kryptonite              | 3:53                    | 2000-04-08              | wk1                     | 81                      | NA                      | NA                      | NA                      | NA                      | NA                      | NA                      | \n",
       "| 2000                    | 3 Doors Down            | Loser                   | 4:24                    | 2000-10-21              | wk1                     | 76                      | NA                      | NA                      | NA                      | NA                      | NA                      | NA                      | \n",
       "| 2000                    | 504 Boyz                | Wobble Wobble           | 3:35                    | 2000-04-15              | wk1                     | 57                      | NA                      | NA                      | NA                      | NA                      | NA                      | NA                      | \n",
       "| 2000                    | 98^0                    | Give Me Just One Nig... | 3:24                    | 2000-08-19              | wk1                     | 51                      | NA                      | NA                      | NA                      | NA                      | NA                      | NA                      | \n",
       "\n",
       "\n"
      ],
      "text/plain": [
       "  year artist       track                   time date.entered week rank\n",
       "1 2000 2 Pac        Baby Don't Cry (Keep... 4:22 2000-02-26   wk1  87  \n",
       "2 2000 2Ge+her      The Hardest Part Of ... 3:15 2000-09-02   wk1  91  \n",
       "3 2000 3 Doors Down Kryptonite              3:53 2000-04-08   wk1  81  \n",
       "4 2000 3 Doors Down Loser                   4:24 2000-10-21   wk1  76  \n",
       "5 2000 504 Boyz     Wobble Wobble           3:35 2000-04-15   wk1  57  \n",
       "6 2000 98^0         Give Me Just One Nig... 3:24 2000-08-19   wk1  51  \n",
       "  min_rank.x weeks_at_1.x Peak rank.x min_rank.y weeks_at_1.y Peak rank.y\n",
       "1 NA         NA           NA          NA         NA           NA         \n",
       "2 NA         NA           NA          NA         NA           NA         \n",
       "3 NA         NA           NA          NA         NA           NA         \n",
       "4 NA         NA           NA          NA         NA           NA         \n",
       "5 NA         NA           NA          NA         NA           NA         \n",
       "6 NA         NA           NA          NA         NA           NA         "
      ]
     },
     "metadata": {},
     "output_type": "display_data"
    }
   ],
   "source": [
    "head(billboard)"
   ]
  },
  {
   "cell_type": "code",
   "execution_count": null,
   "metadata": {},
   "outputs": [],
   "source": []
  },
  {
   "cell_type": "markdown",
   "metadata": {},
   "source": [
    "[![Audi R8](http://img.youtube.com/vi/KOxbO0EI4MA/0.jpg)](https://www.youtube.com/watch?v=KOxbO0EI4MA \"Audi R8\")"
   ]
  },
  {
   "cell_type": "code",
   "execution_count": null,
   "metadata": {},
   "outputs": [],
   "source": []
  },
  {
   "cell_type": "code",
   "execution_count": null,
   "metadata": {},
   "outputs": [],
   "source": []
  }
 ],
 "metadata": {
  "kernelspec": {
   "display_name": "R",
   "language": "R",
   "name": "ir"
  },
  "language_info": {
   "codemirror_mode": "r",
   "file_extension": ".r",
   "mimetype": "text/x-r-source",
   "name": "R",
   "pygments_lexer": "r",
   "version": "3.4.3"
  }
 },
 "nbformat": 4,
 "nbformat_minor": 2
}
