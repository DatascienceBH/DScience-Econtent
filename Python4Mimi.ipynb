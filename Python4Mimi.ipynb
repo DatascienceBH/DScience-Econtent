{
 "cells": [
  {
   "cell_type": "code",
   "execution_count": 6,
   "metadata": {},
   "outputs": [
    {
     "name": "stdout",
     "output_type": "stream",
     "text": [
      "PPyyhhttoonn  !!\n"
     ]
    }
   ],
   "source": [
    "chaine=\"Pyhton !\"\n",
    "res=\"\"\n",
    "for c in chaine:\n",
    "    res=res + c+c\n",
    "print(res)"
   ]
  },
  {
   "cell_type": "code",
   "execution_count": 7,
   "metadata": {},
   "outputs": [
    {
     "name": "stdout",
     "output_type": "stream",
     "text": [
      "12321\n"
     ]
    }
   ],
   "source": [
    "s = 'abc12321cba'\n",
    "\n",
    "print(s.translate({ord(i): None for i in 'abc'}))"
   ]
  },
  {
   "cell_type": "code",
   "execution_count": 9,
   "metadata": {},
   "outputs": [
    {
     "name": "stdout",
     "output_type": "stream",
     "text": [
      "tapez une phrase: chaine de caratctères\n",
      "quel caractere souhitez vous supprimer: c\n",
      "haine de arattères\n"
     ]
    }
   ],
   "source": [
    "s= str(input(\"tapez une phrase: \"))\n",
    "car= str(input(\"quel caractere souhitez vous supprimer: \"))\n",
    "\n",
    "print(s.translate({ord(i): None for i in car}))"
   ]
  },
  {
   "cell_type": "code",
   "execution_count": 12,
   "metadata": {},
   "outputs": [
    {
     "name": "stdout",
     "output_type": "stream",
     "text": [
      "Tapez une phrase:saint hachemi Amri \n",
      "[['saint', 'hachemi', 'Amri', '']]\n"
     ]
    }
   ],
   "source": [
    "chaine= str(input(\"Tapez une phrase:\"))\n",
    "#  chaine =\"mots1 mot22 mot333\"\n",
    "liste= []\n",
    "liste.append(chaine.split(\" \"))\n",
    "print(liste)"
   ]
  },
  {
   "cell_type": "code",
   "execution_count": 11,
   "metadata": {},
   "outputs": [
    {
     "name": "stdout",
     "output_type": "stream",
     "text": [
      "['samir', 'hachemi', 'amri']\n"
     ]
    }
   ],
   "source": [
    "print(\"samir hachemi amri\".split(\" \"))"
   ]
  },
  {
   "cell_type": "code",
   "execution_count": 18,
   "metadata": {},
   "outputs": [
    {
     "data": {
      "text/plain": [
       "''"
      ]
     },
     "execution_count": 18,
     "metadata": {},
     "output_type": "execute_result"
    }
   ],
   "source": [
    "chaine=\"samir\"\n",
    "chaine[-3:2]"
   ]
  },
  {
   "cell_type": "code",
   "execution_count": null,
   "metadata": {},
   "outputs": [],
   "source": [
    "import turtle \n",
    "picture_width= 800\n",
    "picture_height=600\n",
    "turtle.setup (width=picture_width, height=picture_height)\n",
    " \n",
    "import random \n",
    "def dessine_oursin(nb_epines, taille_epines):\n",
    "    for i in range(361//nb_epines):\n",
    "        turtle.left(i)\n",
    "        turtle.forward(random.randrange(0, taille_epines))\n",
    "        turtle.up()\n",
    "        turtle.goto(0,0)\n",
    "        turtle.down()\n",
    "    return True\n",
    " \n",
    "nb_epines= int(input(\"Entrez le nombre d'epines: \"))\n",
    "taille_epines= int(input(\"Entrez un entier pour la taille: \"))\n",
    "dessine_oursin(nb_epines, taille_epines)\n",
    " \n",
    "turtle.hideturtle()\n",
    "turtle.exitonclick()\n"
   ]
  },
  {
   "cell_type": "code",
   "execution_count": null,
   "metadata": {},
   "outputs": [],
   "source": []
  }
 ],
 "metadata": {
  "kernelspec": {
   "display_name": "Python 3",
   "language": "python",
   "name": "python3"
  },
  "language_info": {
   "codemirror_mode": {
    "name": "ipython",
    "version": 3
   },
   "file_extension": ".py",
   "mimetype": "text/x-python",
   "name": "python",
   "nbconvert_exporter": "python",
   "pygments_lexer": "ipython3",
   "version": "3.7.1"
  }
 },
 "nbformat": 4,
 "nbformat_minor": 2
}
