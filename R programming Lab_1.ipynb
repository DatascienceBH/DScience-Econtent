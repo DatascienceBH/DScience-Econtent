{
 "cells": [
  {
   "cell_type": "code",
   "execution_count": 19,
   "metadata": {},
   "outputs": [
    {
     "data": {
      "text/html": [
       "'/Users/medamin/Projets/DataScience'"
      ],
      "text/latex": [
       "'/Users/medamin/Projets/DataScience'"
      ],
      "text/markdown": [
       "'/Users/medamin/Projets/DataScience'"
      ],
      "text/plain": [
       "[1] \"/Users/medamin/Projets/DataScience\""
      ]
     },
     "metadata": {},
     "output_type": "display_data"
    }
   ],
   "source": [
    "getwd()"
   ]
  },
  {
   "cell_type": "code",
   "execution_count": 16,
   "metadata": {},
   "outputs": [],
   "source": [
    "cars<- data.frame(mtcars)"
   ]
  },
  {
   "cell_type": "code",
   "execution_count": 17,
   "metadata": {},
   "outputs": [
    {
     "name": "stdout",
     "output_type": "stream",
     "text": [
      "'data.frame':\t32 obs. of  11 variables:\n",
      " $ mpg : num  21 21 22.8 21.4 18.7 18.1 14.3 24.4 22.8 19.2 ...\n",
      " $ cyl : num  6 6 4 6 8 6 8 4 4 6 ...\n",
      " $ disp: num  160 160 108 258 360 ...\n",
      " $ hp  : num  110 110 93 110 175 105 245 62 95 123 ...\n",
      " $ drat: num  3.9 3.9 3.85 3.08 3.15 2.76 3.21 3.69 3.92 3.92 ...\n",
      " $ wt  : num  2.62 2.88 2.32 3.21 3.44 ...\n",
      " $ qsec: num  16.5 17 18.6 19.4 17 ...\n",
      " $ vs  : num  0 0 1 1 0 1 0 1 1 1 ...\n",
      " $ am  : num  1 1 1 0 0 0 0 0 0 0 ...\n",
      " $ gear: num  4 4 4 3 3 3 3 4 4 4 ...\n",
      " $ carb: num  4 4 1 1 2 1 4 2 2 4 ...\n"
     ]
    }
   ],
   "source": [
    "str(cars)"
   ]
  },
  {
   "cell_type": "code",
   "execution_count": 53,
   "metadata": {},
   "outputs": [
    {
     "data": {
      "text/html": [
       "<table>\n",
       "<thead><tr><th></th><th scope=col>mpg</th><th scope=col>cyl</th><th scope=col>disp</th><th scope=col>hp</th><th scope=col>drat</th><th scope=col>wt</th><th scope=col>qsec</th><th scope=col>vs</th><th scope=col>am</th><th scope=col>gear</th><th scope=col>carb</th></tr></thead>\n",
       "<tbody>\n",
       "\t<tr><th scope=row>Mazda RX4</th><td>21.0 </td><td>6    </td><td>160  </td><td>110  </td><td>3.90 </td><td>2.620</td><td>16.46</td><td>0    </td><td>1    </td><td>4    </td><td>4    </td></tr>\n",
       "\t<tr><th scope=row>Mazda RX4 Wag</th><td>21.0 </td><td>6    </td><td>160  </td><td>110  </td><td>3.90 </td><td>2.875</td><td>17.02</td><td>0    </td><td>1    </td><td>4    </td><td>4    </td></tr>\n",
       "\t<tr><th scope=row>Datsun 710</th><td>22.8 </td><td>4    </td><td>108  </td><td> 93  </td><td>3.85 </td><td>2.320</td><td>18.61</td><td>1    </td><td>1    </td><td>4    </td><td>1    </td></tr>\n",
       "\t<tr><th scope=row>Hornet 4 Drive</th><td>21.4 </td><td>6    </td><td>258  </td><td>110  </td><td>3.08 </td><td>3.215</td><td>19.44</td><td>1    </td><td>0    </td><td>3    </td><td>1    </td></tr>\n",
       "\t<tr><th scope=row>Hornet Sportabout</th><td>18.7 </td><td>8    </td><td>360  </td><td>175  </td><td>3.15 </td><td>3.440</td><td>17.02</td><td>0    </td><td>0    </td><td>3    </td><td>2    </td></tr>\n",
       "\t<tr><th scope=row>Valiant</th><td>18.1 </td><td>6    </td><td>225  </td><td>105  </td><td>2.76 </td><td>3.460</td><td>20.22</td><td>1    </td><td>0    </td><td>3    </td><td>1    </td></tr>\n",
       "</tbody>\n",
       "</table>\n"
      ],
      "text/latex": [
       "\\begin{tabular}{r|lllllllllll}\n",
       "  & mpg & cyl & disp & hp & drat & wt & qsec & vs & am & gear & carb\\\\\n",
       "\\hline\n",
       "\tMazda RX4 & 21.0  & 6     & 160   & 110   & 3.90  & 2.620 & 16.46 & 0     & 1     & 4     & 4    \\\\\n",
       "\tMazda RX4 Wag & 21.0  & 6     & 160   & 110   & 3.90  & 2.875 & 17.02 & 0     & 1     & 4     & 4    \\\\\n",
       "\tDatsun 710 & 22.8  & 4     & 108   &  93   & 3.85  & 2.320 & 18.61 & 1     & 1     & 4     & 1    \\\\\n",
       "\tHornet 4 Drive & 21.4  & 6     & 258   & 110   & 3.08  & 3.215 & 19.44 & 1     & 0     & 3     & 1    \\\\\n",
       "\tHornet Sportabout & 18.7  & 8     & 360   & 175   & 3.15  & 3.440 & 17.02 & 0     & 0     & 3     & 2    \\\\\n",
       "\tValiant & 18.1  & 6     & 225   & 105   & 2.76  & 3.460 & 20.22 & 1     & 0     & 3     & 1    \\\\\n",
       "\\end{tabular}\n"
      ],
      "text/markdown": [
       "\n",
       "| <!--/--> | mpg | cyl | disp | hp | drat | wt | qsec | vs | am | gear | carb | \n",
       "|---|---|---|---|---|---|\n",
       "| Mazda RX4 | 21.0  | 6     | 160   | 110   | 3.90  | 2.620 | 16.46 | 0     | 1     | 4     | 4     | \n",
       "| Mazda RX4 Wag | 21.0  | 6     | 160   | 110   | 3.90  | 2.875 | 17.02 | 0     | 1     | 4     | 4     | \n",
       "| Datsun 710 | 22.8  | 4     | 108   |  93   | 3.85  | 2.320 | 18.61 | 1     | 1     | 4     | 1     | \n",
       "| Hornet 4 Drive | 21.4  | 6     | 258   | 110   | 3.08  | 3.215 | 19.44 | 1     | 0     | 3     | 1     | \n",
       "| Hornet Sportabout | 18.7  | 8     | 360   | 175   | 3.15  | 3.440 | 17.02 | 0     | 0     | 3     | 2     | \n",
       "| Valiant | 18.1  | 6     | 225   | 105   | 2.76  | 3.460 | 20.22 | 1     | 0     | 3     | 1     | \n",
       "\n",
       "\n"
      ],
      "text/plain": [
       "                  mpg  cyl disp hp  drat wt    qsec  vs am gear carb\n",
       "Mazda RX4         21.0 6   160  110 3.90 2.620 16.46 0  1  4    4   \n",
       "Mazda RX4 Wag     21.0 6   160  110 3.90 2.875 17.02 0  1  4    4   \n",
       "Datsun 710        22.8 4   108   93 3.85 2.320 18.61 1  1  4    1   \n",
       "Hornet 4 Drive    21.4 6   258  110 3.08 3.215 19.44 1  0  3    1   \n",
       "Hornet Sportabout 18.7 8   360  175 3.15 3.440 17.02 0  0  3    2   \n",
       "Valiant           18.1 6   225  105 2.76 3.460 20.22 1  0  3    1   "
      ]
     },
     "metadata": {},
     "output_type": "display_data"
    }
   ],
   "source": [
    "head(cars)"
   ]
  },
  {
   "cell_type": "code",
   "execution_count": 54,
   "metadata": {},
   "outputs": [],
   "source": [
    "library(dplyr)"
   ]
  },
  {
   "cell_type": "code",
   "execution_count": 155,
   "metadata": {},
   "outputs": [],
   "source": [
    "temp<-select(cars, mpg, cyl, am )"
   ]
  },
  {
   "cell_type": "code",
   "execution_count": 156,
   "metadata": {},
   "outputs": [
    {
     "data": {
      "text/html": [
       "<table>\n",
       "<thead><tr><th></th><th scope=col>mpg</th><th scope=col>cyl</th><th scope=col>am</th></tr></thead>\n",
       "<tbody>\n",
       "\t<tr><th scope=row>Mazda RX4</th><td>21.0</td><td>6   </td><td>1   </td></tr>\n",
       "\t<tr><th scope=row>Mazda RX4 Wag</th><td>21.0</td><td>6   </td><td>1   </td></tr>\n",
       "\t<tr><th scope=row>Datsun 710</th><td>22.8</td><td>4   </td><td>1   </td></tr>\n",
       "\t<tr><th scope=row>Hornet 4 Drive</th><td>21.4</td><td>6   </td><td>0   </td></tr>\n",
       "\t<tr><th scope=row>Hornet Sportabout</th><td>18.7</td><td>8   </td><td>0   </td></tr>\n",
       "\t<tr><th scope=row>Valiant</th><td>18.1</td><td>6   </td><td>0   </td></tr>\n",
       "</tbody>\n",
       "</table>\n"
      ],
      "text/latex": [
       "\\begin{tabular}{r|lll}\n",
       "  & mpg & cyl & am\\\\\n",
       "\\hline\n",
       "\tMazda RX4 & 21.0 & 6    & 1   \\\\\n",
       "\tMazda RX4 Wag & 21.0 & 6    & 1   \\\\\n",
       "\tDatsun 710 & 22.8 & 4    & 1   \\\\\n",
       "\tHornet 4 Drive & 21.4 & 6    & 0   \\\\\n",
       "\tHornet Sportabout & 18.7 & 8    & 0   \\\\\n",
       "\tValiant & 18.1 & 6    & 0   \\\\\n",
       "\\end{tabular}\n"
      ],
      "text/markdown": [
       "\n",
       "| <!--/--> | mpg | cyl | am | \n",
       "|---|---|---|---|---|---|\n",
       "| Mazda RX4 | 21.0 | 6    | 1    | \n",
       "| Mazda RX4 Wag | 21.0 | 6    | 1    | \n",
       "| Datsun 710 | 22.8 | 4    | 1    | \n",
       "| Hornet 4 Drive | 21.4 | 6    | 0    | \n",
       "| Hornet Sportabout | 18.7 | 8    | 0    | \n",
       "| Valiant | 18.1 | 6    | 0    | \n",
       "\n",
       "\n"
      ],
      "text/plain": [
       "                  mpg  cyl am\n",
       "Mazda RX4         21.0 6   1 \n",
       "Mazda RX4 Wag     21.0 6   1 \n",
       "Datsun 710        22.8 4   1 \n",
       "Hornet 4 Drive    21.4 6   0 \n",
       "Hornet Sportabout 18.7 8   0 \n",
       "Valiant           18.1 6   0 "
      ]
     },
     "metadata": {},
     "output_type": "display_data"
    }
   ],
   "source": [
    "head(temp)"
   ]
  },
  {
   "cell_type": "code",
   "execution_count": 76,
   "metadata": {},
   "outputs": [
    {
     "data": {
      "text/html": [
       "<ol class=list-inline>\n",
       "\t<li>'Mazda RX4'</li>\n",
       "\t<li>'Mazda RX4 Wag'</li>\n",
       "\t<li>'Datsun 710'</li>\n",
       "\t<li>'Hornet 4 Drive'</li>\n",
       "\t<li>'Hornet Sportabout'</li>\n",
       "\t<li>'Valiant'</li>\n",
       "\t<li>'Duster 360'</li>\n",
       "\t<li>'Merc 240D'</li>\n",
       "\t<li>'Merc 230'</li>\n",
       "\t<li>'Merc 280'</li>\n",
       "\t<li>'Merc 280C'</li>\n",
       "\t<li>'Merc 450SE'</li>\n",
       "\t<li>'Merc 450SL'</li>\n",
       "\t<li>'Merc 450SLC'</li>\n",
       "\t<li>'Cadillac Fleetwood'</li>\n",
       "\t<li>'Lincoln Continental'</li>\n",
       "\t<li>'Chrysler Imperial'</li>\n",
       "\t<li>'Fiat 128'</li>\n",
       "\t<li>'Honda Civic'</li>\n",
       "\t<li>'Toyota Corolla'</li>\n",
       "\t<li>'Toyota Corona'</li>\n",
       "\t<li>'Dodge Challenger'</li>\n",
       "\t<li>'AMC Javelin'</li>\n",
       "\t<li>'Camaro Z28'</li>\n",
       "\t<li>'Pontiac Firebird'</li>\n",
       "\t<li>'Fiat X1-9'</li>\n",
       "\t<li>'Porsche 914-2'</li>\n",
       "\t<li>'Lotus Europa'</li>\n",
       "\t<li>'Ford Pantera L'</li>\n",
       "\t<li>'Ferrari Dino'</li>\n",
       "\t<li>'Maserati Bora'</li>\n",
       "\t<li>'Volvo 142E'</li>\n",
       "</ol>\n"
      ],
      "text/latex": [
       "\\begin{enumerate*}\n",
       "\\item 'Mazda RX4'\n",
       "\\item 'Mazda RX4 Wag'\n",
       "\\item 'Datsun 710'\n",
       "\\item 'Hornet 4 Drive'\n",
       "\\item 'Hornet Sportabout'\n",
       "\\item 'Valiant'\n",
       "\\item 'Duster 360'\n",
       "\\item 'Merc 240D'\n",
       "\\item 'Merc 230'\n",
       "\\item 'Merc 280'\n",
       "\\item 'Merc 280C'\n",
       "\\item 'Merc 450SE'\n",
       "\\item 'Merc 450SL'\n",
       "\\item 'Merc 450SLC'\n",
       "\\item 'Cadillac Fleetwood'\n",
       "\\item 'Lincoln Continental'\n",
       "\\item 'Chrysler Imperial'\n",
       "\\item 'Fiat 128'\n",
       "\\item 'Honda Civic'\n",
       "\\item 'Toyota Corolla'\n",
       "\\item 'Toyota Corona'\n",
       "\\item 'Dodge Challenger'\n",
       "\\item 'AMC Javelin'\n",
       "\\item 'Camaro Z28'\n",
       "\\item 'Pontiac Firebird'\n",
       "\\item 'Fiat X1-9'\n",
       "\\item 'Porsche 914-2'\n",
       "\\item 'Lotus Europa'\n",
       "\\item 'Ford Pantera L'\n",
       "\\item 'Ferrari Dino'\n",
       "\\item 'Maserati Bora'\n",
       "\\item 'Volvo 142E'\n",
       "\\end{enumerate*}\n"
      ],
      "text/markdown": [
       "1. 'Mazda RX4'\n",
       "2. 'Mazda RX4 Wag'\n",
       "3. 'Datsun 710'\n",
       "4. 'Hornet 4 Drive'\n",
       "5. 'Hornet Sportabout'\n",
       "6. 'Valiant'\n",
       "7. 'Duster 360'\n",
       "8. 'Merc 240D'\n",
       "9. 'Merc 230'\n",
       "10. 'Merc 280'\n",
       "11. 'Merc 280C'\n",
       "12. 'Merc 450SE'\n",
       "13. 'Merc 450SL'\n",
       "14. 'Merc 450SLC'\n",
       "15. 'Cadillac Fleetwood'\n",
       "16. 'Lincoln Continental'\n",
       "17. 'Chrysler Imperial'\n",
       "18. 'Fiat 128'\n",
       "19. 'Honda Civic'\n",
       "20. 'Toyota Corolla'\n",
       "21. 'Toyota Corona'\n",
       "22. 'Dodge Challenger'\n",
       "23. 'AMC Javelin'\n",
       "24. 'Camaro Z28'\n",
       "25. 'Pontiac Firebird'\n",
       "26. 'Fiat X1-9'\n",
       "27. 'Porsche 914-2'\n",
       "28. 'Lotus Europa'\n",
       "29. 'Ford Pantera L'\n",
       "30. 'Ferrari Dino'\n",
       "31. 'Maserati Bora'\n",
       "32. 'Volvo 142E'\n",
       "\n",
       "\n"
      ],
      "text/plain": [
       " [1] \"Mazda RX4\"           \"Mazda RX4 Wag\"       \"Datsun 710\"         \n",
       " [4] \"Hornet 4 Drive\"      \"Hornet Sportabout\"   \"Valiant\"            \n",
       " [7] \"Duster 360\"          \"Merc 240D\"           \"Merc 230\"           \n",
       "[10] \"Merc 280\"            \"Merc 280C\"           \"Merc 450SE\"         \n",
       "[13] \"Merc 450SL\"          \"Merc 450SLC\"         \"Cadillac Fleetwood\" \n",
       "[16] \"Lincoln Continental\" \"Chrysler Imperial\"   \"Fiat 128\"           \n",
       "[19] \"Honda Civic\"         \"Toyota Corolla\"      \"Toyota Corona\"      \n",
       "[22] \"Dodge Challenger\"    \"AMC Javelin\"         \"Camaro Z28\"         \n",
       "[25] \"Pontiac Firebird\"    \"Fiat X1-9\"           \"Porsche 914-2\"      \n",
       "[28] \"Lotus Europa\"        \"Ford Pantera L\"      \"Ferrari Dino\"       \n",
       "[31] \"Maserati Bora\"       \"Volvo 142E\"         "
      ]
     },
     "metadata": {},
     "output_type": "display_data"
    }
   ],
   "source": [
    "rownames(cars)"
   ]
  },
  {
   "cell_type": "markdown",
   "metadata": {},
   "source": [
    "##  Filter by rown Names"
   ]
  },
  {
   "cell_type": "code",
   "execution_count": 82,
   "metadata": {},
   "outputs": [
    {
     "data": {
      "text/html": [
       "1"
      ],
      "text/latex": [
       "1"
      ],
      "text/markdown": [
       "1"
      ],
      "text/plain": [
       "[1] 1"
      ]
     },
     "metadata": {},
     "output_type": "display_data"
    }
   ],
   "source": [
    "grep(\"mazda\",\" mazda. xe34 \")"
   ]
  },
  {
   "cell_type": "code",
   "execution_count": 81,
   "metadata": {},
   "outputs": [
    {
     "data": {
      "text/html": [
       "<table>\n",
       "<thead><tr><th></th><th scope=col>mpg</th><th scope=col>cyl</th><th scope=col>disp</th><th scope=col>hp</th><th scope=col>drat</th><th scope=col>wt</th><th scope=col>qsec</th><th scope=col>vs</th><th scope=col>am</th><th scope=col>gear</th><th scope=col>carb</th></tr></thead>\n",
       "<tbody>\n",
       "\t<tr><th scope=row>Hornet 4 Drive</th><td>21.4 </td><td>6    </td><td>258.0</td><td>110  </td><td>3.08 </td><td>3.215</td><td>19.44</td><td>1    </td><td>0    </td><td>3    </td><td>1    </td></tr>\n",
       "\t<tr><th scope=row>Hornet Sportabout</th><td>18.7 </td><td>8    </td><td>360.0</td><td>175  </td><td>3.15 </td><td>3.440</td><td>17.02</td><td>0    </td><td>0    </td><td>3    </td><td>2    </td></tr>\n",
       "\t<tr><th scope=row>Honda Civic</th><td>30.4 </td><td>4    </td><td> 75.7</td><td> 52  </td><td>4.93 </td><td>1.615</td><td>18.52</td><td>1    </td><td>1    </td><td>4    </td><td>2    </td></tr>\n",
       "</tbody>\n",
       "</table>\n"
      ],
      "text/latex": [
       "\\begin{tabular}{r|lllllllllll}\n",
       "  & mpg & cyl & disp & hp & drat & wt & qsec & vs & am & gear & carb\\\\\n",
       "\\hline\n",
       "\tHornet 4 Drive & 21.4  & 6     & 258.0 & 110   & 3.08  & 3.215 & 19.44 & 1     & 0     & 3     & 1    \\\\\n",
       "\tHornet Sportabout & 18.7  & 8     & 360.0 & 175   & 3.15  & 3.440 & 17.02 & 0     & 0     & 3     & 2    \\\\\n",
       "\tHonda Civic & 30.4  & 4     &  75.7 &  52   & 4.93  & 1.615 & 18.52 & 1     & 1     & 4     & 2    \\\\\n",
       "\\end{tabular}\n"
      ],
      "text/markdown": [
       "\n",
       "| <!--/--> | mpg | cyl | disp | hp | drat | wt | qsec | vs | am | gear | carb | \n",
       "|---|---|---|\n",
       "| Hornet 4 Drive | 21.4  | 6     | 258.0 | 110   | 3.08  | 3.215 | 19.44 | 1     | 0     | 3     | 1     | \n",
       "| Hornet Sportabout | 18.7  | 8     | 360.0 | 175   | 3.15  | 3.440 | 17.02 | 0     | 0     | 3     | 2     | \n",
       "| Honda Civic | 30.4  | 4     |  75.7 |  52   | 4.93  | 1.615 | 18.52 | 1     | 1     | 4     | 2     | \n",
       "\n",
       "\n"
      ],
      "text/plain": [
       "                  mpg  cyl disp  hp  drat wt    qsec  vs am gear carb\n",
       "Hornet 4 Drive    21.4 6   258.0 110 3.08 3.215 19.44 1  0  3    1   \n",
       "Hornet Sportabout 18.7 8   360.0 175 3.15 3.440 17.02 0  0  3    2   \n",
       "Honda Civic       30.4 4    75.7  52 4.93 1.615 18.52 1  1  4    2   "
      ]
     },
     "metadata": {},
     "output_type": "display_data"
    }
   ],
   "source": [
    "cars[ grep(\"H\", rownames(cars)), ]"
   ]
  },
  {
   "cell_type": "code",
   "execution_count": 148,
   "metadata": {},
   "outputs": [
    {
     "data": {
      "text/html": [
       "<table>\n",
       "<thead><tr><th scope=col>mpg</th><th scope=col>cyl</th><th scope=col>disp</th><th scope=col>hp</th><th scope=col>drat</th><th scope=col>wt</th><th scope=col>qsec</th><th scope=col>vs</th><th scope=col>am</th><th scope=col>gear</th><th scope=col>carb</th></tr></thead>\n",
       "<tbody>\n",
       "</tbody>\n",
       "</table>\n"
      ],
      "text/latex": [
       "\\begin{tabular}{r|lllllllllll}\n",
       " mpg & cyl & disp & hp & drat & wt & qsec & vs & am & gear & carb\\\\\n",
       "\\hline\n",
       "\\end{tabular}\n"
      ],
      "text/markdown": [
       "\n",
       "mpg | cyl | disp | hp | drat | wt | qsec | vs | am | gear | carb | \n",
       "||\n",
       "\n",
       "\n"
      ],
      "text/plain": [
       "     mpg cyl disp hp drat wt qsec vs am gear carb"
      ]
     },
     "metadata": {},
     "output_type": "display_data"
    }
   ],
   "source": [
    "cars[ \"Hornet\" %in% rownames(cars), ]"
   ]
  },
  {
   "cell_type": "code",
   "execution_count": null,
   "metadata": {},
   "outputs": [],
   "source": []
  },
  {
   "cell_type": "code",
   "execution_count": 83,
   "metadata": {},
   "outputs": [
    {
     "data": {
      "text/html": [
       "<table>\n",
       "<thead><tr><th></th><th scope=col>mpg</th><th scope=col>cyl</th><th scope=col>disp</th></tr></thead>\n",
       "<tbody>\n",
       "\t<tr><th scope=row>Mazda RX4</th><td>21.0</td><td>6   </td><td>160 </td></tr>\n",
       "\t<tr><th scope=row>Mazda RX4 Wag</th><td>21.0</td><td>6   </td><td>160 </td></tr>\n",
       "\t<tr><th scope=row>Datsun 710</th><td>22.8</td><td>4   </td><td>108 </td></tr>\n",
       "\t<tr><th scope=row>Hornet 4 Drive</th><td>21.4</td><td>6   </td><td>258 </td></tr>\n",
       "\t<tr><th scope=row>Hornet Sportabout</th><td>18.7</td><td>8   </td><td>360 </td></tr>\n",
       "\t<tr><th scope=row>Valiant</th><td>18.1</td><td>6   </td><td>225 </td></tr>\n",
       "</tbody>\n",
       "</table>\n"
      ],
      "text/latex": [
       "\\begin{tabular}{r|lll}\n",
       "  & mpg & cyl & disp\\\\\n",
       "\\hline\n",
       "\tMazda RX4 & 21.0 & 6    & 160 \\\\\n",
       "\tMazda RX4 Wag & 21.0 & 6    & 160 \\\\\n",
       "\tDatsun 710 & 22.8 & 4    & 108 \\\\\n",
       "\tHornet 4 Drive & 21.4 & 6    & 258 \\\\\n",
       "\tHornet Sportabout & 18.7 & 8    & 360 \\\\\n",
       "\tValiant & 18.1 & 6    & 225 \\\\\n",
       "\\end{tabular}\n"
      ],
      "text/markdown": [
       "\n",
       "| <!--/--> | mpg | cyl | disp | \n",
       "|---|---|---|---|---|---|\n",
       "| Mazda RX4 | 21.0 | 6    | 160  | \n",
       "| Mazda RX4 Wag | 21.0 | 6    | 160  | \n",
       "| Datsun 710 | 22.8 | 4    | 108  | \n",
       "| Hornet 4 Drive | 21.4 | 6    | 258  | \n",
       "| Hornet Sportabout | 18.7 | 8    | 360  | \n",
       "| Valiant | 18.1 | 6    | 225  | \n",
       "\n",
       "\n"
      ],
      "text/plain": [
       "                  mpg  cyl disp\n",
       "Mazda RX4         21.0 6   160 \n",
       "Mazda RX4 Wag     21.0 6   160 \n",
       "Datsun 710        22.8 4   108 \n",
       "Hornet 4 Drive    21.4 6   258 \n",
       "Hornet Sportabout 18.7 8   360 \n",
       "Valiant           18.1 6   225 "
      ]
     },
     "metadata": {},
     "output_type": "display_data"
    }
   ],
   "source": [
    "head(cars[, 1:3])"
   ]
  },
  {
   "cell_type": "code",
   "execution_count": 146,
   "metadata": {},
   "outputs": [
    {
     "data": {
      "text/html": [
       "<table>\n",
       "<thead><tr><th></th><th scope=col>mpg</th></tr></thead>\n",
       "<tbody>\n",
       "\t<tr><th scope=row>Mazda RX4</th><td>21.0</td></tr>\n",
       "\t<tr><th scope=row>Mazda RX4 Wag</th><td>21.0</td></tr>\n",
       "\t<tr><th scope=row>Datsun 710</th><td>22.8</td></tr>\n",
       "\t<tr><th scope=row>Hornet 4 Drive</th><td>21.4</td></tr>\n",
       "</tbody>\n",
       "</table>\n"
      ],
      "text/latex": [
       "\\begin{tabular}{r|l}\n",
       "  & mpg\\\\\n",
       "\\hline\n",
       "\tMazda RX4 & 21.0\\\\\n",
       "\tMazda RX4 Wag & 21.0\\\\\n",
       "\tDatsun 710 & 22.8\\\\\n",
       "\tHornet 4 Drive & 21.4\\\\\n",
       "\\end{tabular}\n"
      ],
      "text/markdown": [
       "\n",
       "| <!--/--> | mpg | \n",
       "|---|---|---|---|\n",
       "| Mazda RX4 | 21.0 | \n",
       "| Mazda RX4 Wag | 21.0 | \n",
       "| Datsun 710 | 22.8 | \n",
       "| Hornet 4 Drive | 21.4 | \n",
       "\n",
       "\n"
      ],
      "text/plain": [
       "               mpg \n",
       "Mazda RX4      21.0\n",
       "Mazda RX4 Wag  21.0\n",
       "Datsun 710     22.8\n",
       "Hornet 4 Drive 21.4"
      ]
     },
     "metadata": {},
     "output_type": "display_data"
    }
   ],
   "source": [
    "head(select(cars,starts_with(\"mpg\")),4)"
   ]
  },
  {
   "cell_type": "code",
   "execution_count": 145,
   "metadata": {},
   "outputs": [
    {
     "data": {
      "text/html": [
       "<table>\n",
       "<thead><tr><th></th><th scope=col>cyl</th></tr></thead>\n",
       "<tbody>\n",
       "\t<tr><th scope=row>Mazda RX4</th><td>6</td></tr>\n",
       "\t<tr><th scope=row>Mazda RX4 Wag</th><td>6</td></tr>\n",
       "\t<tr><th scope=row>Datsun 710</th><td>4</td></tr>\n",
       "\t<tr><th scope=row>Hornet 4 Drive</th><td>6</td></tr>\n",
       "</tbody>\n",
       "</table>\n"
      ],
      "text/latex": [
       "\\begin{tabular}{r|l}\n",
       "  & cyl\\\\\n",
       "\\hline\n",
       "\tMazda RX4 & 6\\\\\n",
       "\tMazda RX4 Wag & 6\\\\\n",
       "\tDatsun 710 & 4\\\\\n",
       "\tHornet 4 Drive & 6\\\\\n",
       "\\end{tabular}\n"
      ],
      "text/markdown": [
       "\n",
       "| <!--/--> | cyl | \n",
       "|---|---|---|---|\n",
       "| Mazda RX4 | 6 | \n",
       "| Mazda RX4 Wag | 6 | \n",
       "| Datsun 710 | 4 | \n",
       "| Hornet 4 Drive | 6 | \n",
       "\n",
       "\n"
      ],
      "text/plain": [
       "               cyl\n",
       "Mazda RX4      6  \n",
       "Mazda RX4 Wag  6  \n",
       "Datsun 710     4  \n",
       "Hornet 4 Drive 6  "
      ]
     },
     "metadata": {},
     "output_type": "display_data"
    }
   ],
   "source": [
    "head(select(cars,ends_with(\"cyl\")),4)"
   ]
  },
  {
   "cell_type": "code",
   "execution_count": 154,
   "metadata": {},
   "outputs": [
    {
     "data": {
      "text/html": [
       "<table>\n",
       "<thead><tr><th></th><th scope=col>disp</th><th scope=col>qsec</th><th scope=col>vs</th></tr></thead>\n",
       "<tbody>\n",
       "\t<tr><th scope=row>Mazda RX4</th><td>160  </td><td>16.46</td><td>0    </td></tr>\n",
       "\t<tr><th scope=row>Mazda RX4 Wag</th><td>160  </td><td>17.02</td><td>0    </td></tr>\n",
       "\t<tr><th scope=row>Datsun 710</th><td>108  </td><td>18.61</td><td>1    </td></tr>\n",
       "\t<tr><th scope=row>Hornet 4 Drive</th><td>258  </td><td>19.44</td><td>1    </td></tr>\n",
       "</tbody>\n",
       "</table>\n"
      ],
      "text/latex": [
       "\\begin{tabular}{r|lll}\n",
       "  & disp & qsec & vs\\\\\n",
       "\\hline\n",
       "\tMazda RX4 & 160   & 16.46 & 0    \\\\\n",
       "\tMazda RX4 Wag & 160   & 17.02 & 0    \\\\\n",
       "\tDatsun 710 & 108   & 18.61 & 1    \\\\\n",
       "\tHornet 4 Drive & 258   & 19.44 & 1    \\\\\n",
       "\\end{tabular}\n"
      ],
      "text/markdown": [
       "\n",
       "| <!--/--> | disp | qsec | vs | \n",
       "|---|---|---|---|\n",
       "| Mazda RX4 | 160   | 16.46 | 0     | \n",
       "| Mazda RX4 Wag | 160   | 17.02 | 0     | \n",
       "| Datsun 710 | 108   | 18.61 | 1     | \n",
       "| Hornet 4 Drive | 258   | 19.44 | 1     | \n",
       "\n",
       "\n"
      ],
      "text/plain": [
       "               disp qsec  vs\n",
       "Mazda RX4      160  16.46 0 \n",
       "Mazda RX4 Wag  160  17.02 0 \n",
       "Datsun 710     108  18.61 1 \n",
       "Hornet 4 Drive 258  19.44 1 "
      ]
     },
     "metadata": {},
     "output_type": "display_data"
    }
   ],
   "source": [
    "head(select(cars,contains(\"s\")),4)"
   ]
  },
  {
   "cell_type": "code",
   "execution_count": 143,
   "metadata": {},
   "outputs": [
    {
     "data": {
      "text/html": [
       "<table>\n",
       "<thead><tr><th></th><th scope=col>disp</th></tr></thead>\n",
       "<tbody>\n",
       "\t<tr><th scope=row>Mazda RX4</th><td>160</td></tr>\n",
       "\t<tr><th scope=row>Mazda RX4 Wag</th><td>160</td></tr>\n",
       "\t<tr><th scope=row>Datsun 710</th><td>108</td></tr>\n",
       "\t<tr><th scope=row>Hornet 4 Drive</th><td>258</td></tr>\n",
       "</tbody>\n",
       "</table>\n"
      ],
      "text/latex": [
       "\\begin{tabular}{r|l}\n",
       "  & disp\\\\\n",
       "\\hline\n",
       "\tMazda RX4 & 160\\\\\n",
       "\tMazda RX4 Wag & 160\\\\\n",
       "\tDatsun 710 & 108\\\\\n",
       "\tHornet 4 Drive & 258\\\\\n",
       "\\end{tabular}\n"
      ],
      "text/markdown": [
       "\n",
       "| <!--/--> | disp | \n",
       "|---|---|---|---|\n",
       "| Mazda RX4 | 160 | \n",
       "| Mazda RX4 Wag | 160 | \n",
       "| Datsun 710 | 108 | \n",
       "| Hornet 4 Drive | 258 | \n",
       "\n",
       "\n"
      ],
      "text/plain": [
       "               disp\n",
       "Mazda RX4      160 \n",
       "Mazda RX4 Wag  160 \n",
       "Datsun 710     108 \n",
       "Hornet 4 Drive 258 "
      ]
     },
     "metadata": {},
     "output_type": "display_data"
    }
   ],
   "source": [
    "# Select on columns names of the dataframe which matches\n",
    "head(select(cars,matches(\"di\")),4)"
   ]
  },
  {
   "cell_type": "code",
   "execution_count": null,
   "metadata": {},
   "outputs": [],
   "source": []
  },
  {
   "cell_type": "code",
   "execution_count": 59,
   "metadata": {},
   "outputs": [],
   "source": [
    "temp<- filter( temp, am==1)"
   ]
  },
  {
   "cell_type": "code",
   "execution_count": 60,
   "metadata": {},
   "outputs": [
    {
     "data": {
      "text/html": [
       "<table>\n",
       "<thead><tr><th></th><th scope=col>mpg</th><th scope=col>cyl</th><th scope=col>am</th></tr></thead>\n",
       "<tbody>\n",
       "\t<tr><th scope=row>8</th><td>26.0</td><td>4   </td><td>1   </td></tr>\n",
       "\t<tr><th scope=row>9</th><td>30.4</td><td>4   </td><td>1   </td></tr>\n",
       "\t<tr><th scope=row>10</th><td>15.8</td><td>8   </td><td>1   </td></tr>\n",
       "\t<tr><th scope=row>11</th><td>19.7</td><td>6   </td><td>1   </td></tr>\n",
       "\t<tr><th scope=row>12</th><td>15.0</td><td>8   </td><td>1   </td></tr>\n",
       "\t<tr><th scope=row>13</th><td>21.4</td><td>4   </td><td>1   </td></tr>\n",
       "</tbody>\n",
       "</table>\n"
      ],
      "text/latex": [
       "\\begin{tabular}{r|lll}\n",
       "  & mpg & cyl & am\\\\\n",
       "\\hline\n",
       "\t8 & 26.0 & 4    & 1   \\\\\n",
       "\t9 & 30.4 & 4    & 1   \\\\\n",
       "\t10 & 15.8 & 8    & 1   \\\\\n",
       "\t11 & 19.7 & 6    & 1   \\\\\n",
       "\t12 & 15.0 & 8    & 1   \\\\\n",
       "\t13 & 21.4 & 4    & 1   \\\\\n",
       "\\end{tabular}\n"
      ],
      "text/markdown": [
       "\n",
       "| <!--/--> | mpg | cyl | am | \n",
       "|---|---|---|---|---|---|\n",
       "| 8 | 26.0 | 4    | 1    | \n",
       "| 9 | 30.4 | 4    | 1    | \n",
       "| 10 | 15.8 | 8    | 1    | \n",
       "| 11 | 19.7 | 6    | 1    | \n",
       "| 12 | 15.0 | 8    | 1    | \n",
       "| 13 | 21.4 | 4    | 1    | \n",
       "\n",
       "\n"
      ],
      "text/plain": [
       "   mpg  cyl am\n",
       "8  26.0 4   1 \n",
       "9  30.4 4   1 \n",
       "10 15.8 8   1 \n",
       "11 19.7 6   1 \n",
       "12 15.0 8   1 \n",
       "13 21.4 4   1 "
      ]
     },
     "metadata": {},
     "output_type": "display_data"
    }
   ],
   "source": [
    "tail(temp)"
   ]
  },
  {
   "cell_type": "markdown",
   "metadata": {},
   "source": [
    "## Demo. sprintf"
   ]
  },
  {
   "cell_type": "code",
   "execution_count": 40,
   "metadata": {},
   "outputs": [
    {
     "data": {
      "text/html": [
       "'3.141593'"
      ],
      "text/latex": [
       "'3.141593'"
      ],
      "text/markdown": [
       "'3.141593'"
      ],
      "text/plain": [
       "[1] \"3.141593\""
      ]
     },
     "metadata": {},
     "output_type": "display_data"
    },
    {
     "data": {
      "text/html": [
       "'3.142'"
      ],
      "text/latex": [
       "'3.142'"
      ],
      "text/markdown": [
       "'3.142'"
      ],
      "text/plain": [
       "[1] \"3.142\""
      ]
     },
     "metadata": {},
     "output_type": "display_data"
    },
    {
     "data": {
      "text/html": [
       "'3'"
      ],
      "text/latex": [
       "'3'"
      ],
      "text/markdown": [
       "'3'"
      ],
      "text/plain": [
       "[1] \"3\""
      ]
     },
     "metadata": {},
     "output_type": "display_data"
    },
    {
     "data": {
      "text/html": [
       "<span style=white-space:pre-wrap>'  3.1'</span>"
      ],
      "text/latex": [
       "'  3.1'"
      ],
      "text/markdown": [
       "<span style=white-space:pre-wrap>'  3.1'</span>"
      ],
      "text/plain": [
       "[1] \"  3.1\""
      ]
     },
     "metadata": {},
     "output_type": "display_data"
    },
    {
     "data": {
      "text/html": [
       "'003.1'"
      ],
      "text/latex": [
       "'003.1'"
      ],
      "text/markdown": [
       "'003.1'"
      ],
      "text/plain": [
       "[1] \"003.1\""
      ]
     },
     "metadata": {},
     "output_type": "display_data"
    },
    {
     "data": {
      "text/html": [
       "'+3.141593'"
      ],
      "text/latex": [
       "'+3.141593'"
      ],
      "text/markdown": [
       "'+3.141593'"
      ],
      "text/plain": [
       "[1] \"+3.141593\""
      ]
     },
     "metadata": {},
     "output_type": "display_data"
    },
    {
     "data": {
      "text/html": [
       "' 3.141593'"
      ],
      "text/latex": [
       "' 3.141593'"
      ],
      "text/markdown": [
       "' 3.141593'"
      ],
      "text/plain": [
       "[1] \" 3.141593\""
      ]
     },
     "metadata": {},
     "output_type": "display_data"
    },
    {
     "data": {
      "text/html": [
       "<span style=white-space:pre-wrap>'3.141593  '</span>"
      ],
      "text/latex": [
       "'3.141593  '"
      ],
      "text/markdown": [
       "<span style=white-space:pre-wrap>'3.141593  '</span>"
      ],
      "text/plain": [
       "[1] \"3.141593  \""
      ]
     },
     "metadata": {},
     "output_type": "display_data"
    },
    {
     "data": {
      "text/html": [
       "'3.141593e+00'"
      ],
      "text/latex": [
       "'3.141593e+00'"
      ],
      "text/markdown": [
       "'3.141593e+00'"
      ],
      "text/plain": [
       "[1] \"3.141593e+00\""
      ]
     },
     "metadata": {},
     "output_type": "display_data"
    },
    {
     "data": {
      "text/html": [
       "'3.141593E+00'"
      ],
      "text/latex": [
       "'3.141593E+00'"
      ],
      "text/markdown": [
       "'3.141593E+00'"
      ],
      "text/plain": [
       "[1] \"3.141593E+00\""
      ]
     },
     "metadata": {},
     "output_type": "display_data"
    },
    {
     "data": {
      "text/html": [
       "'3.14159'"
      ],
      "text/latex": [
       "'3.14159'"
      ],
      "text/markdown": [
       "'3.14159'"
      ],
      "text/plain": [
       "[1] \"3.14159\""
      ]
     },
     "metadata": {},
     "output_type": "display_data"
    }
   ],
   "source": [
    "sprintf(\"%f\", pi)\n",
    "sprintf(\"%.3f\", pi)\n",
    "sprintf(\"%1.0f\", pi)\n",
    "sprintf(\"%5.1f\", pi)\n",
    "sprintf(\"%05.1f\", pi)\n",
    "sprintf(\"%+f\", pi)\n",
    "sprintf(\"% f\", pi)\n",
    "sprintf(\"%-10f\", pi) # left justified\n",
    "sprintf(\"%e\", pi)\n",
    "sprintf(\"%E\", pi)\n",
    "sprintf(\"%g\", pi)"
   ]
  },
  {
   "cell_type": "code",
   "execution_count": 49,
   "metadata": {},
   "outputs": [
    {
     "data": {
      "text/html": [
       "<span style=white-space:pre-wrap>'miles per gallon to  km/l =   0.4251'</span>"
      ],
      "text/latex": [
       "'miles per gallon to  km/l =   0.4251'"
      ],
      "text/markdown": [
       "<span style=white-space:pre-wrap>'miles per gallon to  km/l =   0.4251'</span>"
      ],
      "text/plain": [
       "[1] \"miles per gallon to  km/l =   0.4251\""
      ]
     },
     "metadata": {},
     "output_type": "display_data"
    }
   ],
   "source": [
    "sprintf( \"miles per gallon to  km/l =   %06.4f\", 1.60934 /3.78541)\n"
   ]
  },
  {
   "cell_type": "code",
   "execution_count": 157,
   "metadata": {},
   "outputs": [],
   "source": [
    "temp<- mutate(temp,   Consumption=mpg*0.4251)"
   ]
  },
  {
   "cell_type": "code",
   "execution_count": 158,
   "metadata": {},
   "outputs": [
    {
     "data": {
      "text/html": [
       "<table>\n",
       "<thead><tr><th scope=col>mpg</th><th scope=col>cyl</th><th scope=col>am</th><th scope=col>Consumption</th></tr></thead>\n",
       "<tbody>\n",
       "\t<tr><td>21.0   </td><td>6      </td><td>1      </td><td>8.92710</td></tr>\n",
       "\t<tr><td>21.0   </td><td>6      </td><td>1      </td><td>8.92710</td></tr>\n",
       "\t<tr><td>22.8   </td><td>4      </td><td>1      </td><td>9.69228</td></tr>\n",
       "\t<tr><td>21.4   </td><td>6      </td><td>0      </td><td>9.09714</td></tr>\n",
       "\t<tr><td>18.7   </td><td>8      </td><td>0      </td><td>7.94937</td></tr>\n",
       "\t<tr><td>18.1   </td><td>6      </td><td>0      </td><td>7.69431</td></tr>\n",
       "</tbody>\n",
       "</table>\n"
      ],
      "text/latex": [
       "\\begin{tabular}{r|llll}\n",
       " mpg & cyl & am & Consumption\\\\\n",
       "\\hline\n",
       "\t 21.0    & 6       & 1       & 8.92710\\\\\n",
       "\t 21.0    & 6       & 1       & 8.92710\\\\\n",
       "\t 22.8    & 4       & 1       & 9.69228\\\\\n",
       "\t 21.4    & 6       & 0       & 9.09714\\\\\n",
       "\t 18.7    & 8       & 0       & 7.94937\\\\\n",
       "\t 18.1    & 6       & 0       & 7.69431\\\\\n",
       "\\end{tabular}\n"
      ],
      "text/markdown": [
       "\n",
       "mpg | cyl | am | Consumption | \n",
       "|---|---|---|---|---|---|\n",
       "| 21.0    | 6       | 1       | 8.92710 | \n",
       "| 21.0    | 6       | 1       | 8.92710 | \n",
       "| 22.8    | 4       | 1       | 9.69228 | \n",
       "| 21.4    | 6       | 0       | 9.09714 | \n",
       "| 18.7    | 8       | 0       | 7.94937 | \n",
       "| 18.1    | 6       | 0       | 7.69431 | \n",
       "\n",
       "\n"
      ],
      "text/plain": [
       "  mpg  cyl am Consumption\n",
       "1 21.0 6   1  8.92710    \n",
       "2 21.0 6   1  8.92710    \n",
       "3 22.8 4   1  9.69228    \n",
       "4 21.4 6   0  9.09714    \n",
       "5 18.7 8   0  7.94937    \n",
       "6 18.1 6   0  7.69431    "
      ]
     },
     "metadata": {},
     "output_type": "display_data"
    }
   ],
   "source": [
    "head(temp)"
   ]
  },
  {
   "cell_type": "code",
   "execution_count": null,
   "metadata": {},
   "outputs": [],
   "source": []
  },
  {
   "cell_type": "code",
   "execution_count": 159,
   "metadata": {},
   "outputs": [
    {
     "data": {
      "text/html": [
       "<table>\n",
       "<thead><tr><th scope=col>mpg</th><th scope=col>cyl</th><th scope=col>am</th><th scope=col>Consumption</th></tr></thead>\n",
       "<tbody>\n",
       "\t<tr><td>21.0   </td><td>6      </td><td>1      </td><td>8.92710</td></tr>\n",
       "\t<tr><td>21.0   </td><td>6      </td><td>1      </td><td>8.92710</td></tr>\n",
       "\t<tr><td>22.8   </td><td>4      </td><td>1      </td><td>9.69228</td></tr>\n",
       "\t<tr><td>21.4   </td><td>6      </td><td>0      </td><td>9.09714</td></tr>\n",
       "\t<tr><td>18.7   </td><td>8      </td><td>0      </td><td>7.94937</td></tr>\n",
       "\t<tr><td>18.1   </td><td>6      </td><td>0      </td><td>7.69431</td></tr>\n",
       "</tbody>\n",
       "</table>\n"
      ],
      "text/latex": [
       "\\begin{tabular}{r|llll}\n",
       " mpg & cyl & am & Consumption\\\\\n",
       "\\hline\n",
       "\t 21.0    & 6       & 1       & 8.92710\\\\\n",
       "\t 21.0    & 6       & 1       & 8.92710\\\\\n",
       "\t 22.8    & 4       & 1       & 9.69228\\\\\n",
       "\t 21.4    & 6       & 0       & 9.09714\\\\\n",
       "\t 18.7    & 8       & 0       & 7.94937\\\\\n",
       "\t 18.1    & 6       & 0       & 7.69431\\\\\n",
       "\\end{tabular}\n"
      ],
      "text/markdown": [
       "\n",
       "mpg | cyl | am | Consumption | \n",
       "|---|---|---|---|---|---|\n",
       "| 21.0    | 6       | 1       | 8.92710 | \n",
       "| 21.0    | 6       | 1       | 8.92710 | \n",
       "| 22.8    | 4       | 1       | 9.69228 | \n",
       "| 21.4    | 6       | 0       | 9.09714 | \n",
       "| 18.7    | 8       | 0       | 7.94937 | \n",
       "| 18.1    | 6       | 0       | 7.69431 | \n",
       "\n",
       "\n"
      ],
      "text/plain": [
       "  mpg  cyl am Consumption\n",
       "1 21.0 6   1  8.92710    \n",
       "2 21.0 6   1  8.92710    \n",
       "3 22.8 4   1  9.69228    \n",
       "4 21.4 6   0  9.09714    \n",
       "5 18.7 8   0  7.94937    \n",
       "6 18.1 6   0  7.69431    "
      ]
     },
     "metadata": {},
     "output_type": "display_data"
    }
   ],
   "source": [
    "head(temp)"
   ]
  },
  {
   "cell_type": "markdown",
   "metadata": {},
   "source": [
    "```r\n",
    "temps %>% group_by(cyl)\n",
    "head(temp)\n",
    "```"
   ]
  },
  {
   "cell_type": "code",
   "execution_count": 112,
   "metadata": {},
   "outputs": [],
   "source": [
    "library(dplyr)"
   ]
  },
  {
   "cell_type": "code",
   "execution_count": 160,
   "metadata": {},
   "outputs": [
    {
     "data": {
      "text/html": [
       "<table>\n",
       "<thead><tr><th scope=col>cyl</th><th scope=col>avg_consump</th><th scope=col>count</th></tr></thead>\n",
       "<tbody>\n",
       "\t<tr><td>4       </td><td>26.66364</td><td>11      </td></tr>\n",
       "\t<tr><td>6       </td><td>19.74286</td><td> 7      </td></tr>\n",
       "\t<tr><td>8       </td><td>15.10000</td><td>14      </td></tr>\n",
       "</tbody>\n",
       "</table>\n"
      ],
      "text/latex": [
       "\\begin{tabular}{r|lll}\n",
       " cyl & avg\\_consump & count\\\\\n",
       "\\hline\n",
       "\t 4        & 26.66364 & 11      \\\\\n",
       "\t 6        & 19.74286 &  7      \\\\\n",
       "\t 8        & 15.10000 & 14      \\\\\n",
       "\\end{tabular}\n"
      ],
      "text/markdown": [
       "\n",
       "cyl | avg_consump | count | \n",
       "|---|---|---|\n",
       "| 4        | 26.66364 | 11       | \n",
       "| 6        | 19.74286 |  7       | \n",
       "| 8        | 15.10000 | 14       | \n",
       "\n",
       "\n"
      ],
      "text/plain": [
       "  cyl avg_consump count\n",
       "1 4   26.66364    11   \n",
       "2 6   19.74286     7   \n",
       "3 8   15.10000    14   "
      ]
     },
     "metadata": {},
     "output_type": "display_data"
    }
   ],
   "source": [
    "# group records by cylinder \n",
    "temp %>% group_by(cyl) %>%\n",
    "summarise(avg_consump=mean(mpg), count=n())"
   ]
  },
  {
   "cell_type": "markdown",
   "metadata": {},
   "source": [
    "##   College Data"
   ]
  },
  {
   "cell_type": "code",
   "execution_count": 124,
   "metadata": {},
   "outputs": [
    {
     "name": "stderr",
     "output_type": "stream",
     "text": [
      "Updating HTML index of packages in '.Library'\n",
      "Making 'packages.html' ... done\n"
     ]
    }
   ],
   "source": [
    "install.packages(\"ISLR\")\n",
    "library(ISLR)"
   ]
  },
  {
   "cell_type": "code",
   "execution_count": 125,
   "metadata": {},
   "outputs": [
    {
     "data": {
      "text/html": [
       "<table>\n",
       "<thead><tr><th></th><th scope=col>Private</th><th scope=col>Apps</th><th scope=col>Accept</th><th scope=col>Enroll</th><th scope=col>Top10perc</th><th scope=col>Top25perc</th><th scope=col>F.Undergrad</th><th scope=col>P.Undergrad</th><th scope=col>Outstate</th><th scope=col>Room.Board</th><th scope=col>Books</th><th scope=col>Personal</th><th scope=col>PhD</th><th scope=col>Terminal</th><th scope=col>S.F.Ratio</th><th scope=col>perc.alumni</th><th scope=col>Expend</th><th scope=col>Grad.Rate</th></tr></thead>\n",
       "<tbody>\n",
       "\t<tr><th scope=row>Abilene Christian University</th><td>Yes  </td><td> 1660</td><td> 1232</td><td> 721 </td><td>23   </td><td>52   </td><td> 2885</td><td> 537 </td><td> 7440</td><td>3300 </td><td>450  </td><td>2200 </td><td>70   </td><td> 78  </td><td>18.1 </td><td>12   </td><td> 7041</td><td> 60  </td></tr>\n",
       "\t<tr><th scope=row>Adelphi University</th><td>Yes  </td><td> 2186</td><td> 1924</td><td> 512 </td><td>16   </td><td>29   </td><td> 2683</td><td>1227 </td><td>12280</td><td>6450 </td><td>750  </td><td>1500 </td><td>29   </td><td> 30  </td><td>12.2 </td><td>16   </td><td>10527</td><td> 56  </td></tr>\n",
       "\t<tr><th scope=row>Adrian College</th><td>Yes  </td><td> 1428</td><td> 1097</td><td> 336 </td><td>22   </td><td>50   </td><td> 1036</td><td>  99 </td><td>11250</td><td>3750 </td><td>400  </td><td>1165 </td><td>53   </td><td> 66  </td><td>12.9 </td><td>30   </td><td> 8735</td><td> 54  </td></tr>\n",
       "\t<tr><th scope=row>Agnes Scott College</th><td>Yes  </td><td>  417</td><td>  349</td><td> 137 </td><td>60   </td><td>89   </td><td>  510</td><td>  63 </td><td>12960</td><td>5450 </td><td>450  </td><td> 875 </td><td>92   </td><td> 97  </td><td> 7.7 </td><td>37   </td><td>19016</td><td> 59  </td></tr>\n",
       "\t<tr><th scope=row>Alaska Pacific University</th><td>Yes  </td><td>  193</td><td>  146</td><td>  55 </td><td>16   </td><td>44   </td><td>  249</td><td> 869 </td><td> 7560</td><td>4120 </td><td>800  </td><td>1500 </td><td>76   </td><td> 72  </td><td>11.9 </td><td> 2   </td><td>10922</td><td> 15  </td></tr>\n",
       "\t<tr><th scope=row>Albertson College</th><td>Yes  </td><td>  587</td><td>  479</td><td> 158 </td><td>38   </td><td>62   </td><td>  678</td><td>  41 </td><td>13500</td><td>3335 </td><td>500  </td><td> 675 </td><td>67   </td><td> 73  </td><td> 9.4 </td><td>11   </td><td> 9727</td><td> 55  </td></tr>\n",
       "\t<tr><th scope=row>Albertus Magnus College</th><td>Yes  </td><td>  353</td><td>  340</td><td> 103 </td><td>17   </td><td>45   </td><td>  416</td><td> 230 </td><td>13290</td><td>5720 </td><td>500  </td><td>1500 </td><td>90   </td><td> 93  </td><td>11.5 </td><td>26   </td><td> 8861</td><td> 63  </td></tr>\n",
       "\t<tr><th scope=row>Albion College</th><td>Yes  </td><td> 1899</td><td> 1720</td><td> 489 </td><td>37   </td><td>68   </td><td> 1594</td><td>  32 </td><td>13868</td><td>4826 </td><td>450  </td><td> 850 </td><td>89   </td><td>100  </td><td>13.7 </td><td>37   </td><td>11487</td><td> 73  </td></tr>\n",
       "\t<tr><th scope=row>Albright College</th><td>Yes  </td><td> 1038</td><td>  839</td><td> 227 </td><td>30   </td><td>63   </td><td>  973</td><td> 306 </td><td>15595</td><td>4400 </td><td>300  </td><td> 500 </td><td>79   </td><td> 84  </td><td>11.3 </td><td>23   </td><td>11644</td><td> 80  </td></tr>\n",
       "\t<tr><th scope=row>Alderson-Broaddus College</th><td>Yes  </td><td>  582</td><td>  498</td><td> 172 </td><td>21   </td><td>44   </td><td>  799</td><td>  78 </td><td>10468</td><td>3380 </td><td>660  </td><td>1800 </td><td>40   </td><td> 41  </td><td>11.5 </td><td>15   </td><td> 8991</td><td> 52  </td></tr>\n",
       "\t<tr><th scope=row>Alfred University</th><td>Yes  </td><td> 1732</td><td> 1425</td><td> 472 </td><td>37   </td><td>75   </td><td> 1830</td><td> 110 </td><td>16548</td><td>5406 </td><td>500  </td><td> 600 </td><td>82   </td><td> 88  </td><td>11.3 </td><td>31   </td><td>10932</td><td> 73  </td></tr>\n",
       "\t<tr><th scope=row>Allegheny College</th><td>Yes  </td><td> 2652</td><td> 1900</td><td> 484 </td><td>44   </td><td>77   </td><td> 1707</td><td>  44 </td><td>17080</td><td>4440 </td><td>400  </td><td> 600 </td><td>73   </td><td> 91  </td><td> 9.9 </td><td>41   </td><td>11711</td><td> 76  </td></tr>\n",
       "\t<tr><th scope=row>Allentown Coll. of St. Francis de Sales</th><td>Yes  </td><td> 1179</td><td>  780</td><td> 290 </td><td>38   </td><td>64   </td><td> 1130</td><td> 638 </td><td> 9690</td><td>4785 </td><td>600  </td><td>1000 </td><td>60   </td><td> 84  </td><td>13.3 </td><td>21   </td><td> 7940</td><td> 74  </td></tr>\n",
       "\t<tr><th scope=row>Alma College</th><td>Yes  </td><td> 1267</td><td> 1080</td><td> 385 </td><td>44   </td><td>73   </td><td> 1306</td><td>  28 </td><td>12572</td><td>4552 </td><td>400  </td><td> 400 </td><td>79   </td><td> 87  </td><td>15.3 </td><td>32   </td><td> 9305</td><td> 68  </td></tr>\n",
       "\t<tr><th scope=row>Alverno College</th><td>Yes  </td><td>  494</td><td>  313</td><td> 157 </td><td>23   </td><td>46   </td><td> 1317</td><td>1235 </td><td> 8352</td><td>3640 </td><td>650  </td><td>2449 </td><td>36   </td><td> 69  </td><td>11.1 </td><td>26   </td><td> 8127</td><td> 55  </td></tr>\n",
       "\t<tr><th scope=row>American International College</th><td>Yes  </td><td> 1420</td><td> 1093</td><td> 220 </td><td> 9   </td><td>22   </td><td> 1018</td><td> 287 </td><td> 8700</td><td>4780 </td><td>450  </td><td>1400 </td><td>78   </td><td> 84  </td><td>14.7 </td><td>19   </td><td> 7355</td><td> 69  </td></tr>\n",
       "\t<tr><th scope=row>Amherst College</th><td>Yes  </td><td> 4302</td><td>  992</td><td> 418 </td><td>83   </td><td>96   </td><td> 1593</td><td>   5 </td><td>19760</td><td>5300 </td><td>660  </td><td>1598 </td><td>93   </td><td> 98  </td><td> 8.4 </td><td>63   </td><td>21424</td><td>100  </td></tr>\n",
       "\t<tr><th scope=row>Anderson University</th><td>Yes  </td><td> 1216</td><td>  908</td><td> 423 </td><td>19   </td><td>40   </td><td> 1819</td><td> 281 </td><td>10100</td><td>3520 </td><td>550  </td><td>1100 </td><td>48   </td><td> 61  </td><td>12.1 </td><td>14   </td><td> 7994</td><td> 59  </td></tr>\n",
       "\t<tr><th scope=row>Andrews University</th><td>Yes  </td><td> 1130</td><td>  704</td><td> 322 </td><td>14   </td><td>23   </td><td> 1586</td><td> 326 </td><td> 9996</td><td>3090 </td><td>900  </td><td>1320 </td><td>62   </td><td> 66  </td><td>11.5 </td><td>18   </td><td>10908</td><td> 46  </td></tr>\n",
       "\t<tr><th scope=row>Angelo State University</th><td>No   </td><td> 3540</td><td> 2001</td><td>1016 </td><td>24   </td><td>54   </td><td> 4190</td><td>1512 </td><td> 5130</td><td>3592 </td><td>500  </td><td>2000 </td><td>60   </td><td> 62  </td><td>23.1 </td><td> 5   </td><td> 4010</td><td> 34  </td></tr>\n",
       "\t<tr><th scope=row>Antioch University</th><td>Yes  </td><td>  713</td><td>  661</td><td> 252 </td><td>25   </td><td>44   </td><td>  712</td><td>  23 </td><td>15476</td><td>3336 </td><td>400  </td><td>1100 </td><td>69   </td><td> 82  </td><td>11.3 </td><td>35   </td><td>42926</td><td> 48  </td></tr>\n",
       "\t<tr><th scope=row>Appalachian State University</th><td>No   </td><td> 7313</td><td> 4664</td><td>1910 </td><td>20   </td><td>63   </td><td> 9940</td><td>1035 </td><td> 6806</td><td>2540 </td><td> 96  </td><td>2000 </td><td>83   </td><td> 96  </td><td>18.3 </td><td>14   </td><td> 5854</td><td> 70  </td></tr>\n",
       "\t<tr><th scope=row>Aquinas College</th><td>Yes  </td><td>  619</td><td>  516</td><td> 219 </td><td>20   </td><td>51   </td><td> 1251</td><td> 767 </td><td>11208</td><td>4124 </td><td>350  </td><td>1615 </td><td>55   </td><td> 65  </td><td>12.7 </td><td>25   </td><td> 6584</td><td> 65  </td></tr>\n",
       "\t<tr><th scope=row>Arizona State University Main campus</th><td>No   </td><td>12809</td><td>10308</td><td>3761 </td><td>24   </td><td>49   </td><td>22593</td><td>7585 </td><td> 7434</td><td>4850 </td><td>700  </td><td>2100 </td><td>88   </td><td> 93  </td><td>18.9 </td><td> 5   </td><td> 4602</td><td> 48  </td></tr>\n",
       "\t<tr><th scope=row>Arkansas College (Lyon College)</th><td>Yes  </td><td>  708</td><td>  334</td><td> 166 </td><td>46   </td><td>74   </td><td>  530</td><td> 182 </td><td> 8644</td><td>3922 </td><td>500  </td><td> 800 </td><td>79   </td><td> 88  </td><td>12.6 </td><td>24   </td><td>14579</td><td> 54  </td></tr>\n",
       "\t<tr><th scope=row>Arkansas Tech University</th><td>No   </td><td> 1734</td><td> 1729</td><td> 951 </td><td>12   </td><td>52   </td><td> 3602</td><td> 939 </td><td> 3460</td><td>2650 </td><td>450  </td><td>1000 </td><td>57   </td><td> 60  </td><td>19.6 </td><td> 5   </td><td> 4739</td><td> 48  </td></tr>\n",
       "\t<tr><th scope=row>Assumption College</th><td>Yes  </td><td> 2135</td><td> 1700</td><td> 491 </td><td>23   </td><td>59   </td><td> 1708</td><td> 689 </td><td>12000</td><td>5920 </td><td>500  </td><td> 500 </td><td>93   </td><td> 93  </td><td>13.8 </td><td>30   </td><td> 7100</td><td> 88  </td></tr>\n",
       "\t<tr><th scope=row>Auburn University-Main Campus</th><td>No   </td><td> 7548</td><td> 6791</td><td>3070 </td><td>25   </td><td>57   </td><td>16262</td><td>1716 </td><td> 6300</td><td>3933 </td><td>600  </td><td>1908 </td><td>85   </td><td> 91  </td><td>16.7 </td><td>18   </td><td> 6642</td><td> 69  </td></tr>\n",
       "\t<tr><th scope=row>Augsburg College</th><td>Yes  </td><td>  662</td><td>  513</td><td> 257 </td><td>12   </td><td>30   </td><td> 2074</td><td> 726 </td><td>11902</td><td>4372 </td><td>540  </td><td> 950 </td><td>65   </td><td> 65  </td><td>12.8 </td><td>31   </td><td> 7836</td><td> 58  </td></tr>\n",
       "\t<tr><th scope=row>Augustana College IL</th><td>Yes  </td><td> 1879</td><td> 1658</td><td> 497 </td><td>36   </td><td>69   </td><td> 1950</td><td>  38 </td><td>13353</td><td>4173 </td><td>540  </td><td> 821 </td><td>78   </td><td> 83  </td><td>12.7 </td><td>40   </td><td> 9220</td><td> 71  </td></tr>\n",
       "\t<tr><th scope=row>⋮</th><td>⋮</td><td>⋮</td><td>⋮</td><td>⋮</td><td>⋮</td><td>⋮</td><td>⋮</td><td>⋮</td><td>⋮</td><td>⋮</td><td>⋮</td><td>⋮</td><td>⋮</td><td>⋮</td><td>⋮</td><td>⋮</td><td>⋮</td><td>⋮</td></tr>\n",
       "\t<tr><th scope=row>Westfield State College</th><td>No   </td><td> 3100</td><td>2150 </td><td> 825 </td><td> 3   </td><td>20   </td><td>3234 </td><td> 941 </td><td> 5542</td><td>3788 </td><td>500  </td><td>1300 </td><td>75   </td><td>79   </td><td>15.7 </td><td>20   </td><td> 4222</td><td>65   </td></tr>\n",
       "\t<tr><th scope=row>Westminster College MO</th><td>Yes  </td><td>  662</td><td> 553 </td><td> 184 </td><td>20   </td><td>43   </td><td> 665 </td><td>  37 </td><td>10720</td><td>4050 </td><td>600  </td><td>1650 </td><td>66   </td><td>70   </td><td>12.5 </td><td>20   </td><td> 7925</td><td>62   </td></tr>\n",
       "\t<tr><th scope=row>Westminster College</th><td>Yes  </td><td>  996</td><td> 866 </td><td> 377 </td><td>29   </td><td>58   </td><td>1411 </td><td>  72 </td><td>12065</td><td>3615 </td><td>430  </td><td> 685 </td><td>62   </td><td>78   </td><td>12.5 </td><td>41   </td><td> 8596</td><td>80   </td></tr>\n",
       "\t<tr><th scope=row>Westminster College of Salt Lake City</th><td>Yes  </td><td>  917</td><td> 720 </td><td> 213 </td><td>21   </td><td>60   </td><td> 979 </td><td> 743 </td><td> 8820</td><td>4050 </td><td>600  </td><td>2025 </td><td>68   </td><td>83   </td><td>10.5 </td><td>34   </td><td> 7170</td><td>50   </td></tr>\n",
       "\t<tr><th scope=row>Westmont College</th><td>No   </td><td>  950</td><td> 713 </td><td> 351 </td><td>42   </td><td>72   </td><td>1276 </td><td>   9 </td><td>14320</td><td>5304 </td><td>490  </td><td>1410 </td><td>77   </td><td>77   </td><td>14.9 </td><td>17   </td><td> 8837</td><td>87   </td></tr>\n",
       "\t<tr><th scope=row>Wheaton College IL</th><td>Yes  </td><td> 1432</td><td> 920 </td><td> 548 </td><td>56   </td><td>84   </td><td>2200 </td><td>  56 </td><td>11480</td><td>4200 </td><td>530  </td><td>1400 </td><td>81   </td><td>83   </td><td>12.7 </td><td>40   </td><td>11916</td><td>85   </td></tr>\n",
       "\t<tr><th scope=row>Westminster College PA</th><td>Yes  </td><td> 1738</td><td>1373 </td><td> 417 </td><td>21   </td><td>55   </td><td>1335 </td><td>  30 </td><td>18460</td><td>5970 </td><td>700  </td><td> 850 </td><td>92   </td><td>96   </td><td>13.2 </td><td>41   </td><td>22704</td><td>71   </td></tr>\n",
       "\t<tr><th scope=row>Wheeling Jesuit College</th><td>Yes  </td><td>  903</td><td> 755 </td><td> 213 </td><td>15   </td><td>49   </td><td> 971 </td><td> 305 </td><td>10500</td><td>4545 </td><td>600  </td><td> 600 </td><td>66   </td><td>71   </td><td>14.1 </td><td>27   </td><td> 7494</td><td>72   </td></tr>\n",
       "\t<tr><th scope=row>Whitman College</th><td>Yes  </td><td> 1861</td><td> 998 </td><td> 359 </td><td>45   </td><td>77   </td><td>1220 </td><td>  46 </td><td>16670</td><td>4900 </td><td>750  </td><td> 800 </td><td>80   </td><td>83   </td><td>10.5 </td><td>51   </td><td>13198</td><td>72   </td></tr>\n",
       "\t<tr><th scope=row>Whittier College</th><td>Yes  </td><td> 1681</td><td>1069 </td><td> 344 </td><td>35   </td><td>63   </td><td>1235 </td><td>  30 </td><td>16249</td><td>5699 </td><td>500  </td><td>1998 </td><td>84   </td><td>92   </td><td>13.6 </td><td>29   </td><td>11778</td><td>52   </td></tr>\n",
       "\t<tr><th scope=row>Whitworth College</th><td>Yes  </td><td> 1121</td><td> 926 </td><td> 372 </td><td>43   </td><td>70   </td><td>1270 </td><td> 160 </td><td>12660</td><td>4500 </td><td>678  </td><td>2424 </td><td>80   </td><td>80   </td><td>16.9 </td><td>20   </td><td> 8328</td><td>80   </td></tr>\n",
       "\t<tr><th scope=row>Widener University</th><td>Yes  </td><td> 2139</td><td>1492 </td><td> 502 </td><td>24   </td><td>64   </td><td>2186 </td><td>2171 </td><td>12350</td><td>5370 </td><td>500  </td><td>1350 </td><td>88   </td><td>86   </td><td>12.6 </td><td>19   </td><td> 9603</td><td>63   </td></tr>\n",
       "\t<tr><th scope=row>Wilkes University</th><td>Yes  </td><td> 1631</td><td>1431 </td><td> 434 </td><td>15   </td><td>36   </td><td>1803 </td><td> 603 </td><td>11150</td><td>5130 </td><td>550  </td><td>1260 </td><td>78   </td><td>92   </td><td>13.3 </td><td>24   </td><td> 8543</td><td>67   </td></tr>\n",
       "\t<tr><th scope=row>Willamette University</th><td>Yes  </td><td> 1658</td><td>1327 </td><td> 395 </td><td>49   </td><td>80   </td><td>1595 </td><td> 159 </td><td>14800</td><td>4620 </td><td>400  </td><td> 790 </td><td>91   </td><td>94   </td><td>13.3 </td><td>37   </td><td>10779</td><td>68   </td></tr>\n",
       "\t<tr><th scope=row>William Jewell College</th><td>Yes  </td><td>  663</td><td> 547 </td><td> 315 </td><td>32   </td><td>67   </td><td>1279 </td><td>  75 </td><td>10060</td><td>2970 </td><td>500  </td><td>2600 </td><td>74   </td><td>80   </td><td>11.2 </td><td>19   </td><td> 7885</td><td>59   </td></tr>\n",
       "\t<tr><th scope=row>William Woods University</th><td>Yes  </td><td>  469</td><td> 435 </td><td> 227 </td><td>17   </td><td>39   </td><td> 851 </td><td> 120 </td><td>10535</td><td>4365 </td><td>550  </td><td>3700 </td><td>39   </td><td>66   </td><td>12.9 </td><td>16   </td><td> 7438</td><td>52   </td></tr>\n",
       "\t<tr><th scope=row>Williams College</th><td>Yes  </td><td> 4186</td><td>1245 </td><td> 526 </td><td>81   </td><td>96   </td><td>1988 </td><td>  29 </td><td>19629</td><td>5790 </td><td>500  </td><td>1200 </td><td>94   </td><td>99   </td><td> 9.0 </td><td>64   </td><td>22014</td><td>99   </td></tr>\n",
       "\t<tr><th scope=row>Wilson College</th><td>Yes  </td><td>  167</td><td> 130 </td><td>  46 </td><td>16   </td><td>50   </td><td> 199 </td><td> 676 </td><td>11428</td><td>5084 </td><td>450  </td><td> 475 </td><td>67   </td><td>76   </td><td> 8.3 </td><td>43   </td><td>10291</td><td>67   </td></tr>\n",
       "\t<tr><th scope=row>Wingate College</th><td>Yes  </td><td> 1239</td><td>1017 </td><td> 383 </td><td>10   </td><td>34   </td><td>1207 </td><td> 157 </td><td> 7820</td><td>3400 </td><td>550  </td><td>1550 </td><td>69   </td><td>81   </td><td>13.9 </td><td> 8   </td><td> 7264</td><td>91   </td></tr>\n",
       "\t<tr><th scope=row>Winona State University</th><td>No   </td><td> 3325</td><td>2047 </td><td>1301 </td><td>20   </td><td>45   </td><td>5800 </td><td> 872 </td><td> 4200</td><td>2700 </td><td>300  </td><td>1200 </td><td>53   </td><td>60   </td><td>20.2 </td><td>18   </td><td> 5318</td><td>58   </td></tr>\n",
       "\t<tr><th scope=row>Winthrop University</th><td>No   </td><td> 2320</td><td>1805 </td><td> 769 </td><td>24   </td><td>61   </td><td>3395 </td><td> 670 </td><td> 6400</td><td>3392 </td><td>580  </td><td>2150 </td><td>71   </td><td>80   </td><td>12.8 </td><td>26   </td><td> 6729</td><td>59   </td></tr>\n",
       "\t<tr><th scope=row>Wisconsin Lutheran College</th><td>Yes  </td><td>  152</td><td> 128 </td><td>  75 </td><td>17   </td><td>41   </td><td> 282 </td><td>  22 </td><td> 9100</td><td>3700 </td><td>500  </td><td>1400 </td><td>48   </td><td>48   </td><td> 8.5 </td><td>26   </td><td> 8960</td><td>50   </td></tr>\n",
       "\t<tr><th scope=row>Wittenberg University</th><td>Yes  </td><td> 1979</td><td>1739 </td><td> 575 </td><td>42   </td><td>68   </td><td>1980 </td><td> 144 </td><td>15948</td><td>4404 </td><td>400  </td><td> 800 </td><td>82   </td><td>95   </td><td>12.8 </td><td>29   </td><td>10414</td><td>78   </td></tr>\n",
       "\t<tr><th scope=row>Wofford College</th><td>Yes  </td><td> 1501</td><td> 935 </td><td> 273 </td><td>51   </td><td>83   </td><td>1059 </td><td>  34 </td><td>12680</td><td>4150 </td><td>605  </td><td>1440 </td><td>91   </td><td>92   </td><td>15.3 </td><td>42   </td><td> 7875</td><td>75   </td></tr>\n",
       "\t<tr><th scope=row>Worcester Polytechnic Institute</th><td>Yes  </td><td> 2768</td><td>2314 </td><td> 682 </td><td>49   </td><td>86   </td><td>2802 </td><td>  86 </td><td>15884</td><td>5370 </td><td>530  </td><td> 730 </td><td>92   </td><td>94   </td><td>15.2 </td><td>34   </td><td>10774</td><td>82   </td></tr>\n",
       "\t<tr><th scope=row>Worcester State College</th><td>No   </td><td> 2197</td><td>1515 </td><td> 543 </td><td> 4   </td><td>26   </td><td>3089 </td><td>2029 </td><td> 6797</td><td>3900 </td><td>500  </td><td>1200 </td><td>60   </td><td>60   </td><td>21.0 </td><td>14   </td><td> 4469</td><td>40   </td></tr>\n",
       "\t<tr><th scope=row>Xavier University</th><td>Yes  </td><td> 1959</td><td>1805 </td><td> 695 </td><td>24   </td><td>47   </td><td>2849 </td><td>1107 </td><td>11520</td><td>4960 </td><td>600  </td><td>1250 </td><td>73   </td><td>75   </td><td>13.3 </td><td>31   </td><td> 9189</td><td>83   </td></tr>\n",
       "\t<tr><th scope=row>Xavier University of Louisiana</th><td>Yes  </td><td> 2097</td><td>1915 </td><td> 695 </td><td>34   </td><td>61   </td><td>2793 </td><td> 166 </td><td> 6900</td><td>4200 </td><td>617  </td><td> 781 </td><td>67   </td><td>75   </td><td>14.4 </td><td>20   </td><td> 8323</td><td>49   </td></tr>\n",
       "\t<tr><th scope=row>Yale University</th><td>Yes  </td><td>10705</td><td>2453 </td><td>1317 </td><td>95   </td><td>99   </td><td>5217 </td><td>  83 </td><td>19840</td><td>6510 </td><td>630  </td><td>2115 </td><td>96   </td><td>96   </td><td> 5.8 </td><td>49   </td><td>40386</td><td>99   </td></tr>\n",
       "\t<tr><th scope=row>York College of Pennsylvania</th><td>Yes  </td><td> 2989</td><td>1855 </td><td> 691 </td><td>28   </td><td>63   </td><td>2988 </td><td>1726 </td><td> 4990</td><td>3560 </td><td>500  </td><td>1250 </td><td>75   </td><td>75   </td><td>18.1 </td><td>28   </td><td> 4509</td><td>99   </td></tr>\n",
       "</tbody>\n",
       "</table>\n"
      ],
      "text/latex": [
       "\\begin{tabular}{r|llllllllllllllllll}\n",
       "  & Private & Apps & Accept & Enroll & Top10perc & Top25perc & F.Undergrad & P.Undergrad & Outstate & Room.Board & Books & Personal & PhD & Terminal & S.F.Ratio & perc.alumni & Expend & Grad.Rate\\\\\n",
       "\\hline\n",
       "\tAbilene Christian University & Yes   &  1660 &  1232 &  721  & 23    & 52    &  2885 &  537  &  7440 & 3300  & 450   & 2200  & 70    &  78   & 18.1  & 12    &  7041 &  60  \\\\\n",
       "\tAdelphi University & Yes   &  2186 &  1924 &  512  & 16    & 29    &  2683 & 1227  & 12280 & 6450  & 750   & 1500  & 29    &  30   & 12.2  & 16    & 10527 &  56  \\\\\n",
       "\tAdrian College & Yes   &  1428 &  1097 &  336  & 22    & 50    &  1036 &   99  & 11250 & 3750  & 400   & 1165  & 53    &  66   & 12.9  & 30    &  8735 &  54  \\\\\n",
       "\tAgnes Scott College & Yes   &   417 &   349 &  137  & 60    & 89    &   510 &   63  & 12960 & 5450  & 450   &  875  & 92    &  97   &  7.7  & 37    & 19016 &  59  \\\\\n",
       "\tAlaska Pacific University & Yes   &   193 &   146 &   55  & 16    & 44    &   249 &  869  &  7560 & 4120  & 800   & 1500  & 76    &  72   & 11.9  &  2    & 10922 &  15  \\\\\n",
       "\tAlbertson College & Yes   &   587 &   479 &  158  & 38    & 62    &   678 &   41  & 13500 & 3335  & 500   &  675  & 67    &  73   &  9.4  & 11    &  9727 &  55  \\\\\n",
       "\tAlbertus Magnus College & Yes   &   353 &   340 &  103  & 17    & 45    &   416 &  230  & 13290 & 5720  & 500   & 1500  & 90    &  93   & 11.5  & 26    &  8861 &  63  \\\\\n",
       "\tAlbion College & Yes   &  1899 &  1720 &  489  & 37    & 68    &  1594 &   32  & 13868 & 4826  & 450   &  850  & 89    & 100   & 13.7  & 37    & 11487 &  73  \\\\\n",
       "\tAlbright College & Yes   &  1038 &   839 &  227  & 30    & 63    &   973 &  306  & 15595 & 4400  & 300   &  500  & 79    &  84   & 11.3  & 23    & 11644 &  80  \\\\\n",
       "\tAlderson-Broaddus College & Yes   &   582 &   498 &  172  & 21    & 44    &   799 &   78  & 10468 & 3380  & 660   & 1800  & 40    &  41   & 11.5  & 15    &  8991 &  52  \\\\\n",
       "\tAlfred University & Yes   &  1732 &  1425 &  472  & 37    & 75    &  1830 &  110  & 16548 & 5406  & 500   &  600  & 82    &  88   & 11.3  & 31    & 10932 &  73  \\\\\n",
       "\tAllegheny College & Yes   &  2652 &  1900 &  484  & 44    & 77    &  1707 &   44  & 17080 & 4440  & 400   &  600  & 73    &  91   &  9.9  & 41    & 11711 &  76  \\\\\n",
       "\tAllentown Coll. of St. Francis de Sales & Yes   &  1179 &   780 &  290  & 38    & 64    &  1130 &  638  &  9690 & 4785  & 600   & 1000  & 60    &  84   & 13.3  & 21    &  7940 &  74  \\\\\n",
       "\tAlma College & Yes   &  1267 &  1080 &  385  & 44    & 73    &  1306 &   28  & 12572 & 4552  & 400   &  400  & 79    &  87   & 15.3  & 32    &  9305 &  68  \\\\\n",
       "\tAlverno College & Yes   &   494 &   313 &  157  & 23    & 46    &  1317 & 1235  &  8352 & 3640  & 650   & 2449  & 36    &  69   & 11.1  & 26    &  8127 &  55  \\\\\n",
       "\tAmerican International College & Yes   &  1420 &  1093 &  220  &  9    & 22    &  1018 &  287  &  8700 & 4780  & 450   & 1400  & 78    &  84   & 14.7  & 19    &  7355 &  69  \\\\\n",
       "\tAmherst College & Yes   &  4302 &   992 &  418  & 83    & 96    &  1593 &    5  & 19760 & 5300  & 660   & 1598  & 93    &  98   &  8.4  & 63    & 21424 & 100  \\\\\n",
       "\tAnderson University & Yes   &  1216 &   908 &  423  & 19    & 40    &  1819 &  281  & 10100 & 3520  & 550   & 1100  & 48    &  61   & 12.1  & 14    &  7994 &  59  \\\\\n",
       "\tAndrews University & Yes   &  1130 &   704 &  322  & 14    & 23    &  1586 &  326  &  9996 & 3090  & 900   & 1320  & 62    &  66   & 11.5  & 18    & 10908 &  46  \\\\\n",
       "\tAngelo State University & No    &  3540 &  2001 & 1016  & 24    & 54    &  4190 & 1512  &  5130 & 3592  & 500   & 2000  & 60    &  62   & 23.1  &  5    &  4010 &  34  \\\\\n",
       "\tAntioch University & Yes   &   713 &   661 &  252  & 25    & 44    &   712 &   23  & 15476 & 3336  & 400   & 1100  & 69    &  82   & 11.3  & 35    & 42926 &  48  \\\\\n",
       "\tAppalachian State University & No    &  7313 &  4664 & 1910  & 20    & 63    &  9940 & 1035  &  6806 & 2540  &  96   & 2000  & 83    &  96   & 18.3  & 14    &  5854 &  70  \\\\\n",
       "\tAquinas College & Yes   &   619 &   516 &  219  & 20    & 51    &  1251 &  767  & 11208 & 4124  & 350   & 1615  & 55    &  65   & 12.7  & 25    &  6584 &  65  \\\\\n",
       "\tArizona State University Main campus & No    & 12809 & 10308 & 3761  & 24    & 49    & 22593 & 7585  &  7434 & 4850  & 700   & 2100  & 88    &  93   & 18.9  &  5    &  4602 &  48  \\\\\n",
       "\tArkansas College (Lyon College) & Yes   &   708 &   334 &  166  & 46    & 74    &   530 &  182  &  8644 & 3922  & 500   &  800  & 79    &  88   & 12.6  & 24    & 14579 &  54  \\\\\n",
       "\tArkansas Tech University & No    &  1734 &  1729 &  951  & 12    & 52    &  3602 &  939  &  3460 & 2650  & 450   & 1000  & 57    &  60   & 19.6  &  5    &  4739 &  48  \\\\\n",
       "\tAssumption College & Yes   &  2135 &  1700 &  491  & 23    & 59    &  1708 &  689  & 12000 & 5920  & 500   &  500  & 93    &  93   & 13.8  & 30    &  7100 &  88  \\\\\n",
       "\tAuburn University-Main Campus & No    &  7548 &  6791 & 3070  & 25    & 57    & 16262 & 1716  &  6300 & 3933  & 600   & 1908  & 85    &  91   & 16.7  & 18    &  6642 &  69  \\\\\n",
       "\tAugsburg College & Yes   &   662 &   513 &  257  & 12    & 30    &  2074 &  726  & 11902 & 4372  & 540   &  950  & 65    &  65   & 12.8  & 31    &  7836 &  58  \\\\\n",
       "\tAugustana College IL & Yes   &  1879 &  1658 &  497  & 36    & 69    &  1950 &   38  & 13353 & 4173  & 540   &  821  & 78    &  83   & 12.7  & 40    &  9220 &  71  \\\\\n",
       "\t⋮ & ⋮ & ⋮ & ⋮ & ⋮ & ⋮ & ⋮ & ⋮ & ⋮ & ⋮ & ⋮ & ⋮ & ⋮ & ⋮ & ⋮ & ⋮ & ⋮ & ⋮ & ⋮\\\\\n",
       "\tWestfield State College & No    &  3100 & 2150  &  825  &  3    & 20    & 3234  &  941  &  5542 & 3788  & 500   & 1300  & 75    & 79    & 15.7  & 20    &  4222 & 65   \\\\\n",
       "\tWestminster College MO & Yes   &   662 &  553  &  184  & 20    & 43    &  665  &   37  & 10720 & 4050  & 600   & 1650  & 66    & 70    & 12.5  & 20    &  7925 & 62   \\\\\n",
       "\tWestminster College & Yes   &   996 &  866  &  377  & 29    & 58    & 1411  &   72  & 12065 & 3615  & 430   &  685  & 62    & 78    & 12.5  & 41    &  8596 & 80   \\\\\n",
       "\tWestminster College of Salt Lake City & Yes   &   917 &  720  &  213  & 21    & 60    &  979  &  743  &  8820 & 4050  & 600   & 2025  & 68    & 83    & 10.5  & 34    &  7170 & 50   \\\\\n",
       "\tWestmont College & No    &   950 &  713  &  351  & 42    & 72    & 1276  &    9  & 14320 & 5304  & 490   & 1410  & 77    & 77    & 14.9  & 17    &  8837 & 87   \\\\\n",
       "\tWheaton College IL & Yes   &  1432 &  920  &  548  & 56    & 84    & 2200  &   56  & 11480 & 4200  & 530   & 1400  & 81    & 83    & 12.7  & 40    & 11916 & 85   \\\\\n",
       "\tWestminster College PA & Yes   &  1738 & 1373  &  417  & 21    & 55    & 1335  &   30  & 18460 & 5970  & 700   &  850  & 92    & 96    & 13.2  & 41    & 22704 & 71   \\\\\n",
       "\tWheeling Jesuit College & Yes   &   903 &  755  &  213  & 15    & 49    &  971  &  305  & 10500 & 4545  & 600   &  600  & 66    & 71    & 14.1  & 27    &  7494 & 72   \\\\\n",
       "\tWhitman College & Yes   &  1861 &  998  &  359  & 45    & 77    & 1220  &   46  & 16670 & 4900  & 750   &  800  & 80    & 83    & 10.5  & 51    & 13198 & 72   \\\\\n",
       "\tWhittier College & Yes   &  1681 & 1069  &  344  & 35    & 63    & 1235  &   30  & 16249 & 5699  & 500   & 1998  & 84    & 92    & 13.6  & 29    & 11778 & 52   \\\\\n",
       "\tWhitworth College & Yes   &  1121 &  926  &  372  & 43    & 70    & 1270  &  160  & 12660 & 4500  & 678   & 2424  & 80    & 80    & 16.9  & 20    &  8328 & 80   \\\\\n",
       "\tWidener University & Yes   &  2139 & 1492  &  502  & 24    & 64    & 2186  & 2171  & 12350 & 5370  & 500   & 1350  & 88    & 86    & 12.6  & 19    &  9603 & 63   \\\\\n",
       "\tWilkes University & Yes   &  1631 & 1431  &  434  & 15    & 36    & 1803  &  603  & 11150 & 5130  & 550   & 1260  & 78    & 92    & 13.3  & 24    &  8543 & 67   \\\\\n",
       "\tWillamette University & Yes   &  1658 & 1327  &  395  & 49    & 80    & 1595  &  159  & 14800 & 4620  & 400   &  790  & 91    & 94    & 13.3  & 37    & 10779 & 68   \\\\\n",
       "\tWilliam Jewell College & Yes   &   663 &  547  &  315  & 32    & 67    & 1279  &   75  & 10060 & 2970  & 500   & 2600  & 74    & 80    & 11.2  & 19    &  7885 & 59   \\\\\n",
       "\tWilliam Woods University & Yes   &   469 &  435  &  227  & 17    & 39    &  851  &  120  & 10535 & 4365  & 550   & 3700  & 39    & 66    & 12.9  & 16    &  7438 & 52   \\\\\n",
       "\tWilliams College & Yes   &  4186 & 1245  &  526  & 81    & 96    & 1988  &   29  & 19629 & 5790  & 500   & 1200  & 94    & 99    &  9.0  & 64    & 22014 & 99   \\\\\n",
       "\tWilson College & Yes   &   167 &  130  &   46  & 16    & 50    &  199  &  676  & 11428 & 5084  & 450   &  475  & 67    & 76    &  8.3  & 43    & 10291 & 67   \\\\\n",
       "\tWingate College & Yes   &  1239 & 1017  &  383  & 10    & 34    & 1207  &  157  &  7820 & 3400  & 550   & 1550  & 69    & 81    & 13.9  &  8    &  7264 & 91   \\\\\n",
       "\tWinona State University & No    &  3325 & 2047  & 1301  & 20    & 45    & 5800  &  872  &  4200 & 2700  & 300   & 1200  & 53    & 60    & 20.2  & 18    &  5318 & 58   \\\\\n",
       "\tWinthrop University & No    &  2320 & 1805  &  769  & 24    & 61    & 3395  &  670  &  6400 & 3392  & 580   & 2150  & 71    & 80    & 12.8  & 26    &  6729 & 59   \\\\\n",
       "\tWisconsin Lutheran College & Yes   &   152 &  128  &   75  & 17    & 41    &  282  &   22  &  9100 & 3700  & 500   & 1400  & 48    & 48    &  8.5  & 26    &  8960 & 50   \\\\\n",
       "\tWittenberg University & Yes   &  1979 & 1739  &  575  & 42    & 68    & 1980  &  144  & 15948 & 4404  & 400   &  800  & 82    & 95    & 12.8  & 29    & 10414 & 78   \\\\\n",
       "\tWofford College & Yes   &  1501 &  935  &  273  & 51    & 83    & 1059  &   34  & 12680 & 4150  & 605   & 1440  & 91    & 92    & 15.3  & 42    &  7875 & 75   \\\\\n",
       "\tWorcester Polytechnic Institute & Yes   &  2768 & 2314  &  682  & 49    & 86    & 2802  &   86  & 15884 & 5370  & 530   &  730  & 92    & 94    & 15.2  & 34    & 10774 & 82   \\\\\n",
       "\tWorcester State College & No    &  2197 & 1515  &  543  &  4    & 26    & 3089  & 2029  &  6797 & 3900  & 500   & 1200  & 60    & 60    & 21.0  & 14    &  4469 & 40   \\\\\n",
       "\tXavier University & Yes   &  1959 & 1805  &  695  & 24    & 47    & 2849  & 1107  & 11520 & 4960  & 600   & 1250  & 73    & 75    & 13.3  & 31    &  9189 & 83   \\\\\n",
       "\tXavier University of Louisiana & Yes   &  2097 & 1915  &  695  & 34    & 61    & 2793  &  166  &  6900 & 4200  & 617   &  781  & 67    & 75    & 14.4  & 20    &  8323 & 49   \\\\\n",
       "\tYale University & Yes   & 10705 & 2453  & 1317  & 95    & 99    & 5217  &   83  & 19840 & 6510  & 630   & 2115  & 96    & 96    &  5.8  & 49    & 40386 & 99   \\\\\n",
       "\tYork College of Pennsylvania & Yes   &  2989 & 1855  &  691  & 28    & 63    & 2988  & 1726  &  4990 & 3560  & 500   & 1250  & 75    & 75    & 18.1  & 28    &  4509 & 99   \\\\\n",
       "\\end{tabular}\n"
      ],
      "text/markdown": [
       "\n",
       "| <!--/--> | Private | Apps | Accept | Enroll | Top10perc | Top25perc | F.Undergrad | P.Undergrad | Outstate | Room.Board | Books | Personal | PhD | Terminal | S.F.Ratio | perc.alumni | Expend | Grad.Rate | \n",
       "|---|---|---|---|---|---|---|---|---|---|---|---|---|---|---|---|---|---|---|---|---|---|---|---|---|---|---|---|---|---|---|---|---|---|---|---|---|---|---|---|---|---|---|---|---|---|---|---|---|---|---|---|---|---|---|---|---|---|---|---|---|\n",
       "| Abilene Christian University | Yes   |  1660 |  1232 |  721  | 23    | 52    |  2885 |  537  |  7440 | 3300  | 450   | 2200  | 70    |  78   | 18.1  | 12    |  7041 |  60   | \n",
       "| Adelphi University | Yes   |  2186 |  1924 |  512  | 16    | 29    |  2683 | 1227  | 12280 | 6450  | 750   | 1500  | 29    |  30   | 12.2  | 16    | 10527 |  56   | \n",
       "| Adrian College | Yes   |  1428 |  1097 |  336  | 22    | 50    |  1036 |   99  | 11250 | 3750  | 400   | 1165  | 53    |  66   | 12.9  | 30    |  8735 |  54   | \n",
       "| Agnes Scott College | Yes   |   417 |   349 |  137  | 60    | 89    |   510 |   63  | 12960 | 5450  | 450   |  875  | 92    |  97   |  7.7  | 37    | 19016 |  59   | \n",
       "| Alaska Pacific University | Yes   |   193 |   146 |   55  | 16    | 44    |   249 |  869  |  7560 | 4120  | 800   | 1500  | 76    |  72   | 11.9  |  2    | 10922 |  15   | \n",
       "| Albertson College | Yes   |   587 |   479 |  158  | 38    | 62    |   678 |   41  | 13500 | 3335  | 500   |  675  | 67    |  73   |  9.4  | 11    |  9727 |  55   | \n",
       "| Albertus Magnus College | Yes   |   353 |   340 |  103  | 17    | 45    |   416 |  230  | 13290 | 5720  | 500   | 1500  | 90    |  93   | 11.5  | 26    |  8861 |  63   | \n",
       "| Albion College | Yes   |  1899 |  1720 |  489  | 37    | 68    |  1594 |   32  | 13868 | 4826  | 450   |  850  | 89    | 100   | 13.7  | 37    | 11487 |  73   | \n",
       "| Albright College | Yes   |  1038 |   839 |  227  | 30    | 63    |   973 |  306  | 15595 | 4400  | 300   |  500  | 79    |  84   | 11.3  | 23    | 11644 |  80   | \n",
       "| Alderson-Broaddus College | Yes   |   582 |   498 |  172  | 21    | 44    |   799 |   78  | 10468 | 3380  | 660   | 1800  | 40    |  41   | 11.5  | 15    |  8991 |  52   | \n",
       "| Alfred University | Yes   |  1732 |  1425 |  472  | 37    | 75    |  1830 |  110  | 16548 | 5406  | 500   |  600  | 82    |  88   | 11.3  | 31    | 10932 |  73   | \n",
       "| Allegheny College | Yes   |  2652 |  1900 |  484  | 44    | 77    |  1707 |   44  | 17080 | 4440  | 400   |  600  | 73    |  91   |  9.9  | 41    | 11711 |  76   | \n",
       "| Allentown Coll. of St. Francis de Sales | Yes   |  1179 |   780 |  290  | 38    | 64    |  1130 |  638  |  9690 | 4785  | 600   | 1000  | 60    |  84   | 13.3  | 21    |  7940 |  74   | \n",
       "| Alma College | Yes   |  1267 |  1080 |  385  | 44    | 73    |  1306 |   28  | 12572 | 4552  | 400   |  400  | 79    |  87   | 15.3  | 32    |  9305 |  68   | \n",
       "| Alverno College | Yes   |   494 |   313 |  157  | 23    | 46    |  1317 | 1235  |  8352 | 3640  | 650   | 2449  | 36    |  69   | 11.1  | 26    |  8127 |  55   | \n",
       "| American International College | Yes   |  1420 |  1093 |  220  |  9    | 22    |  1018 |  287  |  8700 | 4780  | 450   | 1400  | 78    |  84   | 14.7  | 19    |  7355 |  69   | \n",
       "| Amherst College | Yes   |  4302 |   992 |  418  | 83    | 96    |  1593 |    5  | 19760 | 5300  | 660   | 1598  | 93    |  98   |  8.4  | 63    | 21424 | 100   | \n",
       "| Anderson University | Yes   |  1216 |   908 |  423  | 19    | 40    |  1819 |  281  | 10100 | 3520  | 550   | 1100  | 48    |  61   | 12.1  | 14    |  7994 |  59   | \n",
       "| Andrews University | Yes   |  1130 |   704 |  322  | 14    | 23    |  1586 |  326  |  9996 | 3090  | 900   | 1320  | 62    |  66   | 11.5  | 18    | 10908 |  46   | \n",
       "| Angelo State University | No    |  3540 |  2001 | 1016  | 24    | 54    |  4190 | 1512  |  5130 | 3592  | 500   | 2000  | 60    |  62   | 23.1  |  5    |  4010 |  34   | \n",
       "| Antioch University | Yes   |   713 |   661 |  252  | 25    | 44    |   712 |   23  | 15476 | 3336  | 400   | 1100  | 69    |  82   | 11.3  | 35    | 42926 |  48   | \n",
       "| Appalachian State University | No    |  7313 |  4664 | 1910  | 20    | 63    |  9940 | 1035  |  6806 | 2540  |  96   | 2000  | 83    |  96   | 18.3  | 14    |  5854 |  70   | \n",
       "| Aquinas College | Yes   |   619 |   516 |  219  | 20    | 51    |  1251 |  767  | 11208 | 4124  | 350   | 1615  | 55    |  65   | 12.7  | 25    |  6584 |  65   | \n",
       "| Arizona State University Main campus | No    | 12809 | 10308 | 3761  | 24    | 49    | 22593 | 7585  |  7434 | 4850  | 700   | 2100  | 88    |  93   | 18.9  |  5    |  4602 |  48   | \n",
       "| Arkansas College (Lyon College) | Yes   |   708 |   334 |  166  | 46    | 74    |   530 |  182  |  8644 | 3922  | 500   |  800  | 79    |  88   | 12.6  | 24    | 14579 |  54   | \n",
       "| Arkansas Tech University | No    |  1734 |  1729 |  951  | 12    | 52    |  3602 |  939  |  3460 | 2650  | 450   | 1000  | 57    |  60   | 19.6  |  5    |  4739 |  48   | \n",
       "| Assumption College | Yes   |  2135 |  1700 |  491  | 23    | 59    |  1708 |  689  | 12000 | 5920  | 500   |  500  | 93    |  93   | 13.8  | 30    |  7100 |  88   | \n",
       "| Auburn University-Main Campus | No    |  7548 |  6791 | 3070  | 25    | 57    | 16262 | 1716  |  6300 | 3933  | 600   | 1908  | 85    |  91   | 16.7  | 18    |  6642 |  69   | \n",
       "| Augsburg College | Yes   |   662 |   513 |  257  | 12    | 30    |  2074 |  726  | 11902 | 4372  | 540   |  950  | 65    |  65   | 12.8  | 31    |  7836 |  58   | \n",
       "| Augustana College IL | Yes   |  1879 |  1658 |  497  | 36    | 69    |  1950 |   38  | 13353 | 4173  | 540   |  821  | 78    |  83   | 12.7  | 40    |  9220 |  71   | \n",
       "| ⋮ | ⋮ | ⋮ | ⋮ | ⋮ | ⋮ | ⋮ | ⋮ | ⋮ | ⋮ | ⋮ | ⋮ | ⋮ | ⋮ | ⋮ | ⋮ | ⋮ | ⋮ | ⋮ | \n",
       "| Westfield State College | No    |  3100 | 2150  |  825  |  3    | 20    | 3234  |  941  |  5542 | 3788  | 500   | 1300  | 75    | 79    | 15.7  | 20    |  4222 | 65    | \n",
       "| Westminster College MO | Yes   |   662 |  553  |  184  | 20    | 43    |  665  |   37  | 10720 | 4050  | 600   | 1650  | 66    | 70    | 12.5  | 20    |  7925 | 62    | \n",
       "| Westminster College | Yes   |   996 |  866  |  377  | 29    | 58    | 1411  |   72  | 12065 | 3615  | 430   |  685  | 62    | 78    | 12.5  | 41    |  8596 | 80    | \n",
       "| Westminster College of Salt Lake City | Yes   |   917 |  720  |  213  | 21    | 60    |  979  |  743  |  8820 | 4050  | 600   | 2025  | 68    | 83    | 10.5  | 34    |  7170 | 50    | \n",
       "| Westmont College | No    |   950 |  713  |  351  | 42    | 72    | 1276  |    9  | 14320 | 5304  | 490   | 1410  | 77    | 77    | 14.9  | 17    |  8837 | 87    | \n",
       "| Wheaton College IL | Yes   |  1432 |  920  |  548  | 56    | 84    | 2200  |   56  | 11480 | 4200  | 530   | 1400  | 81    | 83    | 12.7  | 40    | 11916 | 85    | \n",
       "| Westminster College PA | Yes   |  1738 | 1373  |  417  | 21    | 55    | 1335  |   30  | 18460 | 5970  | 700   |  850  | 92    | 96    | 13.2  | 41    | 22704 | 71    | \n",
       "| Wheeling Jesuit College | Yes   |   903 |  755  |  213  | 15    | 49    |  971  |  305  | 10500 | 4545  | 600   |  600  | 66    | 71    | 14.1  | 27    |  7494 | 72    | \n",
       "| Whitman College | Yes   |  1861 |  998  |  359  | 45    | 77    | 1220  |   46  | 16670 | 4900  | 750   |  800  | 80    | 83    | 10.5  | 51    | 13198 | 72    | \n",
       "| Whittier College | Yes   |  1681 | 1069  |  344  | 35    | 63    | 1235  |   30  | 16249 | 5699  | 500   | 1998  | 84    | 92    | 13.6  | 29    | 11778 | 52    | \n",
       "| Whitworth College | Yes   |  1121 |  926  |  372  | 43    | 70    | 1270  |  160  | 12660 | 4500  | 678   | 2424  | 80    | 80    | 16.9  | 20    |  8328 | 80    | \n",
       "| Widener University | Yes   |  2139 | 1492  |  502  | 24    | 64    | 2186  | 2171  | 12350 | 5370  | 500   | 1350  | 88    | 86    | 12.6  | 19    |  9603 | 63    | \n",
       "| Wilkes University | Yes   |  1631 | 1431  |  434  | 15    | 36    | 1803  |  603  | 11150 | 5130  | 550   | 1260  | 78    | 92    | 13.3  | 24    |  8543 | 67    | \n",
       "| Willamette University | Yes   |  1658 | 1327  |  395  | 49    | 80    | 1595  |  159  | 14800 | 4620  | 400   |  790  | 91    | 94    | 13.3  | 37    | 10779 | 68    | \n",
       "| William Jewell College | Yes   |   663 |  547  |  315  | 32    | 67    | 1279  |   75  | 10060 | 2970  | 500   | 2600  | 74    | 80    | 11.2  | 19    |  7885 | 59    | \n",
       "| William Woods University | Yes   |   469 |  435  |  227  | 17    | 39    |  851  |  120  | 10535 | 4365  | 550   | 3700  | 39    | 66    | 12.9  | 16    |  7438 | 52    | \n",
       "| Williams College | Yes   |  4186 | 1245  |  526  | 81    | 96    | 1988  |   29  | 19629 | 5790  | 500   | 1200  | 94    | 99    |  9.0  | 64    | 22014 | 99    | \n",
       "| Wilson College | Yes   |   167 |  130  |   46  | 16    | 50    |  199  |  676  | 11428 | 5084  | 450   |  475  | 67    | 76    |  8.3  | 43    | 10291 | 67    | \n",
       "| Wingate College | Yes   |  1239 | 1017  |  383  | 10    | 34    | 1207  |  157  |  7820 | 3400  | 550   | 1550  | 69    | 81    | 13.9  |  8    |  7264 | 91    | \n",
       "| Winona State University | No    |  3325 | 2047  | 1301  | 20    | 45    | 5800  |  872  |  4200 | 2700  | 300   | 1200  | 53    | 60    | 20.2  | 18    |  5318 | 58    | \n",
       "| Winthrop University | No    |  2320 | 1805  |  769  | 24    | 61    | 3395  |  670  |  6400 | 3392  | 580   | 2150  | 71    | 80    | 12.8  | 26    |  6729 | 59    | \n",
       "| Wisconsin Lutheran College | Yes   |   152 |  128  |   75  | 17    | 41    |  282  |   22  |  9100 | 3700  | 500   | 1400  | 48    | 48    |  8.5  | 26    |  8960 | 50    | \n",
       "| Wittenberg University | Yes   |  1979 | 1739  |  575  | 42    | 68    | 1980  |  144  | 15948 | 4404  | 400   |  800  | 82    | 95    | 12.8  | 29    | 10414 | 78    | \n",
       "| Wofford College | Yes   |  1501 |  935  |  273  | 51    | 83    | 1059  |   34  | 12680 | 4150  | 605   | 1440  | 91    | 92    | 15.3  | 42    |  7875 | 75    | \n",
       "| Worcester Polytechnic Institute | Yes   |  2768 | 2314  |  682  | 49    | 86    | 2802  |   86  | 15884 | 5370  | 530   |  730  | 92    | 94    | 15.2  | 34    | 10774 | 82    | \n",
       "| Worcester State College | No    |  2197 | 1515  |  543  |  4    | 26    | 3089  | 2029  |  6797 | 3900  | 500   | 1200  | 60    | 60    | 21.0  | 14    |  4469 | 40    | \n",
       "| Xavier University | Yes   |  1959 | 1805  |  695  | 24    | 47    | 2849  | 1107  | 11520 | 4960  | 600   | 1250  | 73    | 75    | 13.3  | 31    |  9189 | 83    | \n",
       "| Xavier University of Louisiana | Yes   |  2097 | 1915  |  695  | 34    | 61    | 2793  |  166  |  6900 | 4200  | 617   |  781  | 67    | 75    | 14.4  | 20    |  8323 | 49    | \n",
       "| Yale University | Yes   | 10705 | 2453  | 1317  | 95    | 99    | 5217  |   83  | 19840 | 6510  | 630   | 2115  | 96    | 96    |  5.8  | 49    | 40386 | 99    | \n",
       "| York College of Pennsylvania | Yes   |  2989 | 1855  |  691  | 28    | 63    | 2988  | 1726  |  4990 | 3560  | 500   | 1250  | 75    | 75    | 18.1  | 28    |  4509 | 99    | \n",
       "\n",
       "\n"
      ],
      "text/plain": [
       "                                        Private Apps  Accept Enroll Top10perc\n",
       "Abilene Christian University            Yes      1660  1232   721   23       \n",
       "Adelphi University                      Yes      2186  1924   512   16       \n",
       "Adrian College                          Yes      1428  1097   336   22       \n",
       "Agnes Scott College                     Yes       417   349   137   60       \n",
       "Alaska Pacific University               Yes       193   146    55   16       \n",
       "Albertson College                       Yes       587   479   158   38       \n",
       "Albertus Magnus College                 Yes       353   340   103   17       \n",
       "Albion College                          Yes      1899  1720   489   37       \n",
       "Albright College                        Yes      1038   839   227   30       \n",
       "Alderson-Broaddus College               Yes       582   498   172   21       \n",
       "Alfred University                       Yes      1732  1425   472   37       \n",
       "Allegheny College                       Yes      2652  1900   484   44       \n",
       "Allentown Coll. of St. Francis de Sales Yes      1179   780   290   38       \n",
       "Alma College                            Yes      1267  1080   385   44       \n",
       "Alverno College                         Yes       494   313   157   23       \n",
       "American International College          Yes      1420  1093   220    9       \n",
       "Amherst College                         Yes      4302   992   418   83       \n",
       "Anderson University                     Yes      1216   908   423   19       \n",
       "Andrews University                      Yes      1130   704   322   14       \n",
       "Angelo State University                 No       3540  2001  1016   24       \n",
       "Antioch University                      Yes       713   661   252   25       \n",
       "Appalachian State University            No       7313  4664  1910   20       \n",
       "Aquinas College                         Yes       619   516   219   20       \n",
       "Arizona State University Main campus    No      12809 10308  3761   24       \n",
       "Arkansas College (Lyon College)         Yes       708   334   166   46       \n",
       "Arkansas Tech University                No       1734  1729   951   12       \n",
       "Assumption College                      Yes      2135  1700   491   23       \n",
       "Auburn University-Main Campus           No       7548  6791  3070   25       \n",
       "Augsburg College                        Yes       662   513   257   12       \n",
       "Augustana College IL                    Yes      1879  1658   497   36       \n",
       "⋮                                       ⋮       ⋮     ⋮      ⋮      ⋮        \n",
       "Westfield State College                 No       3100 2150    825    3       \n",
       "Westminster College MO                  Yes       662  553    184   20       \n",
       "Westminster College                     Yes       996  866    377   29       \n",
       "Westminster College of Salt Lake City   Yes       917  720    213   21       \n",
       "Westmont College                        No        950  713    351   42       \n",
       "Wheaton College IL                      Yes      1432  920    548   56       \n",
       "Westminster College PA                  Yes      1738 1373    417   21       \n",
       "Wheeling Jesuit College                 Yes       903  755    213   15       \n",
       "Whitman College                         Yes      1861  998    359   45       \n",
       "Whittier College                        Yes      1681 1069    344   35       \n",
       "Whitworth College                       Yes      1121  926    372   43       \n",
       "Widener University                      Yes      2139 1492    502   24       \n",
       "Wilkes University                       Yes      1631 1431    434   15       \n",
       "Willamette University                   Yes      1658 1327    395   49       \n",
       "William Jewell College                  Yes       663  547    315   32       \n",
       "William Woods University                Yes       469  435    227   17       \n",
       "Williams College                        Yes      4186 1245    526   81       \n",
       "Wilson College                          Yes       167  130     46   16       \n",
       "Wingate College                         Yes      1239 1017    383   10       \n",
       "Winona State University                 No       3325 2047   1301   20       \n",
       "Winthrop University                     No       2320 1805    769   24       \n",
       "Wisconsin Lutheran College              Yes       152  128     75   17       \n",
       "Wittenberg University                   Yes      1979 1739    575   42       \n",
       "Wofford College                         Yes      1501  935    273   51       \n",
       "Worcester Polytechnic Institute         Yes      2768 2314    682   49       \n",
       "Worcester State College                 No       2197 1515    543    4       \n",
       "Xavier University                       Yes      1959 1805    695   24       \n",
       "Xavier University of Louisiana          Yes      2097 1915    695   34       \n",
       "Yale University                         Yes     10705 2453   1317   95       \n",
       "York College of Pennsylvania            Yes      2989 1855    691   28       \n",
       "                                        Top25perc F.Undergrad P.Undergrad\n",
       "Abilene Christian University            52         2885        537       \n",
       "Adelphi University                      29         2683       1227       \n",
       "Adrian College                          50         1036         99       \n",
       "Agnes Scott College                     89          510         63       \n",
       "Alaska Pacific University               44          249        869       \n",
       "Albertson College                       62          678         41       \n",
       "Albertus Magnus College                 45          416        230       \n",
       "Albion College                          68         1594         32       \n",
       "Albright College                        63          973        306       \n",
       "Alderson-Broaddus College               44          799         78       \n",
       "Alfred University                       75         1830        110       \n",
       "Allegheny College                       77         1707         44       \n",
       "Allentown Coll. of St. Francis de Sales 64         1130        638       \n",
       "Alma College                            73         1306         28       \n",
       "Alverno College                         46         1317       1235       \n",
       "American International College          22         1018        287       \n",
       "Amherst College                         96         1593          5       \n",
       "Anderson University                     40         1819        281       \n",
       "Andrews University                      23         1586        326       \n",
       "Angelo State University                 54         4190       1512       \n",
       "Antioch University                      44          712         23       \n",
       "Appalachian State University            63         9940       1035       \n",
       "Aquinas College                         51         1251        767       \n",
       "Arizona State University Main campus    49        22593       7585       \n",
       "Arkansas College (Lyon College)         74          530        182       \n",
       "Arkansas Tech University                52         3602        939       \n",
       "Assumption College                      59         1708        689       \n",
       "Auburn University-Main Campus           57        16262       1716       \n",
       "Augsburg College                        30         2074        726       \n",
       "Augustana College IL                    69         1950         38       \n",
       "⋮                                       ⋮         ⋮           ⋮          \n",
       "Westfield State College                 20        3234         941       \n",
       "Westminster College MO                  43         665          37       \n",
       "Westminster College                     58        1411          72       \n",
       "Westminster College of Salt Lake City   60         979         743       \n",
       "Westmont College                        72        1276           9       \n",
       "Wheaton College IL                      84        2200          56       \n",
       "Westminster College PA                  55        1335          30       \n",
       "Wheeling Jesuit College                 49         971         305       \n",
       "Whitman College                         77        1220          46       \n",
       "Whittier College                        63        1235          30       \n",
       "Whitworth College                       70        1270         160       \n",
       "Widener University                      64        2186        2171       \n",
       "Wilkes University                       36        1803         603       \n",
       "Willamette University                   80        1595         159       \n",
       "William Jewell College                  67        1279          75       \n",
       "William Woods University                39         851         120       \n",
       "Williams College                        96        1988          29       \n",
       "Wilson College                          50         199         676       \n",
       "Wingate College                         34        1207         157       \n",
       "Winona State University                 45        5800         872       \n",
       "Winthrop University                     61        3395         670       \n",
       "Wisconsin Lutheran College              41         282          22       \n",
       "Wittenberg University                   68        1980         144       \n",
       "Wofford College                         83        1059          34       \n",
       "Worcester Polytechnic Institute         86        2802          86       \n",
       "Worcester State College                 26        3089        2029       \n",
       "Xavier University                       47        2849        1107       \n",
       "Xavier University of Louisiana          61        2793         166       \n",
       "Yale University                         99        5217          83       \n",
       "York College of Pennsylvania            63        2988        1726       \n",
       "                                        Outstate Room.Board Books Personal PhD\n",
       "Abilene Christian University             7440    3300       450   2200     70 \n",
       "Adelphi University                      12280    6450       750   1500     29 \n",
       "Adrian College                          11250    3750       400   1165     53 \n",
       "Agnes Scott College                     12960    5450       450    875     92 \n",
       "Alaska Pacific University                7560    4120       800   1500     76 \n",
       "Albertson College                       13500    3335       500    675     67 \n",
       "Albertus Magnus College                 13290    5720       500   1500     90 \n",
       "Albion College                          13868    4826       450    850     89 \n",
       "Albright College                        15595    4400       300    500     79 \n",
       "Alderson-Broaddus College               10468    3380       660   1800     40 \n",
       "Alfred University                       16548    5406       500    600     82 \n",
       "Allegheny College                       17080    4440       400    600     73 \n",
       "Allentown Coll. of St. Francis de Sales  9690    4785       600   1000     60 \n",
       "Alma College                            12572    4552       400    400     79 \n",
       "Alverno College                          8352    3640       650   2449     36 \n",
       "American International College           8700    4780       450   1400     78 \n",
       "Amherst College                         19760    5300       660   1598     93 \n",
       "Anderson University                     10100    3520       550   1100     48 \n",
       "Andrews University                       9996    3090       900   1320     62 \n",
       "Angelo State University                  5130    3592       500   2000     60 \n",
       "Antioch University                      15476    3336       400   1100     69 \n",
       "Appalachian State University             6806    2540        96   2000     83 \n",
       "Aquinas College                         11208    4124       350   1615     55 \n",
       "Arizona State University Main campus     7434    4850       700   2100     88 \n",
       "Arkansas College (Lyon College)          8644    3922       500    800     79 \n",
       "Arkansas Tech University                 3460    2650       450   1000     57 \n",
       "Assumption College                      12000    5920       500    500     93 \n",
       "Auburn University-Main Campus            6300    3933       600   1908     85 \n",
       "Augsburg College                        11902    4372       540    950     65 \n",
       "Augustana College IL                    13353    4173       540    821     78 \n",
       "⋮                                       ⋮        ⋮          ⋮     ⋮        ⋮  \n",
       "Westfield State College                  5542    3788       500   1300     75 \n",
       "Westminster College MO                  10720    4050       600   1650     66 \n",
       "Westminster College                     12065    3615       430    685     62 \n",
       "Westminster College of Salt Lake City    8820    4050       600   2025     68 \n",
       "Westmont College                        14320    5304       490   1410     77 \n",
       "Wheaton College IL                      11480    4200       530   1400     81 \n",
       "Westminster College PA                  18460    5970       700    850     92 \n",
       "Wheeling Jesuit College                 10500    4545       600    600     66 \n",
       "Whitman College                         16670    4900       750    800     80 \n",
       "Whittier College                        16249    5699       500   1998     84 \n",
       "Whitworth College                       12660    4500       678   2424     80 \n",
       "Widener University                      12350    5370       500   1350     88 \n",
       "Wilkes University                       11150    5130       550   1260     78 \n",
       "Willamette University                   14800    4620       400    790     91 \n",
       "William Jewell College                  10060    2970       500   2600     74 \n",
       "William Woods University                10535    4365       550   3700     39 \n",
       "Williams College                        19629    5790       500   1200     94 \n",
       "Wilson College                          11428    5084       450    475     67 \n",
       "Wingate College                          7820    3400       550   1550     69 \n",
       "Winona State University                  4200    2700       300   1200     53 \n",
       "Winthrop University                      6400    3392       580   2150     71 \n",
       "Wisconsin Lutheran College               9100    3700       500   1400     48 \n",
       "Wittenberg University                   15948    4404       400    800     82 \n",
       "Wofford College                         12680    4150       605   1440     91 \n",
       "Worcester Polytechnic Institute         15884    5370       530    730     92 \n",
       "Worcester State College                  6797    3900       500   1200     60 \n",
       "Xavier University                       11520    4960       600   1250     73 \n",
       "Xavier University of Louisiana           6900    4200       617    781     67 \n",
       "Yale University                         19840    6510       630   2115     96 \n",
       "York College of Pennsylvania             4990    3560       500   1250     75 \n",
       "                                        Terminal S.F.Ratio perc.alumni Expend\n",
       "Abilene Christian University             78      18.1      12           7041 \n",
       "Adelphi University                       30      12.2      16          10527 \n",
       "Adrian College                           66      12.9      30           8735 \n",
       "Agnes Scott College                      97       7.7      37          19016 \n",
       "Alaska Pacific University                72      11.9       2          10922 \n",
       "Albertson College                        73       9.4      11           9727 \n",
       "Albertus Magnus College                  93      11.5      26           8861 \n",
       "Albion College                          100      13.7      37          11487 \n",
       "Albright College                         84      11.3      23          11644 \n",
       "Alderson-Broaddus College                41      11.5      15           8991 \n",
       "Alfred University                        88      11.3      31          10932 \n",
       "Allegheny College                        91       9.9      41          11711 \n",
       "Allentown Coll. of St. Francis de Sales  84      13.3      21           7940 \n",
       "Alma College                             87      15.3      32           9305 \n",
       "Alverno College                          69      11.1      26           8127 \n",
       "American International College           84      14.7      19           7355 \n",
       "Amherst College                          98       8.4      63          21424 \n",
       "Anderson University                      61      12.1      14           7994 \n",
       "Andrews University                       66      11.5      18          10908 \n",
       "Angelo State University                  62      23.1       5           4010 \n",
       "Antioch University                       82      11.3      35          42926 \n",
       "Appalachian State University             96      18.3      14           5854 \n",
       "Aquinas College                          65      12.7      25           6584 \n",
       "Arizona State University Main campus     93      18.9       5           4602 \n",
       "Arkansas College (Lyon College)          88      12.6      24          14579 \n",
       "Arkansas Tech University                 60      19.6       5           4739 \n",
       "Assumption College                       93      13.8      30           7100 \n",
       "Auburn University-Main Campus            91      16.7      18           6642 \n",
       "Augsburg College                         65      12.8      31           7836 \n",
       "Augustana College IL                     83      12.7      40           9220 \n",
       "⋮                                       ⋮        ⋮         ⋮           ⋮     \n",
       "Westfield State College                 79       15.7      20           4222 \n",
       "Westminster College MO                  70       12.5      20           7925 \n",
       "Westminster College                     78       12.5      41           8596 \n",
       "Westminster College of Salt Lake City   83       10.5      34           7170 \n",
       "Westmont College                        77       14.9      17           8837 \n",
       "Wheaton College IL                      83       12.7      40          11916 \n",
       "Westminster College PA                  96       13.2      41          22704 \n",
       "Wheeling Jesuit College                 71       14.1      27           7494 \n",
       "Whitman College                         83       10.5      51          13198 \n",
       "Whittier College                        92       13.6      29          11778 \n",
       "Whitworth College                       80       16.9      20           8328 \n",
       "Widener University                      86       12.6      19           9603 \n",
       "Wilkes University                       92       13.3      24           8543 \n",
       "Willamette University                   94       13.3      37          10779 \n",
       "William Jewell College                  80       11.2      19           7885 \n",
       "William Woods University                66       12.9      16           7438 \n",
       "Williams College                        99        9.0      64          22014 \n",
       "Wilson College                          76        8.3      43          10291 \n",
       "Wingate College                         81       13.9       8           7264 \n",
       "Winona State University                 60       20.2      18           5318 \n",
       "Winthrop University                     80       12.8      26           6729 \n",
       "Wisconsin Lutheran College              48        8.5      26           8960 \n",
       "Wittenberg University                   95       12.8      29          10414 \n",
       "Wofford College                         92       15.3      42           7875 \n",
       "Worcester Polytechnic Institute         94       15.2      34          10774 \n",
       "Worcester State College                 60       21.0      14           4469 \n",
       "Xavier University                       75       13.3      31           9189 \n",
       "Xavier University of Louisiana          75       14.4      20           8323 \n",
       "Yale University                         96        5.8      49          40386 \n",
       "York College of Pennsylvania            75       18.1      28           4509 \n",
       "                                        Grad.Rate\n",
       "Abilene Christian University             60      \n",
       "Adelphi University                       56      \n",
       "Adrian College                           54      \n",
       "Agnes Scott College                      59      \n",
       "Alaska Pacific University                15      \n",
       "Albertson College                        55      \n",
       "Albertus Magnus College                  63      \n",
       "Albion College                           73      \n",
       "Albright College                         80      \n",
       "Alderson-Broaddus College                52      \n",
       "Alfred University                        73      \n",
       "Allegheny College                        76      \n",
       "Allentown Coll. of St. Francis de Sales  74      \n",
       "Alma College                             68      \n",
       "Alverno College                          55      \n",
       "American International College           69      \n",
       "Amherst College                         100      \n",
       "Anderson University                      59      \n",
       "Andrews University                       46      \n",
       "Angelo State University                  34      \n",
       "Antioch University                       48      \n",
       "Appalachian State University             70      \n",
       "Aquinas College                          65      \n",
       "Arizona State University Main campus     48      \n",
       "Arkansas College (Lyon College)          54      \n",
       "Arkansas Tech University                 48      \n",
       "Assumption College                       88      \n",
       "Auburn University-Main Campus            69      \n",
       "Augsburg College                         58      \n",
       "Augustana College IL                     71      \n",
       "⋮                                       ⋮        \n",
       "Westfield State College                 65       \n",
       "Westminster College MO                  62       \n",
       "Westminster College                     80       \n",
       "Westminster College of Salt Lake City   50       \n",
       "Westmont College                        87       \n",
       "Wheaton College IL                      85       \n",
       "Westminster College PA                  71       \n",
       "Wheeling Jesuit College                 72       \n",
       "Whitman College                         72       \n",
       "Whittier College                        52       \n",
       "Whitworth College                       80       \n",
       "Widener University                      63       \n",
       "Wilkes University                       67       \n",
       "Willamette University                   68       \n",
       "William Jewell College                  59       \n",
       "William Woods University                52       \n",
       "Williams College                        99       \n",
       "Wilson College                          67       \n",
       "Wingate College                         91       \n",
       "Winona State University                 58       \n",
       "Winthrop University                     59       \n",
       "Wisconsin Lutheran College              50       \n",
       "Wittenberg University                   78       \n",
       "Wofford College                         75       \n",
       "Worcester Polytechnic Institute         82       \n",
       "Worcester State College                 40       \n",
       "Xavier University                       83       \n",
       "Xavier University of Louisiana          49       \n",
       "Yale University                         99       \n",
       "York College of Pennsylvania            99       "
      ]
     },
     "metadata": {},
     "output_type": "display_data"
    }
   ],
   "source": [
    "College"
   ]
  },
  {
   "cell_type": "code",
   "execution_count": 128,
   "metadata": {},
   "outputs": [],
   "source": [
    "data<- tbl_df(College)"
   ]
  },
  {
   "cell_type": "code",
   "execution_count": 130,
   "metadata": {},
   "outputs": [
    {
     "data": {
      "text/html": [
       "<table>\n",
       "<thead><tr><th scope=col>Private</th><th scope=col>Enrolled</th></tr></thead>\n",
       "<tbody>\n",
       "\t<tr><td>No    </td><td>347865</td></tr>\n",
       "\t<tr><td>Yes   </td><td>258174</td></tr>\n",
       "</tbody>\n",
       "</table>\n"
      ],
      "text/latex": [
       "\\begin{tabular}{r|ll}\n",
       " Private & Enrolled\\\\\n",
       "\\hline\n",
       "\t No     & 347865\\\\\n",
       "\t Yes    & 258174\\\\\n",
       "\\end{tabular}\n"
      ],
      "text/markdown": [
       "\n",
       "Private | Enrolled | \n",
       "|---|---|\n",
       "| No     | 347865 | \n",
       "| Yes    | 258174 | \n",
       "\n",
       "\n"
      ],
      "text/plain": [
       "  Private Enrolled\n",
       "1 No      347865  \n",
       "2 Yes     258174  "
      ]
     },
     "metadata": {},
     "output_type": "display_data"
    }
   ],
   "source": [
    "data %>% group_by(Private) %>%\n",
    "    summarise(Enrolled=sum(Enroll ))"
   ]
  },
  {
   "cell_type": "markdown",
   "metadata": {},
   "source": [
    "####  Imagine we have  an NA. value for Enroll column"
   ]
  },
  {
   "cell_type": "code",
   "execution_count": 133,
   "metadata": {},
   "outputs": [
    {
     "data": {
      "text/html": [
       "721"
      ],
      "text/latex": [
       "721"
      ],
      "text/markdown": [
       "721"
      ],
      "text/plain": [
       "[1] 721"
      ]
     },
     "metadata": {},
     "output_type": "display_data"
    }
   ],
   "source": [
    "data$Enroll[1]"
   ]
  },
  {
   "cell_type": "code",
   "execution_count": 134,
   "metadata": {},
   "outputs": [],
   "source": [
    "data$Enroll[1]<-NA"
   ]
  },
  {
   "cell_type": "code",
   "execution_count": 135,
   "metadata": {},
   "outputs": [
    {
     "data": {
      "text/html": [
       "<table>\n",
       "<thead><tr><th scope=col>Private</th><th scope=col>Apps</th><th scope=col>Accept</th><th scope=col>Enroll</th><th scope=col>Top10perc</th><th scope=col>Top25perc</th><th scope=col>F.Undergrad</th><th scope=col>P.Undergrad</th><th scope=col>Outstate</th><th scope=col>Room.Board</th><th scope=col>Books</th><th scope=col>Personal</th><th scope=col>PhD</th><th scope=col>Terminal</th><th scope=col>S.F.Ratio</th><th scope=col>perc.alumni</th><th scope=col>Expend</th><th scope=col>Grad.Rate</th></tr></thead>\n",
       "<tbody>\n",
       "\t<tr><td>Yes  </td><td>1660 </td><td>1232 </td><td> NA  </td><td>23   </td><td>52   </td><td>2885 </td><td> 537 </td><td> 7440</td><td>3300 </td><td>450  </td><td>2200 </td><td>70   </td><td>78   </td><td>18.1 </td><td>12   </td><td> 7041</td><td>60   </td></tr>\n",
       "\t<tr><td>Yes  </td><td>2186 </td><td>1924 </td><td>512  </td><td>16   </td><td>29   </td><td>2683 </td><td>1227 </td><td>12280</td><td>6450 </td><td>750  </td><td>1500 </td><td>29   </td><td>30   </td><td>12.2 </td><td>16   </td><td>10527</td><td>56   </td></tr>\n",
       "\t<tr><td>Yes  </td><td>1428 </td><td>1097 </td><td>336  </td><td>22   </td><td>50   </td><td>1036 </td><td>  99 </td><td>11250</td><td>3750 </td><td>400  </td><td>1165 </td><td>53   </td><td>66   </td><td>12.9 </td><td>30   </td><td> 8735</td><td>54   </td></tr>\n",
       "\t<tr><td>Yes  </td><td> 417 </td><td> 349 </td><td>137  </td><td>60   </td><td>89   </td><td> 510 </td><td>  63 </td><td>12960</td><td>5450 </td><td>450  </td><td> 875 </td><td>92   </td><td>97   </td><td> 7.7 </td><td>37   </td><td>19016</td><td>59   </td></tr>\n",
       "\t<tr><td>Yes  </td><td> 193 </td><td> 146 </td><td> 55  </td><td>16   </td><td>44   </td><td> 249 </td><td> 869 </td><td> 7560</td><td>4120 </td><td>800  </td><td>1500 </td><td>76   </td><td>72   </td><td>11.9 </td><td> 2   </td><td>10922</td><td>15   </td></tr>\n",
       "\t<tr><td>Yes  </td><td> 587 </td><td> 479 </td><td>158  </td><td>38   </td><td>62   </td><td> 678 </td><td>  41 </td><td>13500</td><td>3335 </td><td>500  </td><td> 675 </td><td>67   </td><td>73   </td><td> 9.4 </td><td>11   </td><td> 9727</td><td>55   </td></tr>\n",
       "</tbody>\n",
       "</table>\n"
      ],
      "text/latex": [
       "\\begin{tabular}{r|llllllllllllllllll}\n",
       " Private & Apps & Accept & Enroll & Top10perc & Top25perc & F.Undergrad & P.Undergrad & Outstate & Room.Board & Books & Personal & PhD & Terminal & S.F.Ratio & perc.alumni & Expend & Grad.Rate\\\\\n",
       "\\hline\n",
       "\t Yes   & 1660  & 1232  &  NA   & 23    & 52    & 2885  &  537  &  7440 & 3300  & 450   & 2200  & 70    & 78    & 18.1  & 12    &  7041 & 60   \\\\\n",
       "\t Yes   & 2186  & 1924  & 512   & 16    & 29    & 2683  & 1227  & 12280 & 6450  & 750   & 1500  & 29    & 30    & 12.2  & 16    & 10527 & 56   \\\\\n",
       "\t Yes   & 1428  & 1097  & 336   & 22    & 50    & 1036  &   99  & 11250 & 3750  & 400   & 1165  & 53    & 66    & 12.9  & 30    &  8735 & 54   \\\\\n",
       "\t Yes   &  417  &  349  & 137   & 60    & 89    &  510  &   63  & 12960 & 5450  & 450   &  875  & 92    & 97    &  7.7  & 37    & 19016 & 59   \\\\\n",
       "\t Yes   &  193  &  146  &  55   & 16    & 44    &  249  &  869  &  7560 & 4120  & 800   & 1500  & 76    & 72    & 11.9  &  2    & 10922 & 15   \\\\\n",
       "\t Yes   &  587  &  479  & 158   & 38    & 62    &  678  &   41  & 13500 & 3335  & 500   &  675  & 67    & 73    &  9.4  & 11    &  9727 & 55   \\\\\n",
       "\\end{tabular}\n"
      ],
      "text/markdown": [
       "\n",
       "Private | Apps | Accept | Enroll | Top10perc | Top25perc | F.Undergrad | P.Undergrad | Outstate | Room.Board | Books | Personal | PhD | Terminal | S.F.Ratio | perc.alumni | Expend | Grad.Rate | \n",
       "|---|---|---|---|---|---|\n",
       "| Yes   | 1660  | 1232  |  NA   | 23    | 52    | 2885  |  537  |  7440 | 3300  | 450   | 2200  | 70    | 78    | 18.1  | 12    |  7041 | 60    | \n",
       "| Yes   | 2186  | 1924  | 512   | 16    | 29    | 2683  | 1227  | 12280 | 6450  | 750   | 1500  | 29    | 30    | 12.2  | 16    | 10527 | 56    | \n",
       "| Yes   | 1428  | 1097  | 336   | 22    | 50    | 1036  |   99  | 11250 | 3750  | 400   | 1165  | 53    | 66    | 12.9  | 30    |  8735 | 54    | \n",
       "| Yes   |  417  |  349  | 137   | 60    | 89    |  510  |   63  | 12960 | 5450  | 450   |  875  | 92    | 97    |  7.7  | 37    | 19016 | 59    | \n",
       "| Yes   |  193  |  146  |  55   | 16    | 44    |  249  |  869  |  7560 | 4120  | 800   | 1500  | 76    | 72    | 11.9  |  2    | 10922 | 15    | \n",
       "| Yes   |  587  |  479  | 158   | 38    | 62    |  678  |   41  | 13500 | 3335  | 500   |  675  | 67    | 73    |  9.4  | 11    |  9727 | 55    | \n",
       "\n",
       "\n"
      ],
      "text/plain": [
       "  Private Apps Accept Enroll Top10perc Top25perc F.Undergrad P.Undergrad\n",
       "1 Yes     1660 1232    NA    23        52        2885         537       \n",
       "2 Yes     2186 1924   512    16        29        2683        1227       \n",
       "3 Yes     1428 1097   336    22        50        1036          99       \n",
       "4 Yes      417  349   137    60        89         510          63       \n",
       "5 Yes      193  146    55    16        44         249         869       \n",
       "6 Yes      587  479   158    38        62         678          41       \n",
       "  Outstate Room.Board Books Personal PhD Terminal S.F.Ratio perc.alumni Expend\n",
       "1  7440    3300       450   2200     70  78       18.1      12           7041 \n",
       "2 12280    6450       750   1500     29  30       12.2      16          10527 \n",
       "3 11250    3750       400   1165     53  66       12.9      30           8735 \n",
       "4 12960    5450       450    875     92  97        7.7      37          19016 \n",
       "5  7560    4120       800   1500     76  72       11.9       2          10922 \n",
       "6 13500    3335       500    675     67  73        9.4      11           9727 \n",
       "  Grad.Rate\n",
       "1 60       \n",
       "2 56       \n",
       "3 54       \n",
       "4 59       \n",
       "5 15       \n",
       "6 55       "
      ]
     },
     "metadata": {},
     "output_type": "display_data"
    }
   ],
   "source": [
    "head(data)"
   ]
  },
  {
   "cell_type": "code",
   "execution_count": 136,
   "metadata": {},
   "outputs": [
    {
     "data": {
      "text/html": [
       "<table>\n",
       "<thead><tr><th scope=col>Private</th><th scope=col>Enrolled</th></tr></thead>\n",
       "<tbody>\n",
       "\t<tr><td>No    </td><td>347865</td></tr>\n",
       "\t<tr><td>Yes   </td><td>    NA</td></tr>\n",
       "</tbody>\n",
       "</table>\n"
      ],
      "text/latex": [
       "\\begin{tabular}{r|ll}\n",
       " Private & Enrolled\\\\\n",
       "\\hline\n",
       "\t No     & 347865\\\\\n",
       "\t Yes    &     NA\\\\\n",
       "\\end{tabular}\n"
      ],
      "text/markdown": [
       "\n",
       "Private | Enrolled | \n",
       "|---|---|\n",
       "| No     | 347865 | \n",
       "| Yes    |     NA | \n",
       "\n",
       "\n"
      ],
      "text/plain": [
       "  Private Enrolled\n",
       "1 No      347865  \n",
       "2 Yes         NA  "
      ]
     },
     "metadata": {},
     "output_type": "display_data"
    }
   ],
   "source": [
    "data %>% group_by(Private) %>%\n",
    "    summarise(Enrolled=sum(Enroll ))"
   ]
  },
  {
   "cell_type": "code",
   "execution_count": 137,
   "metadata": {},
   "outputs": [
    {
     "data": {
      "text/html": [
       "<table>\n",
       "<thead><tr><th scope=col>Private</th><th scope=col>Enrolled</th></tr></thead>\n",
       "<tbody>\n",
       "\t<tr><td>No    </td><td>347865</td></tr>\n",
       "\t<tr><td>Yes   </td><td>257453</td></tr>\n",
       "</tbody>\n",
       "</table>\n"
      ],
      "text/latex": [
       "\\begin{tabular}{r|ll}\n",
       " Private & Enrolled\\\\\n",
       "\\hline\n",
       "\t No     & 347865\\\\\n",
       "\t Yes    & 257453\\\\\n",
       "\\end{tabular}\n"
      ],
      "text/markdown": [
       "\n",
       "Private | Enrolled | \n",
       "|---|---|\n",
       "| No     | 347865 | \n",
       "| Yes    | 257453 | \n",
       "\n",
       "\n"
      ],
      "text/plain": [
       "  Private Enrolled\n",
       "1 No      347865  \n",
       "2 Yes     257453  "
      ]
     },
     "metadata": {},
     "output_type": "display_data"
    }
   ],
   "source": [
    "# let's remove all NA values then \n",
    "data %>% group_by(Private) %>%\n",
    "    summarise(Enrolled=sum(Enroll, na.rm=T ))"
   ]
  },
  {
   "cell_type": "code",
   "execution_count": 138,
   "metadata": {},
   "outputs": [
    {
     "data": {
      "text/html": [
       "<table>\n",
       "<thead><tr><th scope=col>Private</th><th scope=col>Enrolled</th><th scope=col>count</th><th scope=col>Average_enrollement</th></tr></thead>\n",
       "<tbody>\n",
       "\t<tr><td>No      </td><td>347865  </td><td>212     </td><td>1640.873</td></tr>\n",
       "\t<tr><td>Yes     </td><td>257453  </td><td>565     </td><td> 456.477</td></tr>\n",
       "</tbody>\n",
       "</table>\n"
      ],
      "text/latex": [
       "\\begin{tabular}{r|llll}\n",
       " Private & Enrolled & count & Average\\_enrollement\\\\\n",
       "\\hline\n",
       "\t No       & 347865   & 212      & 1640.873\\\\\n",
       "\t Yes      & 257453   & 565      &  456.477\\\\\n",
       "\\end{tabular}\n"
      ],
      "text/markdown": [
       "\n",
       "Private | Enrolled | count | Average_enrollement | \n",
       "|---|---|\n",
       "| No       | 347865   | 212      | 1640.873 | \n",
       "| Yes      | 257453   | 565      |  456.477 | \n",
       "\n",
       "\n"
      ],
      "text/plain": [
       "  Private Enrolled count Average_enrollement\n",
       "1 No      347865   212   1640.873           \n",
       "2 Yes     257453   565    456.477           "
      ]
     },
     "metadata": {},
     "output_type": "display_data"
    }
   ],
   "source": [
    "# lets determin the avg nad count all enrolement by  College tye \n",
    "data %>% group_by(Private) %>%\n",
    "    summarise(Enrolled=sum(Enroll, na.rm=T ),\n",
    "             count=n(),\n",
    "             Average_enrollement=mean(Enroll, na.rm=T))"
   ]
  },
  {
   "cell_type": "markdown",
   "metadata": {},
   "source": [
    "###  Back to Cars "
   ]
  },
  {
   "cell_type": "code",
   "execution_count": 161,
   "metadata": {},
   "outputs": [
    {
     "data": {
      "text/html": [
       "'double'"
      ],
      "text/latex": [
       "'double'"
      ],
      "text/markdown": [
       "'double'"
      ],
      "text/plain": [
       "[1] \"double\""
      ]
     },
     "metadata": {},
     "output_type": "display_data"
    }
   ],
   "source": [
    "typeof(temp$mpg)"
   ]
  },
  {
   "cell_type": "code",
   "execution_count": 162,
   "metadata": {},
   "outputs": [
    {
     "data": {
      "text/html": [
       "<table>\n",
       "<thead><tr><th scope=col>mpg</th><th scope=col>cyl</th><th scope=col>am</th><th scope=col>Consumption</th></tr></thead>\n",
       "<tbody>\n",
       "\t<tr><td>21.0   </td><td>6      </td><td>1      </td><td>8.92710</td></tr>\n",
       "\t<tr><td>21.0   </td><td>6      </td><td>1      </td><td>8.92710</td></tr>\n",
       "\t<tr><td>22.8   </td><td>4      </td><td>1      </td><td>9.69228</td></tr>\n",
       "\t<tr><td>21.4   </td><td>6      </td><td>0      </td><td>9.09714</td></tr>\n",
       "\t<tr><td>18.7   </td><td>8      </td><td>0      </td><td>7.94937</td></tr>\n",
       "\t<tr><td>18.1   </td><td>6      </td><td>0      </td><td>7.69431</td></tr>\n",
       "</tbody>\n",
       "</table>\n"
      ],
      "text/latex": [
       "\\begin{tabular}{r|llll}\n",
       " mpg & cyl & am & Consumption\\\\\n",
       "\\hline\n",
       "\t 21.0    & 6       & 1       & 8.92710\\\\\n",
       "\t 21.0    & 6       & 1       & 8.92710\\\\\n",
       "\t 22.8    & 4       & 1       & 9.69228\\\\\n",
       "\t 21.4    & 6       & 0       & 9.09714\\\\\n",
       "\t 18.7    & 8       & 0       & 7.94937\\\\\n",
       "\t 18.1    & 6       & 0       & 7.69431\\\\\n",
       "\\end{tabular}\n"
      ],
      "text/markdown": [
       "\n",
       "mpg | cyl | am | Consumption | \n",
       "|---|---|---|---|---|---|\n",
       "| 21.0    | 6       | 1       | 8.92710 | \n",
       "| 21.0    | 6       | 1       | 8.92710 | \n",
       "| 22.8    | 4       | 1       | 9.69228 | \n",
       "| 21.4    | 6       | 0       | 9.09714 | \n",
       "| 18.7    | 8       | 0       | 7.94937 | \n",
       "| 18.1    | 6       | 0       | 7.69431 | \n",
       "\n",
       "\n"
      ],
      "text/plain": [
       "  mpg  cyl am Consumption\n",
       "1 21.0 6   1  8.92710    \n",
       "2 21.0 6   1  8.92710    \n",
       "3 22.8 4   1  9.69228    \n",
       "4 21.4 6   0  9.09714    \n",
       "5 18.7 8   0  7.94937    \n",
       "6 18.1 6   0  7.69431    "
      ]
     },
     "metadata": {},
     "output_type": "display_data"
    }
   ],
   "source": [
    "head(temp)"
   ]
  },
  {
   "cell_type": "code",
   "execution_count": 164,
   "metadata": {},
   "outputs": [],
   "source": [
    "temp<- temp %>% group_by(cyl) %>%\n",
    "summarise(avg_consump=mean(Consumption), count=n())"
   ]
  },
  {
   "cell_type": "code",
   "execution_count": 165,
   "metadata": {},
   "outputs": [
    {
     "data": {
      "text/html": [
       "<ol class=list-inline>\n",
       "\t<li>'tbl_df'</li>\n",
       "\t<li>'tbl'</li>\n",
       "\t<li>'data.frame'</li>\n",
       "</ol>\n"
      ],
      "text/latex": [
       "\\begin{enumerate*}\n",
       "\\item 'tbl\\_df'\n",
       "\\item 'tbl'\n",
       "\\item 'data.frame'\n",
       "\\end{enumerate*}\n"
      ],
      "text/markdown": [
       "1. 'tbl_df'\n",
       "2. 'tbl'\n",
       "3. 'data.frame'\n",
       "\n",
       "\n"
      ],
      "text/plain": [
       "[1] \"tbl_df\"     \"tbl\"        \"data.frame\""
      ]
     },
     "metadata": {},
     "output_type": "display_data"
    }
   ],
   "source": [
    "class(temp)"
   ]
  },
  {
   "cell_type": "code",
   "execution_count": 166,
   "metadata": {},
   "outputs": [
    {
     "data": {
      "text/html": [
       "<table>\n",
       "<thead><tr><th scope=col>cyl</th><th scope=col>avg_consump</th><th scope=col>count</th></tr></thead>\n",
       "<tbody>\n",
       "\t<tr><td>4        </td><td>11.334712</td><td>11       </td></tr>\n",
       "\t<tr><td>6        </td><td> 8.392689</td><td> 7       </td></tr>\n",
       "\t<tr><td>8        </td><td> 6.419010</td><td>14       </td></tr>\n",
       "</tbody>\n",
       "</table>\n"
      ],
      "text/latex": [
       "\\begin{tabular}{r|lll}\n",
       " cyl & avg\\_consump & count\\\\\n",
       "\\hline\n",
       "\t 4         & 11.334712 & 11       \\\\\n",
       "\t 6         &  8.392689 &  7       \\\\\n",
       "\t 8         &  6.419010 & 14       \\\\\n",
       "\\end{tabular}\n"
      ],
      "text/markdown": [
       "\n",
       "cyl | avg_consump | count | \n",
       "|---|---|---|\n",
       "| 4         | 11.334712 | 11        | \n",
       "| 6         |  8.392689 |  7        | \n",
       "| 8         |  6.419010 | 14        | \n",
       "\n",
       "\n"
      ],
      "text/plain": [
       "  cyl avg_consump count\n",
       "1 4   11.334712   11   \n",
       "2 6    8.392689    7   \n",
       "3 8    6.419010   14   "
      ]
     },
     "metadata": {},
     "output_type": "display_data"
    }
   ],
   "source": [
    "head(temp)"
   ]
  },
  {
   "cell_type": "code",
   "execution_count": 169,
   "metadata": {},
   "outputs": [
    {
     "data": {
      "text/html": [
       "<table>\n",
       "<thead><tr><th scope=col>cyl</th><th scope=col>avg_consump</th><th scope=col>count</th></tr></thead>\n",
       "<tbody>\n",
       "\t<tr><td>4        </td><td>11.334712</td><td>11       </td></tr>\n",
       "\t<tr><td>6        </td><td> 8.392689</td><td> 7       </td></tr>\n",
       "\t<tr><td>8        </td><td> 6.419010</td><td>14       </td></tr>\n",
       "</tbody>\n",
       "</table>\n"
      ],
      "text/latex": [
       "\\begin{tabular}{r|lll}\n",
       " cyl & avg\\_consump & count\\\\\n",
       "\\hline\n",
       "\t 4         & 11.334712 & 11       \\\\\n",
       "\t 6         &  8.392689 &  7       \\\\\n",
       "\t 8         &  6.419010 & 14       \\\\\n",
       "\\end{tabular}\n"
      ],
      "text/markdown": [
       "\n",
       "cyl | avg_consump | count | \n",
       "|---|---|---|\n",
       "| 4         | 11.334712 | 11        | \n",
       "| 6         |  8.392689 |  7        | \n",
       "| 8         |  6.419010 | 14        | \n",
       "\n",
       "\n"
      ],
      "text/plain": [
       "  cyl avg_consump count\n",
       "1 4   11.334712   11   \n",
       "2 6    8.392689    7   \n",
       "3 8    6.419010   14   "
      ]
     },
     "metadata": {},
     "output_type": "display_data"
    }
   ],
   "source": [
    "arrange(temp, desc(avg_consump))"
   ]
  },
  {
   "cell_type": "code",
   "execution_count": 174,
   "metadata": {},
   "outputs": [
    {
     "data": {
      "text/html": [
       "<table>\n",
       "<thead><tr><th scope=col>cyl</th><th scope=col>avg_consump</th><th scope=col>count</th></tr></thead>\n",
       "<tbody>\n",
       "\t<tr><td>4        </td><td>11.334712</td><td>11       </td></tr>\n",
       "\t<tr><td>6        </td><td> 8.392689</td><td> 7       </td></tr>\n",
       "\t<tr><td>8        </td><td> 6.419010</td><td>14       </td></tr>\n",
       "</tbody>\n",
       "</table>\n"
      ],
      "text/latex": [
       "\\begin{tabular}{r|lll}\n",
       " cyl & avg\\_consump & count\\\\\n",
       "\\hline\n",
       "\t 4         & 11.334712 & 11       \\\\\n",
       "\t 6         &  8.392689 &  7       \\\\\n",
       "\t 8         &  6.419010 & 14       \\\\\n",
       "\\end{tabular}\n"
      ],
      "text/markdown": [
       "\n",
       "cyl | avg_consump | count | \n",
       "|---|---|---|\n",
       "| 4         | 11.334712 | 11        | \n",
       "| 6         |  8.392689 |  7        | \n",
       "| 8         |  6.419010 | 14        | \n",
       "\n",
       "\n"
      ],
      "text/plain": [
       "  cyl avg_consump count\n",
       "1 4   11.334712   11   \n",
       "2 6    8.392689    7   \n",
       "3 8    6.419010   14   "
      ]
     },
     "metadata": {},
     "output_type": "display_data"
    }
   ],
   "source": [
    "temp[, order(-temp$avg_consump)]"
   ]
  },
  {
   "cell_type": "markdown",
   "metadata": {},
   "source": [
    "##  Piping all Instructions above"
   ]
  },
  {
   "cell_type": "code",
   "execution_count": 203,
   "metadata": {},
   "outputs": [],
   "source": [
    "efficiency <-  cars %>%\n",
    "    select( mpg, cyl , am ) %>%\n",
    "    filter( am==1) %>%\n",
    "    mutate( Consumption=mpg*0.425)  %>%\n",
    "    group_by(cyl)  %>%\n",
    "    summarise( avg_consumption=mean(Consumption)) %>%\n",
    "    arrange(desc(avg_consumption)) %>%\n",
    "    as.data.frame()"
   ]
  },
  {
   "cell_type": "code",
   "execution_count": 204,
   "metadata": {},
   "outputs": [
    {
     "data": {
      "text/html": [
       "<table>\n",
       "<thead><tr><th scope=col>cyl</th><th scope=col>avg_consumption</th></tr></thead>\n",
       "<tbody>\n",
       "\t<tr><td>4        </td><td>11.931875</td></tr>\n",
       "\t<tr><td>6        </td><td> 8.740833</td></tr>\n",
       "\t<tr><td>8        </td><td> 6.545000</td></tr>\n",
       "</tbody>\n",
       "</table>\n"
      ],
      "text/latex": [
       "\\begin{tabular}{r|ll}\n",
       " cyl & avg\\_consumption\\\\\n",
       "\\hline\n",
       "\t 4         & 11.931875\\\\\n",
       "\t 6         &  8.740833\\\\\n",
       "\t 8         &  6.545000\\\\\n",
       "\\end{tabular}\n"
      ],
      "text/markdown": [
       "\n",
       "cyl | avg_consumption | \n",
       "|---|---|---|\n",
       "| 4         | 11.931875 | \n",
       "| 6         |  8.740833 | \n",
       "| 8         |  6.545000 | \n",
       "\n",
       "\n"
      ],
      "text/plain": [
       "  cyl avg_consumption\n",
       "1 4   11.931875      \n",
       "2 6    8.740833      \n",
       "3 8    6.545000      "
      ]
     },
     "metadata": {},
     "output_type": "display_data"
    }
   ],
   "source": [
    "efficiency"
   ]
  },
  {
   "cell_type": "markdown",
   "metadata": {},
   "source": [
    "##   Write file"
   ]
  },
  {
   "cell_type": "code",
   "execution_count": 207,
   "metadata": {},
   "outputs": [],
   "source": [
    "write.csv(efficiency, file=\"FuelConsumption\", row.names=F)"
   ]
  },
  {
   "cell_type": "markdown",
   "metadata": {},
   "source": [
    "##  Descriptive Statistics"
   ]
  },
  {
   "cell_type": "markdown",
   "metadata": {},
   "source": [
    "##   cars  By.  transmission type"
   ]
  },
  {
   "cell_type": "code",
   "execution_count": 220,
   "metadata": {},
   "outputs": [
    {
     "data": {
      "text/plain": [
       "\n",
       " 0  1 \n",
       "19 13 "
      ]
     },
     "metadata": {},
     "output_type": "display_data"
    }
   ],
   "source": [
    "table(cars$am)"
   ]
  },
  {
   "cell_type": "code",
   "execution_count": 219,
   "metadata": {},
   "outputs": [
    {
     "data": {
      "text/plain": [
       " Aut Manu \n",
       "  19   13 "
      ]
     },
     "metadata": {},
     "output_type": "display_data"
    }
   ],
   "source": [
    "temp<- table(cars$am)\n",
    "names(temp)<- c('Aut', \"Manu\")\n",
    "temp"
   ]
  },
  {
   "cell_type": "code",
   "execution_count": null,
   "metadata": {},
   "outputs": [],
   "source": []
  },
  {
   "cell_type": "code",
   "execution_count": null,
   "metadata": {},
   "outputs": [],
   "source": []
  },
  {
   "cell_type": "code",
   "execution_count": null,
   "metadata": {},
   "outputs": [],
   "source": []
  },
  {
   "cell_type": "markdown",
   "metadata": {},
   "source": [
    "##   fuel Economy  Distribution "
   ]
  },
  {
   "cell_type": "code",
   "execution_count": 221,
   "metadata": {},
   "outputs": [
    {
     "data": {
      "text/html": [
       "10.4"
      ],
      "text/latex": [
       "10.4"
      ],
      "text/markdown": [
       "10.4"
      ],
      "text/plain": [
       "[1] 10.4"
      ]
     },
     "metadata": {},
     "output_type": "display_data"
    }
   ],
   "source": [
    "min(cars$mpg)"
   ]
  },
  {
   "cell_type": "code",
   "execution_count": 222,
   "metadata": {},
   "outputs": [
    {
     "data": {
      "text/html": [
       "33.9"
      ],
      "text/latex": [
       "33.9"
      ],
      "text/markdown": [
       "33.9"
      ],
      "text/plain": [
       "[1] 33.9"
      ]
     },
     "metadata": {},
     "output_type": "display_data"
    }
   ],
   "source": [
    "max(cars$mpg)"
   ]
  },
  {
   "cell_type": "code",
   "execution_count": 223,
   "metadata": {},
   "outputs": [
    {
     "data": {
      "text/html": [
       "20.090625"
      ],
      "text/latex": [
       "20.090625"
      ],
      "text/markdown": [
       "20.090625"
      ],
      "text/plain": [
       "[1] 20.09062"
      ]
     },
     "metadata": {},
     "output_type": "display_data"
    }
   ],
   "source": [
    "mean(cars$mpg)"
   ]
  },
  {
   "cell_type": "code",
   "execution_count": 224,
   "metadata": {},
   "outputs": [
    {
     "data": {
      "text/html": [
       "19.2"
      ],
      "text/latex": [
       "19.2"
      ],
      "text/markdown": [
       "19.2"
      ],
      "text/plain": [
       "[1] 19.2"
      ]
     },
     "metadata": {},
     "output_type": "display_data"
    }
   ],
   "source": [
    "median(cars$mpg)"
   ]
  },
  {
   "cell_type": "code",
   "execution_count": 225,
   "metadata": {},
   "outputs": [
    {
     "data": {
      "text/html": [
       "<dl class=dl-horizontal>\n",
       "\t<dt>0%</dt>\n",
       "\t\t<dd>10.4</dd>\n",
       "\t<dt>25%</dt>\n",
       "\t\t<dd>15.425</dd>\n",
       "\t<dt>50%</dt>\n",
       "\t\t<dd>19.2</dd>\n",
       "\t<dt>75%</dt>\n",
       "\t\t<dd>22.8</dd>\n",
       "\t<dt>100%</dt>\n",
       "\t\t<dd>33.9</dd>\n",
       "</dl>\n"
      ],
      "text/latex": [
       "\\begin{description*}\n",
       "\\item[0\\textbackslash{}\\%] 10.4\n",
       "\\item[25\\textbackslash{}\\%] 15.425\n",
       "\\item[50\\textbackslash{}\\%] 19.2\n",
       "\\item[75\\textbackslash{}\\%] 22.8\n",
       "\\item[100\\textbackslash{}\\%] 33.9\n",
       "\\end{description*}\n"
      ],
      "text/markdown": [
       "0%\n",
       ":   10.425%\n",
       ":   15.42550%\n",
       ":   19.275%\n",
       ":   22.8100%\n",
       ":   33.9\n",
       "\n"
      ],
      "text/plain": [
       "    0%    25%    50%    75%   100% \n",
       "10.400 15.425 19.200 22.800 33.900 "
      ]
     },
     "metadata": {},
     "output_type": "display_data"
    }
   ],
   "source": [
    "quantile(cars$mpg)"
   ]
  },
  {
   "cell_type": "code",
   "execution_count": 227,
   "metadata": {},
   "outputs": [
    {
     "data": {
      "text/html": [
       "6.0269480520891"
      ],
      "text/latex": [
       "6.0269480520891"
      ],
      "text/markdown": [
       "6.0269480520891"
      ],
      "text/plain": [
       "[1] 6.026948"
      ]
     },
     "metadata": {},
     "output_type": "display_data"
    }
   ],
   "source": [
    "sd(cars$mpg)"
   ]
  },
  {
   "cell_type": "code",
   "execution_count": 228,
   "metadata": {},
   "outputs": [
    {
     "data": {
      "text/html": [
       "642.9"
      ],
      "text/latex": [
       "642.9"
      ],
      "text/markdown": [
       "642.9"
      ],
      "text/plain": [
       "[1] 642.9"
      ]
     },
     "metadata": {},
     "output_type": "display_data"
    }
   ],
   "source": [
    "sum(cars$mpg)"
   ]
  },
  {
   "cell_type": "markdown",
   "metadata": {},
   "source": [
    "##  Correlation.  Fuel ,  Cyl "
   ]
  },
  {
   "cell_type": "code",
   "execution_count": 229,
   "metadata": {},
   "outputs": [
    {
     "data": {
      "text/html": [
       "-0.852161959426613"
      ],
      "text/latex": [
       "-0.852161959426613"
      ],
      "text/markdown": [
       "-0.852161959426613"
      ],
      "text/plain": [
       "[1] -0.852162"
      ]
     },
     "metadata": {},
     "output_type": "display_data"
    }
   ],
   "source": [
    "cor(cars$mpg, cars$cyl)"
   ]
  },
  {
   "cell_type": "code",
   "execution_count": 235,
   "metadata": {},
   "outputs": [
    {
     "data": {
      "text/plain": [
       "   Min. 1st Qu.  Median    Mean 3rd Qu.    Max. \n",
       "  10.40   15.43   19.20   20.09   22.80   33.90 "
      ]
     },
     "metadata": {},
     "output_type": "display_data"
    }
   ],
   "source": [
    "summary(cars$mpg)"
   ]
  },
  {
   "cell_type": "code",
   "execution_count": 236,
   "metadata": {},
   "outputs": [
    {
     "data": {
      "text/plain": [
       "      mpg             cyl             disp             hp       \n",
       " Min.   :10.40   Min.   :4.000   Min.   : 71.1   Min.   : 52.0  \n",
       " 1st Qu.:15.43   1st Qu.:4.000   1st Qu.:120.8   1st Qu.: 96.5  \n",
       " Median :19.20   Median :6.000   Median :196.3   Median :123.0  \n",
       " Mean   :20.09   Mean   :6.188   Mean   :230.7   Mean   :146.7  \n",
       " 3rd Qu.:22.80   3rd Qu.:8.000   3rd Qu.:326.0   3rd Qu.:180.0  \n",
       " Max.   :33.90   Max.   :8.000   Max.   :472.0   Max.   :335.0  \n",
       "      drat             wt             qsec             vs        \n",
       " Min.   :2.760   Min.   :1.513   Min.   :14.50   Min.   :0.0000  \n",
       " 1st Qu.:3.080   1st Qu.:2.581   1st Qu.:16.89   1st Qu.:0.0000  \n",
       " Median :3.695   Median :3.325   Median :17.71   Median :0.0000  \n",
       " Mean   :3.597   Mean   :3.217   Mean   :17.85   Mean   :0.4375  \n",
       " 3rd Qu.:3.920   3rd Qu.:3.610   3rd Qu.:18.90   3rd Qu.:1.0000  \n",
       " Max.   :4.930   Max.   :5.424   Max.   :22.90   Max.   :1.0000  \n",
       "       am              gear            carb      \n",
       " Min.   :0.0000   Min.   :3.000   Min.   :1.000  \n",
       " 1st Qu.:0.0000   1st Qu.:3.000   1st Qu.:2.000  \n",
       " Median :0.0000   Median :4.000   Median :2.000  \n",
       " Mean   :0.4062   Mean   :3.688   Mean   :2.812  \n",
       " 3rd Qu.:1.0000   3rd Qu.:4.000   3rd Qu.:4.000  \n",
       " Max.   :1.0000   Max.   :5.000   Max.   :8.000  "
      ]
     },
     "metadata": {},
     "output_type": "display_data"
    }
   ],
   "source": [
    "summary(cars)"
   ]
  },
  {
   "cell_type": "markdown",
   "metadata": {},
   "source": [
    "# Plotting"
   ]
  },
  {
   "cell_type": "code",
   "execution_count": 238,
   "metadata": {},
   "outputs": [],
   "source": [
    "library(ggplot2)"
   ]
  },
  {
   "cell_type": "code",
   "execution_count": 240,
   "metadata": {},
   "outputs": [
    {
     "data": {},
     "metadata": {},
     "output_type": "display_data"
    },
    {
     "data": {
      "image/png": "[encoded data removed]",
      "text/plain": [
       "plot without title"
      ]
     },
     "metadata": {},
     "output_type": "display_data"
    }
   ],
   "source": [
    "ggplot(cars, aes(am))+\n",
    "    geom_bar()+\n",
    "    ggtitle(\"Cars by Transmission\") +\n",
    "    xlab(\"  transmission \") +\n",
    "    ylab(\" Number of Cars\")\n",
    "    "
   ]
  },
  {
   "cell_type": "code",
   "execution_count": null,
   "metadata": {},
   "outputs": [],
   "source": []
  },
  {
   "cell_type": "code",
   "execution_count": 241,
   "metadata": {},
   "outputs": [
    {
     "name": "stderr",
     "output_type": "stream",
     "text": [
      "`stat_bin()` using `bins = 30`. Pick better value with `binwidth`.\n"
     ]
    },
    {
     "data": {},
     "metadata": {},
     "output_type": "display_data"
    },
    {
     "data": {
      "image/png": "[encoded data removed]",
      "text/plain": [
       "plot without title"
      ]
     },
     "metadata": {},
     "output_type": "display_data"
    }
   ],
   "source": [
    "ggplot(cars, aes(mpg))+\n",
    "    geom_histogram()+\n",
    "    ggtitle(\" Fuel Destribution\") +\n",
    "    xlab(\"  fuel Economy. mpg\") +\n",
    "    ylab(\" Number of Cars\")\n",
    "    "
   ]
  },
  {
   "cell_type": "code",
   "execution_count": null,
   "metadata": {},
   "outputs": [],
   "source": []
  },
  {
   "cell_type": "code",
   "execution_count": 243,
   "metadata": {},
   "outputs": [
    {
     "data": {},
     "metadata": {},
     "output_type": "display_data"
    },
    {
     "data": {
      "image/png": "[encoded data removed]",
      "text/plain": [
       "plot without title"
      ]
     },
     "metadata": {},
     "output_type": "display_data"
    }
   ],
   "source": [
    "ggplot(cars, aes(mpg))+\n",
    "    geom_histogram(bins=10)+\n",
    "    ggtitle(\" Fuel Destribution\") +\n",
    "    xlab(\"  fuel Economy. mpg\") +\n",
    "    ylab(\" Number of Cars\")\n",
    "    "
   ]
  },
  {
   "cell_type": "markdown",
   "metadata": {},
   "source": [
    "##  Density. Plot\n"
   ]
  },
  {
   "cell_type": "code",
   "execution_count": 244,
   "metadata": {},
   "outputs": [
    {
     "data": {},
     "metadata": {},
     "output_type": "display_data"
    },
    {
     "data": {
      "image/png": "[encoded data removed]",
      "text/plain": [
       "plot without title"
      ]
     },
     "metadata": {},
     "output_type": "display_data"
    }
   ],
   "source": [
    "ggplot(cars, aes(mpg)) +\n",
    "    geom_density()+\n",
    "    ggtitle(\" Fuel consumption Distribution\") +\n",
    "    xlab(\"Fuel Economy \")+\n",
    "    ylab(\" Probability Density \")"
   ]
  },
  {
   "cell_type": "markdown",
   "metadata": {},
   "source": [
    "##   Scatter Plot\n"
   ]
  },
  {
   "cell_type": "code",
   "execution_count": 253,
   "metadata": {},
   "outputs": [
    {
     "data": {},
     "metadata": {},
     "output_type": "display_data"
    },
    {
     "data": {
      "image/png": "[encoded data removed]",
      "text/plain": [
       "plot without title"
      ]
     },
     "metadata": {},
     "output_type": "display_data"
    }
   ],
   "source": [
    "ggplot(cars, aes(cyl , mpg))+\n",
    "    geom_point()+\n",
    "    ggtitle(\" scatter Plot.  Cyl=f(mog)\")+\n",
    "    xlab(\" CYlinders \")+\n",
    "    ylab(\"Consumption \")"
   ]
  },
  {
   "cell_type": "code",
   "execution_count": 258,
   "metadata": {},
   "outputs": [
    {
     "data": {},
     "metadata": {},
     "output_type": "display_data"
    },
    {
     "data": {
      "image/png": "[encoded data removed]",
      "text/plain": [
       "plot without title"
      ]
     },
     "metadata": {},
     "output_type": "display_data"
    }
   ],
   "source": [
    "ggplot(cars, aes(cyl , mpg))+\n",
    "    geom_point()+\n",
    "    stat_smooth(method = \"lm\", col = \"red\")+\n",
    "    ggtitle(\" scatter Plot.  Cyl=f(mpg)\")+\n",
    "    xlab(\" CYlinders \")+\n",
    "    ylab(\"Consumption \")\n",
    "\n",
    " \n"
   ]
  },
  {
   "cell_type": "code",
   "execution_count": null,
   "metadata": {},
   "outputs": [],
   "source": []
  },
  {
   "cell_type": "code",
   "execution_count": 283,
   "metadata": {},
   "outputs": [],
   "source": [
    "dat <- read.table(text = \"\n",
    "female  apcalc    admit       num\n",
    "0        0        0         7\n",
    "0        0        1         1\n",
    "0        1        0         3\n",
    "0        1        1         7\n",
    "1        0        0         5\n",
    "1        0        1         1\n",
    "1        1        0         0\n",
    "1        1        1         6\",\n",
    "  header = TRUE)"
   ]
  },
  {
   "cell_type": "code",
   "execution_count": 284,
   "metadata": {},
   "outputs": [
    {
     "data": {
      "text/html": [
       "8"
      ],
      "text/latex": [
       "8"
      ],
      "text/markdown": [
       "8"
      ],
      "text/plain": [
       "[1] 8"
      ]
     },
     "metadata": {},
     "output_type": "display_data"
    }
   ],
   "source": [
    "nrow(dat)"
   ]
  },
  {
   "cell_type": "code",
   "execution_count": 286,
   "metadata": {},
   "outputs": [
    {
     "data": {
      "text/html": [
       "<table>\n",
       "<thead><tr><th scope=col>female</th><th scope=col>apcalc</th><th scope=col>admit</th><th scope=col>num</th></tr></thead>\n",
       "<tbody>\n",
       "\t<tr><td>0</td><td>0</td><td>0</td><td>7</td></tr>\n",
       "\t<tr><td>0</td><td>0</td><td>1</td><td>1</td></tr>\n",
       "\t<tr><td>0</td><td>1</td><td>0</td><td>3</td></tr>\n",
       "\t<tr><td>0</td><td>1</td><td>1</td><td>7</td></tr>\n",
       "\t<tr><td>1</td><td>0</td><td>0</td><td>5</td></tr>\n",
       "\t<tr><td>1</td><td>0</td><td>1</td><td>1</td></tr>\n",
       "\t<tr><td>1</td><td>1</td><td>0</td><td>0</td></tr>\n",
       "\t<tr><td>1</td><td>1</td><td>1</td><td>6</td></tr>\n",
       "</tbody>\n",
       "</table>\n"
      ],
      "text/latex": [
       "\\begin{tabular}{r|llll}\n",
       " female & apcalc & admit & num\\\\\n",
       "\\hline\n",
       "\t 0 & 0 & 0 & 7\\\\\n",
       "\t 0 & 0 & 1 & 1\\\\\n",
       "\t 0 & 1 & 0 & 3\\\\\n",
       "\t 0 & 1 & 1 & 7\\\\\n",
       "\t 1 & 0 & 0 & 5\\\\\n",
       "\t 1 & 0 & 1 & 1\\\\\n",
       "\t 1 & 1 & 0 & 0\\\\\n",
       "\t 1 & 1 & 1 & 6\\\\\n",
       "\\end{tabular}\n"
      ],
      "text/markdown": [
       "\n",
       "female | apcalc | admit | num | \n",
       "|---|---|---|---|---|---|---|---|\n",
       "| 0 | 0 | 0 | 7 | \n",
       "| 0 | 0 | 1 | 1 | \n",
       "| 0 | 1 | 0 | 3 | \n",
       "| 0 | 1 | 1 | 7 | \n",
       "| 1 | 0 | 0 | 5 | \n",
       "| 1 | 0 | 1 | 1 | \n",
       "| 1 | 1 | 0 | 0 | \n",
       "| 1 | 1 | 1 | 6 | \n",
       "\n",
       "\n"
      ],
      "text/plain": [
       "  female apcalc admit num\n",
       "1 0      0      0     7  \n",
       "2 0      0      1     1  \n",
       "3 0      1      0     3  \n",
       "4 0      1      1     7  \n",
       "5 1      0      0     5  \n",
       "6 1      0      1     1  \n",
       "7 1      1      0     0  \n",
       "8 1      1      1     6  "
      ]
     },
     "metadata": {},
     "output_type": "display_data"
    }
   ],
   "source": [
    "dat"
   ]
  },
  {
   "cell_type": "code",
   "execution_count": 290,
   "metadata": {},
   "outputs": [
    {
     "data": {
      "text/html": [
       "<table>\n",
       "<thead><tr><th></th><th scope=col>apcalc</th><th scope=col>admit</th><th scope=col>num</th></tr></thead>\n",
       "<tbody>\n",
       "\t<tr><th scope=row>1</th><td>0</td><td>0</td><td>7</td></tr>\n",
       "\t<tr><th scope=row>1.1</th><td>0</td><td>0</td><td>7</td></tr>\n",
       "\t<tr><th scope=row>1.2</th><td>0</td><td>0</td><td>7</td></tr>\n",
       "\t<tr><th scope=row>1.3</th><td>0</td><td>0</td><td>7</td></tr>\n",
       "</tbody>\n",
       "</table>\n"
      ],
      "text/latex": [
       "\\begin{tabular}{r|lll}\n",
       "  & apcalc & admit & num\\\\\n",
       "\\hline\n",
       "\t1 & 0 & 0 & 7\\\\\n",
       "\t1.1 & 0 & 0 & 7\\\\\n",
       "\t1.2 & 0 & 0 & 7\\\\\n",
       "\t1.3 & 0 & 0 & 7\\\\\n",
       "\\end{tabular}\n"
      ],
      "text/markdown": [
       "\n",
       "| <!--/--> | apcalc | admit | num | \n",
       "|---|---|---|---|\n",
       "| 1 | 0 | 0 | 7 | \n",
       "| 1.1 | 0 | 0 | 7 | \n",
       "| 1.2 | 0 | 0 | 7 | \n",
       "| 1.3 | 0 | 0 | 7 | \n",
       "\n",
       "\n"
      ],
      "text/plain": [
       "    apcalc admit num\n",
       "1   0      0     7  \n",
       "1.1 0      0     7  \n",
       "1.2 0      0     7  \n",
       "1.3 0      0     7  "
      ]
     },
     "metadata": {},
     "output_type": "display_data"
    }
   ],
   "source": [
    "dat[dat$female, -1]"
   ]
  },
  {
   "cell_type": "code",
   "execution_count": 279,
   "metadata": {},
   "outputs": [
    {
     "data": {
      "text/html": [
       "<table>\n",
       "<thead><tr><th></th><th scope=col>female</th><th scope=col>apcalc</th><th scope=col>admit</th><th scope=col>num</th></tr></thead>\n",
       "<tbody>\n",
       "\t<tr><th scope=row>1</th><td>0</td><td>0</td><td>0</td><td>7</td></tr>\n",
       "\t<tr><th scope=row>1.1</th><td>0</td><td>0</td><td>0</td><td>7</td></tr>\n",
       "\t<tr><th scope=row>1.2</th><td>0</td><td>0</td><td>0</td><td>7</td></tr>\n",
       "\t<tr><th scope=row>1.3</th><td>0</td><td>0</td><td>0</td><td>7</td></tr>\n",
       "\t<tr><th scope=row>1.4</th><td>0</td><td>0</td><td>0</td><td>7</td></tr>\n",
       "\t<tr><th scope=row>1.5</th><td>0</td><td>0</td><td>0</td><td>7</td></tr>\n",
       "\t<tr><th scope=row>1.6</th><td>0</td><td>0</td><td>0</td><td>7</td></tr>\n",
       "\t<tr><th scope=row>2</th><td>0</td><td>0</td><td>1</td><td>1</td></tr>\n",
       "\t<tr><th scope=row>3</th><td>0</td><td>1</td><td>0</td><td>3</td></tr>\n",
       "\t<tr><th scope=row>3.1</th><td>0</td><td>1</td><td>0</td><td>3</td></tr>\n",
       "\t<tr><th scope=row>3.2</th><td>0</td><td>1</td><td>0</td><td>3</td></tr>\n",
       "\t<tr><th scope=row>4</th><td>0</td><td>1</td><td>1</td><td>7</td></tr>\n",
       "\t<tr><th scope=row>4.1</th><td>0</td><td>1</td><td>1</td><td>7</td></tr>\n",
       "\t<tr><th scope=row>4.2</th><td>0</td><td>1</td><td>1</td><td>7</td></tr>\n",
       "\t<tr><th scope=row>4.3</th><td>0</td><td>1</td><td>1</td><td>7</td></tr>\n",
       "\t<tr><th scope=row>4.4</th><td>0</td><td>1</td><td>1</td><td>7</td></tr>\n",
       "\t<tr><th scope=row>4.5</th><td>0</td><td>1</td><td>1</td><td>7</td></tr>\n",
       "\t<tr><th scope=row>4.6</th><td>0</td><td>1</td><td>1</td><td>7</td></tr>\n",
       "\t<tr><th scope=row>5</th><td>1</td><td>0</td><td>0</td><td>5</td></tr>\n",
       "\t<tr><th scope=row>5.1</th><td>1</td><td>0</td><td>0</td><td>5</td></tr>\n",
       "\t<tr><th scope=row>5.2</th><td>1</td><td>0</td><td>0</td><td>5</td></tr>\n",
       "\t<tr><th scope=row>5.3</th><td>1</td><td>0</td><td>0</td><td>5</td></tr>\n",
       "\t<tr><th scope=row>5.4</th><td>1</td><td>0</td><td>0</td><td>5</td></tr>\n",
       "\t<tr><th scope=row>6</th><td>1</td><td>0</td><td>1</td><td>1</td></tr>\n",
       "\t<tr><th scope=row>8</th><td>1</td><td>1</td><td>1</td><td>6</td></tr>\n",
       "\t<tr><th scope=row>8.1</th><td>1</td><td>1</td><td>1</td><td>6</td></tr>\n",
       "\t<tr><th scope=row>8.2</th><td>1</td><td>1</td><td>1</td><td>6</td></tr>\n",
       "\t<tr><th scope=row>8.3</th><td>1</td><td>1</td><td>1</td><td>6</td></tr>\n",
       "\t<tr><th scope=row>8.4</th><td>1</td><td>1</td><td>1</td><td>6</td></tr>\n",
       "\t<tr><th scope=row>8.5</th><td>1</td><td>1</td><td>1</td><td>6</td></tr>\n",
       "</tbody>\n",
       "</table>\n"
      ],
      "text/latex": [
       "\\begin{tabular}{r|llll}\n",
       "  & female & apcalc & admit & num\\\\\n",
       "\\hline\n",
       "\t1 & 0 & 0 & 0 & 7\\\\\n",
       "\t1.1 & 0 & 0 & 0 & 7\\\\\n",
       "\t1.2 & 0 & 0 & 0 & 7\\\\\n",
       "\t1.3 & 0 & 0 & 0 & 7\\\\\n",
       "\t1.4 & 0 & 0 & 0 & 7\\\\\n",
       "\t1.5 & 0 & 0 & 0 & 7\\\\\n",
       "\t1.6 & 0 & 0 & 0 & 7\\\\\n",
       "\t2 & 0 & 0 & 1 & 1\\\\\n",
       "\t3 & 0 & 1 & 0 & 3\\\\\n",
       "\t3.1 & 0 & 1 & 0 & 3\\\\\n",
       "\t3.2 & 0 & 1 & 0 & 3\\\\\n",
       "\t4 & 0 & 1 & 1 & 7\\\\\n",
       "\t4.1 & 0 & 1 & 1 & 7\\\\\n",
       "\t4.2 & 0 & 1 & 1 & 7\\\\\n",
       "\t4.3 & 0 & 1 & 1 & 7\\\\\n",
       "\t4.4 & 0 & 1 & 1 & 7\\\\\n",
       "\t4.5 & 0 & 1 & 1 & 7\\\\\n",
       "\t4.6 & 0 & 1 & 1 & 7\\\\\n",
       "\t5 & 1 & 0 & 0 & 5\\\\\n",
       "\t5.1 & 1 & 0 & 0 & 5\\\\\n",
       "\t5.2 & 1 & 0 & 0 & 5\\\\\n",
       "\t5.3 & 1 & 0 & 0 & 5\\\\\n",
       "\t5.4 & 1 & 0 & 0 & 5\\\\\n",
       "\t6 & 1 & 0 & 1 & 1\\\\\n",
       "\t8 & 1 & 1 & 1 & 6\\\\\n",
       "\t8.1 & 1 & 1 & 1 & 6\\\\\n",
       "\t8.2 & 1 & 1 & 1 & 6\\\\\n",
       "\t8.3 & 1 & 1 & 1 & 6\\\\\n",
       "\t8.4 & 1 & 1 & 1 & 6\\\\\n",
       "\t8.5 & 1 & 1 & 1 & 6\\\\\n",
       "\\end{tabular}\n"
      ],
      "text/markdown": [
       "\n",
       "| <!--/--> | female | apcalc | admit | num | \n",
       "|---|---|---|---|---|---|---|---|---|---|---|---|---|---|---|---|---|---|---|---|---|---|---|---|---|---|---|---|---|---|\n",
       "| 1 | 0 | 0 | 0 | 7 | \n",
       "| 1.1 | 0 | 0 | 0 | 7 | \n",
       "| 1.2 | 0 | 0 | 0 | 7 | \n",
       "| 1.3 | 0 | 0 | 0 | 7 | \n",
       "| 1.4 | 0 | 0 | 0 | 7 | \n",
       "| 1.5 | 0 | 0 | 0 | 7 | \n",
       "| 1.6 | 0 | 0 | 0 | 7 | \n",
       "| 2 | 0 | 0 | 1 | 1 | \n",
       "| 3 | 0 | 1 | 0 | 3 | \n",
       "| 3.1 | 0 | 1 | 0 | 3 | \n",
       "| 3.2 | 0 | 1 | 0 | 3 | \n",
       "| 4 | 0 | 1 | 1 | 7 | \n",
       "| 4.1 | 0 | 1 | 1 | 7 | \n",
       "| 4.2 | 0 | 1 | 1 | 7 | \n",
       "| 4.3 | 0 | 1 | 1 | 7 | \n",
       "| 4.4 | 0 | 1 | 1 | 7 | \n",
       "| 4.5 | 0 | 1 | 1 | 7 | \n",
       "| 4.6 | 0 | 1 | 1 | 7 | \n",
       "| 5 | 1 | 0 | 0 | 5 | \n",
       "| 5.1 | 1 | 0 | 0 | 5 | \n",
       "| 5.2 | 1 | 0 | 0 | 5 | \n",
       "| 5.3 | 1 | 0 | 0 | 5 | \n",
       "| 5.4 | 1 | 0 | 0 | 5 | \n",
       "| 6 | 1 | 0 | 1 | 1 | \n",
       "| 8 | 1 | 1 | 1 | 6 | \n",
       "| 8.1 | 1 | 1 | 1 | 6 | \n",
       "| 8.2 | 1 | 1 | 1 | 6 | \n",
       "| 8.3 | 1 | 1 | 1 | 6 | \n",
       "| 8.4 | 1 | 1 | 1 | 6 | \n",
       "| 8.5 | 1 | 1 | 1 | 6 | \n",
       "\n",
       "\n"
      ],
      "text/plain": [
       "    female apcalc admit num\n",
       "1   0      0      0     7  \n",
       "1.1 0      0      0     7  \n",
       "1.2 0      0      0     7  \n",
       "1.3 0      0      0     7  \n",
       "1.4 0      0      0     7  \n",
       "1.5 0      0      0     7  \n",
       "1.6 0      0      0     7  \n",
       "2   0      0      1     1  \n",
       "3   0      1      0     3  \n",
       "3.1 0      1      0     3  \n",
       "3.2 0      1      0     3  \n",
       "4   0      1      1     7  \n",
       "4.1 0      1      1     7  \n",
       "4.2 0      1      1     7  \n",
       "4.3 0      1      1     7  \n",
       "4.4 0      1      1     7  \n",
       "4.5 0      1      1     7  \n",
       "4.6 0      1      1     7  \n",
       "5   1      0      0     5  \n",
       "5.1 1      0      0     5  \n",
       "5.2 1      0      0     5  \n",
       "5.3 1      0      0     5  \n",
       "5.4 1      0      0     5  \n",
       "6   1      0      1     1  \n",
       "8   1      1      1     6  \n",
       "8.1 1      1      1     6  \n",
       "8.2 1      1      1     6  \n",
       "8.3 1      1      1     6  \n",
       "8.4 1      1      1     6  \n",
       "8.5 1      1      1     6  "
      ]
     },
     "metadata": {},
     "output_type": "display_data"
    }
   ],
   "source": [
    "dat"
   ]
  },
  {
   "cell_type": "code",
   "execution_count": null,
   "metadata": {},
   "outputs": [],
   "source": [
    "mydata <- read.csv(\"https://stats.idre.ucla.edu/stat/data/binary.csv\")\n"
   ]
  },
  {
   "cell_type": "code",
   "execution_count": null,
   "metadata": {},
   "outputs": [],
   "source": [
    "head(mydata)"
   ]
  },
  {
   "cell_type": "code",
   "execution_count": null,
   "metadata": {},
   "outputs": [],
   "source": [
    "summary(mydata)"
   ]
  },
  {
   "cell_type": "code",
   "execution_count": null,
   "metadata": {},
   "outputs": [],
   "source": [
    "sapply(mydata, sd)"
   ]
  },
  {
   "cell_type": "code",
   "execution_count": null,
   "metadata": {},
   "outputs": [],
   "source": [
    "xtabs(~admit + rank, data = mydata)"
   ]
  },
  {
   "cell_type": "code",
   "execution_count": null,
   "metadata": {},
   "outputs": [],
   "source": [
    "mydata$rank <- factor(mydata$rank)\n",
    "mylogit <- glm(admit ~ gre + gpa + rank, data = mydata, family = \"binomial\")"
   ]
  },
  {
   "cell_type": "code",
   "execution_count": null,
   "metadata": {},
   "outputs": [],
   "source": [
    "summary(mylogit)"
   ]
  },
  {
   "cell_type": "code",
   "execution_count": null,
   "metadata": {},
   "outputs": [],
   "source": [
    "confint(mylogit)"
   ]
  },
  {
   "cell_type": "code",
   "execution_count": null,
   "metadata": {},
   "outputs": [],
   "source": []
  },
  {
   "cell_type": "markdown",
   "metadata": {},
   "source": [
    "# Iris species Prediction \n"
   ]
  },
  {
   "cell_type": "code",
   "execution_count": 1,
   "metadata": {},
   "outputs": [
    {
     "name": "stderr",
     "output_type": "stream",
     "text": [
      "Warning message in install.packages(\"ggplot2\"):\n",
      "“installation of package ‘ggplot2’ had non-zero exit status”Updating HTML index of packages in '.Library'\n",
      "Making 'packages.html' ... done\n",
      "\n",
      "Attaching package: ‘dplyr’\n",
      "\n",
      "The following objects are masked from ‘package:stats’:\n",
      "\n",
      "    filter, lag\n",
      "\n",
      "The following objects are masked from ‘package:base’:\n",
      "\n",
      "    intersect, setdiff, setequal, union\n",
      "\n"
     ]
    }
   ],
   "source": [
    "install.packages('ggplot2')\n",
    "library(ggplot2)\n",
    "library(dplyr)\n",
    "data(iris)"
   ]
  },
  {
   "cell_type": "code",
   "execution_count": 5,
   "metadata": {},
   "outputs": [
    {
     "data": {},
     "metadata": {},
     "output_type": "display_data"
    },
    {
     "data": {
      "image/png": "[encoded data removed]",
      "text/plain": [
       "plot without title"
      ]
     },
     "metadata": {},
     "output_type": "display_data"
    }
   ],
   "source": [
    "\n",
    "    ggplot( iris, aes(Sepal.Width, Sepal.Length, color=Species) ) +\n",
    "    geom_point(size=2)"
   ]
  },
  {
   "cell_type": "code",
   "execution_count": 4,
   "metadata": {},
   "outputs": [
    {
     "data": {
      "text/html": [
       "<ol class=list-inline>\n",
       "\t<li>'Sepal.Length'</li>\n",
       "\t<li>'Sepal.Width'</li>\n",
       "\t<li>'Petal.Length'</li>\n",
       "\t<li>'Petal.Width'</li>\n",
       "\t<li>'Species'</li>\n",
       "</ol>\n"
      ],
      "text/latex": [
       "\\begin{enumerate*}\n",
       "\\item 'Sepal.Length'\n",
       "\\item 'Sepal.Width'\n",
       "\\item 'Petal.Length'\n",
       "\\item 'Petal.Width'\n",
       "\\item 'Species'\n",
       "\\end{enumerate*}\n"
      ],
      "text/markdown": [
       "1. 'Sepal.Length'\n",
       "2. 'Sepal.Width'\n",
       "3. 'Petal.Length'\n",
       "4. 'Petal.Width'\n",
       "5. 'Species'\n",
       "\n",
       "\n"
      ],
      "text/plain": [
       "[1] \"Sepal.Length\" \"Sepal.Width\"  \"Petal.Length\" \"Petal.Width\"  \"Species\"     "
      ]
     },
     "metadata": {},
     "output_type": "display_data"
    }
   ],
   "source": [
    "names(iris)"
   ]
  },
  {
   "cell_type": "code",
   "execution_count": null,
   "metadata": {},
   "outputs": [],
   "source": []
  },
  {
   "cell_type": "code",
   "execution_count": null,
   "metadata": {},
   "outputs": [],
   "source": []
  },
  {
   "cell_type": "code",
   "execution_count": null,
   "metadata": {},
   "outputs": [],
   "source": []
  },
  {
   "cell_type": "code",
   "execution_count": null,
   "metadata": {},
   "outputs": [],
   "source": []
  },
  {
   "cell_type": "code",
   "execution_count": null,
   "metadata": {},
   "outputs": [],
   "source": []
  },
  {
   "cell_type": "code",
   "execution_count": 311,
   "metadata": {},
   "outputs": [],
   "source": [
    "set.seed(42)"
   ]
  },
  {
   "cell_type": "code",
   "execution_count": 312,
   "metadata": {},
   "outputs": [],
   "source": [
    "# randomly sample 100 out of 150 rows indexes\n",
    "indexes<- sample(1:120, 100)"
   ]
  },
  {
   "cell_type": "code",
   "execution_count": 313,
   "metadata": {},
   "outputs": [
    {
     "data": {
      "text/html": [
       "<ol class=list-inline>\n",
       "\t<li>110</li>\n",
       "\t<li>112</li>\n",
       "\t<li>34</li>\n",
       "\t<li>98</li>\n",
       "\t<li>75</li>\n",
       "\t<li>60</li>\n",
       "\t<li>84</li>\n",
       "\t<li>16</li>\n",
       "\t<li>74</li>\n",
       "\t<li>79</li>\n",
       "\t<li>51</li>\n",
       "\t<li>111</li>\n",
       "\t<li>101</li>\n",
       "\t<li>28</li>\n",
       "\t<li>50</li>\n",
       "\t<li>99</li>\n",
       "\t<li>102</li>\n",
       "\t<li>13</li>\n",
       "\t<li>49</li>\n",
       "\t<li>57</li>\n",
       "\t<li>91</li>\n",
       "\t<li>14</li>\n",
       "\t<li>97</li>\n",
       "\t<li>92</li>\n",
       "\t<li>8</li>\n",
       "\t<li>104</li>\n",
       "\t<li>37</li>\n",
       "\t<li>85</li>\n",
       "\t<li>42</li>\n",
       "\t<li>77</li>\n",
       "\t<li>67</li>\n",
       "\t<li>73</li>\n",
       "\t<li>35</li>\n",
       "\t<li>115</li>\n",
       "\t<li>1</li>\n",
       "\t<li>71</li>\n",
       "\t<li>86</li>\n",
       "\t<li>18</li>\n",
       "\t<li>116</li>\n",
       "\t<li>106</li>\n",
       "\t<li>31</li>\n",
       "\t<li>88</li>\n",
       "\t<li>3</li>\n",
       "\t<li>82</li>\n",
       "\t<li>33</li>\n",
       "\t<li>72</li>\n",
       "\t<li>66</li>\n",
       "\t<li>47</li>\n",
       "\t<li>70</li>\n",
       "\t<li>44</li>\n",
       "\t<li>24</li>\n",
       "\t<li>100</li>\n",
       "\t<li>107</li>\n",
       "\t<li>53</li>\n",
       "\t<li>78</li>\n",
       "\t<li>95</li>\n",
       "\t<li>93</li>\n",
       "\t<li>11</li>\n",
       "\t<li>17</li>\n",
       "\t<li>32</li>\n",
       "\t<li>41</li>\n",
       "\t<li>58</li>\n",
       "\t<li>45</li>\n",
       "\t<li>76</li>\n",
       "\t<li>48</li>\n",
       "\t<li>63</li>\n",
       "\t<li>15</li>\n",
       "\t<li>64</li>\n",
       "\t<li>94</li>\n",
       "\t<li>103</li>\n",
       "\t<li>119</li>\n",
       "\t<li>7</li>\n",
       "\t<li>55</li>\n",
       "\t<li>23</li>\n",
       "\t<li>10</li>\n",
       "\t<li>108</li>\n",
       "\t<li>114</li>\n",
       "\t<li>62</li>\n",
       "\t<li>22</li>\n",
       "\t<li>90</li>\n",
       "\t<li>69</li>\n",
       "\t<li>65</li>\n",
       "\t<li>105</li>\n",
       "\t<li>40</li>\n",
       "\t<li>68</li>\n",
       "\t<li>20</li>\n",
       "\t<li>96</li>\n",
       "\t<li>81</li>\n",
       "\t<li>59</li>\n",
       "\t<li>46</li>\n",
       "\t<li>21</li>\n",
       "\t<li>87</li>\n",
       "\t<li>6</li>\n",
       "\t<li>26</li>\n",
       "\t<li>25</li>\n",
       "\t<li>19</li>\n",
       "\t<li>118</li>\n",
       "\t<li>12</li>\n",
       "\t<li>43</li>\n",
       "\t<li>38</li>\n",
       "</ol>\n"
      ],
      "text/latex": [
       "\\begin{enumerate*}\n",
       "\\item 110\n",
       "\\item 112\n",
       "\\item 34\n",
       "\\item 98\n",
       "\\item 75\n",
       "\\item 60\n",
       "\\item 84\n",
       "\\item 16\n",
       "\\item 74\n",
       "\\item 79\n",
       "\\item 51\n",
       "\\item 111\n",
       "\\item 101\n",
       "\\item 28\n",
       "\\item 50\n",
       "\\item 99\n",
       "\\item 102\n",
       "\\item 13\n",
       "\\item 49\n",
       "\\item 57\n",
       "\\item 91\n",
       "\\item 14\n",
       "\\item 97\n",
       "\\item 92\n",
       "\\item 8\n",
       "\\item 104\n",
       "\\item 37\n",
       "\\item 85\n",
       "\\item 42\n",
       "\\item 77\n",
       "\\item 67\n",
       "\\item 73\n",
       "\\item 35\n",
       "\\item 115\n",
       "\\item 1\n",
       "\\item 71\n",
       "\\item 86\n",
       "\\item 18\n",
       "\\item 116\n",
       "\\item 106\n",
       "\\item 31\n",
       "\\item 88\n",
       "\\item 3\n",
       "\\item 82\n",
       "\\item 33\n",
       "\\item 72\n",
       "\\item 66\n",
       "\\item 47\n",
       "\\item 70\n",
       "\\item 44\n",
       "\\item 24\n",
       "\\item 100\n",
       "\\item 107\n",
       "\\item 53\n",
       "\\item 78\n",
       "\\item 95\n",
       "\\item 93\n",
       "\\item 11\n",
       "\\item 17\n",
       "\\item 32\n",
       "\\item 41\n",
       "\\item 58\n",
       "\\item 45\n",
       "\\item 76\n",
       "\\item 48\n",
       "\\item 63\n",
       "\\item 15\n",
       "\\item 64\n",
       "\\item 94\n",
       "\\item 103\n",
       "\\item 119\n",
       "\\item 7\n",
       "\\item 55\n",
       "\\item 23\n",
       "\\item 10\n",
       "\\item 108\n",
       "\\item 114\n",
       "\\item 62\n",
       "\\item 22\n",
       "\\item 90\n",
       "\\item 69\n",
       "\\item 65\n",
       "\\item 105\n",
       "\\item 40\n",
       "\\item 68\n",
       "\\item 20\n",
       "\\item 96\n",
       "\\item 81\n",
       "\\item 59\n",
       "\\item 46\n",
       "\\item 21\n",
       "\\item 87\n",
       "\\item 6\n",
       "\\item 26\n",
       "\\item 25\n",
       "\\item 19\n",
       "\\item 118\n",
       "\\item 12\n",
       "\\item 43\n",
       "\\item 38\n",
       "\\end{enumerate*}\n"
      ],
      "text/markdown": [
       "1. 110\n",
       "2. 112\n",
       "3. 34\n",
       "4. 98\n",
       "5. 75\n",
       "6. 60\n",
       "7. 84\n",
       "8. 16\n",
       "9. 74\n",
       "10. 79\n",
       "11. 51\n",
       "12. 111\n",
       "13. 101\n",
       "14. 28\n",
       "15. 50\n",
       "16. 99\n",
       "17. 102\n",
       "18. 13\n",
       "19. 49\n",
       "20. 57\n",
       "21. 91\n",
       "22. 14\n",
       "23. 97\n",
       "24. 92\n",
       "25. 8\n",
       "26. 104\n",
       "27. 37\n",
       "28. 85\n",
       "29. 42\n",
       "30. 77\n",
       "31. 67\n",
       "32. 73\n",
       "33. 35\n",
       "34. 115\n",
       "35. 1\n",
       "36. 71\n",
       "37. 86\n",
       "38. 18\n",
       "39. 116\n",
       "40. 106\n",
       "41. 31\n",
       "42. 88\n",
       "43. 3\n",
       "44. 82\n",
       "45. 33\n",
       "46. 72\n",
       "47. 66\n",
       "48. 47\n",
       "49. 70\n",
       "50. 44\n",
       "51. 24\n",
       "52. 100\n",
       "53. 107\n",
       "54. 53\n",
       "55. 78\n",
       "56. 95\n",
       "57. 93\n",
       "58. 11\n",
       "59. 17\n",
       "60. 32\n",
       "61. 41\n",
       "62. 58\n",
       "63. 45\n",
       "64. 76\n",
       "65. 48\n",
       "66. 63\n",
       "67. 15\n",
       "68. 64\n",
       "69. 94\n",
       "70. 103\n",
       "71. 119\n",
       "72. 7\n",
       "73. 55\n",
       "74. 23\n",
       "75. 10\n",
       "76. 108\n",
       "77. 114\n",
       "78. 62\n",
       "79. 22\n",
       "80. 90\n",
       "81. 69\n",
       "82. 65\n",
       "83. 105\n",
       "84. 40\n",
       "85. 68\n",
       "86. 20\n",
       "87. 96\n",
       "88. 81\n",
       "89. 59\n",
       "90. 46\n",
       "91. 21\n",
       "92. 87\n",
       "93. 6\n",
       "94. 26\n",
       "95. 25\n",
       "96. 19\n",
       "97. 118\n",
       "98. 12\n",
       "99. 43\n",
       "100. 38\n",
       "\n",
       "\n"
      ],
      "text/plain": [
       "  [1] 110 112  34  98  75  60  84  16  74  79  51 111 101  28  50  99 102  13\n",
       " [19]  49  57  91  14  97  92   8 104  37  85  42  77  67  73  35 115   1  71\n",
       " [37]  86  18 116 106  31  88   3  82  33  72  66  47  70  44  24 100 107  53\n",
       " [55]  78  95  93  11  17  32  41  58  45  76  48  63  15  64  94 103 119   7\n",
       " [73]  55  23  10 108 114  62  22  90  69  65 105  40  68  20  96  81  59  46\n",
       " [91]  21  87   6  26  25  19 118  12  43  38"
      ]
     },
     "metadata": {},
     "output_type": "display_data"
    }
   ],
   "source": [
    "indexes"
   ]
  },
  {
   "cell_type": "code",
   "execution_count": 336,
   "metadata": {},
   "outputs": [],
   "source": [
    "train <- iris[indexes, ]"
   ]
  },
  {
   "cell_type": "code",
   "execution_count": 337,
   "metadata": {},
   "outputs": [],
   "source": [
    "test<- iris[-indexes,]"
   ]
  },
  {
   "cell_type": "code",
   "execution_count": 338,
   "metadata": {},
   "outputs": [],
   "source": [
    "library(rpart)"
   ]
  },
  {
   "cell_type": "code",
   "execution_count": 339,
   "metadata": {},
   "outputs": [],
   "source": [
    "model<- rpart(Species ~.,\n",
    "train,\n",
    "method = \"class\")"
   ]
  },
  {
   "cell_type": "code",
   "execution_count": 340,
   "metadata": {},
   "outputs": [
    {
     "name": "stdout",
     "output_type": "stream",
     "text": [
      "Call:\n",
      "rpart(formula = Species ~ ., data = train, method = \"class\")\n",
      "  n= 100 \n",
      "\n",
      "         CP nsplit  rel error     xerror       xstd\n",
      "1 0.7192982      0 1.00000000 1.15789474 0.08310680\n",
      "2 0.2456140      1 0.28070175 0.28070175 0.06431685\n",
      "3 0.0100000      2 0.03508772 0.07017544 0.03437880\n",
      "\n",
      "Variable importance\n",
      " Petal.Width Petal.Length Sepal.Length  Sepal.Width \n",
      "          33           31           20           15 \n",
      "\n",
      "Node number 1: 100 observations,    complexity param=0.7192982\n",
      "  predicted class=versicolor  expected loss=0.57  P(node) =1\n",
      "    class counts:    41    43    16\n",
      "   probabilities: 0.410 0.430 0.160 \n",
      "  left son=2 (41 obs) right son=3 (59 obs)\n",
      "  Primary splits:\n",
      "      Petal.Length < 2.45 to the left,  improve=38.81797, (0 missing)\n",
      "      Petal.Width  < 0.8  to the left,  improve=38.81797, (0 missing)\n",
      "      Sepal.Length < 5.45 to the left,  improve=22.82309, (0 missing)\n",
      "      Sepal.Width  < 3.25 to the right, improve=18.54879, (0 missing)\n",
      "  Surrogate splits:\n",
      "      Petal.Width  < 0.8  to the left,  agree=1.00, adj=1.000, (0 split)\n",
      "      Sepal.Length < 5.45 to the left,  agree=0.89, adj=0.732, (0 split)\n",
      "      Sepal.Width  < 3.25 to the right, agree=0.84, adj=0.610, (0 split)\n",
      "\n",
      "Node number 2: 41 observations\n",
      "  predicted class=setosa      expected loss=0  P(node) =0.41\n",
      "    class counts:    41     0     0\n",
      "   probabilities: 1.000 0.000 0.000 \n",
      "\n",
      "Node number 3: 59 observations,    complexity param=0.245614\n",
      "  predicted class=versicolor  expected loss=0.2711864  P(node) =0.59\n",
      "    class counts:     0    43    16\n",
      "   probabilities: 0.000 0.729 0.271 \n",
      "  left son=6 (41 obs) right son=7 (18 obs)\n",
      "  Primary splits:\n",
      "      Petal.Width  < 1.65 to the left,  improve=19.766480, (0 missing)\n",
      "      Petal.Length < 4.95 to the left,  improve=17.840240, (0 missing)\n",
      "      Sepal.Length < 6.95 to the left,  improve= 5.453902, (0 missing)\n",
      "      Sepal.Width  < 3.15 to the left,  improve= 1.717589, (0 missing)\n",
      "  Surrogate splits:\n",
      "      Petal.Length < 4.95 to the left,  agree=0.949, adj=0.833, (0 split)\n",
      "      Sepal.Length < 7.05 to the left,  agree=0.797, adj=0.333, (0 split)\n",
      "      Sepal.Width  < 3.15 to the left,  agree=0.746, adj=0.167, (0 split)\n",
      "\n",
      "Node number 6: 41 observations\n",
      "  predicted class=versicolor  expected loss=0  P(node) =0.41\n",
      "    class counts:     0    41     0\n",
      "   probabilities: 0.000 1.000 0.000 \n",
      "\n",
      "Node number 7: 18 observations\n",
      "  predicted class=virginica   expected loss=0.1111111  P(node) =0.18\n",
      "    class counts:     0     2    16\n",
      "   probabilities: 0.000 0.111 0.889 \n",
      "\n"
     ]
    }
   ],
   "source": [
    "summary(model)"
   ]
  },
  {
   "cell_type": "code",
   "execution_count": 343,
   "metadata": {},
   "outputs": [
    {
     "data": {
      "image/png": "[encoded data removed]",
      "text/plain": [
       "plot without title"
      ]
     },
     "metadata": {},
     "output_type": "display_data"
    }
   ],
   "source": [
    "plot(model)\n",
    "text(model)"
   ]
  },
  {
   "cell_type": "code",
   "execution_count": 346,
   "metadata": {},
   "outputs": [],
   "source": []
  },
  {
   "cell_type": "code",
   "execution_count": 365,
   "metadata": {},
   "outputs": [
    {
     "name": "stderr",
     "output_type": "stream",
     "text": [
      "Updating HTML index of packages in '.Library'\n",
      "Making 'packages.html' ... done\n",
      "Warning message:\n",
      "“extra=106 but the response has 3 levels (only the 2nd level is displayed)”"
     ]
    },
    {
     "data": {
      "image/png": "[encoded data removed]",
      "text/plain": [
       "plot without title"
      ]
     },
     "metadata": {},
     "output_type": "display_data"
    }
   ],
   "source": [
    "install.packages(\"rpart.plot\")\n",
    "library(rpart.plot)\n",
    "rpart.plot(model, extra = 106)"
   ]
  },
  {
   "cell_type": "code",
   "execution_count": 366,
   "metadata": {},
   "outputs": [],
   "source": [
    "library(RColorBrewer)\n",
    "palette<- brewer.pal(3, \"Set2\")"
   ]
  },
  {
   "cell_type": "code",
   "execution_count": 367,
   "metadata": {},
   "outputs": [
    {
     "data": {
      "image/png": "[encoded data removed]",
      "text/plain": [
       "Plot with title “Iris Petal Length Vs Width ”"
      ]
     },
     "metadata": {},
     "output_type": "display_data"
    }
   ],
   "source": [
    "#  scatter plot by species\n",
    "plot( iris$Petal.Length, iris$Petal.Width, \n",
    "     pch=19,\n",
    "     col=palette[as.numeric(iris$Species)],\n",
    "     main=\"Iris Petal Length Vs Width \",\n",
    "     xlab=\" Petal Length \", \n",
    "     ylab=\"Petal Width \"\n",
    "    )"
   ]
  },
  {
   "cell_type": "code",
   "execution_count": null,
   "metadata": {},
   "outputs": [],
   "source": []
  },
  {
   "cell_type": "code",
   "execution_count": 368,
   "metadata": {},
   "outputs": [
    {
     "ename": "ERROR",
     "evalue": "Error in partition.tree(tree = model, label = \" Species \", add = TRUE): could not find function \"partition.tree\"\n",
     "output_type": "error",
     "traceback": [
      "Error in partition.tree(tree = model, label = \" Species \", add = TRUE): could not find function \"partition.tree\"\nTraceback:\n"
     ]
    }
   ],
   "source": [
    "partition.tree(\n",
    "tree=model, \n",
    "label=\" Species \",\n",
    "add=TRUE)"
   ]
  },
  {
   "cell_type": "code",
   "execution_count": 375,
   "metadata": {},
   "outputs": [
    {
     "name": "stdout",
     "output_type": "stream",
     "text": [
      "Observations: 1,045\n",
      "Variables: 8\n",
      "$ pclass   <fct> Upper, Upper, Upper, Upper, Upper, Upper, Upper, Upper, Up...\n",
      "$ survived <fct> Yes, Yes, No, No, No, Yes, Yes, No, Yes, No, No, Yes, Yes,...\n",
      "$ sex      <fct> female, male, female, male, female, male, female, male, fe...\n",
      "$ age      <dbl> 29.0000, 0.9167, 2.0000, 30.0000, 25.0000, 48.0000, 63.000...\n",
      "$ sibsp    <int> 0, 1, 1, 1, 1, 0, 1, 0, 2, 0, 1, 1, 0, 0, 0, 0, 0, 0, 0, 1...\n",
      "$ parch    <int> 0, 2, 2, 2, 2, 0, 0, 0, 0, 0, 0, 0, 0, 0, 0, 1, 1, 0, 0, 1...\n",
      "$ fare     <dbl> 211.3375, 151.5500, 151.5500, 151.5500, 151.5500, 26.5500,...\n",
      "$ embarked <fct> S, S, S, S, S, S, S, S, S, C, C, C, C, S, S, C, C, C, C, S...\n"
     ]
    },
    {
     "data": {
      "text/html": [
       "<table>\n",
       "<thead><tr><th scope=col>pclass</th><th scope=col>survived</th><th scope=col>sex</th><th scope=col>age</th><th scope=col>sibsp</th><th scope=col>parch</th><th scope=col>fare</th><th scope=col>embarked</th></tr></thead>\n",
       "<tbody>\n",
       "\t<tr><td>Upper   </td><td>Yes     </td><td>female  </td><td>29.0000 </td><td>0       </td><td>0       </td><td>211.3375</td><td>S       </td></tr>\n",
       "\t<tr><td>Upper   </td><td>Yes     </td><td>male    </td><td> 0.9167 </td><td>1       </td><td>2       </td><td>151.5500</td><td>S       </td></tr>\n",
       "\t<tr><td>Upper   </td><td>No      </td><td>female  </td><td> 2.0000 </td><td>1       </td><td>2       </td><td>151.5500</td><td>S       </td></tr>\n",
       "\t<tr><td>Upper   </td><td>No      </td><td>male    </td><td>30.0000 </td><td>1       </td><td>2       </td><td>151.5500</td><td>S       </td></tr>\n",
       "\t<tr><td>Upper   </td><td>No      </td><td>female  </td><td>25.0000 </td><td>1       </td><td>2       </td><td>151.5500</td><td>S       </td></tr>\n",
       "\t<tr><td>Upper   </td><td>Yes     </td><td>male    </td><td>48.0000 </td><td>0       </td><td>0       </td><td> 26.5500</td><td>S       </td></tr>\n",
       "</tbody>\n",
       "</table>\n"
      ],
      "text/latex": [
       "\\begin{tabular}{r|llllllll}\n",
       " pclass & survived & sex & age & sibsp & parch & fare & embarked\\\\\n",
       "\\hline\n",
       "\t Upper    & Yes      & female   & 29.0000  & 0        & 0        & 211.3375 & S       \\\\\n",
       "\t Upper    & Yes      & male     &  0.9167  & 1        & 2        & 151.5500 & S       \\\\\n",
       "\t Upper    & No       & female   &  2.0000  & 1        & 2        & 151.5500 & S       \\\\\n",
       "\t Upper    & No       & male     & 30.0000  & 1        & 2        & 151.5500 & S       \\\\\n",
       "\t Upper    & No       & female   & 25.0000  & 1        & 2        & 151.5500 & S       \\\\\n",
       "\t Upper    & Yes      & male     & 48.0000  & 0        & 0        &  26.5500 & S       \\\\\n",
       "\\end{tabular}\n"
      ],
      "text/markdown": [
       "\n",
       "pclass | survived | sex | age | sibsp | parch | fare | embarked | \n",
       "|---|---|---|---|---|---|\n",
       "| Upper    | Yes      | female   | 29.0000  | 0        | 0        | 211.3375 | S        | \n",
       "| Upper    | Yes      | male     |  0.9167  | 1        | 2        | 151.5500 | S        | \n",
       "| Upper    | No       | female   |  2.0000  | 1        | 2        | 151.5500 | S        | \n",
       "| Upper    | No       | male     | 30.0000  | 1        | 2        | 151.5500 | S        | \n",
       "| Upper    | No       | female   | 25.0000  | 1        | 2        | 151.5500 | S        | \n",
       "| Upper    | Yes      | male     | 48.0000  | 0        | 0        |  26.5500 | S        | \n",
       "\n",
       "\n"
      ],
      "text/plain": [
       "  pclass survived sex    age     sibsp parch fare     embarked\n",
       "1 Upper  Yes      female 29.0000 0     0     211.3375 S       \n",
       "2 Upper  Yes      male    0.9167 1     2     151.5500 S       \n",
       "3 Upper  No       female  2.0000 1     2     151.5500 S       \n",
       "4 Upper  No       male   30.0000 1     2     151.5500 S       \n",
       "5 Upper  No       female 25.0000 1     2     151.5500 S       \n",
       "6 Upper  Yes      male   48.0000 0     0      26.5500 S       "
      ]
     },
     "metadata": {},
     "output_type": "display_data"
    }
   ],
   "source": [
    "library(dplyr)\n",
    "set.seed(678)\n",
    "path <- 'https://raw.githubusercontent.com/thomaspernet/data_csv_r/master/data/titanic_csv.csv'\n",
    "titanic <-read.csv(path)\n",
    "# Drop variables\n",
    "clean_titanic <- titanic %>%\n",
    "select(-c(home.dest, cabin, name, X, ticket)) %>% \n",
    "#Convert to factor level\n",
    "\tmutate(pclass = factor(pclass, levels = c(1, 2, 3), labels = c('Upper', 'Middle', 'Lower')),\n",
    "\tsurvived = factor(survived, levels = c(0, 1), labels = c('No', 'Yes'))) %>%\n",
    "na.omit()\n",
    "glimpse(clean_titanic)\n",
    "head(clean_titanic)"
   ]
  },
  {
   "cell_type": "code",
   "execution_count": null,
   "metadata": {},
   "outputs": [],
   "source": []
  },
  {
   "cell_type": "code",
   "execution_count": 376,
   "metadata": {},
   "outputs": [],
   "source": [
    "?lm"
   ]
  },
  {
   "cell_type": "code",
   "execution_count": 377,
   "metadata": {},
   "outputs": [],
   "source": [
    "ctl <- c(4.17,5.58,5.18,6.11,4.50,4.61,5.17,4.53,5.33,5.14)\n",
    "trt <- c(4.81,4.17,4.41,3.59,5.87,3.83,6.03,4.89,4.32,4.69)\n",
    "group <- gl(2, 10, 20, labels = c(\"Ctl\",\"Trt\"))\n",
    "weight <- c(ctl, trt)\n",
    "lm.D9 <- lm(weight ~ group)\n",
    "lm.D90 <- lm(weight ~ group - 1) # omitting intercept\n"
   ]
  },
  {
   "cell_type": "code",
   "execution_count": 379,
   "metadata": {},
   "outputs": [
    {
     "data": {
      "text/html": [
       "<ol class=list-inline>\n",
       "\t<li>Ctl</li>\n",
       "\t<li>Ctl</li>\n",
       "\t<li>Ctl</li>\n",
       "\t<li>Ctl</li>\n",
       "\t<li>Ctl</li>\n",
       "\t<li>Ctl</li>\n",
       "\t<li>Ctl</li>\n",
       "\t<li>Ctl</li>\n",
       "\t<li>Ctl</li>\n",
       "\t<li>Ctl</li>\n",
       "\t<li>Trt</li>\n",
       "\t<li>Trt</li>\n",
       "\t<li>Trt</li>\n",
       "\t<li>Trt</li>\n",
       "\t<li>Trt</li>\n",
       "\t<li>Trt</li>\n",
       "\t<li>Trt</li>\n",
       "\t<li>Trt</li>\n",
       "\t<li>Trt</li>\n",
       "\t<li>Trt</li>\n",
       "</ol>\n",
       "\n",
       "<details>\n",
       "\t<summary style=display:list-item;cursor:pointer>\n",
       "\t\t<strong>Levels</strong>:\n",
       "\t</summary>\n",
       "\t<ol class=list-inline>\n",
       "\t\t<li>'Ctl'</li>\n",
       "\t\t<li>'Trt'</li>\n",
       "\t</ol>\n",
       "</details>"
      ],
      "text/latex": [
       "\\begin{enumerate*}\n",
       "\\item Ctl\n",
       "\\item Ctl\n",
       "\\item Ctl\n",
       "\\item Ctl\n",
       "\\item Ctl\n",
       "\\item Ctl\n",
       "\\item Ctl\n",
       "\\item Ctl\n",
       "\\item Ctl\n",
       "\\item Ctl\n",
       "\\item Trt\n",
       "\\item Trt\n",
       "\\item Trt\n",
       "\\item Trt\n",
       "\\item Trt\n",
       "\\item Trt\n",
       "\\item Trt\n",
       "\\item Trt\n",
       "\\item Trt\n",
       "\\item Trt\n",
       "\\end{enumerate*}\n",
       "\n",
       "\\emph{Levels}: \\begin{enumerate*}\n",
       "\\item 'Ctl'\n",
       "\\item 'Trt'\n",
       "\\end{enumerate*}\n"
      ],
      "text/markdown": [
       "1. Ctl\n",
       "2. Ctl\n",
       "3. Ctl\n",
       "4. Ctl\n",
       "5. Ctl\n",
       "6. Ctl\n",
       "7. Ctl\n",
       "8. Ctl\n",
       "9. Ctl\n",
       "10. Ctl\n",
       "11. Trt\n",
       "12. Trt\n",
       "13. Trt\n",
       "14. Trt\n",
       "15. Trt\n",
       "16. Trt\n",
       "17. Trt\n",
       "18. Trt\n",
       "19. Trt\n",
       "20. Trt\n",
       "\n",
       "\n",
       "\n",
       "**Levels**: 1. 'Ctl'\n",
       "2. 'Trt'\n",
       "\n",
       "\n"
      ],
      "text/plain": [
       " [1] Ctl Ctl Ctl Ctl Ctl Ctl Ctl Ctl Ctl Ctl Trt Trt Trt Trt Trt Trt Trt Trt Trt\n",
       "[20] Trt\n",
       "Levels: Ctl Trt"
      ]
     },
     "metadata": {},
     "output_type": "display_data"
    },
    {
     "data": {
      "text/html": [
       "<table>\n",
       "<thead><tr><th></th><th scope=col>Df</th><th scope=col>Sum Sq</th><th scope=col>Mean Sq</th><th scope=col>F value</th><th scope=col>Pr(&gt;F)</th></tr></thead>\n",
       "<tbody>\n",
       "\t<tr><th scope=row>group</th><td> 1       </td><td>0.688205 </td><td>0.6882050</td><td>1.419101 </td><td>0.2490232</td></tr>\n",
       "\t<tr><th scope=row>Residuals</th><td>18       </td><td>8.729250 </td><td>0.4849583</td><td>      NA </td><td>       NA</td></tr>\n",
       "</tbody>\n",
       "</table>\n"
      ],
      "text/latex": [
       "\\begin{tabular}{r|lllll}\n",
       "  & Df & Sum Sq & Mean Sq & F value & Pr(>F)\\\\\n",
       "\\hline\n",
       "\tgroup &  1        & 0.688205  & 0.6882050 & 1.419101  & 0.2490232\\\\\n",
       "\tResiduals & 18        & 8.729250  & 0.4849583 &       NA  &        NA\\\\\n",
       "\\end{tabular}\n"
      ],
      "text/markdown": [
       "\n",
       "| <!--/--> | Df | Sum Sq | Mean Sq | F value | Pr(>F) | \n",
       "|---|---|\n",
       "| group |  1        | 0.688205  | 0.6882050 | 1.419101  | 0.2490232 | \n",
       "| Residuals | 18        | 8.729250  | 0.4849583 |       NA  |        NA | \n",
       "\n",
       "\n"
      ],
      "text/plain": [
       "          Df Sum Sq   Mean Sq   F value  Pr(>F)   \n",
       "group      1 0.688205 0.6882050 1.419101 0.2490232\n",
       "Residuals 18 8.729250 0.4849583       NA        NA"
      ]
     },
     "metadata": {},
     "output_type": "display_data"
    },
    {
     "data": {
      "text/plain": [
       "\n",
       "Call:\n",
       "lm(formula = weight ~ group - 1)\n",
       "\n",
       "Residuals:\n",
       "    Min      1Q  Median      3Q     Max \n",
       "-1.0710 -0.4938  0.0685  0.2462  1.3690 \n",
       "\n",
       "Coefficients:\n",
       "         Estimate Std. Error t value Pr(>|t|)    \n",
       "groupCtl   5.0320     0.2202   22.85 9.55e-15 ***\n",
       "groupTrt   4.6610     0.2202   21.16 3.62e-14 ***\n",
       "---\n",
       "Signif. codes:  0 ‘***’ 0.001 ‘**’ 0.01 ‘*’ 0.05 ‘.’ 0.1 ‘ ’ 1\n",
       "\n",
       "Residual standard error: 0.6964 on 18 degrees of freedom\n",
       "Multiple R-squared:  0.9818,\tAdjusted R-squared:  0.9798 \n",
       "F-statistic: 485.1 on 2 and 18 DF,  p-value: < 2.2e-16\n"
      ]
     },
     "metadata": {},
     "output_type": "display_data"
    }
   ],
   "source": [
    "group\n",
    "anova(lm.D9)\n",
    "summary(lm.D90)\n"
   ]
  },
  {
   "cell_type": "code",
   "execution_count": null,
   "metadata": {},
   "outputs": [],
   "source": []
  },
  {
   "cell_type": "code",
   "execution_count": null,
   "metadata": {},
   "outputs": [],
   "source": []
  },
  {
   "cell_type": "code",
   "execution_count": 2,
   "metadata": {},
   "outputs": [
    {
     "name": "stderr",
     "output_type": "stream",
     "text": [
      "also installing the dependencies ‘backports’, ‘zeallot’, ‘utf8’, ‘vctrs’, ‘cli’, ‘fansi’, ‘pillar’, ‘purrr’, ‘assertthat’, ‘glue’, ‘pkgconfig’, ‘R6’, ‘Rcpp’, ‘rlang’, ‘tibble’, ‘tidyselect’, ‘BH’, ‘plogr’\n",
      "\n",
      "Updating HTML index of packages in '.Library'\n",
      "Making 'packages.html' ... done\n"
     ]
    },
    {
     "ename": "ERROR",
     "evalue": "Error: package or namespace load failed for ‘dplyr’ in loadNamespace(j <- i[[1L]], c(lib.loc, .libPaths()), versionCheck = vI[[j]]):\n namespace ‘Rcpp’ 0.12.18 is already loaded, but >= 1.0.1 is required\n",
     "output_type": "error",
     "traceback": [
      "Error: package or namespace load failed for ‘dplyr’ in loadNamespace(j <- i[[1L]], c(lib.loc, .libPaths()), versionCheck = vI[[j]]):\n namespace ‘Rcpp’ 0.12.18 is already loaded, but >= 1.0.1 is required\nTraceback:\n",
      "1. library(dplyr)",
      "2. tryCatch({\n .     attr(package, \"LibPath\") <- which.lib.loc\n .     ns <- loadNamespace(package, lib.loc)\n .     env <- attachNamespace(ns, pos = pos, deps)\n . }, error = function(e) {\n .     P <- if (!is.null(cc <- conditionCall(e))) \n .         paste(\" in\", deparse(cc)[1L])\n .     else \"\"\n .     msg <- gettextf(\"package or namespace load failed for %s%s:\\n %s\", \n .         sQuote(package), P, conditionMessage(e))\n .     if (logical.return) \n .         message(paste(\"Error:\", msg), domain = NA)\n .     else stop(msg, call. = FALSE, domain = NA)\n . })",
      "3. tryCatchList(expr, classes, parentenv, handlers)",
      "4. tryCatchOne(expr, names, parentenv, handlers[[1L]])",
      "5. value[[3L]](cond)",
      "6. stop(msg, call. = FALSE, domain = NA)"
     ]
    }
   ],
   "source": [
    "install.packages(\"dplyr\")\n",
    "library(dplyr)\n",
    "install.packages(\"gapminder\")\n",
    "library(gapminder)"
   ]
  },
  {
   "cell_type": "code",
   "execution_count": null,
   "metadata": {},
   "outputs": [],
   "source": [
    "gapminder"
   ]
  },
  {
   "cell_type": "code",
   "execution_count": null,
   "metadata": {},
   "outputs": [],
   "source": [
    "library(ggplot2)\n",
    "gapminder %>%\n",
    "    group_by(country) %>% \n",
    "    summarise(mean_lifeExp = mean(lifeExp))%>%\n",
    "    ggplot(aes(country, mean_lifeExp, fill = country)) +\n",
    "    geom_bar(stat = \"identity\") +\n",
    "    theme_classic() +\n",
    "    labs(\n",
    "        x = \"country\",\n",
    "        y = \"mean Life Expectency\",\n",
    "        title = paste(\n",
    "            \"Example group_by() with summarise()\"\n",
    "        )\n",
    "    )"
   ]
  },
  {
   "cell_type": "code",
   "execution_count": null,
   "metadata": {},
   "outputs": [],
   "source": []
  },
  {
   "cell_type": "code",
   "execution_count": null,
   "metadata": {},
   "outputs": [],
   "source": [
    "? geom_bar"
   ]
  },
  {
   "cell_type": "code",
   "execution_count": null,
   "metadata": {},
   "outputs": [],
   "source": []
  }
 ],
 "metadata": {
  "kernelspec": {
   "display_name": "R",
   "language": "R",
   "name": "ir"
  },
  "language_info": {
   "codemirror_mode": "r",
   "file_extension": ".r",
   "mimetype": "text/x-r-source",
   "name": "R",
   "pygments_lexer": "r",
   "version": "3.5.1"
  }
 },
 "nbformat": 4,
 "nbformat_minor": 2
}
